{
 "cells": [
  {
   "cell_type": "code",
   "execution_count": 43,
   "metadata": {},
   "outputs": [],
   "source": [
    "from itertools import combinations\n",
    "import numpy as np\n",
    "import pickle\n",
    "\n",
    "def save_pkl(data, save_name):\n",
    "    \"\"\"\n",
    "    Saves .pkl file from of data in folder: tmp/\n",
    "    \"\"\"\n",
    "    with open(save_name, 'wb') as handle:\n",
    "        pickle.dump(data, handle, protocol = pickle.HIGHEST_PROTOCOL)\n",
    "    print(f'File saved at: {save_name}')\n",
    "    return None\n",
    "\n",
    "def load_pkl(file_name):\n",
    "    \"\"\"\n",
    "    Loads .pkl file from path: file_name\n",
    "    \"\"\"\n",
    "    with open(file_name, 'rb') as handle:\n",
    "        data = pickle.load(handle)\n",
    "    print(f'Data loaded: {file_name}')\n",
    "    return data\n",
    "\n",
    "def split_inputs(input_list, no_splits,file_name):\n",
    "    if no_splits > len(input_list):\n",
    "        no_splits = len(input_list)\n",
    "    splitted_inputs = np.array_split(input_list, no_splits)\n",
    "    inputs_all = []\n",
    "    for i, k in enumerate(splitted_inputs):\n",
    "        inputs_dict = {'idx': i+1, 'inputs': k.tolist()}\n",
    "        inputs_all.append(inputs_dict)\n",
    "        # save_pkl(inputs_dict, f'input1/infile.{i+1}')\n",
    "        save_pkl(inputs_dict, f'{file_name}/infile.{i+1}')\n",
    "    return inputs_all\n",
    "\n"
   ]
  },
  {
   "cell_type": "code",
   "execution_count": 44,
   "metadata": {},
   "outputs": [],
   "source": [
    "seq_len = 9\n",
    "_0_count_9 = 1\n",
    "\n",
    "positions_9 = range(seq_len)\n",
    "\n",
    "_0_positions_9 = combinations(positions_9, _0_count_9)\n",
    "\n",
    "test_sp_9 = [[0 if i in zpos else 1 for i in positions_9] for zpos in _0_positions_9]"
   ]
  },
  {
   "cell_type": "code",
   "execution_count": 45,
   "metadata": {},
   "outputs": [],
   "source": [
    "test_sp_9 = test_sp_9*10 # 20 is nuber of multstart points"
   ]
  },
  {
   "cell_type": "code",
   "execution_count": 46,
   "metadata": {},
   "outputs": [
    {
     "data": {
      "text/plain": [
       "[[0, 1, 1, 1, 1, 1, 1, 1, 1],\n",
       " [1, 0, 1, 1, 1, 1, 1, 1, 1],\n",
       " [1, 1, 0, 1, 1, 1, 1, 1, 1],\n",
       " [1, 1, 1, 0, 1, 1, 1, 1, 1],\n",
       " [1, 1, 1, 1, 0, 1, 1, 1, 1],\n",
       " [1, 1, 1, 1, 1, 0, 1, 1, 1],\n",
       " [1, 1, 1, 1, 1, 1, 0, 1, 1],\n",
       " [1, 1, 1, 1, 1, 1, 1, 0, 1],\n",
       " [1, 1, 1, 1, 1, 1, 1, 1, 0],\n",
       " [0, 1, 1, 1, 1, 1, 1, 1, 1],\n",
       " [1, 0, 1, 1, 1, 1, 1, 1, 1],\n",
       " [1, 1, 0, 1, 1, 1, 1, 1, 1],\n",
       " [1, 1, 1, 0, 1, 1, 1, 1, 1],\n",
       " [1, 1, 1, 1, 0, 1, 1, 1, 1],\n",
       " [1, 1, 1, 1, 1, 0, 1, 1, 1],\n",
       " [1, 1, 1, 1, 1, 1, 0, 1, 1],\n",
       " [1, 1, 1, 1, 1, 1, 1, 0, 1],\n",
       " [1, 1, 1, 1, 1, 1, 1, 1, 0],\n",
       " [0, 1, 1, 1, 1, 1, 1, 1, 1],\n",
       " [1, 0, 1, 1, 1, 1, 1, 1, 1],\n",
       " [1, 1, 0, 1, 1, 1, 1, 1, 1],\n",
       " [1, 1, 1, 0, 1, 1, 1, 1, 1],\n",
       " [1, 1, 1, 1, 0, 1, 1, 1, 1],\n",
       " [1, 1, 1, 1, 1, 0, 1, 1, 1],\n",
       " [1, 1, 1, 1, 1, 1, 0, 1, 1],\n",
       " [1, 1, 1, 1, 1, 1, 1, 0, 1],\n",
       " [1, 1, 1, 1, 1, 1, 1, 1, 0],\n",
       " [0, 1, 1, 1, 1, 1, 1, 1, 1],\n",
       " [1, 0, 1, 1, 1, 1, 1, 1, 1],\n",
       " [1, 1, 0, 1, 1, 1, 1, 1, 1],\n",
       " [1, 1, 1, 0, 1, 1, 1, 1, 1],\n",
       " [1, 1, 1, 1, 0, 1, 1, 1, 1],\n",
       " [1, 1, 1, 1, 1, 0, 1, 1, 1],\n",
       " [1, 1, 1, 1, 1, 1, 0, 1, 1],\n",
       " [1, 1, 1, 1, 1, 1, 1, 0, 1],\n",
       " [1, 1, 1, 1, 1, 1, 1, 1, 0],\n",
       " [0, 1, 1, 1, 1, 1, 1, 1, 1],\n",
       " [1, 0, 1, 1, 1, 1, 1, 1, 1],\n",
       " [1, 1, 0, 1, 1, 1, 1, 1, 1],\n",
       " [1, 1, 1, 0, 1, 1, 1, 1, 1],\n",
       " [1, 1, 1, 1, 0, 1, 1, 1, 1],\n",
       " [1, 1, 1, 1, 1, 0, 1, 1, 1],\n",
       " [1, 1, 1, 1, 1, 1, 0, 1, 1],\n",
       " [1, 1, 1, 1, 1, 1, 1, 0, 1],\n",
       " [1, 1, 1, 1, 1, 1, 1, 1, 0],\n",
       " [0, 1, 1, 1, 1, 1, 1, 1, 1],\n",
       " [1, 0, 1, 1, 1, 1, 1, 1, 1],\n",
       " [1, 1, 0, 1, 1, 1, 1, 1, 1],\n",
       " [1, 1, 1, 0, 1, 1, 1, 1, 1],\n",
       " [1, 1, 1, 1, 0, 1, 1, 1, 1],\n",
       " [1, 1, 1, 1, 1, 0, 1, 1, 1],\n",
       " [1, 1, 1, 1, 1, 1, 0, 1, 1],\n",
       " [1, 1, 1, 1, 1, 1, 1, 0, 1],\n",
       " [1, 1, 1, 1, 1, 1, 1, 1, 0],\n",
       " [0, 1, 1, 1, 1, 1, 1, 1, 1],\n",
       " [1, 0, 1, 1, 1, 1, 1, 1, 1],\n",
       " [1, 1, 0, 1, 1, 1, 1, 1, 1],\n",
       " [1, 1, 1, 0, 1, 1, 1, 1, 1],\n",
       " [1, 1, 1, 1, 0, 1, 1, 1, 1],\n",
       " [1, 1, 1, 1, 1, 0, 1, 1, 1],\n",
       " [1, 1, 1, 1, 1, 1, 0, 1, 1],\n",
       " [1, 1, 1, 1, 1, 1, 1, 0, 1],\n",
       " [1, 1, 1, 1, 1, 1, 1, 1, 0],\n",
       " [0, 1, 1, 1, 1, 1, 1, 1, 1],\n",
       " [1, 0, 1, 1, 1, 1, 1, 1, 1],\n",
       " [1, 1, 0, 1, 1, 1, 1, 1, 1],\n",
       " [1, 1, 1, 0, 1, 1, 1, 1, 1],\n",
       " [1, 1, 1, 1, 0, 1, 1, 1, 1],\n",
       " [1, 1, 1, 1, 1, 0, 1, 1, 1],\n",
       " [1, 1, 1, 1, 1, 1, 0, 1, 1],\n",
       " [1, 1, 1, 1, 1, 1, 1, 0, 1],\n",
       " [1, 1, 1, 1, 1, 1, 1, 1, 0],\n",
       " [0, 1, 1, 1, 1, 1, 1, 1, 1],\n",
       " [1, 0, 1, 1, 1, 1, 1, 1, 1],\n",
       " [1, 1, 0, 1, 1, 1, 1, 1, 1],\n",
       " [1, 1, 1, 0, 1, 1, 1, 1, 1],\n",
       " [1, 1, 1, 1, 0, 1, 1, 1, 1],\n",
       " [1, 1, 1, 1, 1, 0, 1, 1, 1],\n",
       " [1, 1, 1, 1, 1, 1, 0, 1, 1],\n",
       " [1, 1, 1, 1, 1, 1, 1, 0, 1],\n",
       " [1, 1, 1, 1, 1, 1, 1, 1, 0],\n",
       " [0, 1, 1, 1, 1, 1, 1, 1, 1],\n",
       " [1, 0, 1, 1, 1, 1, 1, 1, 1],\n",
       " [1, 1, 0, 1, 1, 1, 1, 1, 1],\n",
       " [1, 1, 1, 0, 1, 1, 1, 1, 1],\n",
       " [1, 1, 1, 1, 0, 1, 1, 1, 1],\n",
       " [1, 1, 1, 1, 1, 0, 1, 1, 1],\n",
       " [1, 1, 1, 1, 1, 1, 0, 1, 1],\n",
       " [1, 1, 1, 1, 1, 1, 1, 0, 1],\n",
       " [1, 1, 1, 1, 1, 1, 1, 1, 0]]"
      ]
     },
     "execution_count": 46,
     "metadata": {},
     "output_type": "execute_result"
    }
   ],
   "source": [
    "test_sp_9 "
   ]
  },
  {
   "cell_type": "code",
   "execution_count": 47,
   "metadata": {},
   "outputs": [
    {
     "data": {
      "text/plain": [
       "90"
      ]
     },
     "execution_count": 47,
     "metadata": {},
     "output_type": "execute_result"
    }
   ],
   "source": [
    "len(test_sp_9)"
   ]
  },
  {
   "cell_type": "code",
   "execution_count": 48,
   "metadata": {},
   "outputs": [
    {
     "name": "stdout",
     "output_type": "stream",
     "text": [
      "File saved at: input8/infile.1\n",
      "File saved at: input8/infile.2\n",
      "File saved at: input8/infile.3\n",
      "File saved at: input8/infile.4\n",
      "File saved at: input8/infile.5\n",
      "File saved at: input8/infile.6\n",
      "File saved at: input8/infile.7\n",
      "File saved at: input8/infile.8\n",
      "File saved at: input8/infile.9\n",
      "File saved at: input8/infile.10\n",
      "File saved at: input8/infile.11\n",
      "File saved at: input8/infile.12\n",
      "File saved at: input8/infile.13\n",
      "File saved at: input8/infile.14\n",
      "File saved at: input8/infile.15\n",
      "File saved at: input8/infile.16\n",
      "File saved at: input8/infile.17\n",
      "File saved at: input8/infile.18\n",
      "File saved at: input8/infile.19\n",
      "File saved at: input8/infile.20\n",
      "File saved at: input8/infile.21\n",
      "File saved at: input8/infile.22\n",
      "File saved at: input8/infile.23\n",
      "File saved at: input8/infile.24\n",
      "File saved at: input8/infile.25\n",
      "File saved at: input8/infile.26\n",
      "File saved at: input8/infile.27\n",
      "File saved at: input8/infile.28\n",
      "File saved at: input8/infile.29\n",
      "File saved at: input8/infile.30\n",
      "File saved at: input8/infile.31\n",
      "File saved at: input8/infile.32\n",
      "File saved at: input8/infile.33\n",
      "File saved at: input8/infile.34\n",
      "File saved at: input8/infile.35\n",
      "File saved at: input8/infile.36\n",
      "File saved at: input8/infile.37\n",
      "File saved at: input8/infile.38\n",
      "File saved at: input8/infile.39\n",
      "File saved at: input8/infile.40\n",
      "File saved at: input8/infile.41\n",
      "File saved at: input8/infile.42\n",
      "File saved at: input8/infile.43\n",
      "File saved at: input8/infile.44\n",
      "File saved at: input8/infile.45\n",
      "File saved at: input8/infile.46\n",
      "File saved at: input8/infile.47\n",
      "File saved at: input8/infile.48\n",
      "File saved at: input8/infile.49\n",
      "File saved at: input8/infile.50\n",
      "File saved at: input8/infile.51\n",
      "File saved at: input8/infile.52\n",
      "File saved at: input8/infile.53\n",
      "File saved at: input8/infile.54\n",
      "File saved at: input8/infile.55\n",
      "File saved at: input8/infile.56\n",
      "File saved at: input8/infile.57\n",
      "File saved at: input8/infile.58\n",
      "File saved at: input8/infile.59\n",
      "File saved at: input8/infile.60\n",
      "File saved at: input8/infile.61\n",
      "File saved at: input8/infile.62\n",
      "File saved at: input8/infile.63\n",
      "File saved at: input8/infile.64\n",
      "File saved at: input8/infile.65\n",
      "File saved at: input8/infile.66\n",
      "File saved at: input8/infile.67\n",
      "File saved at: input8/infile.68\n",
      "File saved at: input8/infile.69\n",
      "File saved at: input8/infile.70\n",
      "File saved at: input8/infile.71\n",
      "File saved at: input8/infile.72\n",
      "File saved at: input8/infile.73\n",
      "File saved at: input8/infile.74\n",
      "File saved at: input8/infile.75\n",
      "File saved at: input8/infile.76\n",
      "File saved at: input8/infile.77\n",
      "File saved at: input8/infile.78\n",
      "File saved at: input8/infile.79\n",
      "File saved at: input8/infile.80\n"
     ]
    }
   ],
   "source": [
    "no_splits = 80\n",
    "file_name = 'input8'\n",
    "\n",
    "k = split_inputs(test_sp_9, no_splits,file_name)"
   ]
  },
  {
   "cell_type": "code",
   "execution_count": 19,
   "metadata": {},
   "outputs": [
    {
     "name": "stdout",
     "output_type": "stream",
     "text": [
      "Data loaded: input3/infile.830\n"
     ]
    },
    {
     "data": {
      "text/plain": [
       "{'idx': 830, 'inputs': [[1, 1, 1, 0, 0, 0, 0, 0, 0]]}"
      ]
     },
     "execution_count": 19,
     "metadata": {},
     "output_type": "execute_result"
    }
   ],
   "source": [
    "load_pkl('input3/infile.830')"
   ]
  },
  {
   "cell_type": "code",
   "execution_count": null,
   "metadata": {},
   "outputs": [],
   "source": [
    "load_pkl('tmp2/output.9')"
   ]
  },
  {
   "cell_type": "code",
   "execution_count": null,
   "metadata": {},
   "outputs": [],
   "source": []
  },
  {
   "cell_type": "code",
   "execution_count": null,
   "metadata": {},
   "outputs": [],
   "source": [
    "inputs_dict"
   ]
  },
  {
   "cell_type": "code",
   "execution_count": null,
   "metadata": {},
   "outputs": [],
   "source": [
    "import sys\n",
    "fin = open(sys.argv[1], 'r')\n",
    "X = pd.read_csv(fin, header = None, index_col = 0)\n",
    "index = fin.name[fin.name.index('.')+1:]\n",
    "X = X.to_numpy()"
   ]
  },
  {
   "cell_type": "code",
   "execution_count": null,
   "metadata": {},
   "outputs": [],
   "source": [
    "splitted_inputs"
   ]
  }
 ],
 "metadata": {
  "kernelspec": {
   "display_name": "Python 3.9.9 ('env')",
   "language": "python",
   "name": "python3"
  },
  "language_info": {
   "codemirror_mode": {
    "name": "ipython",
    "version": 3
   },
   "file_extension": ".py",
   "mimetype": "text/x-python",
   "name": "python",
   "nbconvert_exporter": "python",
   "pygments_lexer": "ipython3",
   "version": "3.9.9"
  },
  "orig_nbformat": 4,
  "vscode": {
   "interpreter": {
    "hash": "0b975ef14a7c349b5b53fa51dcf9e0d25501f9719e727a1ab429ed23704c47f1"
   }
  }
 },
 "nbformat": 4,
 "nbformat_minor": 2
}
