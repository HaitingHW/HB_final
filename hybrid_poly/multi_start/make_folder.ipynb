{
 "cells": [
  {
   "cell_type": "code",
   "execution_count": 2,
   "metadata": {},
   "outputs": [
    {
     "name": "stdout",
     "output_type": "stream",
     "text": [
      "Directory 'input1' created\n",
      "Directory 'input2' created\n",
      "Directory 'input3' created\n",
      "Directory 'input4' created\n",
      "Directory 'input5' created\n",
      "Directory 'input6' created\n",
      "Directory 'input7' created\n",
      "Directory 'input8' created\n"
     ]
    }
   ],
   "source": [
    "import os\n",
    "  \n",
    "# Directory\n",
    "\n",
    "for i in range(1,9):\n",
    "\n",
    "    directory =  'input'+str(i) \n",
    "    \n",
    "    # Parent Directory path\n",
    "    parent_dir = r\"C:\\Users\\wangh\\OneDrive - Imperial College London\\Hybrid modelling project\\Write up\\code\\hybrid_poly\\multi_start\"\n",
    "    \n",
    "    # Path\n",
    "    path = os.path.join(parent_dir, directory)\n",
    "    \n",
    "    # Create the directory\n",
    "    # 'GeeksForGeeks' in\n",
    "    # '/home / User / Documents'\n",
    "\n",
    "    os.mkdir(path)\n",
    "    print(\"Directory '% s' created\" % directory)\n",
    "  \n"
   ]
  }
 ],
 "metadata": {
  "kernelspec": {
   "display_name": "Python 3.9.9 ('env')",
   "language": "python",
   "name": "python3"
  },
  "language_info": {
   "codemirror_mode": {
    "name": "ipython",
    "version": 3
   },
   "file_extension": ".py",
   "mimetype": "text/x-python",
   "name": "python",
   "nbconvert_exporter": "python",
   "pygments_lexer": "ipython3",
   "version": "3.9.9"
  },
  "orig_nbformat": 4,
  "vscode": {
   "interpreter": {
    "hash": "0b975ef14a7c349b5b53fa51dcf9e0d25501f9719e727a1ab429ed23704c47f1"
   }
  }
 },
 "nbformat": 4,
 "nbformat_minor": 2
}
