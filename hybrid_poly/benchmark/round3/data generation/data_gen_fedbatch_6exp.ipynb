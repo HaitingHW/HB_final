{
 "cells": [
  {
   "cell_type": "code",
   "execution_count": 1,
   "metadata": {},
   "outputs": [],
   "source": [
    "import numpy as np\n",
    "import random\n",
    "import scipy.integrate as scp\n",
    "import numpy.random as rnd\n",
    "import time\n",
    "import matplotlib.pyplot as plt\n",
    "import numpy.random as rnd\n",
    "import copy\n",
    "from matplotlib.pyplot import figure\n",
    "from pyomo.environ import *\n",
    "from pyomo.dae import *\n",
    "import pandas as pd\n",
    "import pickle\n",
    "import scipy.stats\n",
    "from math import comb\n",
    "from scipy.integrate import odeint\n",
    "\n",
    "import glob, os"
   ]
  },
  {
   "attachments": {},
   "cell_type": "markdown",
   "metadata": {},
   "source": [
    "Gneneration of 2 sets of experimental data with different nitrate and light intensity, varies from low to high, number of datapoints for each exps is 17, noise level is 5% of means."
   ]
  },
  {
   "cell_type": "code",
   "execution_count": 2,
   "metadata": {},
   "outputs": [],
   "source": [
    "''' Data treatment'''\n",
    "def save_pkl(item, fname):\n",
    "    sn = 'tmp/' + fname\n",
    "    with open(sn, 'wb') as handle:\n",
    "        pickle.dump(item, handle) #, protocol=pickle.HIGHEST_PROTOCOL)\n",
    "    print(f'File saved at: {sn}')\n",
    "    return None\n",
    "# return None\n",
    "\n",
    "def load_pkl(fname):\n",
    "    with open(fname, 'rb') as handle:\n",
    "        ans = pickle.load(handle)\n",
    "    print(f'Loaded from: {fname}')\n",
    "    return ans"
   ]
  },
  {
   "cell_type": "code",
   "execution_count": 3,
   "metadata": {},
   "outputs": [],
   "source": [
    "def to_dict(x,dt):\n",
    "    obs = list(x)\n",
    "    # tp = list(time)\n",
    "    dicx = {}\n",
    "    for i in range(len(x)):\n",
    "        dicx[dt*i] = obs[i]            # change thye value of 38.4\n",
    "    return dicx\n",
    "\n",
    "def get_grad(x, t):\n",
    "    dxdt = [[],[],[],[]]\n",
    "    for n in range(x.shape[0]):\n",
    "        for i in range(len(x[0]) - 1):\n",
    "            dxdt[n].append((x[n][i + 1] - x[n][i])/(t[i + 1] - t[i]))\n",
    "        dxdt[n].append(dxdt[n][-1])\n",
    "    return dxdt\n"
   ]
  },
  {
   "cell_type": "code",
   "execution_count": 4,
   "metadata": {},
   "outputs": [
    {
     "name": "stdout",
     "output_type": "stream",
     "text": [
      "Loaded from: data/xobs1.pkl\n",
      "Loaded from: data/xobs2.pkl\n",
      "Loaded from: data/xobs3.pkl\n",
      "Loaded from: data/xobs4.pkl\n",
      "Loaded from: data/xobs5.pkl\n",
      "Loaded from: data/Fcn.pkl\n",
      "Loaded from: data/tf_N.pkl\n",
      "Loaded from: data/operation_con.pkl\n",
      "Loaded from: data/tt1.pkl\n",
      "Loaded from: data/std_value1.pkl\n",
      "Loaded from: data/std_value2.pkl\n",
      "Loaded from: data/std_value3.pkl\n",
      "Loaded from: data/std_value4.pkl\n",
      "Loaded from: data/std_value5.pkl\n",
      "Loaded from: data/data_init.pkl\n"
     ]
    }
   ],
   "source": [
    "xobs1 = load_pkl('data/xobs1.pkl')\n",
    "xobs2 = load_pkl('data/xobs2.pkl')\n",
    "xobs3 = load_pkl('data/xobs3.pkl')\n",
    "xobs4 = load_pkl('data/xobs4.pkl')\n",
    "xobs5 = load_pkl('data/xobs5.pkl')\n",
    "Fcn   = load_pkl('data/Fcn.pkl')\n",
    "tf_N  = load_pkl('data/tf_N.pkl')\n",
    "operation_con = load_pkl('data/operation_con.pkl')\n",
    "\n",
    "\n",
    "tt1 = load_pkl('data/tt1.pkl')\n",
    "std_value1 = load_pkl('data/std_value1.pkl')\n",
    "std_value2 = load_pkl('data/std_value2.pkl')\n",
    "std_value3 = load_pkl('data/std_value3.pkl')\n",
    "std_value4 = load_pkl('data/std_value4.pkl')\n",
    "std_value5 = load_pkl('data/std_value5.pkl')\n",
    "data_init = load_pkl('data/data_init.pkl')\n",
    "\n",
    "operation_con1 = operation_con[0]\n",
    "operation_con2 = operation_con[1]\n",
    "operation_con3 = operation_con[2]\n",
    "operation_con4 = operation_con[3]\n",
    "operation_con5 = operation_con[4]\n",
    "\n",
    "Fcn1 = Fcn[0] \n",
    "Fcn2 = Fcn[1] \n",
    "Fcn3 = Fcn[2] \n",
    "Fcn4 = Fcn[3]\n",
    "Fcn5 = Fcn[4]  \n",
    "\n",
    "tf    = 16.*24.\n",
    "steps_= 16\n",
    "dt    = tf/steps_\n",
    "\n",
    "\n",
    "number_datapoints1 = xobs1.shape[1]\n",
    "number_datapoints2 = xobs2.shape[1]\n",
    "number_datapoints3 = xobs3.shape[1]\n",
    "number_datapoints4 = xobs4.shape[1]\n",
    "number_datapoints5 = xobs5.shape[1]\n",
    "\n",
    "number_spc1 = xobs1.shape[0]\n",
    "number_spc2 = xobs2.shape[0]\n",
    "number_spc3 = xobs3.shape[0]\n",
    "number_spc4 = xobs4.shape[0]\n",
    "number_spc5 = xobs5.shape[0]\n",
    "\n",
    "num_N = 4\n",
    "tf_N  = tf/(num_N)\n",
    "dstep_N = int(tf_N/dt)"
   ]
  },
  {
   "cell_type": "code",
   "execution_count": 5,
   "metadata": {},
   "outputs": [
    {
     "name": "stdout",
     "output_type": "stream",
     "text": [
      "Loaded from: data/init_Fcn.pkl\n"
     ]
    }
   ],
   "source": [
    "\n",
    "# xobs1 = load_pkl('data/xobs1.pkl')\n",
    "# xobs2 = load_pkl('data/xobs2.pkl')\n",
    "# Fcn   = load_pkl('data/Fcn.pkl')\n",
    "# tf_N  = load_pkl('data/tf_N.pkl')\n",
    "# operation_con = load_pkl('data/operation_con.pkl')\n",
    "\n",
    "\n",
    "# tt1 = load_pkl('data/tt1.pkl')\n",
    "# std_value1 = load_pkl('data/std_value1.pkl')\n",
    "# std_value2 = load_pkl('data/std_value2.pkl')\n",
    "# data_init = load_pkl('data/data_init.pkl')\n",
    "init_Fcn  = load_pkl('data/init_Fcn.pkl')\n",
    "\n",
    "# operation_con1 = operation_con[0]\n",
    "# operation_con2 = operation_con[1]\n",
    "\n",
    "operation_con6= np.array([init_Fcn[0],init_Fcn[1]])\n",
    "\n",
    "# Fcn1 = Fcn[0] \n",
    "# Fcn2 = Fcn[1] \n",
    "Fcn6 = np.array([init_Fcn[2],init_Fcn[3],init_Fcn[4],init_Fcn[5]])"
   ]
  },
  {
   "cell_type": "code",
   "execution_count": 6,
   "metadata": {},
   "outputs": [],
   "source": [
    "Fcn6 = Fcn6.reshape(4,1) "
   ]
  },
  {
   "cell_type": "code",
   "execution_count": 7,
   "metadata": {},
   "outputs": [],
   "source": [
    "Fcn = np.array([Fcn1,Fcn2,Fcn3,Fcn4,Fcn5,Fcn6])"
   ]
  },
  {
   "cell_type": "code",
   "execution_count": 8,
   "metadata": {},
   "outputs": [],
   "source": [
    "operation_con = np.array([operation_con1,operation_con2,operation_con3,operation_con4,operation_con5,operation_con6])"
   ]
  },
  {
   "cell_type": "code",
   "execution_count": 9,
   "metadata": {},
   "outputs": [],
   "source": [
    "tf    = 16.*24.\n",
    "steps_= 16\n",
    "dt    = tf/steps_\n",
    "\n",
    "\n",
    "num_N = 4\n",
    "tf_N  = tf/(num_N)\n",
    "dstep_N = int(tf_N/dt)# this is the number of steps in each interval between chaning the light intensity"
   ]
  },
  {
   "cell_type": "code",
   "execution_count": 10,
   "metadata": {},
   "outputs": [],
   "source": [
    "t = np.linspace(0, 16*24, num=16+1)"
   ]
  },
  {
   "cell_type": "code",
   "execution_count": 11,
   "metadata": {},
   "outputs": [],
   "source": [
    "# sobol for 4 experiments, for both N and IT.\n",
    "# from scipy.stats import qmc\n",
    "# sampler = qmc.Sobol(d=2, scramble=False)\n",
    "# sample = sampler.random_base2(m=1)\n",
    "# l_bounds = [0.1,100]   # N, I\n",
    "# u_bounds = [0.2,200]\n",
    "# operation_con = qmc.scale(sample,l_bounds,u_bounds)"
   ]
  },
  {
   "cell_type": "code",
   "execution_count": 12,
   "metadata": {},
   "outputs": [],
   "source": [
    "# operation_con "
   ]
  },
  {
   "cell_type": "code",
   "execution_count": 13,
   "metadata": {},
   "outputs": [],
   "source": [
    "# # sobol for 16 IT.\n",
    "# from scipy.stats import qmc\n",
    "# sampler_I = qmc.Sobol(d=1, scramble=False)\n",
    "# sample_I = sampler_I.random_base2(m=4)\n",
    "\n",
    "# l_bounds_I = [50]\n",
    "# u_bounds_I = [600]\n",
    "# I_con = qmc.scale(sample_I,l_bounds_I,u_bounds_I)"
   ]
  },
  {
   "cell_type": "code",
   "execution_count": 14,
   "metadata": {},
   "outputs": [],
   "source": [
    "# # sobol for 16 IT. seperate from the initial condition since the feeding concentration of N should not be as high as the initial concentration in the reactor\n",
    "# from scipy.stats import qmc\n",
    "# sampler_N = qmc.Sobol(d=1, scramble=False)\n",
    "# sample_N = sampler_N.random_base2(m=3)\n",
    "\n",
    "# l_bounds_N = [1]\n",
    "# u_bounds_N = [10]\n",
    "# N_con = qmc.scale(sample_N,l_bounds_N,u_bounds_N)"
   ]
  },
  {
   "cell_type": "code",
   "execution_count": 15,
   "metadata": {},
   "outputs": [],
   "source": [
    "# N_con = [N_con[i:i+4] for i in range(0, len(N_con), 4)]"
   ]
  },
  {
   "cell_type": "code",
   "execution_count": 16,
   "metadata": {},
   "outputs": [],
   "source": [
    "# Data generation #\n",
    "class ModelIntegration:\n",
    "    '''\n",
    "    This files integrates the model.\n",
    "    \n",
    "     model: this is were the model should be changed \n",
    "    '''\n",
    "    \n",
    "    # --- initializing model --- #\n",
    "    def __init__(self, parameters):\n",
    "        \n",
    "        # Object variable definitions\n",
    "\n",
    "        self.parameters = parameters\n",
    "    # --- dynamic model definition --- #    \n",
    "    def model(self, t, state):\n",
    "        # internal definitions\n",
    "        params = self.parameters\n",
    "        \n",
    "        # define controls here\n",
    "\n",
    "        # state vector\n",
    "        Cx  = state[0]\n",
    "        Cn  = state[1]\n",
    "                # define controls here\n",
    "        FCn    = params['FCn']\n",
    "        # print(FCn,'Fcn')\n",
    "        \n",
    "        # parameters\n",
    "        u_m  = params['u_m'] \n",
    "        K_N  = params['K_N']\n",
    "        u_d  = params['u_d']\n",
    "        Y_nx = params['Y_nx']\n",
    "        \n",
    "        # algebraic equations\n",
    "        \n",
    "        # variable rate equations\n",
    "        dev_Cx  = u_m * Cx * Cn/(Cn+K_N) - u_d*Cx**2\n",
    "        dev_Cn  = - Y_nx * u_m * Cx * Cn/(Cn+K_N) + FCn\n",
    "        # print(\"Shape of dev_Cx:\", np.shape(dev_Cx))\n",
    "        # print(\"Shape of dev_Cn:\", np.shape(dev_Cn))\n",
    "        \n",
    "        return np.array([dev_Cx, dev_Cn],dtype='float64')\n",
    "    \n",
    "    # --- simulation --- #\n",
    "    def simulation(self, steps, tf, x0):\n",
    "        '''\n",
    "        simulate for a number of steps to collect data, and a final time\n",
    "        '''\n",
    "\n",
    "        # external definitions\n",
    "        self.x0, self.tf = x0, tf\n",
    "\n",
    "        # internal definitions\n",
    "        model = self.model\n",
    "        dt    = tf/(steps)\n",
    "        \n",
    "        # compile state trajectories\n",
    "        xt = np.zeros((x0.shape[0],steps+1))\n",
    "        tt = np.zeros((steps+1))\n",
    "        \n",
    "        # initialize simulation\n",
    "        current_state = x0\n",
    "        xt[:,0]       = current_state\n",
    "        tt[0]         = 0.\n",
    "        \n",
    "        # simulation\n",
    "        for s in range(steps):\n",
    "            ode           = scp.ode(model)                  # define ode\n",
    "            ode.set_integrator('lsoda', nsteps=3000)        # define integrator\n",
    "            ode.set_initial_value(current_state, dt)        # set initial value\n",
    "            current_state = list(ode.integrate(ode.t + dt)) # integrate system\n",
    "            xt[:,s+1]     = current_state                   # add current state\n",
    "            tt[s+1]       = (s+1)*dt\n",
    "        \n",
    "        return xt, tt\n"
   ]
  },
  {
   "cell_type": "code",
   "execution_count": 17,
   "metadata": {},
   "outputs": [],
   "source": [
    "def train_data_generation(parameter, initial_c,N_all):\n",
    "    all_xt = []\n",
    "    all_pe = []\n",
    "    # all_tt = []\n",
    "\n",
    "    for i in range(len(N_all)):\n",
    "        parameter['FCn'] = N_all[i]\n",
    "        # print(parameter['FCn'],'fCn')\n",
    "        m            = ModelIntegration(parameter)\n",
    "        xt_i, tt_i       = m.simulation(dstep_N,tf_N,initial_c) \n",
    "        # xt_i, tt_i       = simulation(model, dstep_I,tf_I, initial_c,parameter)\n",
    "        # print(xt_i,'xt_i')\n",
    "        all_xt.append(xt_i)\n",
    "        # all_tt.append(tt_i)\n",
    "        new_init = np.zeros(2)\n",
    "        for j in range(2):\n",
    "            new_init[j] = xt_i[j][-1]\n",
    "        initial_c = new_init\n",
    "        # print(initial_c1,'initial_c1')\n",
    "\n",
    "        all_pe.append(parameter.copy())\n",
    "\n",
    "    for i in range(1,len(all_xt)):\n",
    "        all_xt[i] = np.delete(all_xt[i], 0, axis=1)\n",
    "\n",
    "        # all_tt[i] = np.delete(all_tt[i], 0, axis=1)\n",
    "    # print(all_xt,'all_xt')\n",
    "    xt = all_xt[0]\n",
    "    # tt = all_tt[0]\n",
    "\n",
    "    # Iterate through the remaining arrays and concatenate them\n",
    "    for i in all_xt[1:]:\n",
    "        xt = np.concatenate((xt, i), axis=1)  # Concatenate along the rows\n",
    "\n",
    "    \n",
    "    mean_x = np.zeros(xt.shape[0])\n",
    "    for i in range(xt.shape[0]):\n",
    "        mean_x[i]=np.mean(xt[i])\n",
    "        \n",
    "    mean_x    = mean_x*0.05\n",
    "    std_value = mean_x\n",
    "\n",
    "    x_noise      = np.random.normal(0,mean_x[0],xt.shape[1])\n",
    "    x_noise[0]   = 0\n",
    "    n_noise      = np.random.normal(0,mean_x[1],xt.shape[1])\n",
    "    n_noise[0]   = 0\n",
    "    # q_noise      = np.random.normal(0,mean_x[2],xt.shape[1])\n",
    "    # q_noise[0]   = 0\n",
    "    # f_noise      = np.random.normal(0,mean_x[3],xt.shape[1])\n",
    "    # f_noise[0]   = 0 \n",
    "\n",
    "    obs          = np.array([x_noise,n_noise])\n",
    "    xobs         = xt+obs\n",
    "\n",
    "    for i in range(xobs.shape[0]):\n",
    "        for j in range(len(xobs[i])):\n",
    "            if xobs[i][j]<0:\n",
    "                xobs[i][j] = 1E-7\n",
    "    for i in range(xobs.shape[1]):\n",
    "        if xobs[0][i]<0:\n",
    "            xobs[0][i] = 1e-7\n",
    "        if xobs[1][i]<0:\n",
    "            xobs[1][i] = 1e-7\n",
    "\n",
    "    return xt,xobs,std_value"
   ]
  },
  {
   "cell_type": "code",
   "execution_count": 18,
   "metadata": {},
   "outputs": [
    {
     "name": "stderr",
     "output_type": "stream",
     "text": [
      "C:\\Users\\wangh\\AppData\\Local\\Temp\\ipykernel_16556\\403009895.py:43: DeprecationWarning: setting an array element with a sequence. This was supported in some cases where the elements are arrays with a single element. For example `np.array([1, np.array([2])], dtype=int)`. In the future this will raise the same ValueError as `np.array([1, [2]], dtype=int)`.\n",
      "  return np.array([dev_Cx, dev_Cn],dtype='float64')\n"
     ]
    }
   ],
   "source": [
    "#experiment 5\n",
    "\n",
    "p6  = {'u_m' : 0.0923*0.62, 'K_N' : 393.10, 'u_d' : 0.01, 'Y_nx' : 504.49,'FCn':Fcn6[0]}\n",
    "initial_c6 =  operation_con6\n",
    "\n",
    "xt6,xobs6,std_value6 = train_data_generation(p6, initial_c6,Fcn6)\n"
   ]
  },
  {
   "cell_type": "code",
   "execution_count": 32,
   "metadata": {},
   "outputs": [
    {
     "data": {
      "text/plain": [
       "array([[9.96738343],\n",
       "       [9.5595471 ],\n",
       "       [9.96252073],\n",
       "       [9.79194747]])"
      ]
     },
     "execution_count": 32,
     "metadata": {},
     "output_type": "execute_result"
    }
   ],
   "source": [
    "Fcn6"
   ]
  },
  {
   "cell_type": "code",
   "execution_count": 20,
   "metadata": {},
   "outputs": [],
   "source": [
    "# #experiment 1\n",
    "\n",
    "# p2  = {'u_m' : 0.0923*0.62, 'K_N' : 393.10, 'u_d' : 0.01, 'Y_nx' : 504.49,'FCn':N_con[1][0]}\n",
    "# initial_c2 =  operation_con[1]\n",
    "\n",
    "# xt2,xobs2,std_value2 = train_data_generation(p2, initial_c2,N_con[1])\n"
   ]
  },
  {
   "cell_type": "code",
   "execution_count": 21,
   "metadata": {},
   "outputs": [],
   "source": [
    "def plot_data(x, y1,y2,name):\n",
    "    fig = plt.figure()\n",
    "    plt.plot(x, y1,'.')\n",
    "    plt.plot(x, y2, '-',label=name)\n",
    "    plt.ylabel('State')\n",
    "    plt.xlabel('Time')\n",
    "    plt.legend(loc=\"lower right\")\n",
    "    fig.savefig(name)\n",
    "    plt.show()\n",
    "    return None\n",
    "def check_plot(xobs,xt,tt):\n",
    "    plot_data(tt, xobs[0],xt[0],'biomass')\n",
    "    plot_data(tt, xobs[1],xt[1],'nitrate')\n",
    "    plot_data(tt, xobs[2],xt[2],'quota')\n",
    "    plot_data(tt, xobs[3],xt[3],'fame')\n",
    "    return None"
   ]
  },
  {
   "cell_type": "code",
   "execution_count": 22,
   "metadata": {},
   "outputs": [],
   "source": [
    "def plot_data(x, y1,y2):\n",
    "    fig = plt.figure()\n",
    "    plt.plot(x, y1,'.',color = 'red')\n",
    "    # plt.plot(x, y1hat,'.',color = 'blue')\n",
    "    plt.plot(x, y2, '-')\n",
    "    # plt.plot(x, y2hat, '-',label=namehat)\n",
    "    plt.ylabel('State')\n",
    "    plt.xlabel('Time')\n",
    "    # plt.legend(loc=\"lower right\")\n",
    "    # fig.savefig(name)\n",
    "    plt.show()\n",
    "    return None\n",
    "def check_plot(xobs,xt,tt):\n",
    "    plot_data(tt, xobs[0],xt[0])\n",
    "    plot_data(tt, xobs[1],xt[1])\n",
    "\n",
    "    return None"
   ]
  },
  {
   "cell_type": "code",
   "execution_count": 23,
   "metadata": {},
   "outputs": [
    {
     "data": {
      "image/png": "[encoded data removed]",
      "text/plain": [
       "<Figure size 432x288 with 1 Axes>"
      ]
     },
     "metadata": {
      "needs_background": "light"
     },
     "output_type": "display_data"
    },
    {
     "data": {
      "image/png": "[encoded data removed]",
      "text/plain": [
       "<Figure size 432x288 with 1 Axes>"
      ]
     },
     "metadata": {
      "needs_background": "light"
     },
     "output_type": "display_data"
    }
   ],
   "source": [
    "check_plot(xobs6,xt6,t)"
   ]
  },
  {
   "cell_type": "code",
   "execution_count": 24,
   "metadata": {},
   "outputs": [
    {
     "data": {
      "text/plain": [
       "array([[1.82930333e-01, 2.64254373e-01, 4.79688429e-01, 7.18790646e-01,\n",
       "        1.06375230e+00, 1.27118053e+00, 1.32451064e+00, 1.39354726e+00,\n",
       "        1.30984972e+00, 1.32528296e+00, 1.44270693e+00, 1.45076516e+00,\n",
       "        1.36050343e+00, 1.46718878e+00, 1.41953689e+00, 1.33073186e+00,\n",
       "        1.35121695e+00],\n",
       "       [1.54884390e+02, 2.56455091e+02, 3.03650981e+02, 2.86641161e+02,\n",
       "        2.14457592e+02, 2.01294970e+02, 1.59387324e+02, 1.28578788e+02,\n",
       "        1.17346524e+02, 1.33567063e+02, 1.29291710e+02, 1.29455142e+02,\n",
       "        1.22742872e+02, 1.13001965e+02, 1.11559636e+02, 1.24391213e+02,\n",
       "        1.15406280e+02]])"
      ]
     },
     "execution_count": 24,
     "metadata": {},
     "output_type": "execute_result"
    }
   ],
   "source": [
    "xobs5"
   ]
  },
  {
   "cell_type": "code",
   "execution_count": 25,
   "metadata": {},
   "outputs": [],
   "source": [
    "data_init   = {None: dict(t       = {None: list(t)},\n",
    "                          tm      = {None: list(t)},\n",
    "                          x1_noise = to_dict(xobs1[0],dt),\n",
    "                          n1_noise = to_dict(xobs1[1],dt),\n",
    "                          x2_noise = to_dict(xobs2[0],dt),\n",
    "                          n2_noise = to_dict(xobs2[1],dt),\n",
    "                          x3_noise = to_dict(xobs3[0],dt),\n",
    "                          n3_noise = to_dict(xobs3[1],dt),\n",
    "                          x4_noise = to_dict(xobs4[0],dt),\n",
    "                          n4_noise = to_dict(xobs4[1],dt),\n",
    "                          x5_noise = to_dict(xobs5[0],dt),\n",
    "                          n5_noise = to_dict(xobs5[1],dt),\n",
    "                          x6_noise = to_dict(xobs6[0],dt),\n",
    "                          n6_noise = to_dict(xobs6[1],dt))}"
   ]
  },
  {
   "cell_type": "code",
   "execution_count": 26,
   "metadata": {},
   "outputs": [
    {
     "data": {
      "text/plain": [
       "{None: {'t': {None: [0.0,\n",
       "    24.0,\n",
       "    48.0,\n",
       "    72.0,\n",
       "    96.0,\n",
       "    120.0,\n",
       "    144.0,\n",
       "    168.0,\n",
       "    192.0,\n",
       "    216.0,\n",
       "    240.0,\n",
       "    264.0,\n",
       "    288.0,\n",
       "    312.0,\n",
       "    336.0,\n",
       "    360.0,\n",
       "    384.0]},\n",
       "  'tm': {None: [0.0,\n",
       "    24.0,\n",
       "    48.0,\n",
       "    72.0,\n",
       "    96.0,\n",
       "    120.0,\n",
       "    144.0,\n",
       "    168.0,\n",
       "    192.0,\n",
       "    216.0,\n",
       "    240.0,\n",
       "    264.0,\n",
       "    288.0,\n",
       "    312.0,\n",
       "    336.0,\n",
       "    360.0,\n",
       "    384.0]},\n",
       "  'x1_noise': {0.0: 0.1,\n",
       "   24.0: 0.12217680711336754,\n",
       "   48.0: 0.1891443688521524,\n",
       "   72.0: 0.24170532348771245,\n",
       "   96.0: 0.301936922867038,\n",
       "   120.0: 0.33335315587080644,\n",
       "   144.0: 0.4763131520929964,\n",
       "   168.0: 0.7047416587818984,\n",
       "   192.0: 0.8278657595790313,\n",
       "   216.0: 1.053415677017492,\n",
       "   240.0: 1.1554470568549413,\n",
       "   264.0: 1.2204325150372823,\n",
       "   288.0: 1.219804973078104,\n",
       "   312.0: 1.178920426853405,\n",
       "   336.0: 1.0038674458439767,\n",
       "   360.0: 0.8833489585135266,\n",
       "   384.0: 0.9683363014093446},\n",
       "  'n1_noise': {0.0: 100.0,\n",
       "   24.0: 104.61322251790735,\n",
       "   48.0: 107.17517191539382,\n",
       "   72.0: 104.78651419222403,\n",
       "   96.0: 92.73712657281013,\n",
       "   120.0: 171.79935877555607,\n",
       "   144.0: 199.99404818330126,\n",
       "   168.0: 190.56153386227803,\n",
       "   192.0: 157.4443936923785,\n",
       "   216.0: 150.76162537698266,\n",
       "   240.0: 135.2248153512129,\n",
       "   264.0: 114.04600938605832,\n",
       "   288.0: 110.32966356772275,\n",
       "   312.0: 54.189613706318596,\n",
       "   336.0: 45.69644448273289,\n",
       "   360.0: 56.225706605944275,\n",
       "   384.0: 58.485250721154486},\n",
       "  'x2_noise': {0.0: 0.15000000000000002,\n",
       "   24.0: 0.1881205554738793,\n",
       "   48.0: 0.28623656317502344,\n",
       "   72.0: 0.4836658000129704,\n",
       "   96.0: 0.765046810119807,\n",
       "   120.0: 0.9691005962995585,\n",
       "   144.0: 1.1943009144282237,\n",
       "   168.0: 1.2202226674600718,\n",
       "   192.0: 1.383212632689184,\n",
       "   216.0: 1.3167215826653076,\n",
       "   240.0: 1.1815561205558116,\n",
       "   264.0: 1.2254828372222426,\n",
       "   288.0: 1.154968926647803,\n",
       "   312.0: 1.056492032240815,\n",
       "   336.0: 0.9647831273663481,\n",
       "   360.0: 0.8811350073457719,\n",
       "   384.0: 0.8753052201097397},\n",
       "  'n2_noise': {0.0: 150.0,\n",
       "   24.0: 210.27130726028747,\n",
       "   48.0: 248.06997169004302,\n",
       "   72.0: 239.57935667554045,\n",
       "   96.0: 189.5384514846567,\n",
       "   120.0: 200.40074239151826,\n",
       "   144.0: 168.33783516082715,\n",
       "   168.0: 142.3107468809097,\n",
       "   192.0: 133.69500703222639,\n",
       "   216.0: 97.70004978257613,\n",
       "   240.0: 81.39601211107889,\n",
       "   264.0: 104.74022176456666,\n",
       "   288.0: 94.43833924132572,\n",
       "   312.0: 57.14544660362455,\n",
       "   336.0: 44.662329730183444,\n",
       "   360.0: 31.761019973096975,\n",
       "   384.0: 43.20343400895949},\n",
       "  'x3_noise': {0.0: 0.17500000000000002,\n",
       "   24.0: 0.25398633222825795,\n",
       "   48.0: 0.2995599843093741,\n",
       "   72.0: 0.4906522837249608,\n",
       "   96.0: 0.6164868380092314,\n",
       "   120.0: 0.6827740908605523,\n",
       "   144.0: 0.8802285215326877,\n",
       "   168.0: 1.0530122343197088,\n",
       "   192.0: 1.114647594051451,\n",
       "   216.0: 1.1760878170687834,\n",
       "   240.0: 1.237573040058646,\n",
       "   264.0: 1.2939599414053222,\n",
       "   288.0: 1.3693328226035502,\n",
       "   312.0: 1.2494805390139394,\n",
       "   336.0: 1.1625314557944155,\n",
       "   360.0: 1.0522025322902968,\n",
       "   384.0: 1.0722047833407893},\n",
       "  'n3_noise': {0.0: 125.0,\n",
       "   24.0: 149.62584463519434,\n",
       "   48.0: 160.5419962593415,\n",
       "   72.0: 150.43978856414066,\n",
       "   96.0: 128.8805427458513,\n",
       "   120.0: 188.01243967671152,\n",
       "   144.0: 177.7703685288421,\n",
       "   168.0: 151.68207074117842,\n",
       "   192.0: 121.89974081413374,\n",
       "   216.0: 150.4120625262977,\n",
       "   240.0: 144.1052486008239,\n",
       "   264.0: 138.59868897465628,\n",
       "   288.0: 121.26260103103786,\n",
       "   312.0: 69.67706704676766,\n",
       "   336.0: 71.21536059625103,\n",
       "   360.0: 74.00413818411886,\n",
       "   384.0: 76.15852107715727},\n",
       "  'x4_noise': {0.0: 0.125,\n",
       "   24.0: 0.19038052191229446,\n",
       "   48.0: 0.31747163894999714,\n",
       "   72.0: 0.49360307183485946,\n",
       "   96.0: 0.6850178743259075,\n",
       "   120.0: 0.9006774757841586,\n",
       "   144.0: 1.1006176295332633,\n",
       "   168.0: 1.3202679497911576,\n",
       "   192.0: 1.2443578074746604,\n",
       "   216.0: 1.3159387868925292,\n",
       "   240.0: 1.1483743859406688,\n",
       "   264.0: 1.1444497168357277,\n",
       "   288.0: 1.0743554511430078,\n",
       "   312.0: 1.0134100310632295,\n",
       "   336.0: 0.8616745845841437,\n",
       "   360.0: 0.7624966057667026,\n",
       "   384.0: 0.7491782185015692},\n",
       "  'n4_noise': {0.0: 175.0,\n",
       "   24.0: 229.12335903722627,\n",
       "   48.0: 249.8989286100813,\n",
       "   72.0: 235.87845258913654,\n",
       "   96.0: 198.8907939283003,\n",
       "   120.0: 220.65884598340875,\n",
       "   144.0: 176.62646513724633,\n",
       "   168.0: 145.5654587506578,\n",
       "   192.0: 127.47422740079796,\n",
       "   216.0: 87.08773489898645,\n",
       "   240.0: 86.43085836004781,\n",
       "   264.0: 82.5607708164169,\n",
       "   288.0: 91.12843640671653,\n",
       "   312.0: 25.39152621793045,\n",
       "   336.0: 31.43813727092272,\n",
       "   360.0: 30.014877044634154,\n",
       "   384.0: 32.56976114744152},\n",
       "  'x5_noise': {0.0: 0.1829303329915451,\n",
       "   24.0: 0.2642543734880453,\n",
       "   48.0: 0.4796884286329748,\n",
       "   72.0: 0.7187906455970097,\n",
       "   96.0: 1.063752297172303,\n",
       "   120.0: 1.2711805348866871,\n",
       "   144.0: 1.3245106427604163,\n",
       "   168.0: 1.3935472587528235,\n",
       "   192.0: 1.3098497151920687,\n",
       "   216.0: 1.3252829612549555,\n",
       "   240.0: 1.4427069278471727,\n",
       "   264.0: 1.4507651617142732,\n",
       "   288.0: 1.3605034330192258,\n",
       "   312.0: 1.4671887759638982,\n",
       "   336.0: 1.4195368876191146,\n",
       "   360.0: 1.3307318640730346,\n",
       "   384.0: 1.351216951744097},\n",
       "  'n5_noise': {0.0: 154.88439028616767,\n",
       "   24.0: 256.45509089620776,\n",
       "   48.0: 303.6509814129087,\n",
       "   72.0: 286.6411614053214,\n",
       "   96.0: 214.45759175436072,\n",
       "   120.0: 201.29496951817302,\n",
       "   144.0: 159.38732381172622,\n",
       "   168.0: 128.57878773560032,\n",
       "   192.0: 117.34652391992036,\n",
       "   216.0: 133.56706336078025,\n",
       "   240.0: 129.2917095927601,\n",
       "   264.0: 129.45514157261104,\n",
       "   288.0: 122.74287190313746,\n",
       "   312.0: 113.00196524091777,\n",
       "   336.0: 111.55963601902273,\n",
       "   360.0: 124.39121273356524,\n",
       "   384.0: 115.40627961321803},\n",
       "  'x6_noise': {0.0: 0.11719059035808888,\n",
       "   24.0: 0.21195965846504122,\n",
       "   48.0: 0.4379766709061196,\n",
       "   72.0: 0.7388841693868092,\n",
       "   96.0: 1.1930282615206005,\n",
       "   120.0: 1.4951357903163278,\n",
       "   144.0: 1.611950381141504,\n",
       "   168.0: 1.4800059609119078,\n",
       "   192.0: 1.2881167242120486,\n",
       "   216.0: 1.4169885787351677,\n",
       "   240.0: 1.357615469664784,\n",
       "   264.0: 1.3960022186551575,\n",
       "   288.0: 1.3849071745226853,\n",
       "   312.0: 1.4704988300745712,\n",
       "   336.0: 1.3542505652926053,\n",
       "   360.0: 1.3688001441380508,\n",
       "   384.0: 1.2265239467931872},\n",
       "  'n6_noise': {0.0: 196.9007298313769,\n",
       "   24.0: 390.0776645522668,\n",
       "   48.0: 524.9155450190148,\n",
       "   72.0: 538.1720905660644,\n",
       "   96.0: 386.54085632082445,\n",
       "   120.0: 187.36173363568486,\n",
       "   144.0: 111.66346804479893,\n",
       "   168.0: 119.28953539912023,\n",
       "   192.0: 110.17753904621996,\n",
       "   216.0: 132.1773800639215,\n",
       "   240.0: 128.53172613017867,\n",
       "   264.0: 141.01893336796303,\n",
       "   288.0: 121.57223743521091,\n",
       "   312.0: 111.89843625540998,\n",
       "   336.0: 125.94962043006613,\n",
       "   360.0: 127.47047268263444,\n",
       "   384.0: 127.10847089716538}}}"
      ]
     },
     "execution_count": 26,
     "metadata": {},
     "output_type": "execute_result"
    }
   ],
   "source": [
    "data_init"
   ]
  },
  {
   "cell_type": "code",
   "execution_count": 27,
   "metadata": {},
   "outputs": [
    {
     "data": {
      "text/plain": [
       "array([[1.00000000e-01, 1.00000000e+02],\n",
       "       [1.50000000e-01, 1.50000000e+02],\n",
       "       [1.75000000e-01, 1.25000000e+02],\n",
       "       [1.25000000e-01, 1.75000000e+02],\n",
       "       [1.82930333e-01, 1.54884390e+02],\n",
       "       [1.17190590e-01, 1.96900730e+02]])"
      ]
     },
     "execution_count": 27,
     "metadata": {},
     "output_type": "execute_result"
    }
   ],
   "source": [
    "operation_con"
   ]
  },
  {
   "cell_type": "code",
   "execution_count": 29,
   "metadata": {},
   "outputs": [
    {
     "name": "stdout",
     "output_type": "stream",
     "text": [
      "File saved at: tmp/xobs1.pkl\n",
      "File saved at: tmp/xobs2.pkl\n",
      "File saved at: tmp/xobs3.pkl\n",
      "File saved at: tmp/xobs4.pkl\n",
      "File saved at: tmp/xobs5.pkl\n",
      "File saved at: tmp/xobs6.pkl\n",
      "File saved at: tmp/Fcn.pkl\n",
      "File saved at: tmp/tf_N.pkl\n",
      "File saved at: tmp/operation_con.pkl\n",
      "File saved at: tmp/tt1.pkl\n",
      "File saved at: tmp/std_value1.pkl\n",
      "File saved at: tmp/std_value2.pkl\n",
      "File saved at: tmp/std_value3.pkl\n",
      "File saved at: tmp/std_value4.pkl\n",
      "File saved at: tmp/std_value5.pkl\n",
      "File saved at: tmp/std_value6.pkl\n",
      "File saved at: tmp/data_init.pkl\n"
     ]
    }
   ],
   "source": [
    "save_pkl(xobs1,'xobs1.pkl')\n",
    "save_pkl(xobs2,'xobs2.pkl')\n",
    "save_pkl(xobs3,'xobs3.pkl')\n",
    "save_pkl(xobs4,'xobs4.pkl')\n",
    "save_pkl(xobs5,'xobs5.pkl')\n",
    "save_pkl(xobs6,'xobs6.pkl')\n",
    "save_pkl(Fcn,'Fcn.pkl')\n",
    "save_pkl(tf_N,'tf_N.pkl')\n",
    "save_pkl(operation_con,'operation_con.pkl')\n",
    "# save_pkl(I0_range,'I0_range.pkl')\n",
    "\n",
    "save_pkl(t,'tt1.pkl')\n",
    "save_pkl(std_value1,'std_value1.pkl')\n",
    "save_pkl(std_value2,'std_value2.pkl')\n",
    "save_pkl(std_value3,'std_value3.pkl')\n",
    "save_pkl(std_value4,'std_value4.pkl')\n",
    "save_pkl(std_value5,'std_value5.pkl')\n",
    "save_pkl(std_value6,'std_value6.pkl')\n",
    "save_pkl(data_init,'data_init.pkl')\n"
   ]
  },
  {
   "cell_type": "code",
   "execution_count": 30,
   "metadata": {},
   "outputs": [
    {
     "data": {
      "text/plain": [
       "array([[1.00000000e-01, 1.00000000e+02],\n",
       "       [1.50000000e-01, 1.50000000e+02],\n",
       "       [1.75000000e-01, 1.25000000e+02],\n",
       "       [1.25000000e-01, 1.75000000e+02],\n",
       "       [1.82930333e-01, 1.54884390e+02],\n",
       "       [1.17190590e-01, 1.96900730e+02]])"
      ]
     },
     "execution_count": 30,
     "metadata": {},
     "output_type": "execute_result"
    }
   ],
   "source": [
    "operation_con"
   ]
  },
  {
   "cell_type": "code",
   "execution_count": 31,
   "metadata": {},
   "outputs": [
    {
     "data": {
      "text/plain": [
       "array([[[1.        ],\n",
       "        [5.5       ],\n",
       "        [7.75      ],\n",
       "        [3.25      ]],\n",
       "\n",
       "       [[4.375     ],\n",
       "        [8.875     ],\n",
       "        [6.625     ],\n",
       "        [2.125     ]],\n",
       "\n",
       "       [[2.6875    ],\n",
       "        [7.1875    ],\n",
       "        [9.4375    ],\n",
       "        [4.9375    ]],\n",
       "\n",
       "       [[3.8125    ],\n",
       "        [8.3125    ],\n",
       "        [6.0625    ],\n",
       "        [1.5625    ]],\n",
       "\n",
       "       [[6.42037903],\n",
       "        [9.99223432],\n",
       "        [9.9582475 ],\n",
       "        [8.72956481]],\n",
       "\n",
       "       [[9.96738343],\n",
       "        [9.5595471 ],\n",
       "        [9.96252073],\n",
       "        [9.79194747]]])"
      ]
     },
     "execution_count": 31,
     "metadata": {},
     "output_type": "execute_result"
    }
   ],
   "source": [
    "Fcn"
   ]
  },
  {
   "cell_type": "code",
   "execution_count": null,
   "metadata": {},
   "outputs": [],
   "source": []
  }
 ],
 "metadata": {
  "kernelspec": {
   "display_name": "Python 3.9.9 ('env')",
   "language": "python",
   "name": "python3"
  },
  "language_info": {
   "codemirror_mode": {
    "name": "ipython",
    "version": 3
   },
   "file_extension": ".py",
   "mimetype": "text/x-python",
   "name": "python",
   "nbconvert_exporter": "python",
   "pygments_lexer": "ipython3",
   "version": "3.9.9"
  },
  "orig_nbformat": 4,
  "vscode": {
   "interpreter": {
    "hash": "0b975ef14a7c349b5b53fa51dcf9e0d25501f9719e727a1ab429ed23704c47f1"
   }
  }
 },
 "nbformat": 4,
 "nbformat_minor": 2
}
