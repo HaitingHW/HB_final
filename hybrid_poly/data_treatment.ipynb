{
 "cells": [
  {
   "cell_type": "code",
   "execution_count": 43,
   "metadata": {},
   "outputs": [],
   "source": [
    "import os\n",
    "import pickle\n",
    "import pandas as pd\n",
    "import pathlib\n",
    "try:\n",
    "    path = pathlib.Path(__file__).parent.resolve()\n",
    "except NameError:\n",
    "    path = pathlib.Path().resolve()\n",
    "\n",
    "def save_pkl(item, fname):\n",
    "    sn = fname\n",
    "    with open(sn, 'wb') as handle:\n",
    "        pickle.dump(item, handle) #, protocol=pickle.HIGHEST_PROTOCOL)\n",
    "    print(f'File saved at: {sn}')\n",
    "    return None\n",
    "# return None\n",
    "\n",
    "def load_pkl(fname):\n",
    "    with open(fname, 'rb') as handle:\n",
    "        ans = pickle.load(handle)\n",
    "    # print(f'Loaded from: {fname}')\n",
    "    return ans\n",
    "\n",
    "def get_folders(char = 'tmp'):\n",
    "    dirlist = os.listdir(path = path)\n",
    "    folders = []\n",
    "    for i in dirlist:\n",
    "        if char in i:\n",
    "            folders.append(i)\n",
    "    return folders\n",
    "\n",
    "def get_df(folder):\n",
    "    files = os.listdir(path = folder)\n",
    "    file = files[0]\n",
    "    df_list = []\n",
    "    for file in files:\n",
    "        try:\n",
    "            df_list.append(pd.concat(load_pkl(folder + '/' + file)))\n",
    "        except ValueError:\n",
    "            print(f\"!!!!!!! WARNING WARNING: {folder + '/' + file} is EMPTY !!!!!!!\")\n",
    "            pass\n",
    "    # df = pd.concat([pd.concat(load_pkl(folder + '/' + file)) for file in files]).reset_index(drop = True)\n",
    "    try:\n",
    "        df = pd.concat(df_list).reset_index(drop = True)\n",
    "    except ValueError:\n",
    "        df = None\n",
    "        print(f'!!!!! WARNING WARNING: {folder} is EMPTY !!!!!')\n",
    "    return df\n",
    "\n",
    "def get_minimums(char = 'tmp'):\n",
    "    folders = get_folders(char)\n",
    "\n",
    "    results = {}\n",
    "    for i in folders:\n",
    "        results[i] = get_df(i)\n",
    "\n",
    "    keys = list(results.keys())\n",
    "\n",
    "    minimums = {}\n",
    "    for k in keys:\n",
    "        try:\n",
    "            df = results[k]\n",
    "            minimums[k] = df[df['obj'] == df['obj'].min()]\n",
    "        except TypeError:\n",
    "            minimums[k] = None\n",
    "            print(f'{k} is empty.')\n",
    "    return minimums"
   ]
  },
  {
   "cell_type": "code",
   "execution_count": 44,
   "metadata": {},
   "outputs": [],
   "source": [
    "import numpy as np\n",
    "import random\n",
    "import scipy.integrate as scp\n",
    "import numpy.random as rnd\n",
    "import time\n",
    "import matplotlib.pyplot as plt\n",
    "import numpy.random as rnd\n",
    "import copy\n",
    "from matplotlib.pyplot import figure\n",
    "from pyomo.environ import *\n",
    "from pyomo.dae import *\n",
    "import pandas as pd\n",
    "import pickle\n",
    "import scipy.stats\n",
    "from math import comb"
   ]
  },
  {
   "cell_type": "code",
   "execution_count": 45,
   "metadata": {},
   "outputs": [],
   "source": [
    "dirlist = os.listdir(path = path)"
   ]
  },
  {
   "cell_type": "code",
   "execution_count": 46,
   "metadata": {},
   "outputs": [
    {
     "data": {
      "text/plain": [
       "['1_1.pbs',\n",
       " '1_1.py',\n",
       " '1_2.pbs',\n",
       " '1_2.py',\n",
       " '1_3.pbs',\n",
       " '1_3.py',\n",
       " '1_4.pbs',\n",
       " '1_4.py',\n",
       " '1_5.pbs',\n",
       " '1_5.py',\n",
       " '1_6.pbs',\n",
       " '1_6.py',\n",
       " '1_7.pbs',\n",
       " '1_7.py',\n",
       " '1_8.pbs',\n",
       " '1_8.py',\n",
       " 'data',\n",
       " 'data_gen_fedbatch_4exp.ipynb',\n",
       " 'data_treatment.ipynb',\n",
       " 'input1',\n",
       " 'input2',\n",
       " 'input3',\n",
       " 'input4',\n",
       " 'input5',\n",
       " 'input6',\n",
       " 'input7',\n",
       " 'input8',\n",
       " 'make_folder.ipynb',\n",
       " 'model selection round2.svg',\n",
       " 'prep_inputs.ipynb',\n",
       " 'tmp1',\n",
       " 'tmp2',\n",
       " 'tmp3',\n",
       " 'tmp4',\n",
       " 'tmp5',\n",
       " 'tmp6',\n",
       " 'tmp7',\n",
       " 'tmp8']"
      ]
     },
     "execution_count": 46,
     "metadata": {},
     "output_type": "execute_result"
    }
   ],
   "source": [
    "dirlist"
   ]
  },
  {
   "cell_type": "code",
   "execution_count": 47,
   "metadata": {},
   "outputs": [],
   "source": [
    "xobs1 = load_pkl('data/xobs1.pkl')\n",
    "xobs2 = load_pkl('data/xobs2.pkl')\n",
    "xobs3 = load_pkl('data/xobs3.pkl')\n",
    "xobs4 = load_pkl('data/xobs4.pkl')\n",
    "Fcn   = load_pkl('data/Fcn.pkl')\n",
    "tf_N  = load_pkl('data/tf_N.pkl')\n",
    "operation_con = load_pkl('data/operation_con.pkl')\n",
    "\n",
    "tt1 = load_pkl('data/tt1.pkl')\n",
    "std_value1 = load_pkl('data/std_value1.pkl')\n",
    "std_value2 = load_pkl('data/std_value2.pkl')\n",
    "std_value3 = load_pkl('data/std_value3.pkl')\n",
    "std_value4 = load_pkl('data/std_value4.pkl')\n",
    "data_init = load_pkl('data/data_init.pkl')\n",
    "\n",
    "operation_con1 = operation_con[0]\n",
    "operation_con2 = operation_con[1]\n",
    "operation_con3 = operation_con[2]\n",
    "operation_con4 = operation_con[3]\n",
    "\n",
    "Fcn1 = Fcn[0] \n",
    "Fcn2 = Fcn[1]\n",
    "Fcn3 = Fcn[2]  \n",
    "Fcn4 = Fcn[3]\n",
    "\n",
    "tf    = 16.*24.\n",
    "steps_= 16\n",
    "dt    = tf/steps_\n",
    "\n",
    "\n",
    "num_N = 4\n",
    "tf_N  = tf/(num_N)\n",
    "dstep_N = int(tf_N/dt)\n"
   ]
  },
  {
   "cell_type": "code",
   "execution_count": 48,
   "metadata": {},
   "outputs": [
    {
     "data": {
      "text/plain": [
       "array([[1.00e-01, 1.00e+02],\n",
       "       [1.50e-01, 1.50e+02],\n",
       "       [1.75e-01, 1.25e+02],\n",
       "       [1.25e-01, 1.75e+02]])"
      ]
     },
     "execution_count": 48,
     "metadata": {},
     "output_type": "execute_result"
    }
   ],
   "source": [
    "operation_con"
   ]
  },
  {
   "cell_type": "code",
   "execution_count": 49,
   "metadata": {},
   "outputs": [
    {
     "name": "stdout",
     "output_type": "stream",
     "text": [
      "!!!!!!! WARNING WARNING: tmp1/output.10 is EMPTY !!!!!!!\n",
      "!!!!!!! WARNING WARNING: tmp1/output.11 is EMPTY !!!!!!!\n",
      "!!!!!!! WARNING WARNING: tmp1/output.12 is EMPTY !!!!!!!\n",
      "!!!!!!! WARNING WARNING: tmp1/output.13 is EMPTY !!!!!!!\n",
      "!!!!!!! WARNING WARNING: tmp1/output.14 is EMPTY !!!!!!!\n",
      "!!!!!!! WARNING WARNING: tmp1/output.15 is EMPTY !!!!!!!\n",
      "!!!!!!! WARNING WARNING: tmp1/output.18 is EMPTY !!!!!!!\n",
      "!!!!!!! WARNING WARNING: tmp1/output.22 is EMPTY !!!!!!!\n",
      "!!!!!!! WARNING WARNING: tmp1/output.23 is EMPTY !!!!!!!\n",
      "!!!!!!! WARNING WARNING: tmp1/output.24 is EMPTY !!!!!!!\n",
      "!!!!!!! WARNING WARNING: tmp1/output.25 is EMPTY !!!!!!!\n",
      "!!!!!!! WARNING WARNING: tmp1/output.26 is EMPTY !!!!!!!\n",
      "!!!!!!! WARNING WARNING: tmp1/output.27 is EMPTY !!!!!!!\n",
      "!!!!!!! WARNING WARNING: tmp1/output.28 is EMPTY !!!!!!!\n",
      "!!!!!!! WARNING WARNING: tmp1/output.29 is EMPTY !!!!!!!\n",
      "!!!!!!! WARNING WARNING: tmp1/output.3 is EMPTY !!!!!!!\n",
      "!!!!!!! WARNING WARNING: tmp1/output.30 is EMPTY !!!!!!!\n",
      "!!!!!!! WARNING WARNING: tmp1/output.32 is EMPTY !!!!!!!\n",
      "!!!!!!! WARNING WARNING: tmp1/output.33 is EMPTY !!!!!!!\n",
      "!!!!!!! WARNING WARNING: tmp1/output.34 is EMPTY !!!!!!!\n",
      "!!!!!!! WARNING WARNING: tmp1/output.37 is EMPTY !!!!!!!\n",
      "!!!!!!! WARNING WARNING: tmp1/output.38 is EMPTY !!!!!!!\n",
      "!!!!!!! WARNING WARNING: tmp1/output.39 is EMPTY !!!!!!!\n",
      "!!!!!!! WARNING WARNING: tmp1/output.4 is EMPTY !!!!!!!\n",
      "!!!!!!! WARNING WARNING: tmp1/output.41 is EMPTY !!!!!!!\n",
      "!!!!!!! WARNING WARNING: tmp1/output.43 is EMPTY !!!!!!!\n",
      "!!!!!!! WARNING WARNING: tmp1/output.44 is EMPTY !!!!!!!\n",
      "!!!!!!! WARNING WARNING: tmp1/output.45 is EMPTY !!!!!!!\n",
      "!!!!!!! WARNING WARNING: tmp1/output.46 is EMPTY !!!!!!!\n",
      "!!!!!!! WARNING WARNING: tmp1/output.47 is EMPTY !!!!!!!\n",
      "!!!!!!! WARNING WARNING: tmp1/output.49 is EMPTY !!!!!!!\n",
      "!!!!!!! WARNING WARNING: tmp1/output.50 is EMPTY !!!!!!!\n",
      "!!!!!!! WARNING WARNING: tmp1/output.9 is EMPTY !!!!!!!\n",
      "!!!!!!! WARNING WARNING: tmp2/output.10 is EMPTY !!!!!!!\n",
      "!!!!!!! WARNING WARNING: tmp2/output.14 is EMPTY !!!!!!!\n",
      "!!!!!!! WARNING WARNING: tmp2/output.17 is EMPTY !!!!!!!\n",
      "!!!!!!! WARNING WARNING: tmp2/output.18 is EMPTY !!!!!!!\n",
      "!!!!!!! WARNING WARNING: tmp2/output.20 is EMPTY !!!!!!!\n",
      "!!!!!!! WARNING WARNING: tmp2/output.22 is EMPTY !!!!!!!\n",
      "!!!!!!! WARNING WARNING: tmp2/output.23 is EMPTY !!!!!!!\n",
      "!!!!!!! WARNING WARNING: tmp2/output.24 is EMPTY !!!!!!!\n",
      "!!!!!!! WARNING WARNING: tmp2/output.25 is EMPTY !!!!!!!\n",
      "!!!!!!! WARNING WARNING: tmp2/output.26 is EMPTY !!!!!!!\n",
      "!!!!!!! WARNING WARNING: tmp2/output.27 is EMPTY !!!!!!!\n",
      "!!!!!!! WARNING WARNING: tmp2/output.28 is EMPTY !!!!!!!\n",
      "!!!!!!! WARNING WARNING: tmp2/output.29 is EMPTY !!!!!!!\n",
      "!!!!!!! WARNING WARNING: tmp2/output.30 is EMPTY !!!!!!!\n",
      "!!!!!!! WARNING WARNING: tmp2/output.32 is EMPTY !!!!!!!\n",
      "!!!!!!! WARNING WARNING: tmp2/output.33 is EMPTY !!!!!!!\n",
      "!!!!!!! WARNING WARNING: tmp2/output.34 is EMPTY !!!!!!!\n",
      "!!!!!!! WARNING WARNING: tmp2/output.37 is EMPTY !!!!!!!\n",
      "!!!!!!! WARNING WARNING: tmp2/output.38 is EMPTY !!!!!!!\n",
      "!!!!!!! WARNING WARNING: tmp2/output.39 is EMPTY !!!!!!!\n",
      "!!!!!!! WARNING WARNING: tmp2/output.41 is EMPTY !!!!!!!\n",
      "!!!!!!! WARNING WARNING: tmp2/output.43 is EMPTY !!!!!!!\n",
      "!!!!!!! WARNING WARNING: tmp2/output.44 is EMPTY !!!!!!!\n",
      "!!!!!!! WARNING WARNING: tmp2/output.45 is EMPTY !!!!!!!\n",
      "!!!!!!! WARNING WARNING: tmp2/output.46 is EMPTY !!!!!!!\n",
      "!!!!!!! WARNING WARNING: tmp2/output.47 is EMPTY !!!!!!!\n",
      "!!!!!!! WARNING WARNING: tmp2/output.49 is EMPTY !!!!!!!\n",
      "!!!!!!! WARNING WARNING: tmp2/output.5 is EMPTY !!!!!!!\n",
      "!!!!!!! WARNING WARNING: tmp2/output.50 is EMPTY !!!!!!!\n",
      "!!!!!!! WARNING WARNING: tmp2/output.7 is EMPTY !!!!!!!\n",
      "!!!!!!! WARNING WARNING: tmp2/output.9 is EMPTY !!!!!!!\n",
      "!!!!!!! WARNING WARNING: tmp3/output.10 is EMPTY !!!!!!!\n",
      "!!!!!!! WARNING WARNING: tmp3/output.11 is EMPTY !!!!!!!\n",
      "!!!!!!! WARNING WARNING: tmp3/output.12 is EMPTY !!!!!!!\n",
      "!!!!!!! WARNING WARNING: tmp3/output.13 is EMPTY !!!!!!!\n",
      "!!!!!!! WARNING WARNING: tmp3/output.14 is EMPTY !!!!!!!\n",
      "!!!!!!! WARNING WARNING: tmp3/output.15 is EMPTY !!!!!!!\n",
      "!!!!!!! WARNING WARNING: tmp3/output.18 is EMPTY !!!!!!!\n",
      "!!!!!!! WARNING WARNING: tmp3/output.2 is EMPTY !!!!!!!\n",
      "!!!!!!! WARNING WARNING: tmp3/output.22 is EMPTY !!!!!!!\n",
      "!!!!!!! WARNING WARNING: tmp3/output.23 is EMPTY !!!!!!!\n",
      "!!!!!!! WARNING WARNING: tmp3/output.24 is EMPTY !!!!!!!\n",
      "!!!!!!! WARNING WARNING: tmp3/output.25 is EMPTY !!!!!!!\n",
      "!!!!!!! WARNING WARNING: tmp3/output.26 is EMPTY !!!!!!!\n",
      "!!!!!!! WARNING WARNING: tmp3/output.27 is EMPTY !!!!!!!\n",
      "!!!!!!! WARNING WARNING: tmp3/output.28 is EMPTY !!!!!!!\n",
      "!!!!!!! WARNING WARNING: tmp3/output.29 is EMPTY !!!!!!!\n",
      "!!!!!!! WARNING WARNING: tmp3/output.3 is EMPTY !!!!!!!\n",
      "!!!!!!! WARNING WARNING: tmp3/output.30 is EMPTY !!!!!!!\n",
      "!!!!!!! WARNING WARNING: tmp3/output.32 is EMPTY !!!!!!!\n",
      "!!!!!!! WARNING WARNING: tmp3/output.33 is EMPTY !!!!!!!\n",
      "!!!!!!! WARNING WARNING: tmp3/output.34 is EMPTY !!!!!!!\n",
      "!!!!!!! WARNING WARNING: tmp3/output.37 is EMPTY !!!!!!!\n",
      "!!!!!!! WARNING WARNING: tmp3/output.38 is EMPTY !!!!!!!\n",
      "!!!!!!! WARNING WARNING: tmp3/output.39 is EMPTY !!!!!!!\n",
      "!!!!!!! WARNING WARNING: tmp3/output.4 is EMPTY !!!!!!!\n",
      "!!!!!!! WARNING WARNING: tmp3/output.41 is EMPTY !!!!!!!\n",
      "!!!!!!! WARNING WARNING: tmp3/output.43 is EMPTY !!!!!!!\n",
      "!!!!!!! WARNING WARNING: tmp3/output.44 is EMPTY !!!!!!!\n",
      "!!!!!!! WARNING WARNING: tmp3/output.45 is EMPTY !!!!!!!\n",
      "!!!!!!! WARNING WARNING: tmp3/output.46 is EMPTY !!!!!!!\n",
      "!!!!!!! WARNING WARNING: tmp3/output.47 is EMPTY !!!!!!!\n",
      "!!!!!!! WARNING WARNING: tmp3/output.49 is EMPTY !!!!!!!\n",
      "!!!!!!! WARNING WARNING: tmp3/output.50 is EMPTY !!!!!!!\n",
      "!!!!!!! WARNING WARNING: tmp3/output.9 is EMPTY !!!!!!!\n",
      "!!!!!!! WARNING WARNING: tmp4/output.10 is EMPTY !!!!!!!\n",
      "!!!!!!! WARNING WARNING: tmp4/output.17 is EMPTY !!!!!!!\n",
      "!!!!!!! WARNING WARNING: tmp4/output.25 is EMPTY !!!!!!!\n",
      "!!!!!!! WARNING WARNING: tmp4/output.28 is EMPTY !!!!!!!\n",
      "!!!!!!! WARNING WARNING: tmp4/output.33 is EMPTY !!!!!!!\n",
      "!!!!!!! WARNING WARNING: tmp4/output.34 is EMPTY !!!!!!!\n",
      "!!!!!!! WARNING WARNING: tmp4/output.35 is EMPTY !!!!!!!\n",
      "!!!!!!! WARNING WARNING: tmp4/output.36 is EMPTY !!!!!!!\n",
      "!!!!!!! WARNING WARNING: tmp4/output.44 is EMPTY !!!!!!!\n",
      "!!!!!!! WARNING WARNING: tmp4/output.45 is EMPTY !!!!!!!\n",
      "!!!!!!! WARNING WARNING: tmp4/output.47 is EMPTY !!!!!!!\n",
      "!!!!!!! WARNING WARNING: tmp4/output.51 is EMPTY !!!!!!!\n",
      "!!!!!!! WARNING WARNING: tmp4/output.52 is EMPTY !!!!!!!\n",
      "!!!!!!! WARNING WARNING: tmp4/output.55 is EMPTY !!!!!!!\n",
      "!!!!!!! WARNING WARNING: tmp4/output.56 is EMPTY !!!!!!!\n",
      "!!!!!!! WARNING WARNING: tmp4/output.57 is EMPTY !!!!!!!\n",
      "!!!!!!! WARNING WARNING: tmp4/output.59 is EMPTY !!!!!!!\n",
      "!!!!!!! WARNING WARNING: tmp4/output.61 is EMPTY !!!!!!!\n",
      "!!!!!!! WARNING WARNING: tmp4/output.62 is EMPTY !!!!!!!\n",
      "!!!!!!! WARNING WARNING: tmp4/output.63 is EMPTY !!!!!!!\n",
      "!!!!!!! WARNING WARNING: tmp4/output.68 is EMPTY !!!!!!!\n",
      "!!!!!!! WARNING WARNING: tmp4/output.70 is EMPTY !!!!!!!\n",
      "!!!!!!! WARNING WARNING: tmp5/output.1 is EMPTY !!!!!!!\n",
      "!!!!!!! WARNING WARNING: tmp5/output.27 is EMPTY !!!!!!!\n",
      "!!!!!!! WARNING WARNING: tmp5/output.31 is EMPTY !!!!!!!\n",
      "!!!!!!! WARNING WARNING: tmp5/output.32 is EMPTY !!!!!!!\n",
      "!!!!!!! WARNING WARNING: tmp5/output.43 is EMPTY !!!!!!!\n",
      "!!!!!!! WARNING WARNING: tmp5/output.48 is EMPTY !!!!!!!\n",
      "!!!!!!! WARNING WARNING: tmp5/output.50 is EMPTY !!!!!!!\n",
      "!!!!!!! WARNING WARNING: tmp5/output.6 is EMPTY !!!!!!!\n",
      "!!!!!!! WARNING WARNING: tmp5/output.61 is EMPTY !!!!!!!\n",
      "!!!!!!! WARNING WARNING: tmp5/output.62 is EMPTY !!!!!!!\n",
      "!!!!!!! WARNING WARNING: tmp5/output.64 is EMPTY !!!!!!!\n",
      "!!!!!!! WARNING WARNING: tmp5/output.67 is EMPTY !!!!!!!\n",
      "!!!!!!! WARNING WARNING: tmp5/output.70 is EMPTY !!!!!!!\n",
      "!!!!!!! WARNING WARNING: tmp7/output.22 is EMPTY !!!!!!!\n",
      "!!!!!!! WARNING WARNING: tmp7/output.23 is EMPTY !!!!!!!\n",
      "!!!!!!! WARNING WARNING: tmp7/output.24 is EMPTY !!!!!!!\n",
      "!!!!!!! WARNING WARNING: tmp7/output.25 is EMPTY !!!!!!!\n",
      "!!!!!!! WARNING WARNING: tmp7/output.26 is EMPTY !!!!!!!\n",
      "!!!!!!! WARNING WARNING: tmp7/output.27 is EMPTY !!!!!!!\n",
      "!!!!!!! WARNING WARNING: tmp7/output.28 is EMPTY !!!!!!!\n",
      "!!!!!!! WARNING WARNING: tmp7/output.29 is EMPTY !!!!!!!\n",
      "!!!!!!! WARNING WARNING: tmp7/output.30 is EMPTY !!!!!!!\n",
      "!!!!!!! WARNING WARNING: tmp7/output.32 is EMPTY !!!!!!!\n",
      "!!!!!!! WARNING WARNING: tmp7/output.33 is EMPTY !!!!!!!\n",
      "!!!!!!! WARNING WARNING: tmp7/output.34 is EMPTY !!!!!!!\n",
      "!!!!!!! WARNING WARNING: tmp7/output.37 is EMPTY !!!!!!!\n",
      "!!!!!!! WARNING WARNING: tmp7/output.38 is EMPTY !!!!!!!\n",
      "!!!!!!! WARNING WARNING: tmp7/output.39 is EMPTY !!!!!!!\n",
      "!!!!!!! WARNING WARNING: tmp7/output.41 is EMPTY !!!!!!!\n",
      "!!!!!!! WARNING WARNING: tmp7/output.43 is EMPTY !!!!!!!\n",
      "!!!!!!! WARNING WARNING: tmp7/output.44 is EMPTY !!!!!!!\n",
      "!!!!!!! WARNING WARNING: tmp7/output.45 is EMPTY !!!!!!!\n",
      "!!!!!!! WARNING WARNING: tmp7/output.46 is EMPTY !!!!!!!\n",
      "!!!!!!! WARNING WARNING: tmp7/output.47 is EMPTY !!!!!!!\n",
      "!!!!!!! WARNING WARNING: tmp7/output.49 is EMPTY !!!!!!!\n",
      "!!!!!!! WARNING WARNING: tmp7/output.50 is EMPTY !!!!!!!\n",
      "!!!!!!! WARNING WARNING: tmp8/output.10 is EMPTY !!!!!!!\n",
      "!!!!!!! WARNING WARNING: tmp8/output.11 is EMPTY !!!!!!!\n",
      "!!!!!!! WARNING WARNING: tmp8/output.12 is EMPTY !!!!!!!\n",
      "!!!!!!! WARNING WARNING: tmp8/output.13 is EMPTY !!!!!!!\n",
      "!!!!!!! WARNING WARNING: tmp8/output.14 is EMPTY !!!!!!!\n",
      "!!!!!!! WARNING WARNING: tmp8/output.15 is EMPTY !!!!!!!\n",
      "!!!!!!! WARNING WARNING: tmp8/output.18 is EMPTY !!!!!!!\n",
      "!!!!!!! WARNING WARNING: tmp8/output.22 is EMPTY !!!!!!!\n",
      "!!!!!!! WARNING WARNING: tmp8/output.23 is EMPTY !!!!!!!\n",
      "!!!!!!! WARNING WARNING: tmp8/output.24 is EMPTY !!!!!!!\n",
      "!!!!!!! WARNING WARNING: tmp8/output.25 is EMPTY !!!!!!!\n",
      "!!!!!!! WARNING WARNING: tmp8/output.26 is EMPTY !!!!!!!\n",
      "!!!!!!! WARNING WARNING: tmp8/output.27 is EMPTY !!!!!!!\n",
      "!!!!!!! WARNING WARNING: tmp8/output.28 is EMPTY !!!!!!!\n",
      "!!!!!!! WARNING WARNING: tmp8/output.29 is EMPTY !!!!!!!\n",
      "!!!!!!! WARNING WARNING: tmp8/output.30 is EMPTY !!!!!!!\n",
      "!!!!!!! WARNING WARNING: tmp8/output.32 is EMPTY !!!!!!!\n",
      "!!!!!!! WARNING WARNING: tmp8/output.33 is EMPTY !!!!!!!\n",
      "!!!!!!! WARNING WARNING: tmp8/output.34 is EMPTY !!!!!!!\n",
      "!!!!!!! WARNING WARNING: tmp8/output.37 is EMPTY !!!!!!!\n",
      "!!!!!!! WARNING WARNING: tmp8/output.38 is EMPTY !!!!!!!\n",
      "!!!!!!! WARNING WARNING: tmp8/output.39 is EMPTY !!!!!!!\n",
      "!!!!!!! WARNING WARNING: tmp8/output.41 is EMPTY !!!!!!!\n",
      "!!!!!!! WARNING WARNING: tmp8/output.43 is EMPTY !!!!!!!\n",
      "!!!!!!! WARNING WARNING: tmp8/output.44 is EMPTY !!!!!!!\n",
      "!!!!!!! WARNING WARNING: tmp8/output.45 is EMPTY !!!!!!!\n",
      "!!!!!!! WARNING WARNING: tmp8/output.46 is EMPTY !!!!!!!\n",
      "!!!!!!! WARNING WARNING: tmp8/output.47 is EMPTY !!!!!!!\n",
      "!!!!!!! WARNING WARNING: tmp8/output.49 is EMPTY !!!!!!!\n",
      "!!!!!!! WARNING WARNING: tmp8/output.50 is EMPTY !!!!!!!\n",
      "!!!!!!! WARNING WARNING: tmp8/output.9 is EMPTY !!!!!!!\n"
     ]
    }
   ],
   "source": [
    "minimums = get_minimums()\n",
    "# save_pkl(minimums, 'minimums.pkl')"
   ]
  },
  {
   "cell_type": "code",
   "execution_count": 50,
   "metadata": {},
   "outputs": [
    {
     "name": "stdout",
     "output_type": "stream",
     "text": [
      "tmp1 368.5414242372174\n",
      "tmp2 368.5414242372174\n",
      "tmp3 368.5414242372174\n",
      "tmp4 365.7619316053787\n",
      "tmp5 381.46976453146874\n",
      "tmp6 352.4251079305388\n",
      "tmp7 351.72070688613576\n",
      "tmp8 351.46912214878563\n"
     ]
    }
   ],
   "source": [
    "for k in list(minimums.keys()):\n",
    "    print(k, minimums[k]['obj'].iloc[0])"
   ]
  },
  {
   "cell_type": "code",
   "execution_count": 51,
   "metadata": {},
   "outputs": [],
   "source": [
    "obj_list = [minimums['tmp1']['obj'].to_list()[0],minimums['tmp2']['obj'].to_list()[0],minimums['tmp3']['obj'].to_list()[0],minimums['tmp4']['obj'].to_list()[0],minimums['tmp5']['obj'].to_list()[0],minimums['tmp6']['obj'].to_list()[0],minimums['tmp7']['obj'].to_list()[0],minimums['tmp8']['obj'].to_list()[0]]\n",
    "\n",
    "#obj_list = [minimums['tmp2']['obj'].to_list()[0],minimums['tmp3']['obj'].to_list()[0],minimums['tmp4']['obj'].to_list()[0],minimums['tmp5']['obj'].to_list()[0],minimums['tmp6']['obj'].to_list()[0],minimums['tmp7']['obj'].to_list()[0],minimums['tmp8']['obj'].to_list()[0]]"
   ]
  },
  {
   "cell_type": "code",
   "execution_count": 52,
   "metadata": {},
   "outputs": [],
   "source": [
    "obj_list = np.array(obj_list)*0.5     # Correcting NegLogLike"
   ]
  },
  {
   "cell_type": "code",
   "execution_count": 53,
   "metadata": {},
   "outputs": [
    {
     "data": {
      "text/plain": [
       "array([184.27071212, 184.27071212, 184.27071212, 182.8809658 ,\n",
       "       190.73488227, 176.21255397, 175.86035344, 175.73456107])"
      ]
     },
     "execution_count": 53,
     "metadata": {},
     "output_type": "execute_result"
    }
   ],
   "source": [
    "obj_list"
   ]
  },
  {
   "cell_type": "code",
   "execution_count": 54,
   "metadata": {},
   "outputs": [],
   "source": [
    "std1 = (np.ones((xobs1.shape[0], xobs1.shape[1])).T*std_value1).T\n",
    "std2 = (np.ones((xobs2.shape[0], xobs2.shape[1])).T*std_value2).T\n",
    "std3 = (np.ones((xobs3.shape[0], xobs3.shape[1])).T*std_value3).T\n",
    "std4 = (np.ones((xobs4.shape[0], xobs4.shape[1])).T*std_value4).T"
   ]
  },
  {
   "cell_type": "code",
   "execution_count": 55,
   "metadata": {},
   "outputs": [],
   "source": [
    "def constantterm(std):\n",
    "    n_d = xobs1.shape[1]\n",
    " \n",
    "    sigma_term = np.sum(np.log(std**2*2*np.pi)*1/2)\n",
    "\n",
    "\n",
    "    return sigma_term,n_d"
   ]
  },
  {
   "cell_type": "code",
   "execution_count": 56,
   "metadata": {},
   "outputs": [],
   "source": [
    "sigma1,nd1 = constantterm(std1)\n",
    "sigma2,nd2 = constantterm(std2)\n",
    "sigma3,nd3 = constantterm(std3)\n",
    "sigma4,nd4 = constantterm(std4)\n",
    "\n",
    "x_max = np.max(np.array([xobs1[0],xobs2[0],xobs3[0],xobs4[0]]))\n",
    "n_max = np.max(np.array([xobs1[1],xobs2[1],xobs3[1],xobs4[1]]))\n"
   ]
  },
  {
   "cell_type": "code",
   "execution_count": 57,
   "metadata": {},
   "outputs": [],
   "source": [
    "sigma = sigma1+sigma2+sigma3+sigma4\n",
    "total_nd = nd1+nd2+nd3+nd4"
   ]
  },
  {
   "cell_type": "code",
   "execution_count": 58,
   "metadata": {},
   "outputs": [],
   "source": [
    "def AIC_obj(LS,sp):\n",
    "    NLL = LS+sigma\n",
    "    n_p = np.sum(sp)\n",
    "    AIC = (2*NLL) + 2*n_p\n",
    "\n",
    "    return AIC\n",
    "\n",
    "def BIC_obj(LS,sp):\n",
    "    NLL = LS+sigma\n",
    "    n_p = np.sum(sp)\n",
    "    BIC = (2*NLL) + (n_p*np.log(total_nd))\n",
    "\n",
    "    return BIC\n",
    "'''\n",
    "def HQC_obj(LS,sp):\n",
    "    NLL= LS+sigma\n",
    "    n_p = np.sum(sp)\n",
    "    HQC = (2*NLL) + 2*n_p*np.log(np.log(total_nd))\n",
    "\n",
    "    return HQC\n",
    "'''\n",
    "def AICC_obj(LS,sp):\n",
    "    NLL= LS+sigma\n",
    "    n_p = np.sum(sp)\n",
    "    AICc = (2*NLL) + 2*n_p + (2*n_p**2 + 2*n_p)/((total_nd) - n_p -1)\n",
    "\n",
    "    return AICc"
   ]
  },
  {
   "cell_type": "code",
   "execution_count": 59,
   "metadata": {},
   "outputs": [],
   "source": [
    "def string_to_list_of_ints(s):\n",
    "    return [int(char) for char in s]"
   ]
  },
  {
   "cell_type": "code",
   "execution_count": 60,
   "metadata": {},
   "outputs": [],
   "source": [
    "sp_list = [string_to_list_of_ints(minimums['tmp1']['parameters'].iloc[0]),string_to_list_of_ints(minimums['tmp2']['parameters'].iloc[0]),string_to_list_of_ints(minimums['tmp3']['parameters'].iloc[0]),string_to_list_of_ints(minimums['tmp4']['parameters'].iloc[0]),string_to_list_of_ints(minimums['tmp5']['parameters'].iloc[0]),string_to_list_of_ints(minimums['tmp6']['parameters'].iloc[0]),string_to_list_of_ints(minimums['tmp7']['parameters'].iloc[0]),string_to_list_of_ints(minimums['tmp8']['parameters'].iloc[0])]\n",
    "\n",
    "#sp_list = [string_to_list_of_ints(minimums['tmp2']['parameters'].iloc[0]),string_to_list_of_ints(minimums['tmp3']['parameters'].iloc[0]),string_to_list_of_ints(minimums['tmp4']['parameters'].iloc[0]),string_to_list_of_ints(minimums['tmp5']['parameters'].iloc[0]),string_to_list_of_ints(minimums['tmp6']['parameters'].iloc[0]),string_to_list_of_ints(minimums['tmp7']['parameters'].iloc[0]),string_to_list_of_ints(minimums['tmp8']['parameters'].iloc[0])]"
   ]
  },
  {
   "cell_type": "code",
   "execution_count": 61,
   "metadata": {},
   "outputs": [
    {
     "data": {
      "text/plain": [
       "[[1, 1, 0, 0, 1, 0, 0, 0, 0],\n",
       " [1, 1, 0, 0, 1, 0, 0, 0, 0],\n",
       " [1, 1, 0, 0, 1, 0, 0, 0, 0],\n",
       " [0, 1, 0, 1, 1, 0, 0, 0, 1],\n",
       " [1, 1, 1, 0, 0, 1, 0, 1, 0],\n",
       " [1, 1, 1, 1, 0, 1, 0, 0, 1],\n",
       " [1, 1, 1, 0, 1, 1, 1, 0, 1],\n",
       " [1, 1, 1, 0, 1, 1, 1, 1, 1]]"
      ]
     },
     "execution_count": 61,
     "metadata": {},
     "output_type": "execute_result"
    }
   ],
   "source": [
    "sp_list"
   ]
  },
  {
   "cell_type": "code",
   "execution_count": 62,
   "metadata": {},
   "outputs": [],
   "source": [
    "AIC = []\n",
    "\n",
    "for i in range(len(sp_list)):\n",
    "    AIC.append(AIC_obj(obj_list[i],sp_list[i]))"
   ]
  },
  {
   "cell_type": "code",
   "execution_count": 63,
   "metadata": {},
   "outputs": [
    {
     "data": {
      "text/plain": [
       "[442.01257419204387,\n",
       " 442.01257419204387,\n",
       " 442.01257419204387,\n",
       " 441.23308156020516,\n",
       " 458.94091448629524,\n",
       " 431.89625788536523,\n",
       " 433.19185684096226,\n",
       " 434.9402721036121]"
      ]
     },
     "execution_count": 63,
     "metadata": {},
     "output_type": "execute_result"
    }
   ],
   "source": [
    "AIC "
   ]
  },
  {
   "cell_type": "code",
   "execution_count": 64,
   "metadata": {},
   "outputs": [],
   "source": [
    "BIC = []\n",
    "\n",
    "for i in range(len(sp_list)):\n",
    "    BIC.append(BIC_obj(obj_list[i],sp_list[i]))"
   ]
  },
  {
   "cell_type": "code",
   "execution_count": 65,
   "metadata": {},
   "outputs": [
    {
     "data": {
      "text/plain": [
       "[448.6710973075722,\n",
       " 448.6710973075722,\n",
       " 448.6710973075722,\n",
       " 450.1111123809096,\n",
       " 470.03845301217575,\n",
       " 445.21330411642185,\n",
       " 448.728410777195,\n",
       " 452.6963337450209]"
      ]
     },
     "execution_count": 65,
     "metadata": {},
     "output_type": "execute_result"
    }
   ],
   "source": [
    "BIC"
   ]
  },
  {
   "cell_type": "code",
   "execution_count": 33,
   "metadata": {},
   "outputs": [],
   "source": [
    "#HQC = []\n",
    "\n",
    "#for i in range(len(sp_list)):\n",
    "#    HQC.append(HQC_obj(obj_list[i],sp_list[i]))"
   ]
  },
  {
   "cell_type": "code",
   "execution_count": 34,
   "metadata": {},
   "outputs": [],
   "source": [
    "AICC = []\n",
    "\n",
    "for i in range(len(sp_list)):\n",
    "    AICC.append(AICC_obj(obj_list[i],sp_list[i]))"
   ]
  },
  {
   "cell_type": "code",
   "execution_count": 35,
   "metadata": {},
   "outputs": [],
   "source": [
    "def normalization(data):\n",
    "    normailseddata = []\n",
    "    xmin = min(data)\n",
    "    xmax = max(data)\n",
    "    for i in range(len(data)):\n",
    "        normailseddata.append((data[i]-xmin)/(xmax-xmin))\n",
    "    return normailseddata"
   ]
  },
  {
   "cell_type": "code",
   "execution_count": 36,
   "metadata": {},
   "outputs": [],
   "source": [
    "nls = normalization(obj_list)\n",
    "nAIC =normalization(AIC)\n",
    "nBIC =normalization(BIC)\n",
    "#nHQC =normalization(HQC) \n",
    "nAICC =normalization(AICC) "
   ]
  },
  {
   "cell_type": "code",
   "execution_count": 37,
   "metadata": {},
   "outputs": [],
   "source": [
    "index_min_newnAIC = np.argmin(np.array(nAIC))\n",
    "index_min_newnBIC = np.argmin(np.array(nBIC))\n",
    "index_min_newnAICC = np.argmin(np.array(nAICC))\n",
    "index_min_newnls = np.argmin(np.array(nls))\n",
    "\n",
    "nAIC[index_min_newnAIC] = 1e-5\n",
    "# nval[index_min_nval] = 1e-5\n",
    "nBIC[index_min_newnBIC] = 1e-5\n",
    "nAICC[index_min_newnAICC] = 1e-5\n",
    "nls[index_min_newnls] = 1e-5"
   ]
  },
  {
   "cell_type": "code",
   "execution_count": null,
   "metadata": {},
   "outputs": [],
   "source": [
    "nAIC"
   ]
  },
  {
   "cell_type": "code",
   "execution_count": null,
   "metadata": {},
   "outputs": [],
   "source": [
    "nBIC"
   ]
  },
  {
   "cell_type": "code",
   "execution_count": null,
   "metadata": {},
   "outputs": [],
   "source": [
    "nAICC"
   ]
  },
  {
   "cell_type": "code",
   "execution_count": 41,
   "metadata": {},
   "outputs": [],
   "source": [
    "sp_name_list = ['1','2','3','4','5','6','7','8']\n",
    "\n",
    "# sp_name_list = ['np=2','np=3','np=4','np=5','np=6','np=7','np=8']"
   ]
  },
  {
   "cell_type": "code",
   "execution_count": null,
   "metadata": {},
   "outputs": [],
   "source": [
    "fontsize = 18\n",
    "linewidth = 3  \n",
    "fig, ax = plt.subplots(figsize=(7, 5))\n",
    "\n",
    "# plt.plot(sp_name_list,nAIC,label = 'AIC')\n",
    "ax.plot(sp_name_list,nAIC,label = 'AIC',color = 'blue',linewidth=linewidth)\n",
    "ax.plot(sp_name_list,nBIC,label = 'BIC',color = 'green',linewidth=linewidth)\n",
    "ax.plot(sp_name_list,nAICC,label = 'AICc',color = 'orange',linewidth=linewidth)\n",
    "# ax.plot(sp_name_list,nval,label = 'Validation',color = 'purple')\n",
    "\n",
    "ax.plot(sp_name_list,nls,label = 'NLL',color = 'red',linewidth=linewidth)\n",
    "ax.set_yscale('log')\n",
    "ax.legend(loc=\"upper right\", fontsize=fontsize-4 )\n",
    "ax.set_ylabel('Information Criteria\\n(Normalised)', fontsize=fontsize)\n",
    "ax.tick_params(axis='both', which='major', labelsize=fontsize )\n",
    "# ax.set_xticklabels(sp_name_list, rotation=40, ha = 'right')\n",
    "ax.set_xticklabels(sp_name_list)\n",
    "# for i in ax.get_xticklabels():\n",
    "\n",
    "#    if i.get_text() == '3':\n",
    "#       i.set_fontweight('bold')\n",
    "\n",
    "#    if i.get_text() == '4':\n",
    "#       i.set_fontweight('bold')\n",
    "ax.set_xlabel('Model structure (Polynomial terms)', fontsize=fontsize)\n",
    "plt.tight_layout()\n",
    "# plt.ylabel('Normalised value')\n",
    "# plt.xticks(rotation=45)\n",
    "# plt.xlabel('model structure')\n",
    "# plt.tight_layout()\n",
    "# plt.ylim([0, 0.01])\n",
    "# plt.xlim([4, 8])\n",
    "# plt.savefig('model selection NN algae.svg')\n",
    "plt.savefig('model selection round2.svg')\n",
    "plt.show()"
   ]
  },
  {
   "cell_type": "code",
   "execution_count": null,
   "metadata": {},
   "outputs": [],
   "source": [
    "# CHECKED UNTIL HERE -------------------------------------"
   ]
  },
  {
   "cell_type": "code",
   "execution_count": 71,
   "metadata": {},
   "outputs": [],
   "source": [
    "def allparametervalues(dataframe,sp,Fcn):\n",
    "    h_p = {'p0': dataframe['p0'].to_list()[0], 'p1': dataframe['p1'].to_list()[0], 'p2' : dataframe['p2'].to_list()[0], 'p3':dataframe['p3'].to_list()[0],'p4': dataframe['p4'].to_list()[0], 'p5': dataframe['p5'].to_list()[0], 'p6' : dataframe['p6'].to_list()[0], 'p7':dataframe['p7'].to_list()[0],'p8': dataframe['p8'].to_list()[0], 'p9': dataframe['p9'].to_list()[0],'u_d': dataframe['u_d'].to_list()[0],'Y_nx': dataframe['Y_nx'].to_list()[0],'sp':sp,'Fcn':Fcn}\n",
    "    return h_p"
   ]
  },
  {
   "cell_type": "code",
   "execution_count": 72,
   "metadata": {},
   "outputs": [],
   "source": [
    "# Hybrid model structure #\n",
    "class hybrid_model:\n",
    "    \n",
    "    def __init__(self,parameters):\n",
    "        self. parameters = parameters\n",
    "        # Object variable definitions\n",
    "\n",
    "        self.parameters = parameters\n",
    "        # a = np.zeros(1)\n",
    "        \n",
    "        # if type(parameters) == type(a):\n",
    "        #     parameters = pd.DataFrame([parameters], columns = parameter_names)\n",
    "    \n",
    "    def model(self, t, state):\n",
    "        params = self.parameters\n",
    "        \n",
    "        #state vectors\n",
    "        x = state[0]\n",
    "        n = state[1]\n",
    "\n",
    "        # FCn    = params['FCn']\n",
    "        #parameters\n",
    "\n",
    "        p0 = params['p0']\n",
    "        p1 = params['p1']\n",
    "        p2 = params['p2']\n",
    "        p3 = params['p3']\n",
    "        p4 = params['p4']\n",
    "        p5 = params['p5']\n",
    "        p6 = params['p6']\n",
    "        p7 = params['p7']\n",
    "        p8 = params['p8']\n",
    "        p9 = params['p9']\n",
    "\n",
    "        u_d    = params['u_d']\n",
    "        sp     = params['sp']\n",
    "        Y_nx    = params['Y_nx']\n",
    "        Fcn    = params['Fcn']\n",
    "        # x_max   = params['x_max']\n",
    "        # n_max   = params['n_max']\n",
    "\n",
    "        \n",
    "        #algebraic equations\n",
    "        u = p0 + sp[0]*p1 * x/x_max + sp[1]*p2 * n/n_max + sp[2]*p3 *(x/x_max)**2 +  sp[3]*p4*x/x_max*n/n_max + sp[4]*p5*(n/n_max)**2 + sp[5]*p6*(x/x_max)**3 + sp[6]*p7 * (x/x_max)**2*n/n_max + sp[7]*p8 *x/x_max*(n/n_max)**2 + sp[8]*p9 *(n/n_max)**3\n",
    "        #variable rate equations\n",
    "        dev_x  = u * x - u_d*x**2\n",
    "        \n",
    "        dev_n  = - Y_nx * u * x + Fcn\n",
    "        return np.array([dev_x,dev_n],dtype='float64')\n",
    "        \n",
    "        # Simulation\n",
    "        \n",
    "    def simulation(self, steps, tf, x0):\n",
    "\n",
    "        # external defination\n",
    "\n",
    "        self.x0, self.tf = x0, tf\n",
    "\n",
    "        #internal definations\n",
    "        model = self.model\n",
    "        dt    = tf/(steps)\n",
    "\n",
    "        #compile state trajectories\n",
    "\n",
    "        xt = np.zeros((x0.shape[0],steps+1))\n",
    "        tt = np.zeros((steps+1))\n",
    "\n",
    "        #initialise simulation\n",
    "        current_state = x0\n",
    "        xt[:,0] = current_state\n",
    "        tt[0]   = 0.\n",
    "\n",
    "        #simulation\n",
    "        for s in range(steps):\n",
    "            ode           = scp.ode(model)                  # define ode\n",
    "            ode.set_integrator('lsoda', nsteps=1000)        # define integrator\n",
    "            ode.set_initial_value(current_state, dt)        # set initial value\n",
    "            current_state = list(ode.integrate(ode.t + dt)) # integrate system\n",
    "            xt[:,s+1]     = current_state                   # add current state\n",
    "            tt[s+1]       = (s+1)*dt\n",
    "\n",
    "        return xt, tt         \n"
   ]
  },
  {
   "cell_type": "code",
   "execution_count": 73,
   "metadata": {},
   "outputs": [],
   "source": [
    "def hm_simulation(parameter, initial_c,Fcn):\n",
    "    all_xt = []\n",
    "    # all_pe = []\n",
    "    # all_tt = []\n",
    "\n",
    "    for i in range(len(Fcn)):\n",
    "        parameter['Fcn'] = Fcn[i]\n",
    "        # print(parameter['Fcn'],'fcn')\n",
    "        m                = hybrid_model(parameter)\n",
    "        xt_i, tt_i       = m.simulation(dstep_N,tf_N,initial_c) \n",
    "        all_xt.append(xt_i)\n",
    "        # all_tt.append(tt_i)\n",
    "        new_init = np.zeros(2)\n",
    "        for j in range(2):\n",
    "            new_init[j] = xt_i[j][-1]\n",
    "        initial_c = new_init\n",
    "\n",
    "        # all_pe.append(parameter.copy())\n",
    "\n",
    "    for i in range(1,len(all_xt)):\n",
    "        all_xt[i] = np.delete(all_xt[i], 0, axis=1)\n",
    "\n",
    "        # all_tt[i] = np.delete(all_tt[i], 0, axis=1)\n",
    "    # print(all_xt,'all_xt')\n",
    "    xt = all_xt[0]\n",
    "    # tt = all_tt[0]\n",
    "\n",
    "    # Iterate through the remaining arrays and concatenate them\n",
    "    for i in all_xt[1:]:\n",
    "        xt = np.concatenate((xt, i), axis=1)  # Concatenate along the rows\n",
    "\n",
    "    return xt"
   ]
  },
  {
   "cell_type": "code",
   "execution_count": 74,
   "metadata": {},
   "outputs": [
    {
     "name": "stderr",
     "output_type": "stream",
     "text": [
      "C:\\Users\\wangh\\AppData\\Local\\Temp\\ipykernel_22844\\4088744930.py:49: DeprecationWarning: setting an array element with a sequence. This was supported in some cases where the elements are arrays with a single element. For example `np.array([1, np.array([2])], dtype=int)`. In the future this will raise the same ValueError as `np.array([1, [2]], dtype=int)`.\n",
      "  return np.array([dev_x,dev_n],dtype='float64')\n"
     ]
    }
   ],
   "source": [
    "\n",
    "h_x01             = operation_con1\n",
    "h_x02             = operation_con2\n",
    "h_x03             = operation_con3\n",
    "\n",
    "pe2_exp1               = allparametervalues(minimums['tmp2'],string_to_list_of_ints(minimums['tmp2']['parameters'].iloc[0]),Fcn1[0])\n",
    "pe2_exp2               = allparametervalues(minimums['tmp2'],string_to_list_of_ints(minimums['tmp2']['parameters'].iloc[0]),Fcn2[0])\n",
    "pe2_exp3               = allparametervalues(minimums['tmp2'],string_to_list_of_ints(minimums['tmp2']['parameters'].iloc[0]),Fcn3[0])\n",
    "\n",
    "pe3_exp1               = allparametervalues(minimums['tmp3'],string_to_list_of_ints(minimums['tmp3']['parameters'].iloc[0]),Fcn1[0])      \n",
    "pe3_exp2               = allparametervalues(minimums['tmp3'],string_to_list_of_ints(minimums['tmp3']['parameters'].iloc[0]),Fcn2[0])   \n",
    "pe3_exp3               = allparametervalues(minimums['tmp3'],string_to_list_of_ints(minimums['tmp3']['parameters'].iloc[0]),Fcn3[0])   \n",
    "\n",
    "pe4_exp1               = allparametervalues(minimums['tmp4'],string_to_list_of_ints(minimums['tmp4']['parameters'].iloc[0]),Fcn1[0])\n",
    "pe4_exp2               = allparametervalues(minimums['tmp4'],string_to_list_of_ints(minimums['tmp4']['parameters'].iloc[0]),Fcn2[0])\n",
    "pe4_exp3               = allparametervalues(minimums['tmp4'],string_to_list_of_ints(minimums['tmp4']['parameters'].iloc[0]),Fcn3[0])\n",
    "#model integration\n",
    "h_xt2_exp1      = hm_simulation(pe2_exp1,h_x01,Fcn1)\n",
    "h_xt2_exp2      = hm_simulation(pe2_exp2,h_x02,Fcn2)\n",
    "h_xt2_exp3      = hm_simulation(pe2_exp3,h_x03,Fcn3)\n",
    "\n",
    "\n",
    "h_xt3_exp1      = hm_simulation(pe3_exp1,h_x01,Fcn1)\n",
    "h_xt3_exp2      = hm_simulation(pe3_exp2,h_x02,Fcn2)\n",
    "h_xt3_exp3      = hm_simulation(pe3_exp3,h_x03,Fcn3)\n",
    "\n",
    "\n",
    "h_xt4_exp1      = hm_simulation(pe4_exp1,h_x01,Fcn1)\n",
    "h_xt4_exp2      = hm_simulation(pe4_exp2,h_x02,Fcn2)\n",
    "h_xt4_exp3      = hm_simulation(pe4_exp3,h_x03,Fcn3)"
   ]
  },
  {
   "cell_type": "code",
   "execution_count": 77,
   "metadata": {},
   "outputs": [
    {
     "data": {
      "text/plain": [
       "{'p0': -0.001115249358429943,\n",
       " 'p1': 0.01,\n",
       " 'p2': 0.08050545131234113,\n",
       " 'p3': 0.01,\n",
       " 'p4': 0.01,\n",
       " 'p5': -0.08962561137727844,\n",
       " 'p6': 0.01,\n",
       " 'p7': 0.01,\n",
       " 'p8': 0.01,\n",
       " 'p9': 0.04360027112249961,\n",
       " 'u_d': 0.009822433551820099,\n",
       " 'Y_nx': 515.3724592758608,\n",
       " 'sp': [0, 1, 0, 0, 1, 0, 0, 0, 1],\n",
       " 'Fcn': array([2.125])}"
      ]
     },
     "execution_count": 77,
     "metadata": {},
     "output_type": "execute_result"
    }
   ],
   "source": [
    "pe3_exp2"
   ]
  },
  {
   "cell_type": "code",
   "execution_count": 76,
   "metadata": {},
   "outputs": [
    {
     "data": {
      "text/plain": [
       "517.6125905589039"
      ]
     },
     "execution_count": 76,
     "metadata": {},
     "output_type": "execute_result"
    }
   ],
   "source": [
    "n_max"
   ]
  },
  {
   "cell_type": "code",
   "execution_count": 40,
   "metadata": {},
   "outputs": [],
   "source": [
    "def plot_data(x, y1,y2):\n",
    "    fig = plt.figure()\n",
    "    plt.plot(x, y1,'.',color = 'red')\n",
    "    # plt.plot(x, y1hat,'.',color = 'blue')\n",
    "    plt.plot(x, y2, '-')\n",
    "    # plt.plot(x, y2hat, '-',label=namehat)\n",
    "    plt.ylabel('State')\n",
    "    plt.xlabel('Time')\n",
    "    # plt.legend(loc=\"lower right\")\n",
    "    # fig.savefig(name)\n",
    "    plt.show()\n",
    "    return None\n",
    "def check_plot(xobs,xt,tt):\n",
    "    plot_data(tt, xobs[0],xt[0])\n",
    "    plot_data(tt, xobs[1],xt[1])\n",
    "\n",
    "    return None\n",
    "\n"
   ]
  },
  {
   "cell_type": "code",
   "execution_count": 93,
   "metadata": {},
   "outputs": [
    {
     "data": {
      "image/png": "[encoded data removed]",
      "text/plain": [
       "<Figure size 432x288 with 1 Axes>"
      ]
     },
     "metadata": {
      "needs_background": "light"
     },
     "output_type": "display_data"
    },
    {
     "data": {
      "image/png": "[encoded data removed]",
      "text/plain": [
       "<Figure size 432x288 with 1 Axes>"
      ]
     },
     "metadata": {
      "needs_background": "light"
     },
     "output_type": "display_data"
    }
   ],
   "source": [
    "\n",
    "check_plot(xobs1,h_xt2_exp1,tt1)"
   ]
  },
  {
   "cell_type": "code",
   "execution_count": 94,
   "metadata": {},
   "outputs": [
    {
     "data": {
      "image/png": "[encoded data removed]",
      "text/plain": [
       "<Figure size 432x288 with 1 Axes>"
      ]
     },
     "metadata": {
      "needs_background": "light"
     },
     "output_type": "display_data"
    },
    {
     "data": {
      "image/png": "[encoded data removed]",
      "text/plain": [
       "<Figure size 432x288 with 1 Axes>"
      ]
     },
     "metadata": {
      "needs_background": "light"
     },
     "output_type": "display_data"
    }
   ],
   "source": [
    "check_plot(xobs2,h_xt2_exp2,tt1)"
   ]
  },
  {
   "cell_type": "code",
   "execution_count": 95,
   "metadata": {},
   "outputs": [
    {
     "data": {
      "image/png": "[encoded data removed]",
      "text/plain": [
       "<Figure size 432x288 with 1 Axes>"
      ]
     },
     "metadata": {
      "needs_background": "light"
     },
     "output_type": "display_data"
    },
    {
     "data": {
      "image/png": "[encoded data removed]",
      "text/plain": [
       "<Figure size 432x288 with 1 Axes>"
      ]
     },
     "metadata": {
      "needs_background": "light"
     },
     "output_type": "display_data"
    }
   ],
   "source": [
    "check_plot(xobs3,h_xt2_exp3,tt1)"
   ]
  },
  {
   "cell_type": "code",
   "execution_count": 96,
   "metadata": {},
   "outputs": [
    {
     "data": {
      "image/png": "[encoded data removed]",
      "text/plain": [
       "<Figure size 432x288 with 1 Axes>"
      ]
     },
     "metadata": {
      "needs_background": "light"
     },
     "output_type": "display_data"
    },
    {
     "data": {
      "image/png": "[encoded data removed]",
      "text/plain": [
       "<Figure size 432x288 with 1 Axes>"
      ]
     },
     "metadata": {
      "needs_background": "light"
     },
     "output_type": "display_data"
    }
   ],
   "source": [
    "check_plot(xobs1,h_xt3_exp1,tt1)"
   ]
  },
  {
   "cell_type": "code",
   "execution_count": 97,
   "metadata": {},
   "outputs": [
    {
     "data": {
      "image/png": "[encoded data removed]",
      "text/plain": [
       "<Figure size 432x288 with 1 Axes>"
      ]
     },
     "metadata": {
      "needs_background": "light"
     },
     "output_type": "display_data"
    },
    {
     "data": {
      "image/png": "[encoded data removed]",
      "text/plain": [
       "<Figure size 432x288 with 1 Axes>"
      ]
     },
     "metadata": {
      "needs_background": "light"
     },
     "output_type": "display_data"
    }
   ],
   "source": [
    "check_plot(xobs2,h_xt3_exp2,tt1)"
   ]
  },
  {
   "cell_type": "code",
   "execution_count": 98,
   "metadata": {},
   "outputs": [
    {
     "data": {
      "image/png": "[encoded data removed]",
      "text/plain": [
       "<Figure size 432x288 with 1 Axes>"
      ]
     },
     "metadata": {
      "needs_background": "light"
     },
     "output_type": "display_data"
    },
    {
     "data": {
      "image/png": "[encoded data removed]",
      "text/plain": [
       "<Figure size 432x288 with 1 Axes>"
      ]
     },
     "metadata": {
      "needs_background": "light"
     },
     "output_type": "display_data"
    }
   ],
   "source": [
    "check_plot(xobs3,h_xt3_exp3,tt1)"
   ]
  },
  {
   "cell_type": "code",
   "execution_count": 99,
   "metadata": {},
   "outputs": [
    {
     "data": {
      "image/png": "[encoded data removed]",
      "text/plain": [
       "<Figure size 432x288 with 1 Axes>"
      ]
     },
     "metadata": {
      "needs_background": "light"
     },
     "output_type": "display_data"
    },
    {
     "data": {
      "image/png": "[encoded data removed]",
      "text/plain": [
       "<Figure size 432x288 with 1 Axes>"
      ]
     },
     "metadata": {
      "needs_background": "light"
     },
     "output_type": "display_data"
    }
   ],
   "source": [
    "check_plot(xobs1,h_xt4_exp1,tt1)"
   ]
  },
  {
   "cell_type": "code",
   "execution_count": 100,
   "metadata": {},
   "outputs": [
    {
     "data": {
      "image/png": "[encoded data removed]",
      "text/plain": [
       "<Figure size 432x288 with 1 Axes>"
      ]
     },
     "metadata": {
      "needs_background": "light"
     },
     "output_type": "display_data"
    },
    {
     "data": {
      "image/png": "[encoded data removed]",
      "text/plain": [
       "<Figure size 432x288 with 1 Axes>"
      ]
     },
     "metadata": {
      "needs_background": "light"
     },
     "output_type": "display_data"
    }
   ],
   "source": [
    "check_plot(xobs2,h_xt4_exp2,tt1)"
   ]
  },
  {
   "cell_type": "code",
   "execution_count": 101,
   "metadata": {},
   "outputs": [
    {
     "data": {
      "image/png": "[encoded data removed]",
      "text/plain": [
       "<Figure size 432x288 with 1 Axes>"
      ]
     },
     "metadata": {
      "needs_background": "light"
     },
     "output_type": "display_data"
    },
    {
     "data": {
      "image/png": "[encoded data removed]",
      "text/plain": [
       "<Figure size 432x288 with 1 Axes>"
      ]
     },
     "metadata": {
      "needs_background": "light"
     },
     "output_type": "display_data"
    }
   ],
   "source": [
    "check_plot(xobs3,h_xt4_exp3,tt1)"
   ]
  },
  {
   "cell_type": "code",
   "execution_count": 102,
   "metadata": {},
   "outputs": [],
   "source": [
    "# == auxiliary functions == #\n",
    "\n",
    "# sample uniform\n",
    "def sample_uniform_params(n_particles_, bounds_range, bounds_bias):\n",
    "    rand_particles = np.random.uniform(0,1,(n_particles_, bounds_range.shape[0]))*bounds_range + bounds_bias\n",
    "    return rand_particles\n",
    "\n",
    "# calculate velocity\n",
    "def calculate_v(w_k, c1, c2, v_p, x_p, x_local_best, x_global_best):\n",
    "    v_new = w_k*(c1*np.random.uniform(0,1, x_p.shape)*(x_local_best - x_p) + \n",
    "             c2*np.random.uniform(0,1, x_p.shape)*(x_global_best - x_p))\n",
    "    return v_new\n",
    "\n",
    "#################################################\n",
    "# Particle Swarm optimization for policy search #\n",
    "#################################################\n",
    "\n",
    "def PSO(n_particles, evals, bounds,func):\n",
    "    '''\n",
    "    PSO algorithm used to find the best policy\n",
    "    '''\n",
    "\n",
    "    # problem initialization\n",
    "    eval_count    = 0\n",
    "    best_reward   = 1e9\n",
    "    best_particle = np.zeros((bounds[:,0].shape))\n",
    "    # algorithm parameters\n",
    "    c1= 2.8;c2 = 1.3                     \n",
    "    c3         = c1 + c2\n",
    "    w_k        = 2/(abs(2 - c3 - np.sqrt((c3**2) - (4*c3))))  # creating velocity weighting factor\n",
    "    # bounds\n",
    "    bounds_range = bounds[:,1] - bounds[:,0]\n",
    "    bounds_bias  = bounds[:,0]\n",
    "    # velocity bounds\n",
    "    v_lb                         = -abs(bounds_range)*0.75\n",
    "    v_ub                         =  abs(bounds_range)*0.75\n",
    "\n",
    "    # data\n",
    "    data_pso = {}\n",
    "    data_pso['R_list'] = np.zeros((evals))\n",
    "\n",
    "    ############################\n",
    "    # particle initializations #\n",
    "    ############################\n",
    "\n",
    "    # this can be changed manually\n",
    "\n",
    "    particle_dic = {} # ['i'][particle, best_obj_p, best_position_p, vel]\n",
    "    for particle_i in range(n_particles):\n",
    "\n",
    "        # == sample a random particle == #\n",
    "        particle_dic[str(particle_i)]                  = {}\n",
    "        particle_dic[str(particle_i)]['particle_x']    = sample_uniform_params(1, bounds_range, bounds_bias)[0]\n",
    "        particle_dic[str(particle_i)]['best_position'] = copy.deepcopy(particle_dic[str(particle_i)]['particle_x'])\n",
    "\n",
    "        # == evaluate particle == #\n",
    "        data_pso['R_list'][eval_count] = func(particle_dic[str(particle_i)]['particle_x'])\n",
    "        \n",
    "        # == set best particle objective == #\n",
    "        particle_dic[str(particle_i)]['best_obj'] = data_pso['R_list'][eval_count]\n",
    "\n",
    "        # == set particle velocity == #\n",
    "\n",
    "        particle_dic[str(particle_i)]['vel'] = sample_uniform_params(1, v_ub-v_lb, v_lb)[0]\n",
    "\n",
    "        # == benchmark reward ==> min \">\"\n",
    "        if data_pso['R_list'][eval_count] < best_reward:\n",
    "            best_reward = data_pso['R_list'][eval_count]\n",
    "            best_particle = copy.deepcopy(particle_dic[str(particle_i)]['particle_x'])\n",
    "\n",
    "        eval_count     += 1\n",
    "\n",
    "    #################\n",
    "    # PSO main loop #\n",
    "    #################\n",
    "\n",
    "    while eval_count < evals:\n",
    "        for particle_i in range(n_particles):\n",
    "\n",
    "            # == calculate velocity == #\n",
    "            particle_dic[str(particle_i)]['vel'] = calculate_v(w_k, c1, c2, \n",
    "                                                               particle_dic[str(particle_i)]['vel'], \n",
    "                                                               particle_dic[str(particle_i)]['particle_x'], \n",
    "                                                               particle_dic[str(particle_i)]['best_position'], \n",
    "                                                               best_particle)\n",
    "            \n",
    "            # == Update the particle's position == #\n",
    "            particle_dic[str(particle_i)]['particle_x'] = (particle_dic[str(particle_i)]['particle_x'] + \n",
    "                                                           particle_dic[str(particle_i)]['vel'])\n",
    "            \n",
    "            # == evaluate particle == #\n",
    "            data_pso['R_list'][eval_count]    = func(particle_dic[str(particle_i)]['particle_x'])\n",
    "\n",
    "            # best position\n",
    "            if data_pso['R_list'][eval_count] < particle_dic[str(particle_i)]['best_obj']:\n",
    "                particle_dic[str(particle_i)]['best_obj']      = data_pso['R_list'][eval_count]\n",
    "                particle_dic[str(particle_i)]['best_position'] = copy.deepcopy(particle_dic[str(particle_i)]['particle_x'])\n",
    "                # best particle\n",
    "                if data_pso['R_list'][eval_count] < best_reward:\n",
    "                    best_reward   = data_pso['R_list'][eval_count]\n",
    "                    best_particle = copy.deepcopy(particle_dic[str(particle_i)]['particle_x'])\n",
    "\n",
    "            eval_count += 1\n",
    "            if eval_count >= evals:\n",
    "                break\n",
    "\n",
    "    print('final reward = ',best_reward)\n",
    "    return best_particle, best_reward, data_pso\n",
    "\n",
    "######################################\n",
    "# Forward finite differences \n",
    "######################################\n",
    "\n",
    "def forward_finite_diff(f, x, Delta):\n",
    "    n     = np.shape(x)[0]\n",
    "    #x     = x.reshape((n,1))\n",
    "    dX    = np.zeros((n))\n",
    "    \n",
    "    for j in range(n):\n",
    "        x_d_f    = np.copy(x)\n",
    "        x_d_f[j] = x_d_f[j] + Delta\n",
    "        dX[j]    = (f(x_d_f) - f(x))/Delta\n",
    "\n",
    "    #sumdX         = np.sum(dX)\n",
    "    #array_has_nan = np.isnan(sumdX)\n",
    "    #if array_has_nan:\n",
    "    #    print('========= nan in gradient =========')\n",
    "\n",
    "    return dX/np.max(dX)\n",
    "\n",
    "######################################\n",
    "# Central finite differences \n",
    "######################################\n",
    "\n",
    "def central_finite_diff(f, x, Delta):\n",
    "    n     = np.shape(x)[0]\n",
    "    #x     = x.reshape((n,1))\n",
    "    dX    = np.zeros((n))\n",
    "    \n",
    "    for j in range(n):\n",
    "        x_d_f    = np.copy(x)\n",
    "        x_d_b    = np.copy(x)\n",
    "        x_d_f[j] = x_d_f[j] + Delta/2\n",
    "        x_d_b[j] = x_d_b[j] - Delta/2\n",
    "        dX[j]        = (f(x_d_f) - f(x_d_b))/Delta\n",
    "\n",
    "\n",
    "    return dX/np.max(dX)\n",
    "\n",
    "#############################\n",
    "# Approximating Hessian\n",
    "#############################\n",
    "\n",
    "def Hk_f(x, x_past, grad_i, grad_i_past, Hk_past, Imatrix):\n",
    "    '''\n",
    "    function that approximates the Hessian\n",
    "    '''\n",
    "    sk  = x - x_past \n",
    "    yk  = grad_i - grad_i_past\n",
    "    rho = 1./(yk.T@sk+1e-7)\n",
    "\n",
    "    Hinv = (Imatrix-rho*sk@yk.T)@Hk_past@(Imatrix-rho*yk@sk.T) + rho*sk@sk.T\n",
    "    \n",
    "    return Hinv\n",
    "\n",
    "#############################\n",
    "# Line search function\n",
    "#############################\n",
    "\n",
    "def line_search_f(direction, x, f, lr, grad_k, armijo_wolfe=0):\n",
    "    '''\n",
    "    - function that determines optimal step with linesearch\n",
    "    - Note: f and lr must be given\n",
    "    - armijo_wolfe: 0 is naive, 1 is armijo, 2 is armijo-wolfe\n",
    "    - for large iteration values (say >1000) A-W or A start being good options\n",
    "    '''\n",
    "    old_f = f(x) ; new_f = old_f + 1.\n",
    "    ls_i  = 0    ; lr_i  = 2.*lr\n",
    "    c_1   = 1e-4 ; c_2   = 0.9\n",
    "\n",
    "    # if doing multistart this can be se to <10\n",
    "    LS_max_iter = 50\n",
    "\n",
    "    x_i   = x # if gradient is nan\n",
    "\n",
    "    # ---  naive line-search --- #\n",
    "    if armijo_wolfe == 0:\n",
    "        while new_f>old_f and ls_i<LS_max_iter:\n",
    "            lr_i  = lr_i/2.\n",
    "            x_i   = x - lr_i*direction \n",
    "            new_f = f(x_i)\n",
    "            ls_i += 1\n",
    "\n",
    "    if new_f>old_f:\n",
    "        return x, ls_i\n",
    "        \n",
    "    return x_i, ls_i\n",
    "\n",
    "\n",
    "#############################\n",
    "# Momentum function\n",
    "#############################\n",
    "\n",
    "def momentum_f(x, grad_i_past, grad_i, f, lr, Beta=0.2):\n",
    "    '''\n",
    "    function that determines the next step with momentum\n",
    "    '''\n",
    "    grad_m = Beta*grad_i_past + (1.-Beta)*grad_i\n",
    "    old_f = f(x); new_f = old_f + 1.\n",
    "    ls_i  = 0   ; lr_i  = 2.*lr\n",
    "    while new_f>old_f and ls_i<100:\n",
    "        lr_i  = lr_i/2.\n",
    "        x_i   = x - lr_i*grad_m \n",
    "        new_f = f(x_i)\n",
    "        ls_i += 1\n",
    "\n",
    "    if new_f <= old_f:\n",
    "        return x_i, ls_i, grad_m, new_f\n",
    "    else:\n",
    "        return x_i, ls_i, grad_m, old_f\n",
    "\n",
    "###################################\n",
    "# Gradient Descent with momentum\n",
    "###################################\n",
    "\n",
    "def gradient_descent_momentum(f, x0, N_x, max_iter=100, ns=5, grad_f=forward_finite_diff, \n",
    "                              lr=1e-3, grad_tol=1e-6):\n",
    "    '''\n",
    "    Optimization algorithm: Gradient Descent with linesearch\n",
    "    '''\n",
    "\n",
    "    # data\n",
    "    data_gdm           = {}\n",
    "    data_gdm['R_list'] = np.zeros((max_iter))\n",
    "\n",
    "    # evaluate starting points\n",
    "    data_gdm['x_best'] = x0; data_gdm['f_best'] = f(x0)\n",
    "    f_eval              = 0    \n",
    "    x                   = np.copy(x0);\n",
    "    n                   = N_x\n",
    "\n",
    "    # h-step\n",
    "    Delta = np.sqrt(np.finfo(float).eps)#*1e1\n",
    "\n",
    "    # ==== first gradient step ==== #\n",
    "    grad_i      = grad_f(f, x, Delta)\n",
    "    x           = x - 1e-6*grad_i\n",
    "    # past values\n",
    "    grad_i_past = grad_i\n",
    "    f_val       = f(x)\n",
    "\n",
    "    # ==== main loop ==== #\n",
    "    while f_eval < max_iter:\n",
    "        data_gdm['R_list'][f_eval] = f_val\n",
    "    \n",
    "        # compute gradient   \n",
    "        grad_i  = grad_f(f, x, Delta)        \n",
    "               \n",
    "        # line-search w/momentum\n",
    "        x_i, ls_i, grad_i_past, f_val = momentum_f(x, grad_i_past, grad_i, f, lr)\n",
    "        f_eval                        = f_eval + 1\n",
    "\n",
    "        if ls_i>50:\n",
    "            print('50 LS could not reduce function further')\n",
    "            break\n",
    "        grad_best                               = grad_i\n",
    "    \n",
    "        x = x_i                \n",
    "\n",
    "        if data_gdm['f_best'] > f_val:\n",
    "            data_gdm['f_best'] = f_val\n",
    "            data_gdm['x_best'] = x\n",
    "            grad_best          = grad_i\n",
    "\n",
    "    # print('f_eval   ===== ',f_eval)\n",
    "    # print('x      ===== ',data_gdm['x_best']) \n",
    "    # print('grad ===== ',grad_best)\n",
    "    # print('f(x) best ===== ',data_gdm['f_best'],'\\n')\n",
    "        \n",
    "    return x, f_eval, data_gdm"
   ]
  },
  {
   "cell_type": "code",
   "execution_count": 103,
   "metadata": {},
   "outputs": [],
   "source": [
    "def doe(opt_var):\n",
    "\n",
    "    h_x0            = np.array([opt_var[0],opt_var[1]])\n",
    "    \n",
    "    # h_x02             = np.array([opt_var[0],opt_var[1]])\n",
    "    Fcn               = np.array([opt_var[2],opt_var[3],opt_var[4],opt_var[5]])  # Initial concentration of each state variables\n",
    "\n",
    "    pe1               = allparametervalues(minimums['tmp3'],string_to_list_of_ints(minimums['tmp3']['parameters'].iloc[0]),Fcn[0])\n",
    " \n",
    "    pe2               = allparametervalues(minimums['tmp4'],string_to_list_of_ints(minimums['tmp4']['parameters'].iloc[0]),Fcn[0])      \n",
    "\n",
    "    h_xt1      = hm_simulation(pe1,h_x0,Fcn)\n",
    "    h_xt2      = hm_simulation(pe2,h_x0,Fcn)\n",
    "\n",
    "    f   = -1/2*(np.sum(((h_xt1-h_xt2)/std1)**2))\n",
    "\n",
    "    # for i in range(4):\n",
    "    #     fig = plt.figure()\n",
    "    #     plt.plot(htt_1, h_xt1[i], '-',label='4node',color = 'red')\n",
    "    #     plt.plot(htt_1, h_xt2[i], '-',label='10node',color = 'blue')\n",
    "    #     # plt.plot(htt_1, h_xt3[i], '-',label='6node',color = 'purple')\n",
    "    #     plt.ylabel('State')\n",
    "    #     plt.xlabel('Time')\n",
    "    #     plt.legend(loc=\"lower right\")\n",
    "    \n",
    "\n",
    "    \n",
    "    # f = 1/2*np.sum(((h_xt1-xobs1)/std1)**2)\n",
    "    # nll = f+sigma1\n",
    "    # n_p = no_NNpara_\n",
    "    # BIC = (2*nll) + (n_p*np.log(nd1))\n",
    "    return f"
   ]
  },
  {
   "cell_type": "code",
   "execution_count": 104,
   "metadata": {},
   "outputs": [
    {
     "name": "stdout",
     "output_type": "stream",
     "text": [
      "final reward =  -0.4291134469748449\n"
     ]
    }
   ],
   "source": [
    "opt_var_bound = np.array([[0.1,0.2],[100,200],[1,10],[1,10],[1,10],[1,10]])\n",
    "\n",
    "dimensions    = len(opt_var_bound)  \n",
    "\n",
    "n_particles_ = 200000\n",
    "evals_       = 200000\n",
    "\n",
    "best_particle_, best_reward_, data_pso_ = PSO(n_particles_, evals_,opt_var_bound,doe)"
   ]
  },
  {
   "cell_type": "code",
   "execution_count": 105,
   "metadata": {},
   "outputs": [
    {
     "data": {
      "text/plain": [
       "array([1.03535622e-01, 1.46963031e+02, 9.92520888e+00, 9.93295294e+00,\n",
       "       1.57499549e+00, 5.95717805e+00])"
      ]
     },
     "execution_count": 105,
     "metadata": {},
     "output_type": "execute_result"
    }
   ],
   "source": [
    "best_particle_"
   ]
  },
  {
   "cell_type": "code",
   "execution_count": 106,
   "metadata": {},
   "outputs": [
    {
     "name": "stdout",
     "output_type": "stream",
     "text": [
      "File saved at: init_Fcn.pkl\n"
     ]
    }
   ],
   "source": [
    "save_pkl(best_particle_, 'init_Fcn.pkl')"
   ]
  },
  {
   "cell_type": "code",
   "execution_count": 293,
   "metadata": {},
   "outputs": [],
   "source": [
    "# Data generation #\n",
    "class ModelIntegration:\n",
    "    '''\n",
    "    This files integrates the model.\n",
    "    \n",
    "     model: this is were the model should be changed \n",
    "    '''\n",
    "    \n",
    "    # --- initializing model --- #\n",
    "    def __init__(self, parameters):\n",
    "        \n",
    "        # Object variable definitions\n",
    "\n",
    "        self.parameters = parameters\n",
    "    # --- dynamic model definition --- #    \n",
    "    def model(self, t, state):\n",
    "        # internal definitions\n",
    "        params = self.parameters\n",
    "        \n",
    "        # define controls here\n",
    "\n",
    "        # state vector\n",
    "        Cx  = state[0]\n",
    "        Cn  = state[1]\n",
    "                # define controls here\n",
    "        FCn    = params['FCn']\n",
    "        # print(FCn,'Fcn')\n",
    "        \n",
    "        # parameters\n",
    "        u_m  = params['u_m'] \n",
    "        K_N  = params['K_N']\n",
    "        u_d  = params['u_d']\n",
    "        Y_nx = params['Y_nx']\n",
    "        \n",
    "        # algebraic equations\n",
    "        \n",
    "        # variable rate equations\n",
    "        dev_Cx  = u_m * Cx * Cn/(Cn+K_N) - u_d*Cx**2\n",
    "        dev_Cn  = - Y_nx * u_m * Cx * Cn/(Cn+K_N) + FCn\n",
    "        # print(\"Shape of dev_Cx:\", np.shape(dev_Cx))\n",
    "        # print(\"Shape of dev_Cn:\", np.shape(dev_Cn))\n",
    "        \n",
    "        return np.array([dev_Cx, dev_Cn],dtype='float64')\n",
    "    \n",
    "    # --- simulation --- #\n",
    "    def simulation(self, steps, tf, x0):\n",
    "        '''\n",
    "        simulate for a number of steps to collect data, and a final time\n",
    "        '''\n",
    "\n",
    "        # external definitions\n",
    "        self.x0, self.tf = x0, tf\n",
    "\n",
    "        # internal definitions\n",
    "        model = self.model\n",
    "        dt    = tf/(steps)\n",
    "        \n",
    "        # compile state trajectories\n",
    "        xt = np.zeros((x0.shape[0],steps+1))\n",
    "        tt = np.zeros((steps+1))\n",
    "        \n",
    "        # initialize simulation\n",
    "        current_state = x0\n",
    "        xt[:,0]       = current_state\n",
    "        tt[0]         = 0.\n",
    "        \n",
    "        # simulation\n",
    "        for s in range(steps):\n",
    "            ode           = scp.ode(model)                  # define ode\n",
    "            ode.set_integrator('lsoda', nsteps=3000)        # define integrator\n",
    "            ode.set_initial_value(current_state, dt)        # set initial value\n",
    "            current_state = list(ode.integrate(ode.t + dt)) # integrate system\n",
    "            xt[:,s+1]     = current_state                   # add current state\n",
    "            tt[s+1]       = (s+1)*dt\n",
    "        \n",
    "        return xt, tt\n"
   ]
  },
  {
   "cell_type": "code",
   "execution_count": 261,
   "metadata": {},
   "outputs": [],
   "source": [
    "def train_data_generation(parameter, initial_c,N_all):\n",
    "    all_xt = []\n",
    "    all_pe = []\n",
    "    # all_tt = []\n",
    "\n",
    "    for i in range(len(N_all)):\n",
    "        parameter['FCn'] = N_all[i]\n",
    "        # print(parameter['FCn'],'fcn')\n",
    "        m            = ModelIntegration(parameter)\n",
    "        xt_i, tt_i       = m.simulation(dstep_N,tf_N,initial_c) \n",
    "        # xt_i, tt_i       = simulation(model, dstep_I,tf_I, initial_c,parameter)\n",
    "        # print(xt_i,'xt_i')\n",
    "        all_xt.append(xt_i)\n",
    "        # all_tt.append(tt_i)\n",
    "        new_init = np.zeros(2)\n",
    "        for j in range(2):\n",
    "            new_init[j] = xt_i[j][-1]\n",
    "        initial_c = new_init\n",
    "        # print(initial_c1,'initial_c1')\n",
    "\n",
    "        all_pe.append(parameter.copy())\n",
    "\n",
    "    for i in range(1,len(all_xt)):\n",
    "        all_xt[i] = np.delete(all_xt[i], 0, axis=1)\n",
    "\n",
    "        # all_tt[i] = np.delete(all_tt[i], 0, axis=1)\n",
    "    # print(all_xt,'all_xt')\n",
    "    xt = all_xt[0]\n",
    "    # tt = all_tt[0]\n",
    "\n",
    "    # Iterate through the remaining arrays and concatenate them\n",
    "    for i in all_xt[1:]:\n",
    "        xt = np.concatenate((xt, i), axis=1)  # Concatenate along the rows\n",
    "\n",
    "    \n",
    "    mean_x = np.zeros(xt.shape[0])\n",
    "    for i in range(xt.shape[0]):\n",
    "        mean_x[i]=np.mean(xt[i])\n",
    "        \n",
    "    mean_x    = mean_x*0.05\n",
    "    std_value = mean_x\n",
    "\n",
    "    x_noise      = np.random.normal(0,mean_x[0],xt.shape[1])\n",
    "    x_noise[0]   = 0\n",
    "    n_noise      = np.random.normal(0,mean_x[1],xt.shape[1])\n",
    "    n_noise[0]   = 0\n",
    "    # q_noise      = np.random.normal(0,mean_x[2],xt.shape[1])\n",
    "    # q_noise[0]   = 0\n",
    "    # f_noise      = np.random.normal(0,mean_x[3],xt.shape[1])\n",
    "    # f_noise[0]   = 0 \n",
    "\n",
    "    obs          = np.array([x_noise,n_noise])\n",
    "    xobs         = xt+obs\n",
    "\n",
    "    for i in range(xobs.shape[0]):\n",
    "        for j in range(len(xobs[i])):\n",
    "            if xobs[i][j]<0:\n",
    "                xobs[i][j] = 1E-7\n",
    "    for i in range(xobs.shape[1]):\n",
    "        if xobs[0][i]<0:\n",
    "            xobs[0][i] = 1e-7\n",
    "        if xobs[1][i]<0:\n",
    "            xobs[1][i] = 1e-7\n",
    "\n",
    "    return xt,xobs,std_value"
   ]
  },
  {
   "cell_type": "code",
   "execution_count": 271,
   "metadata": {},
   "outputs": [],
   "source": [
    "Fcn_doe  = np.array([best_particle_[2],best_particle_[3],best_particle_[4],best_particle_[5]]) "
   ]
  },
  {
   "cell_type": "code",
   "execution_count": 272,
   "metadata": {},
   "outputs": [],
   "source": [
    "init_doe = np.array([best_particle_[0],best_particle_[1]])"
   ]
  },
  {
   "cell_type": "code",
   "execution_count": 273,
   "metadata": {},
   "outputs": [],
   "source": [
    "#validation experiment 1\n",
    "\n",
    "p1_v  = {'u_m' : 0.0923*0.62, 'K_N' : 393.10, 'u_d' : 0.01, 'Y_nx' : 504.49,'FCn':Fcn_doe[0]}\n",
    "initial_c1_v =  init_doe\n",
    "\n",
    "xt1_v,xobs1_v,std_value1_V = train_data_generation(p1_v, initial_c1_v,Fcn_doe)\n"
   ]
  },
  {
   "cell_type": "code",
   "execution_count": 275,
   "metadata": {},
   "outputs": [
    {
     "data": {
      "text/plain": [
       "array([[1.19449628e-01, 2.01910697e-01, 3.90461229e-01, 7.50488366e-01,\n",
       "        1.24601706e+00, 1.57892145e+00, 1.58871659e+00, 1.50520644e+00,\n",
       "        1.44585391e+00, 1.41161588e+00, 1.39346386e+00, 1.38543114e+00,\n",
       "        1.38241426e+00, 1.31383231e+00, 1.22587502e+00, 1.16800046e+00,\n",
       "        1.13519266e+00],\n",
       "       [1.76148312e+02, 3.70949637e+02, 5.05021959e+02, 5.24209822e+02,\n",
       "        3.91043483e+02, 2.06402872e+02, 1.26536621e+02, 1.14843803e+02,\n",
       "        1.18103793e+02, 1.19805000e+02, 1.22240836e+02, 1.23823060e+02,\n",
       "        1.24620169e+02, 8.38817723e+01, 8.08201714e+01, 8.44916690e+01,\n",
       "        8.81700840e+01]])"
      ]
     },
     "execution_count": 275,
     "metadata": {},
     "output_type": "execute_result"
    }
   ],
   "source": [
    "xt1_v"
   ]
  },
  {
   "cell_type": "code",
   "execution_count": 294,
   "metadata": {},
   "outputs": [
    {
     "name": "stdout",
     "output_type": "stream",
     "text": [
      "File saved at: init_Fcn.pkl\n"
     ]
    }
   ],
   "source": [
    "save_pkl(best_particle_, 'init_Fcn.pkl')"
   ]
  },
  {
   "cell_type": "code",
   "execution_count": 251,
   "metadata": {},
   "outputs": [],
   "source": []
  },
  {
   "cell_type": "code",
   "execution_count": 252,
   "metadata": {},
   "outputs": [],
   "source": []
  },
  {
   "cell_type": "code",
   "execution_count": 295,
   "metadata": {},
   "outputs": [],
   "source": [
    "pe1               = allparametervalues(minimums['tmp2'],string_to_list_of_ints(minimums['tmp2']['parameters'].iloc[0]),Fcn_doe[0])\n",
    "\n",
    "pe2               = allparametervalues(minimums['tmp3'],string_to_list_of_ints(minimums['tmp3']['parameters'].iloc[0]),Fcn_doe[0])      \n",
    "\n",
    "h_xt1_doe      = hm_simulation(pe1,init_doe,Fcn_doe)\n",
    "h_xt2_doe      = hm_simulation(pe2,init_doe,Fcn_doe)"
   ]
  },
  {
   "cell_type": "code",
   "execution_count": 296,
   "metadata": {},
   "outputs": [
    {
     "data": {
      "text/plain": [
       "array([[1.19449628e-01, 2.06959914e-01, 5.14081396e-01, 1.02872829e+00,\n",
       "        1.36397826e+00, 1.47642050e+00, 1.46557727e+00, 1.43363939e+00,\n",
       "        1.41198795e+00, 1.39711377e+00, 1.38738267e+00, 1.38248179e+00,\n",
       "        1.38038408e+00, 1.31051060e+00, 1.22290049e+00, 1.16669943e+00,\n",
       "        1.13495691e+00],\n",
       "       [1.76148312e+02, 3.67261377e+02, 4.33464318e+02, 3.31043075e+02,\n",
       "        2.16086388e+02, 1.43352190e+02, 1.20363498e+02, 1.17747221e+02,\n",
       "        1.19388662e+02, 1.18657324e+02, 1.19515496e+02, 1.20288005e+02,\n",
       "        1.20734587e+02, 8.16675453e+01, 7.99843053e+01, 8.36103282e+01,\n",
       "        8.68550414e+01]])"
      ]
     },
     "execution_count": 296,
     "metadata": {},
     "output_type": "execute_result"
    }
   ],
   "source": [
    "h_xt2_doe "
   ]
  },
  {
   "cell_type": "code",
   "execution_count": 297,
   "metadata": {},
   "outputs": [
    {
     "data": {
      "text/plain": [
       "array([[ 1.19449628e-01,  1.92707550e-01,  2.81513592e-01,\n",
       "         2.39352245e-01,  4.20961385e-02,  6.39297553e-04,\n",
       "         6.67509808e-07,  2.85386689e-11, -1.74953681e-15,\n",
       "         2.12144253e-21, -2.44134095e-15,  2.57417880e-22,\n",
       "        -7.68189395e-16,  2.08703128e-23, -8.61877697e-15,\n",
       "         2.61297988e-22, -1.59593202e-15],\n",
       "       [ 1.76148312e+02,  3.74388232e+02,  5.60296434e+02,\n",
       "         8.12108944e+02,  1.15175536e+03,  1.40931995e+03,\n",
       "         1.64560613e+03,  1.88155924e+03,  2.11751201e+03,\n",
       "         2.34859032e+03,  2.57966863e+03,  2.81074695e+03,\n",
       "         3.04182526e+03,  3.18907057e+03,  3.33631589e+03,\n",
       "         3.48356120e+03,  3.63080651e+03]])"
      ]
     },
     "execution_count": 297,
     "metadata": {},
     "output_type": "execute_result"
    }
   ],
   "source": [
    "h_xt1_doe  "
   ]
  },
  {
   "cell_type": "code",
   "execution_count": 227,
   "metadata": {},
   "outputs": [
    {
     "data": {
      "text/plain": [
       "array([[1.  ],\n",
       "       [5.5 ],\n",
       "       [7.75],\n",
       "       [3.25]])"
      ]
     },
     "execution_count": 227,
     "metadata": {},
     "output_type": "execute_result"
    }
   ],
   "source": [
    "Fcn1  "
   ]
  },
  {
   "cell_type": "code",
   "execution_count": 138,
   "metadata": {},
   "outputs": [
    {
     "ename": "NameError",
     "evalue": "name 'hm_simulation' is not defined",
     "output_type": "error",
     "traceback": [
      "\u001b[1;31m---------------------------------------------------------------------------\u001b[0m",
      "\u001b[1;31mNameError\u001b[0m                                 Traceback (most recent call last)",
      "\u001b[1;32mc:\\Users\\wangh\\OneDrive - Imperial College London\\Hybrid modelling project\\code\\HWICwork\\2023\\Nov\\11 01\\data treatment\\data_treatment.ipynb Cell 50\u001b[0m line \u001b[0;36m<cell line: 11>\u001b[1;34m()\u001b[0m\n\u001b[0;32m      <a href='vscode-notebook-cell:/c%3A/Users/wangh/OneDrive%20-%20Imperial%20College%20London/Hybrid%20modelling%20project/code/HWICwork/2023/Nov/11%2001/data%20treatment/data_treatment.ipynb#X66sZmlsZQ%3D%3D?line=6'>7</a>\u001b[0m pe3_exp1               \u001b[39m=\u001b[39m allparametervalues(minimums[\u001b[39m'\u001b[39m\u001b[39mtmp3\u001b[39m\u001b[39m'\u001b[39m],string_to_list_of_ints(minimums[\u001b[39m'\u001b[39m\u001b[39mtmp3\u001b[39m\u001b[39m'\u001b[39m][\u001b[39m'\u001b[39m\u001b[39mparameters\u001b[39m\u001b[39m'\u001b[39m]\u001b[39m.\u001b[39miloc[\u001b[39m0\u001b[39m]),Fcn1[\u001b[39m0\u001b[39m])      \n\u001b[0;32m      <a href='vscode-notebook-cell:/c%3A/Users/wangh/OneDrive%20-%20Imperial%20College%20London/Hybrid%20modelling%20project/code/HWICwork/2023/Nov/11%2001/data%20treatment/data_treatment.ipynb#X66sZmlsZQ%3D%3D?line=7'>8</a>\u001b[0m pe3_exp2               \u001b[39m=\u001b[39m allparametervalues(minimums[\u001b[39m'\u001b[39m\u001b[39mtmp3\u001b[39m\u001b[39m'\u001b[39m],string_to_list_of_ints(minimums[\u001b[39m'\u001b[39m\u001b[39mtmp3\u001b[39m\u001b[39m'\u001b[39m][\u001b[39m'\u001b[39m\u001b[39mparameters\u001b[39m\u001b[39m'\u001b[39m]\u001b[39m.\u001b[39miloc[\u001b[39m0\u001b[39m]),Fcn2[\u001b[39m0\u001b[39m])   \n\u001b[1;32m---> <a href='vscode-notebook-cell:/c%3A/Users/wangh/OneDrive%20-%20Imperial%20College%20London/Hybrid%20modelling%20project/code/HWICwork/2023/Nov/11%2001/data%20treatment/data_treatment.ipynb#X66sZmlsZQ%3D%3D?line=10'>11</a>\u001b[0m h_xt2_exp1      \u001b[39m=\u001b[39m hm_simulation(pe2_exp1,h_x01,Fcn1)\n\u001b[0;32m     <a href='vscode-notebook-cell:/c%3A/Users/wangh/OneDrive%20-%20Imperial%20College%20London/Hybrid%20modelling%20project/code/HWICwork/2023/Nov/11%2001/data%20treatment/data_treatment.ipynb#X66sZmlsZQ%3D%3D?line=11'>12</a>\u001b[0m h_xt2_exp2      \u001b[39m=\u001b[39m hm_simulation(pe2_exp2,h_x02,Fcn2)\n\u001b[0;32m     <a href='vscode-notebook-cell:/c%3A/Users/wangh/OneDrive%20-%20Imperial%20College%20London/Hybrid%20modelling%20project/code/HWICwork/2023/Nov/11%2001/data%20treatment/data_treatment.ipynb#X66sZmlsZQ%3D%3D?line=12'>13</a>\u001b[0m h_xt3_exp1      \u001b[39m=\u001b[39m hm_simulation(pe3_exp1,h_x01,Fcn1)\n",
      "\u001b[1;31mNameError\u001b[0m: name 'hm_simulation' is not defined"
     ]
    }
   ],
   "source": []
  },
  {
   "cell_type": "code",
   "execution_count": 229,
   "metadata": {},
   "outputs": [],
   "source": []
  },
  {
   "cell_type": "code",
   "execution_count": 230,
   "metadata": {},
   "outputs": [
    {
     "data": {
      "text/plain": [
       "array([  0.,  24.,  48.,  72.,  96., 120., 144., 168., 192., 216., 240.,\n",
       "       264., 288., 312., 336., 360., 384.])"
      ]
     },
     "execution_count": 230,
     "metadata": {},
     "output_type": "execute_result"
    }
   ],
   "source": [
    "tt1"
   ]
  },
  {
   "cell_type": "code",
   "execution_count": 231,
   "metadata": {},
   "outputs": [
    {
     "data": {
      "image/png": "[encoded data removed]",
      "text/plain": [
       "<Figure size 432x288 with 1 Axes>"
      ]
     },
     "metadata": {
      "needs_background": "light"
     },
     "output_type": "display_data"
    },
    {
     "data": {
      "image/png": "[encoded data removed]",
      "text/plain": [
       "<Figure size 432x288 with 1 Axes>"
      ]
     },
     "metadata": {
      "needs_background": "light"
     },
     "output_type": "display_data"
    }
   ],
   "source": []
  },
  {
   "cell_type": "code",
   "execution_count": null,
   "metadata": {},
   "outputs": [
    {
     "data": {
      "image/png": "[encoded data removed]",
      "text/plain": [
       "<Figure size 432x288 with 1 Axes>"
      ]
     },
     "metadata": {
      "needs_background": "light"
     },
     "output_type": "display_data"
    },
    {
     "data": {
      "image/png": "[encoded data removed]",
      "text/plain": [
       "<Figure size 432x288 with 1 Axes>"
      ]
     },
     "metadata": {
      "needs_background": "light"
     },
     "output_type": "display_data"
    }
   ],
   "source": [
    "check_plot(xobs2,h_xt2_exp2,tt1)"
   ]
  },
  {
   "cell_type": "code",
   "execution_count": null,
   "metadata": {},
   "outputs": [
    {
     "data": {
      "image/png": "[encoded data removed]",
      "text/plain": [
       "<Figure size 432x288 with 1 Axes>"
      ]
     },
     "metadata": {
      "needs_background": "light"
     },
     "output_type": "display_data"
    },
    {
     "data": {
      "image/png": "[encoded data removed]",
      "text/plain": [
       "<Figure size 432x288 with 1 Axes>"
      ]
     },
     "metadata": {
      "needs_background": "light"
     },
     "output_type": "display_data"
    }
   ],
   "source": [
    "check_plot(xobs1,h_xt3_exp1,tt1)"
   ]
  },
  {
   "cell_type": "code",
   "execution_count": null,
   "metadata": {},
   "outputs": [
    {
     "data": {
      "image/png": "[encoded data removed]",
      "text/plain": [
       "<Figure size 432x288 with 1 Axes>"
      ]
     },
     "metadata": {
      "needs_background": "light"
     },
     "output_type": "display_data"
    },
    {
     "data": {
      "image/png": "[encoded data removed]",
      "text/plain": [
       "<Figure size 432x288 with 1 Axes>"
      ]
     },
     "metadata": {
      "needs_background": "light"
     },
     "output_type": "display_data"
    }
   ],
   "source": [
    "check_plot(xobs2,h_xt3_exp2,tt1)"
   ]
  },
  {
   "cell_type": "code",
   "execution_count": null,
   "metadata": {},
   "outputs": [],
   "source": []
  }
 ],
 "metadata": {
  "kernelspec": {
   "display_name": "Python 3.9.9 ('env')",
   "language": "python",
   "name": "python3"
  },
  "language_info": {
   "codemirror_mode": {
    "name": "ipython",
    "version": 3
   },
   "file_extension": ".py",
   "mimetype": "text/x-python",
   "name": "python",
   "nbconvert_exporter": "python",
   "pygments_lexer": "ipython3",
   "version": "3.9.13"
  },
  "orig_nbformat": 4,
  "vscode": {
   "interpreter": {
    "hash": "0b975ef14a7c349b5b53fa51dcf9e0d25501f9719e727a1ab429ed23704c47f1"
   }
  }
 },
 "nbformat": 4,
 "nbformat_minor": 2
}
