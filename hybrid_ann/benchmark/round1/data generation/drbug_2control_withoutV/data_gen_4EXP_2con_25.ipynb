{
 "cells": [
  {
   "cell_type": "code",
   "execution_count": 100,
   "metadata": {},
   "outputs": [],
   "source": [
    "import numpy as np\n",
    "import random\n",
    "import scipy.integrate as scp\n",
    "import numpy.random as rnd\n",
    "import time\n",
    "import matplotlib.pyplot as plt\n",
    "import numpy.random as rnd\n",
    "import copy\n",
    "from matplotlib.pyplot import figure\n",
    "from pyomo.environ import *\n",
    "from pyomo.dae import *\n",
    "import pandas as pd\n",
    "import pickle\n",
    "import scipy.stats\n",
    "from math import comb\n",
    "from numpy.polynomial import polynomial as P\n",
    "\n",
    "eps  = np.finfo(float).eps\n",
    "np.random.seed(1)"
   ]
  },
  {
   "attachments": {},
   "cell_type": "markdown",
   "metadata": {},
   "source": [
    "Gneneration of 3 sets of experimental data with different nitrate and light intensity, varies from low to high, number of datapoints for each exps is 26, noise level is 5% of means."
   ]
  },
  {
   "cell_type": "code",
   "execution_count": 101,
   "metadata": {},
   "outputs": [],
   "source": [
    "''' Data treatment'''\n",
    "def save_pkl(item, fname):\n",
    "    sn = 'tmp25/' + fname\n",
    "    with open(sn, 'wb') as handle:\n",
    "        pickle.dump(item, handle) #, protocol=pickle.HIGHEST_PROTOCOL)\n",
    "    print(f'File saved at: {sn}')\n",
    "    return None\n",
    "# return None\n",
    "\n",
    "def load_pkl(fname):\n",
    "    with open(fname, 'rb') as handle:\n",
    "        ans = pickle.load(handle)\n",
    "    print(f'Loaded from: {fname}')\n",
    "    return ans"
   ]
  },
  {
   "cell_type": "code",
   "execution_count": 102,
   "metadata": {},
   "outputs": [],
   "source": [
    "def to_dict(x,dt):\n",
    "    obs = list(x)\n",
    "    # tp = list(time)\n",
    "    dicx = {}\n",
    "    for i in range(len(x)):\n",
    "        dicx[dt*i] = obs[i]          \n",
    "    return dicx\n",
    "\n",
    "def get_grad(x, t):\n",
    "    dxdt = [[],[],[],[]]\n",
    "    for n in range(x.shape[0]):\n",
    "        for i in range(len(x[0]) - 1):\n",
    "            dxdt[n].append((x[n][i + 1] - x[n][i])/(t[i + 1] - t[i]))\n",
    "        dxdt[n].append(dxdt[n][-1])\n",
    "    return dxdt\n"
   ]
  },
  {
   "cell_type": "code",
   "execution_count": 103,
   "metadata": {},
   "outputs": [],
   "source": [
    "tf    = 240\n",
    "# tf    = 16*24\n",
    "steps_= 24\n",
    "dt    = tf/steps_ #dt is fixed\n",
    "\n",
    "\n",
    "num_N = 4\n",
    "tf_N  = tf/(num_N) # tf_N is fixed\n",
    "dt_N = 0.5\n",
    "t_N = np.arange(0,tf_N+dt_N,dt_N)\n",
    "\n",
    "dstep_N = len(t_N)# this is the number of steps in each interval between chaning the fedding rate"
   ]
  },
  {
   "cell_type": "code",
   "execution_count": 104,
   "metadata": {},
   "outputs": [
    {
     "data": {
      "text/plain": [
       "6.0"
      ]
     },
     "execution_count": 104,
     "metadata": {},
     "output_type": "execute_result"
    }
   ],
   "source": [
    "tf_N/dt\n"
   ]
  },
  {
   "cell_type": "code",
   "execution_count": 105,
   "metadata": {},
   "outputs": [],
   "source": [
    "t = np.linspace(0, 240, num=25)"
   ]
  },
  {
   "cell_type": "code",
   "execution_count": 106,
   "metadata": {},
   "outputs": [
    {
     "data": {
      "text/plain": [
       "array([  0.,  10.,  20.,  30.,  40.,  50.,  60.,  70.,  80.,  90., 100.,\n",
       "       110., 120., 130., 140., 150., 160., 170., 180., 190., 200., 210.,\n",
       "       220., 230., 240.])"
      ]
     },
     "execution_count": 106,
     "metadata": {},
     "output_type": "execute_result"
    }
   ],
   "source": [
    "t"
   ]
  },
  {
   "cell_type": "code",
   "execution_count": 107,
   "metadata": {},
   "outputs": [],
   "source": [
    "t_simulation = np.arange(0,tf+dt_N,dt_N)"
   ]
  },
  {
   "cell_type": "code",
   "execution_count": 108,
   "metadata": {},
   "outputs": [
    {
     "data": {
      "text/plain": [
       "array([  0. ,   0.5,   1. ,   1.5,   2. ,   2.5,   3. ,   3.5,   4. ,\n",
       "         4.5,   5. ,   5.5,   6. ,   6.5,   7. ,   7.5,   8. ,   8.5,\n",
       "         9. ,   9.5,  10. ,  10.5,  11. ,  11.5,  12. ,  12.5,  13. ,\n",
       "        13.5,  14. ,  14.5,  15. ,  15.5,  16. ,  16.5,  17. ,  17.5,\n",
       "        18. ,  18.5,  19. ,  19.5,  20. ,  20.5,  21. ,  21.5,  22. ,\n",
       "        22.5,  23. ,  23.5,  24. ,  24.5,  25. ,  25.5,  26. ,  26.5,\n",
       "        27. ,  27.5,  28. ,  28.5,  29. ,  29.5,  30. ,  30.5,  31. ,\n",
       "        31.5,  32. ,  32.5,  33. ,  33.5,  34. ,  34.5,  35. ,  35.5,\n",
       "        36. ,  36.5,  37. ,  37.5,  38. ,  38.5,  39. ,  39.5,  40. ,\n",
       "        40.5,  41. ,  41.5,  42. ,  42.5,  43. ,  43.5,  44. ,  44.5,\n",
       "        45. ,  45.5,  46. ,  46.5,  47. ,  47.5,  48. ,  48.5,  49. ,\n",
       "        49.5,  50. ,  50.5,  51. ,  51.5,  52. ,  52.5,  53. ,  53.5,\n",
       "        54. ,  54.5,  55. ,  55.5,  56. ,  56.5,  57. ,  57.5,  58. ,\n",
       "        58.5,  59. ,  59.5,  60. ,  60.5,  61. ,  61.5,  62. ,  62.5,\n",
       "        63. ,  63.5,  64. ,  64.5,  65. ,  65.5,  66. ,  66.5,  67. ,\n",
       "        67.5,  68. ,  68.5,  69. ,  69.5,  70. ,  70.5,  71. ,  71.5,\n",
       "        72. ,  72.5,  73. ,  73.5,  74. ,  74.5,  75. ,  75.5,  76. ,\n",
       "        76.5,  77. ,  77.5,  78. ,  78.5,  79. ,  79.5,  80. ,  80.5,\n",
       "        81. ,  81.5,  82. ,  82.5,  83. ,  83.5,  84. ,  84.5,  85. ,\n",
       "        85.5,  86. ,  86.5,  87. ,  87.5,  88. ,  88.5,  89. ,  89.5,\n",
       "        90. ,  90.5,  91. ,  91.5,  92. ,  92.5,  93. ,  93.5,  94. ,\n",
       "        94.5,  95. ,  95.5,  96. ,  96.5,  97. ,  97.5,  98. ,  98.5,\n",
       "        99. ,  99.5, 100. , 100.5, 101. , 101.5, 102. , 102.5, 103. ,\n",
       "       103.5, 104. , 104.5, 105. , 105.5, 106. , 106.5, 107. , 107.5,\n",
       "       108. , 108.5, 109. , 109.5, 110. , 110.5, 111. , 111.5, 112. ,\n",
       "       112.5, 113. , 113.5, 114. , 114.5, 115. , 115.5, 116. , 116.5,\n",
       "       117. , 117.5, 118. , 118.5, 119. , 119.5, 120. , 120.5, 121. ,\n",
       "       121.5, 122. , 122.5, 123. , 123.5, 124. , 124.5, 125. , 125.5,\n",
       "       126. , 126.5, 127. , 127.5, 128. , 128.5, 129. , 129.5, 130. ,\n",
       "       130.5, 131. , 131.5, 132. , 132.5, 133. , 133.5, 134. , 134.5,\n",
       "       135. , 135.5, 136. , 136.5, 137. , 137.5, 138. , 138.5, 139. ,\n",
       "       139.5, 140. , 140.5, 141. , 141.5, 142. , 142.5, 143. , 143.5,\n",
       "       144. , 144.5, 145. , 145.5, 146. , 146.5, 147. , 147.5, 148. ,\n",
       "       148.5, 149. , 149.5, 150. , 150.5, 151. , 151.5, 152. , 152.5,\n",
       "       153. , 153.5, 154. , 154.5, 155. , 155.5, 156. , 156.5, 157. ,\n",
       "       157.5, 158. , 158.5, 159. , 159.5, 160. , 160.5, 161. , 161.5,\n",
       "       162. , 162.5, 163. , 163.5, 164. , 164.5, 165. , 165.5, 166. ,\n",
       "       166.5, 167. , 167.5, 168. , 168.5, 169. , 169.5, 170. , 170.5,\n",
       "       171. , 171.5, 172. , 172.5, 173. , 173.5, 174. , 174.5, 175. ,\n",
       "       175.5, 176. , 176.5, 177. , 177.5, 178. , 178.5, 179. , 179.5,\n",
       "       180. , 180.5, 181. , 181.5, 182. , 182.5, 183. , 183.5, 184. ,\n",
       "       184.5, 185. , 185.5, 186. , 186.5, 187. , 187.5, 188. , 188.5,\n",
       "       189. , 189.5, 190. , 190.5, 191. , 191.5, 192. , 192.5, 193. ,\n",
       "       193.5, 194. , 194.5, 195. , 195.5, 196. , 196.5, 197. , 197.5,\n",
       "       198. , 198.5, 199. , 199.5, 200. , 200.5, 201. , 201.5, 202. ,\n",
       "       202.5, 203. , 203.5, 204. , 204.5, 205. , 205.5, 206. , 206.5,\n",
       "       207. , 207.5, 208. , 208.5, 209. , 209.5, 210. , 210.5, 211. ,\n",
       "       211.5, 212. , 212.5, 213. , 213.5, 214. , 214.5, 215. , 215.5,\n",
       "       216. , 216.5, 217. , 217.5, 218. , 218.5, 219. , 219.5, 220. ,\n",
       "       220.5, 221. , 221.5, 222. , 222.5, 223. , 223.5, 224. , 224.5,\n",
       "       225. , 225.5, 226. , 226.5, 227. , 227.5, 228. , 228.5, 229. ,\n",
       "       229.5, 230. , 230.5, 231. , 231.5, 232. , 232.5, 233. , 233.5,\n",
       "       234. , 234.5, 235. , 235.5, 236. , 236.5, 237. , 237.5, 238. ,\n",
       "       238.5, 239. , 239.5, 240. ])"
      ]
     },
     "execution_count": 108,
     "metadata": {},
     "output_type": "execute_result"
    }
   ],
   "source": [
    "t_simulation"
   ]
  },
  {
   "cell_type": "code",
   "execution_count": 109,
   "metadata": {},
   "outputs": [],
   "source": [
    "t_fn1 = np.arange(0,tf/steps_+dt_N,dt_N)"
   ]
  },
  {
   "cell_type": "code",
   "execution_count": 110,
   "metadata": {},
   "outputs": [
    {
     "name": "stdout",
     "output_type": "stream",
     "text": [
      "0.0\n",
      "10.0\n",
      "20.0\n",
      "30.0\n",
      "40.0\n",
      "50.0\n",
      "60.0\n",
      "70.0\n",
      "80.0\n",
      "90.0\n",
      "100.0\n",
      "110.0\n",
      "120.0\n",
      "130.0\n",
      "140.0\n",
      "150.0\n",
      "160.0\n",
      "170.0\n",
      "180.0\n",
      "190.0\n",
      "200.0\n",
      "210.0\n",
      "220.0\n",
      "230.0\n",
      "240.0\n"
     ]
    }
   ],
   "source": [
    "for i in range(len(t)):\n",
    "    print(t_simulation[(len(t_fn1)-1)*i])"
   ]
  },
  {
   "cell_type": "code",
   "execution_count": 111,
   "metadata": {},
   "outputs": [],
   "source": [
    "from scipy.stats import qmc\n",
    "\n",
    "sampler = qmc.Sobol(d=2, scramble=False)\n",
    "u_sample = sampler.random_base2(m=4)\n",
    "\n",
    "u_l_bounds = [0,100]   # feeding N, I\n",
    "u_u_bounds = [0.5,200] # the first element represent Fin*Nin (flowrate*concentration)\n",
    "\n",
    "u_con = qmc.scale(u_sample,u_l_bounds,u_u_bounds)"
   ]
  },
  {
   "cell_type": "code",
   "execution_count": 112,
   "metadata": {},
   "outputs": [],
   "source": [
    "u_con = [u_con[i:i+4] for i in range(0, len(u_con), 4)]"
   ]
  },
  {
   "cell_type": "code",
   "execution_count": 113,
   "metadata": {},
   "outputs": [
    {
     "data": {
      "text/plain": [
       "[array([[0.00e+00, 1.00e+02],\n",
       "        [2.50e-01, 1.50e+02],\n",
       "        [3.75e-01, 1.25e+02],\n",
       "        [1.25e-01, 1.75e+02]]),\n",
       " array([[1.875e-01, 1.375e+02],\n",
       "        [4.375e-01, 1.875e+02],\n",
       "        [3.125e-01, 1.125e+02],\n",
       "        [6.250e-02, 1.625e+02]]),\n",
       " array([[9.3750e-02, 1.3125e+02],\n",
       "        [3.4375e-01, 1.8125e+02],\n",
       "        [4.6875e-01, 1.0625e+02],\n",
       "        [2.1875e-01, 1.5625e+02]]),\n",
       " array([[1.5625e-01, 1.1875e+02],\n",
       "        [4.0625e-01, 1.6875e+02],\n",
       "        [2.8125e-01, 1.4375e+02],\n",
       "        [3.1250e-02, 1.9375e+02]])]"
      ]
     },
     "execution_count": 113,
     "metadata": {},
     "output_type": "execute_result"
    }
   ],
   "source": [
    "u_con"
   ]
  },
  {
   "cell_type": "code",
   "execution_count": 114,
   "metadata": {},
   "outputs": [],
   "source": [
    "ini_sampler = qmc.Sobol(d=1, scramble=False)\n",
    "ini_N_sample = ini_sampler.random_base2(m=2)\n",
    "\n",
    "initial_l_bounds = [15]   #initial N\n",
    "initial_u_bounds = [50]\n",
    "operation_con = qmc.scale(ini_N_sample,initial_l_bounds,initial_u_bounds)"
   ]
  },
  {
   "cell_type": "markdown",
   "metadata": {},
   "source": []
  },
  {
   "cell_type": "code",
   "execution_count": 115,
   "metadata": {},
   "outputs": [
    {
     "data": {
      "text/plain": [
       "array([[15.  ],\n",
       "       [32.5 ],\n",
       "       [41.25],\n",
       "       [23.75]])"
      ]
     },
     "execution_count": 115,
     "metadata": {},
     "output_type": "execute_result"
    }
   ],
   "source": [
    "operation_con"
   ]
  },
  {
   "cell_type": "code",
   "execution_count": 116,
   "metadata": {},
   "outputs": [],
   "source": [
    "# N_range = load_pkl('operation data/N_range.pkl')\n",
    "# I0_range = load_pkl('operation data/I0_range.pkl')\n",
    "\n",
    "\n",
    "\n",
    "# I1 = I0_range[0]\n",
    "# I2 = I0_range[1]\n",
    "# I3 = I0_range[2]\n",
    "\n",
    "# I_max = np.max([I1,I2,I3])\n",
    "\n",
    "# I_all = np.array([I1,I2,I3])"
   ]
  },
  {
   "cell_type": "code",
   "execution_count": 117,
   "metadata": {},
   "outputs": [],
   "source": [
    "class ModelIntegration:\n",
    "    \n",
    "    # --- Initialize model --- #\n",
    "    def __init__(self, parameters):\n",
    "\n",
    "        # Object variable definitions\n",
    "        self.parameters  =  parameters\n",
    "\n",
    "        \n",
    "    # --- Dynamic model definition --- #    \n",
    "    def model(self, t, state):\n",
    "        # Internal definitions\n",
    "        params = self.parameters\n",
    "        \n",
    "        # State vector\n",
    "        x = state[0]\n",
    "        n = state[1]\n",
    "        q = state[2]\n",
    "        f = state[3]\n",
    "        # V = state[4]\n",
    "\n",
    "        # control variables\n",
    "\n",
    "        I0      = params['I0']\n",
    "        F_in   = params['F_in']\n",
    "        # N_in    = params['N_in']    \n",
    "\n",
    "\n",
    "        \n",
    "        # Parameters\n",
    "\n",
    "        kq      = params['kq']\n",
    "        ud      = params['ud']\n",
    "        un      = params['un']\n",
    "        kn      = params['kn']\n",
    "        theta   = params['theta']\n",
    "        gamma   = params['gamma']\n",
    "        epsilon = params['epsilon']\n",
    "        \n",
    "        tau     = params['tau']\n",
    "        delta   = params['delta']\n",
    "        phi     = params['phi']\n",
    "        ks      = params['ks']\n",
    "        ki      = params['ki']\n",
    "        alpha   = params['alpha']\n",
    "        belta   = params['belta']\n",
    "        uM      = params['uM']  \n",
    "        \n",
    "        \n",
    "        \n",
    "        # Algebraic equations, calculation of um\n",
    "         #Initial of L and I\n",
    "        L         = 4.4E-2\n",
    "        # I0      = 80\n",
    "        def I_e(z):\n",
    "\n",
    "            I_z   = I0*np.exp(-(alpha*x+belta)*z) \n",
    "            I     = uM*I_z/(I_z+ks+I_z**2/ki)\n",
    "            return I\n",
    "\n",
    "\n",
    "\n",
    "\n",
    "\n",
    "        um    = scp.quad(I_e, 0, L)\n",
    "        um    = um[0]/L\n",
    "  \n",
    "\n",
    "        u0     = um*(1-kq/q)\n",
    "        \n",
    "        \n",
    "        # Differential equations\n",
    "        dev_x  = (u0 - ud)*x\n",
    "        dev_n  = F_in-un*(n/(n+kn))*x\n",
    "\n",
    "        dev_q  = -F_in/x +un*(n/(n+kn)) - (u0 - ud)*q\n",
    "\n",
    "        dev_f  = u0*(theta*q-epsilon*f) - gamma*un*(n/(n+kn))+ud*epsilon*f\n",
    "\n",
    "            \n",
    "        # # fluorescence\n",
    "        # Y      = (np.exp(tau*q)/(np.exp(tau*q)+delta))+phi\n",
    "\n",
    "        return np.array([dev_x,dev_n,dev_q,dev_f], dtype='float64')\n",
    "    \n",
    "    # # --- Simulation --- #\n",
    "    # def simulation(self, initial_state,steps):\n",
    "    #     # Internal definitions\n",
    "   \n",
    "    #     model   = self.model\n",
    "        \n",
    "    #     # Compile state trajectories\n",
    "    #     statet = np.zeros((initial_state.shape[0], steps + 1))\n",
    "    #     tt     = np.zeros((steps+1))\n",
    "        \n",
    "    #     # Initialize simulation\n",
    "    #     current_state = initial_state\n",
    "    #     statet[:,0]   = current_state\n",
    "    #     tt[0]         = 0.\n",
    "        \n",
    "    #     # Simulation\n",
    "    #     for s in range(steps):\n",
    "    #         ode           = scp.ode(model)                  # Define ode\n",
    "    #         ode.set_integrator('lsoda', nsteps=3000)        # Define integrator\n",
    "    #         ode.set_initial_value(current_state, dt)        # Set initial value\n",
    "    #         current_state = list(ode.integrate(ode.t + dt)) # Integrate system\n",
    "    #         statet[:,s+1] = current_state                   # Odd current state Note: here we can add randomnes as: + RandomNormal noise\n",
    "    #         tt[s+1]       = (s+1)*dt\n",
    "        \n",
    "    #     return statet, tt   \n",
    "\n",
    "        # --- simulation --- #\n",
    "    def simulation(self, dt, tf, x0):\n",
    "        '''\n",
    "        simulate for a number of steps to collect data, and a final time\n",
    "        '''\n",
    "\n",
    "        # external definitions\n",
    "        self.x0, self.tf = x0, tf\n",
    "\n",
    "        # internal definitions\n",
    "        model = self.model\n",
    "        steps    = int(tf/dt)\n",
    "        \n",
    "        # compile state trajectories\n",
    "        xt = np.zeros((x0.shape[0],steps+1))\n",
    "        tt = np.zeros((steps+1))\n",
    "        \n",
    "        # initialize simulation\n",
    "        current_state = x0\n",
    "        xt[:,0]       = current_state\n",
    "        tt[0]         = 0.\n",
    "        \n",
    "        # simulation\n",
    "        for s in range(steps):\n",
    "            ode           = scp.ode(model)                  # define ode\n",
    "            ode.set_integrator('lsoda', nsteps=3000)        # define integrator\n",
    "            ode.set_initial_value(current_state, dt)        # set initial value\n",
    "            current_state = list(ode.integrate(ode.t + dt)) # integrate system\n",
    "            xt[:,s+1]     = current_state                   # add current state\n",
    "            tt[s+1]       = (s+1)*dt\n",
    "        \n",
    "        return xt, tt"
   ]
  },
  {
   "cell_type": "code",
   "execution_count": 118,
   "metadata": {},
   "outputs": [
    {
     "data": {
      "text/plain": [
       "60.0"
      ]
     },
     "execution_count": 118,
     "metadata": {},
     "output_type": "execute_result"
    }
   ],
   "source": [
    "tf_N"
   ]
  },
  {
   "cell_type": "code",
   "execution_count": 119,
   "metadata": {},
   "outputs": [],
   "source": [
    "def train_data_generation(parameter, initial_c,mu_all):\n",
    "    all_xt = []\n",
    "    # all_pe = []\n",
    "    # all_tt = []\n",
    "\n",
    "    for i in range(len(mu_all)):\n",
    "        parameter['F_in'] = mu_all[i][0]\n",
    "        print(parameter['F_in'],'F_in')\n",
    "        parameter['I0'] = mu_all[i][1]\n",
    "        print(parameter['I0'],'I0')\n",
    "        m            = ModelIntegration(parameter)\n",
    "        xt_i, tt_i       = m.simulation(dt_N,tf_N,initial_c) \n",
    "        # xt_i, tt_i       = simulation(model, dstep_I,tf_I, initial_c,parameter)\n",
    "        # print(xt_i.shape[1],'xt_i shape')\n",
    "        all_xt.append(xt_i)\n",
    "        # all_tt.append(tt_i)\n",
    "        new_init = np.zeros(xt_i.shape[0])\n",
    "        for j in range(xt_i.shape[0]):\n",
    "            new_init[j] = xt_i[j][-1]\n",
    "        initial_c = new_init\n",
    "        # print(initial_c1,'initial_c1')\n",
    "\n",
    "        # all_pe.append(parameter.copy())\n",
    "\n",
    "    for i in range(1,len(all_xt)):\n",
    "        all_xt[i] = np.delete(all_xt[i], 0, axis=1)\n",
    "\n",
    "\n",
    "        # all_tt[i] = np.delete(all_tt[i], 0, axis=1)\n",
    "    # print(all_xt,'all_xt')\n",
    "    xt = all_xt[0]\n",
    "    # tt = all_tt[0]\n",
    "\n",
    "    # Iterate through the remaining arrays and concatenate them\n",
    "    for i in all_xt[1:]:\n",
    "        xt = np.concatenate((xt, i), axis=1)  # Concatenate along the rows\n",
    "\n",
    "    \n",
    "    mean_x = np.zeros(xt.shape[0])\n",
    "    for i in range(xt.shape[0]):\n",
    "        mean_x[i]=np.mean(xt[i])\n",
    "        \n",
    "    mean_x    = mean_x*0.05\n",
    "    print(mean_x ,'mean_x')\n",
    "    std_value = mean_x\n",
    "\n",
    "    x_noise      = np.random.normal(0,mean_x[0],xt.shape[1])\n",
    "    x_noise[0]   = 0\n",
    "    n_noise      = np.random.normal(0,mean_x[1],xt.shape[1])\n",
    "    n_noise[0]   = 0\n",
    "    q_noise      = np.random.normal(0,mean_x[2],xt.shape[1])\n",
    "    q_noise[0]   = 0\n",
    "    f_noise      = np.random.normal(0,mean_x[3],xt.shape[1])\n",
    "    f_noise[0]   = 0\n",
    "\n",
    "\n",
    "\n",
    "    obs          = np.array([x_noise,n_noise,q_noise,f_noise])\n",
    "    xobs         = xt+obs\n",
    "\n",
    "    for i in range(xobs.shape[0]):\n",
    "        for j in range(len(xobs[i])):\n",
    "            if xobs[i][j]<0:\n",
    "                xobs[i][j] = 1E-7\n",
    "    for i in range(xobs.shape[1]):\n",
    "        if xobs[0][i]<0:\n",
    "            xobs[0][i] = 1e-7\n",
    "        if xobs[1][i]<0:\n",
    "            xobs[1][i] = 1e-7\n",
    "\n",
    "    # return xt\n",
    "    return xt,xobs,std_value\n",
    "\n",
    "    # return xt"
   ]
  },
  {
   "cell_type": "code",
   "execution_count": 120,
   "metadata": {},
   "outputs": [],
   "source": [
    "def data_correction(xt,t):\n",
    "    xt_ = np.zeros([len(t),xt.shape[0]])\n",
    "    for i in range(len(t)):\n",
    "        # print((len(t_fn1)-1)*i)\n",
    "        xt_[i] = xt.T[(len(t_fn1)-1)*i]\n",
    "        # print(xt1_.T[(len(t_fn1)-1)*i])\n",
    "\n",
    "    xt_ = xt_.T\n",
    "\n",
    "    return xt_"
   ]
  },
  {
   "cell_type": "code",
   "execution_count": 121,
   "metadata": {},
   "outputs": [
    {
     "data": {
      "text/plain": [
       "array([[15.  ],\n",
       "       [32.5 ],\n",
       "       [41.25],\n",
       "       [23.75]])"
      ]
     },
     "execution_count": 121,
     "metadata": {},
     "output_type": "execute_result"
    }
   ],
   "source": [
    "operation_con"
   ]
  },
  {
   "cell_type": "code",
   "execution_count": 122,
   "metadata": {},
   "outputs": [
    {
     "name": "stderr",
     "output_type": "stream",
     "text": [
      "C:\\Users\\wangh\\AppData\\Local\\Temp\\ipykernel_23092\\715741406.py:3: VisibleDeprecationWarning: Creating an ndarray from ragged nested sequences (which is a list-or-tuple of lists-or-tuples-or ndarrays with different lengths or shapes) is deprecated. If you meant to do this, you must specify 'dtype=object' when creating the ndarray.\n",
      "  initial_c1 = np.array([0.18,operation_con[0],80,120])  #\n"
     ]
    },
    {
     "name": "stdout",
     "output_type": "stream",
     "text": [
      "0.0 F_in\n",
      "100.0 I0\n",
      "0.25 F_in\n",
      "150.0 I0\n",
      "0.375 F_in\n",
      "125.0 I0\n",
      "0.125 F_in\n",
      "175.0 I0\n",
      "[ 0.05933351  0.03686169  1.40450043 16.05945222] mean_x\n"
     ]
    }
   ],
   "source": [
    "#exp 1\n",
    "p1  = {'uM' : 0.359,'kq':19.63,'ud':0., 'un':2.692,'kn':0.8,'theta':6.691,'gamma':7.53,'epsilon':0.001,'tau':0.138,'delta':9.904,'phi':-0.456,'ks':91.2,'ki':100,'alpha':196.4,'belta':0,'F_in':u_con[0][0][0],'I0':u_con[0][0][1]}\n",
    "initial_c1 = np.array([0.18,operation_con[0],80,120])  #\n",
    "xt1_,xobs1_,std_value1 = train_data_generation(p1, initial_c1,u_con[0])\n"
   ]
  },
  {
   "cell_type": "code",
   "execution_count": 123,
   "metadata": {},
   "outputs": [
    {
     "data": {
      "text/plain": [
       "True"
      ]
     },
     "execution_count": 123,
     "metadata": {},
     "output_type": "execute_result"
    }
   ],
   "source": [
    "(xt1_>= 0).all()"
   ]
  },
  {
   "cell_type": "code",
   "execution_count": 124,
   "metadata": {},
   "outputs": [],
   "source": [
    "xt1 = data_correction(xt1_,t)\n",
    "xobs1 = data_correction(xobs1_,t)"
   ]
  },
  {
   "cell_type": "code",
   "execution_count": 125,
   "metadata": {},
   "outputs": [
    {
     "data": {
      "image/png": "[encoded data removed]",
      "text/plain": [
       "<Figure size 432x288 with 1 Axes>"
      ]
     },
     "metadata": {
      "needs_background": "light"
     },
     "output_type": "display_data"
    },
    {
     "data": {
      "image/png": "[encoded data removed]",
      "text/plain": [
       "<Figure size 432x288 with 1 Axes>"
      ]
     },
     "metadata": {
      "needs_background": "light"
     },
     "output_type": "display_data"
    },
    {
     "data": {
      "image/png": "[encoded data removed]",
      "text/plain": [
       "<Figure size 432x288 with 1 Axes>"
      ]
     },
     "metadata": {
      "needs_background": "light"
     },
     "output_type": "display_data"
    },
    {
     "data": {
      "image/png": "[encoded data removed]",
      "text/plain": [
       "<Figure size 432x288 with 1 Axes>"
      ]
     },
     "metadata": {
      "needs_background": "light"
     },
     "output_type": "display_data"
    }
   ],
   "source": [
    "\n",
    "for i in range(xt1.shape[0]):\n",
    "    plt.figure()\n",
    "    plt.plot(t,xt1[i])\n",
    "    plt.show()"
   ]
  },
  {
   "cell_type": "code",
   "execution_count": 126,
   "metadata": {},
   "outputs": [
    {
     "name": "stdout",
     "output_type": "stream",
     "text": [
      "0.1875 F_in\n",
      "137.5 I0\n",
      "0.4375 F_in\n",
      "187.5 I0\n",
      "0.3125 F_in\n",
      "112.5 I0\n",
      "0.0625 F_in\n",
      "162.5 I0\n",
      "[0.08337485 0.13927548 1.56372383 7.44126701] mean_x\n"
     ]
    },
    {
     "name": "stderr",
     "output_type": "stream",
     "text": [
      "C:\\Users\\wangh\\AppData\\Local\\Temp\\ipykernel_23092\\1819860016.py:4: VisibleDeprecationWarning: Creating an ndarray from ragged nested sequences (which is a list-or-tuple of lists-or-tuples-or ndarrays with different lengths or shapes) is deprecated. If you meant to do this, you must specify 'dtype=object' when creating the ndarray.\n",
      "  initial_c2 = np.array([0.18,operation_con[1],80,120])  #\n"
     ]
    }
   ],
   "source": [
    "#experiment 2\n",
    "\n",
    "p2  = {'uM' : 0.359,'kq':19.63,'ud':0., 'un':2.692,'kn':0.8,'theta':6.691,'gamma':7.53,'epsilon':0.001,'tau':0.138,'delta':9.904,'phi':-0.456,'ks':91.2,'ki':100,'alpha':196.4,'belta':0,'F_in':u_con[1][0][0],'I0':u_con[1][0][1]}\n",
    "initial_c2 = np.array([0.18,operation_con[1],80,120])  #\n",
    "# xt1,tt1,xobs1_,std_value1_ = train_data_generation(p1, initial_c1,u_con[0])\n",
    "xt2_,xobs2_,std_value2 = train_data_generation(p2, initial_c2,u_con[1])\n"
   ]
  },
  {
   "cell_type": "code",
   "execution_count": 127,
   "metadata": {},
   "outputs": [
    {
     "data": {
      "text/plain": [
       "array([[1.875e-01, 1.375e+02],\n",
       "       [4.375e-01, 1.875e+02],\n",
       "       [3.125e-01, 1.125e+02],\n",
       "       [6.250e-02, 1.625e+02]])"
      ]
     },
     "execution_count": 127,
     "metadata": {},
     "output_type": "execute_result"
    }
   ],
   "source": [
    "u_con[1]"
   ]
  },
  {
   "cell_type": "code",
   "execution_count": 128,
   "metadata": {},
   "outputs": [
    {
     "data": {
      "text/plain": [
       "True"
      ]
     },
     "execution_count": 128,
     "metadata": {},
     "output_type": "execute_result"
    }
   ],
   "source": [
    "(xt2_>= 0).all()"
   ]
  },
  {
   "cell_type": "code",
   "execution_count": 129,
   "metadata": {},
   "outputs": [],
   "source": [
    "xt2 = data_correction(xt2_,t)\n",
    "xobs2 = data_correction(xobs2_,t)"
   ]
  },
  {
   "cell_type": "code",
   "execution_count": 130,
   "metadata": {},
   "outputs": [
    {
     "data": {
      "image/png": "[encoded data removed]",
      "text/plain": [
       "<Figure size 432x288 with 1 Axes>"
      ]
     },
     "metadata": {
      "needs_background": "light"
     },
     "output_type": "display_data"
    },
    {
     "data": {
      "image/png": "[encoded data removed]",
      "text/plain": [
       "<Figure size 432x288 with 1 Axes>"
      ]
     },
     "metadata": {
      "needs_background": "light"
     },
     "output_type": "display_data"
    },
    {
     "data": {
      "image/png": "[encoded data removed]",
      "text/plain": [
       "<Figure size 432x288 with 1 Axes>"
      ]
     },
     "metadata": {
      "needs_background": "light"
     },
     "output_type": "display_data"
    },
    {
     "data": {
      "image/png": "[encoded data removed]",
      "text/plain": [
       "<Figure size 432x288 with 1 Axes>"
      ]
     },
     "metadata": {
      "needs_background": "light"
     },
     "output_type": "display_data"
    }
   ],
   "source": [
    "for i in range(xt2.shape[0]):\n",
    "    plt.figure()\n",
    "    plt.plot(t,xt2[i])\n",
    "    plt.show()"
   ]
  },
  {
   "cell_type": "code",
   "execution_count": 132,
   "metadata": {},
   "outputs": [
    {
     "name": "stderr",
     "output_type": "stream",
     "text": [
      "C:\\Users\\wangh\\AppData\\Local\\Temp\\ipykernel_23092\\2365270622.py:4: VisibleDeprecationWarning: Creating an ndarray from ragged nested sequences (which is a list-or-tuple of lists-or-tuples-or ndarrays with different lengths or shapes) is deprecated. If you meant to do this, you must specify 'dtype=object' when creating the ndarray.\n",
      "  initial_c3 = np.array([0.18,operation_con[2],80,120])  #\n"
     ]
    },
    {
     "name": "stdout",
     "output_type": "stream",
     "text": [
      "0.09375 F_in\n",
      "131.25 I0\n",
      "0.34375 F_in\n",
      "181.25 I0\n",
      "0.46875 F_in\n",
      "106.25 I0\n",
      "0.21875 F_in\n",
      "156.25 I0\n",
      "[0.09160514 0.18837578 1.69822025 9.86187706] mean_x\n"
     ]
    }
   ],
   "source": [
    "#experiment 3\n",
    "\n",
    "p3  = {'uM' : 0.359,'kq':19.63,'ud':0., 'un':2.692,'kn':0.8,'theta':6.691,'gamma':7.53,'epsilon':0.001,'tau':0.138,'delta':9.904,'phi':-0.456,'ks':91.2,'ki':100,'alpha':196.4,'belta':0,'F_in':u_con[2][0][0],'I0':u_con[2][0][1]}\n",
    "initial_c3 = np.array([0.18,operation_con[2],80,120])  #\n",
    "# xt1,tt1,xobs1_,std_value1_ = train_data_generation(p1, initial_c1,u_con[0])\n",
    "xt3_,xobs3_,std_value3 = train_data_generation(p3, initial_c3,u_con[2])\n",
    "\n"
   ]
  },
  {
   "cell_type": "code",
   "execution_count": 133,
   "metadata": {},
   "outputs": [
    {
     "data": {
      "text/plain": [
       "True"
      ]
     },
     "execution_count": 133,
     "metadata": {},
     "output_type": "execute_result"
    }
   ],
   "source": [
    "(xt3_>= 0).all()"
   ]
  },
  {
   "cell_type": "code",
   "execution_count": 134,
   "metadata": {},
   "outputs": [],
   "source": [
    "xt3 = data_correction(xt3_,t)\n",
    "xobs3 = data_correction(xobs3_,t)"
   ]
  },
  {
   "cell_type": "code",
   "execution_count": 135,
   "metadata": {},
   "outputs": [
    {
     "data": {
      "image/png": "[encoded data removed]",
      "text/plain": [
       "<Figure size 432x288 with 1 Axes>"
      ]
     },
     "metadata": {
      "needs_background": "light"
     },
     "output_type": "display_data"
    },
    {
     "data": {
      "image/png": "[encoded data removed]",
      "text/plain": [
       "<Figure size 432x288 with 1 Axes>"
      ]
     },
     "metadata": {
      "needs_background": "light"
     },
     "output_type": "display_data"
    },
    {
     "data": {
      "image/png": "[encoded data removed]",
      "text/plain": [
       "<Figure size 432x288 with 1 Axes>"
      ]
     },
     "metadata": {
      "needs_background": "light"
     },
     "output_type": "display_data"
    },
    {
     "data": {
      "image/png": "[encoded data removed]",
      "text/plain": [
       "<Figure size 432x288 with 1 Axes>"
      ]
     },
     "metadata": {
      "needs_background": "light"
     },
     "output_type": "display_data"
    }
   ],
   "source": [
    "for i in range(xt3.shape[0]):\n",
    "    plt.figure()\n",
    "    plt.plot(t,xt3[i])\n",
    "    plt.show()"
   ]
  },
  {
   "cell_type": "code",
   "execution_count": 136,
   "metadata": {},
   "outputs": [
    {
     "name": "stderr",
     "output_type": "stream",
     "text": [
      "C:\\Users\\wangh\\AppData\\Local\\Temp\\ipykernel_23092\\3970033516.py:4: VisibleDeprecationWarning: Creating an ndarray from ragged nested sequences (which is a list-or-tuple of lists-or-tuples-or ndarrays with different lengths or shapes) is deprecated. If you meant to do this, you must specify 'dtype=object' when creating the ndarray.\n",
      "  initial_c4 = np.array([0.18,operation_con[3],80,120])  #\n"
     ]
    },
    {
     "name": "stdout",
     "output_type": "stream",
     "text": [
      "0.15625 F_in\n",
      "118.75 I0\n",
      "0.40625 F_in\n",
      "168.75 I0\n",
      "0.28125 F_in\n",
      "143.75 I0\n",
      "0.03125 F_in\n",
      "193.75 I0\n",
      "[0.07231756 0.08543719 1.48125207 9.13018446] mean_x\n"
     ]
    }
   ],
   "source": [
    "#experiment 4\n",
    "\n",
    "p4  = {'uM' : 0.359,'kq':19.63,'ud':0., 'un':2.692,'kn':0.8,'theta':6.691,'gamma':7.53,'epsilon':0.001,'tau':0.138,'delta':9.904,'phi':-0.456,'ks':91.2,'ki':100,'alpha':196.4,'belta':0,'F_in':u_con[3][0][0],'I0':u_con[3][0][1]}\n",
    "initial_c4 = np.array([0.18,operation_con[3],80,120])  #\n",
    "# xt1,tt1,xobs1_,std_value1_ = train_data_generation(p1, initial_c1,u_con[0])\n",
    "xt4_,xobs4_,std_value4 = train_data_generation(p4, initial_c4,u_con[3])\n"
   ]
  },
  {
   "cell_type": "code",
   "execution_count": 137,
   "metadata": {},
   "outputs": [
    {
     "data": {
      "text/plain": [
       "True"
      ]
     },
     "execution_count": 137,
     "metadata": {},
     "output_type": "execute_result"
    }
   ],
   "source": [
    "(xt4_>= 0).all()"
   ]
  },
  {
   "cell_type": "code",
   "execution_count": 138,
   "metadata": {},
   "outputs": [],
   "source": [
    "xt4 = data_correction(xt4_,t)\n",
    "xobs4 = data_correction(xobs4_,t)"
   ]
  },
  {
   "cell_type": "code",
   "execution_count": 139,
   "metadata": {},
   "outputs": [
    {
     "data": {
      "image/png": "[encoded data removed]",
      "text/plain": [
       "<Figure size 432x288 with 1 Axes>"
      ]
     },
     "metadata": {
      "needs_background": "light"
     },
     "output_type": "display_data"
    },
    {
     "data": {
      "image/png": "[encoded data removed]",
      "text/plain": [
       "<Figure size 432x288 with 1 Axes>"
      ]
     },
     "metadata": {
      "needs_background": "light"
     },
     "output_type": "display_data"
    },
    {
     "data": {
      "image/png": "[encoded data removed]",
      "text/plain": [
       "<Figure size 432x288 with 1 Axes>"
      ]
     },
     "metadata": {
      "needs_background": "light"
     },
     "output_type": "display_data"
    },
    {
     "data": {
      "image/png": "[encoded data removed]",
      "text/plain": [
       "<Figure size 432x288 with 1 Axes>"
      ]
     },
     "metadata": {
      "needs_background": "light"
     },
     "output_type": "display_data"
    }
   ],
   "source": [
    "for i in range(xt4.shape[0]):\n",
    "    plt.figure()\n",
    "    plt.plot(t,xt4[i])\n",
    "    plt.show()"
   ]
  },
  {
   "cell_type": "code",
   "execution_count": 140,
   "metadata": {},
   "outputs": [],
   "source": [
    "def plot_data(x, y1,y2,name):\n",
    "    fig = plt.figure()\n",
    "    plt.plot(x, y1,'.')\n",
    "    plt.plot(x, y2, '-',label=name)\n",
    "    plt.ylabel('State')\n",
    "    plt.xlabel('Time')\n",
    "    plt.legend(loc=\"lower right\")\n",
    "    fig.savefig(name)\n",
    "    plt.show()\n",
    "    return None\n",
    "def check_plot(xobs,xt,tt):\n",
    "    plot_data(tt, xobs[0],xt[0],'biomass')\n",
    "    plot_data(tt, xobs[1],xt[1],'nitrate')\n",
    "    plot_data(tt, xobs[2],xt[2],'quota')\n",
    "    plot_data(tt, xobs[3],xt[3],'fame')\n",
    "    return None"
   ]
  },
  {
   "cell_type": "code",
   "execution_count": 141,
   "metadata": {},
   "outputs": [],
   "source": [
    "def plot_data(x, y1,y2,y1hat,y2hat,name,namehat):\n",
    "    fig = plt.figure()\n",
    "    plt.plot(x, y1,'.',color = 'red')\n",
    "    plt.plot(x, y1hat,'.',color = 'blue')\n",
    "    plt.plot(x, y2, '-',label=name)\n",
    "    plt.plot(x, y2hat, '-',label=namehat)\n",
    "    plt.ylabel('State')\n",
    "    plt.xlabel('Time')\n",
    "    plt.legend(loc=\"lower right\")\n",
    "    # fig.savefig(name)\n",
    "    plt.show()\n",
    "    return None\n",
    "def check_plot(xobs,xt,xobshat,xthat,tt,name1,name2):\n",
    "    plot_data(tt, xobs[0],xt[0],xobshat[0],xthat[0],name1[0],name2[0])\n",
    "    plot_data(tt, xobs[1],xt[1],xobshat[1],xthat[1],name1[1],name2[1])\n",
    "    plot_data(tt, xobs[2],xt[2],xobshat[2],xthat[2],name1[2],name2[2])\n",
    "    plot_data(tt, xobs[3],xt[3],xobshat[3],xthat[3],name1[3],name2[3])\n",
    "    return None"
   ]
  },
  {
   "cell_type": "code",
   "execution_count": 142,
   "metadata": {},
   "outputs": [
    {
     "data": {
      "text/plain": [
       "array([[0.00e+00, 1.00e+02],\n",
       "       [2.50e-01, 1.50e+02],\n",
       "       [3.75e-01, 1.25e+02],\n",
       "       [1.25e-01, 1.75e+02]])"
      ]
     },
     "execution_count": 142,
     "metadata": {},
     "output_type": "execute_result"
    }
   ],
   "source": [
    "u_con[0]"
   ]
  },
  {
   "cell_type": "code",
   "execution_count": 143,
   "metadata": {},
   "outputs": [],
   "source": [
    "def dic_F_in_I(step,num_u,u_con):\n",
    "    u_test = np.ones([step,num_u])\n",
    "    for i in range(4):\n",
    "        for j in range(6):\n",
    "            u_test[i*6 + j] = u_con[i]\n",
    "    new_element = u_con[0]\n",
    "\n",
    "    # Insert the new element at the beginning of the array\n",
    "    u_test = np.vstack((new_element,u_test))\n",
    "\n",
    "    F_in_dic = to_dict(u_test.T[0],dt)\n",
    "    I_dic    = to_dict(u_test.T[1],dt)\n",
    "\n",
    "    return F_in_dic, I_dic\n",
    "        \n"
   ]
  },
  {
   "cell_type": "code",
   "execution_count": 131,
   "metadata": {},
   "outputs": [],
   "source": [
    "    # u_test = np.ones([step,num_u])\n",
    "    # for i in range(4):\n",
    "    #     for j in range(6):\n",
    "    #         u_test[i*6 + j] = u_con[0][i]\n",
    "    # new_element = u_con[0][0]\n",
    "\n",
    "    # # Insert the new element at the beginning of the array\n",
    "    # u_test = np.vstack((new_element,u_test))"
   ]
  },
  {
   "cell_type": "code",
   "execution_count": 144,
   "metadata": {},
   "outputs": [
    {
     "data": {
      "text/plain": [
       "array([[1.875e-01, 1.375e+02],\n",
       "       [4.375e-01, 1.875e+02],\n",
       "       [3.125e-01, 1.125e+02],\n",
       "       [6.250e-02, 1.625e+02]])"
      ]
     },
     "execution_count": 144,
     "metadata": {},
     "output_type": "execute_result"
    }
   ],
   "source": [
    "u_con[1]"
   ]
  },
  {
   "cell_type": "code",
   "execution_count": 145,
   "metadata": {},
   "outputs": [],
   "source": [
    "u_dic1 = dic_F_in_I(24,2,u_con[0])\n",
    "u_dic2 = dic_F_in_I(24,2,u_con[1])\n",
    "u_dic3 = dic_F_in_I(24,2,u_con[2])\n",
    "u_dic4 = dic_F_in_I(24,2,u_con[3])\n"
   ]
  },
  {
   "cell_type": "code",
   "execution_count": 146,
   "metadata": {},
   "outputs": [
    {
     "data": {
      "text/plain": [
       "{0.0: 0.1875,\n",
       " 10.0: 0.1875,\n",
       " 20.0: 0.1875,\n",
       " 30.0: 0.1875,\n",
       " 40.0: 0.1875,\n",
       " 50.0: 0.1875,\n",
       " 60.0: 0.1875,\n",
       " 70.0: 0.4375,\n",
       " 80.0: 0.4375,\n",
       " 90.0: 0.4375,\n",
       " 100.0: 0.4375,\n",
       " 110.0: 0.4375,\n",
       " 120.0: 0.4375,\n",
       " 130.0: 0.3125,\n",
       " 140.0: 0.3125,\n",
       " 150.0: 0.3125,\n",
       " 160.0: 0.3125,\n",
       " 170.0: 0.3125,\n",
       " 180.0: 0.3125,\n",
       " 190.0: 0.0625,\n",
       " 200.0: 0.0625,\n",
       " 210.0: 0.0625,\n",
       " 220.0: 0.0625,\n",
       " 230.0: 0.0625,\n",
       " 240.0: 0.0625}"
      ]
     },
     "execution_count": 146,
     "metadata": {},
     "output_type": "execute_result"
    }
   ],
   "source": [
    "u_dic2[0] "
   ]
  },
  {
   "cell_type": "code",
   "execution_count": 147,
   "metadata": {},
   "outputs": [],
   "source": [
    "data_init   = {None: dict(t       = {None: list(t)},tm      = {None: list(t)},x1_noise = to_dict(xobs1[0],dt),n1_noise = to_dict(xobs1[1],dt),q1_noise = to_dict(xobs1[2],dt),f1_noise = to_dict(xobs1[3],dt),x2_noise = to_dict(xobs2[0],dt),n2_noise = to_dict(xobs2[1],dt),q2_noise = to_dict(xobs2[2],dt),f2_noise = to_dict(xobs2[3],dt),x3_noise = to_dict(xobs3[0],dt),n3_noise = to_dict(xobs3[1],dt),q3_noise = to_dict(xobs3[2],dt),f3_noise = to_dict(xobs3[3],dt),x4_noise = to_dict(xobs4[0],dt),n4_noise = to_dict(xobs4[1],dt),q4_noise = to_dict(xobs4[2],dt),f4_noise = to_dict(xobs4[3],dt))}"
   ]
  },
  {
   "cell_type": "code",
   "execution_count": 89,
   "metadata": {},
   "outputs": [
    {
     "data": {
      "text/plain": [
       "{None: {'t': {None: [0.0,\n",
       "    10.0,\n",
       "    20.0,\n",
       "    30.0,\n",
       "    40.0,\n",
       "    50.0,\n",
       "    60.0,\n",
       "    70.0,\n",
       "    80.0,\n",
       "    90.0,\n",
       "    100.0,\n",
       "    110.0,\n",
       "    120.0,\n",
       "    130.0,\n",
       "    140.0,\n",
       "    150.0,\n",
       "    160.0,\n",
       "    170.0,\n",
       "    180.0,\n",
       "    190.0,\n",
       "    200.0,\n",
       "    210.0,\n",
       "    220.0,\n",
       "    230.0,\n",
       "    240.0]},\n",
       "  'tm': {None: [0.0,\n",
       "    10.0,\n",
       "    20.0,\n",
       "    30.0,\n",
       "    40.0,\n",
       "    50.0,\n",
       "    60.0,\n",
       "    70.0,\n",
       "    80.0,\n",
       "    90.0,\n",
       "    100.0,\n",
       "    110.0,\n",
       "    120.0,\n",
       "    130.0,\n",
       "    140.0,\n",
       "    150.0,\n",
       "    160.0,\n",
       "    170.0,\n",
       "    180.0,\n",
       "    190.0,\n",
       "    200.0,\n",
       "    210.0,\n",
       "    220.0,\n",
       "    230.0,\n",
       "    240.0]},\n",
       "  'x1_noise': {0.0: 0.18,\n",
       "   10.0: 0.27568596268595424,\n",
       "   20.0: 0.49514851732367665,\n",
       "   30.0: 0.6255285074304385,\n",
       "   40.0: 0.7892256088989978,\n",
       "   50.0: 0.8908998629579334,\n",
       "   60.0: 1.0084750370125626,\n",
       "   70.0: 1.0480825374698626,\n",
       "   80.0: 1.0697142731502134,\n",
       "   90.0: 1.0618258187916636,\n",
       "   100.0: 1.13491568615415,\n",
       "   110.0: 1.2646012722904179,\n",
       "   120.0: 1.1714276107187842,\n",
       "   130.0: 1.195822066503349,\n",
       "   140.0: 1.1458713032081274,\n",
       "   150.0: 1.29780355795735,\n",
       "   160.0: 1.1840393356733045,\n",
       "   170.0: 1.1742436495391182,\n",
       "   180.0: 1.172468816036095,\n",
       "   190.0: 1.2920752972373113,\n",
       "   200.0: 1.2127114307308697,\n",
       "   210.0: 1.2978473591918929,\n",
       "   220.0: 1.356064975564612,\n",
       "   230.0: 1.3313957531676424,\n",
       "   240.0: 1.3910202506917433},\n",
       "  'n1_noise': {0.0: 15.0,\n",
       "   10.0: 8.591675086506172,\n",
       "   20.0: 0.20331923426136872,\n",
       "   30.0: 1e-07,\n",
       "   40.0: 1e-07,\n",
       "   50.0: 1e-07,\n",
       "   60.0: 0.01909001067521981,\n",
       "   70.0: 0.09067912487554437,\n",
       "   80.0: 0.18706924310656342,\n",
       "   90.0: 0.026072377515321515,\n",
       "   100.0: 0.0853801427985266,\n",
       "   110.0: 0.16266993299670057,\n",
       "   120.0: 0.14494494265487884,\n",
       "   130.0: 0.20310472077858843,\n",
       "   140.0: 0.1102087319769886,\n",
       "   150.0: 0.10275945697367296,\n",
       "   160.0: 0.16710134444495237,\n",
       "   170.0: 0.16202589031072262,\n",
       "   180.0: 0.14821758195075094,\n",
       "   190.0: 0.041701840188848906,\n",
       "   200.0: 0.07409696059163495,\n",
       "   210.0: 0.04022731253757133,\n",
       "   220.0: 0.009762178404591836,\n",
       "   230.0: 0.022399103420122184,\n",
       "   240.0: 0.05010396747357495},\n",
       "  'q1_noise': {0.0: 80.0,\n",
       "   10.0: 62.546362873414225,\n",
       "   20.0: 58.50271529297755,\n",
       "   30.0: 43.82339073794795,\n",
       "   40.0: 37.428631772225046,\n",
       "   50.0: 31.757980219839666,\n",
       "   60.0: 29.550500896115345,\n",
       "   70.0: 25.702683748388296,\n",
       "   80.0: 22.862981371860652,\n",
       "   90.0: 26.675457260752147,\n",
       "   100.0: 24.38854110342086,\n",
       "   110.0: 24.829470442841405,\n",
       "   120.0: 24.729564194713546,\n",
       "   130.0: 25.045452885761236,\n",
       "   140.0: 25.714452847776478,\n",
       "   150.0: 26.078766781941987,\n",
       "   160.0: 25.292576350173295,\n",
       "   170.0: 23.86305316363574,\n",
       "   180.0: 25.872464415223643,\n",
       "   190.0: 23.058098276854352,\n",
       "   200.0: 23.026180422302414,\n",
       "   210.0: 19.15322654030078,\n",
       "   220.0: 21.591656374657628,\n",
       "   230.0: 22.93031203677019,\n",
       "   240.0: 22.300916857155606},\n",
       "  'f1_noise': {0.0: 120.0,\n",
       "   10.0: 173.92616106024093,\n",
       "   20.0: 227.43246093893316,\n",
       "   30.0: 346.38546651653104,\n",
       "   40.0: 376.122279592801,\n",
       "   50.0: 389.22250227820984,\n",
       "   60.0: 415.5664001425631,\n",
       "   70.0: 432.86313206571987,\n",
       "   80.0: 379.6251252885052,\n",
       "   90.0: 355.6774136437228,\n",
       "   100.0: 337.95432975720627,\n",
       "   110.0: 347.4641847448861,\n",
       "   120.0: 341.5998425664883,\n",
       "   130.0: 289.34571334366154,\n",
       "   140.0: 246.0989336547906,\n",
       "   150.0: 246.936834443388,\n",
       "   160.0: 232.05827334357988,\n",
       "   170.0: 193.94607056399826,\n",
       "   180.0: 158.83003384020955,\n",
       "   190.0: 196.43201634347326,\n",
       "   200.0: 187.80684399137806,\n",
       "   210.0: 190.45357191572649,\n",
       "   220.0: 154.1644796116432,\n",
       "   230.0: 164.628600634252,\n",
       "   240.0: 166.36736705805905},\n",
       "  'x2_noise': {0.0: 0.18,\n",
       "   10.0: 0.4301186718445016,\n",
       "   20.0: 0.4059115375848152,\n",
       "   30.0: 0.630190584121947,\n",
       "   40.0: 0.8508189306237508,\n",
       "   50.0: 1.0047620587431068,\n",
       "   60.0: 1.165085469183516,\n",
       "   70.0: 1.1633386002395467,\n",
       "   80.0: 1.3279298935131438,\n",
       "   90.0: 1.3133543475922913,\n",
       "   100.0: 1.3805189175736345,\n",
       "   110.0: 1.595947464578434,\n",
       "   120.0: 1.687016261221415,\n",
       "   130.0: 1.6067706421874475,\n",
       "   140.0: 1.4990101124199067,\n",
       "   150.0: 1.6991848733156758,\n",
       "   160.0: 1.6207489349915312,\n",
       "   170.0: 1.6553306904067906,\n",
       "   180.0: 1.70142171047995,\n",
       "   190.0: 1.985994816246691,\n",
       "   200.0: 1.8630404284424644,\n",
       "   210.0: 1.8789056495634235,\n",
       "   220.0: 2.000047296612635,\n",
       "   230.0: 2.026197694091275,\n",
       "   240.0: 2.067377957771242},\n",
       "  'n2_noise': {0.0: 32.5,\n",
       "   10.0: 28.22320845006116,\n",
       "   20.0: 19.827784282435758,\n",
       "   30.0: 7.54313386768431,\n",
       "   40.0: 0.27537028408733927,\n",
       "   50.0: 0.2043084614718178,\n",
       "   60.0: 0.19395691677807952,\n",
       "   70.0: 0.25852901201179873,\n",
       "   80.0: 0.19918599912915033,\n",
       "   90.0: 0.23641798138267478,\n",
       "   100.0: 0.10537064956613001,\n",
       "   110.0: 0.0043620235199346435,\n",
       "   120.0: 0.07371646781188743,\n",
       "   130.0: 0.281806929547475,\n",
       "   140.0: 0.017941099829469252,\n",
       "   150.0: 0.11011574516580178,\n",
       "   160.0: 0.029585484428916377,\n",
       "   170.0: 0.15705814392522935,\n",
       "   180.0: 1e-07,\n",
       "   190.0: 0.07237884236959595,\n",
       "   200.0: 0.08019949732147744,\n",
       "   210.0: 1e-07,\n",
       "   220.0: 0.17958660174294233,\n",
       "   230.0: 1e-07,\n",
       "   240.0: 1e-07},\n",
       "  'q2_noise': {0.0: 80.0,\n",
       "   10.0: 53.114031571998076,\n",
       "   20.0: 54.15785748768056,\n",
       "   30.0: 54.861628385098534,\n",
       "   40.0: 53.262409208369895,\n",
       "   50.0: 46.77003865408059,\n",
       "   60.0: 37.335285182079055,\n",
       "   70.0: 33.50540868229273,\n",
       "   80.0: 31.58253565419342,\n",
       "   90.0: 34.75592892810634,\n",
       "   100.0: 30.228998285921875,\n",
       "   110.0: 30.501264153850055,\n",
       "   120.0: 33.83467956060074,\n",
       "   130.0: 29.32295570246588,\n",
       "   140.0: 28.62161920240205,\n",
       "   150.0: 28.739300869748067,\n",
       "   160.0: 27.936295480265194,\n",
       "   170.0: 26.748097425049775,\n",
       "   180.0: 22.23508782025238,\n",
       "   190.0: 26.646865115272803,\n",
       "   200.0: 22.892793264058792,\n",
       "   210.0: 27.854165128522745,\n",
       "   220.0: 21.554356105764647,\n",
       "   230.0: 23.540231023835023,\n",
       "   240.0: 21.593357941965554},\n",
       "  'f2_noise': {0.0: 120.0,\n",
       "   10.0: 216.82530018082065,\n",
       "   20.0: 176.49032813264157,\n",
       "   30.0: 106.27046661745504,\n",
       "   40.0: 97.89106966643413,\n",
       "   50.0: 138.88817819378878,\n",
       "   60.0: 162.67757359813905,\n",
       "   70.0: 156.6161832515145,\n",
       "   80.0: 146.81393110613658,\n",
       "   90.0: 141.47725340676652,\n",
       "   100.0: 128.08705124672554,\n",
       "   110.0: 132.1227914334844,\n",
       "   120.0: 111.07933954962503,\n",
       "   130.0: 106.03041622170191,\n",
       "   140.0: 105.71916444828541,\n",
       "   150.0: 109.14117480421132,\n",
       "   160.0: 88.40119576048696,\n",
       "   170.0: 86.89818156372503,\n",
       "   180.0: 74.76398497427714,\n",
       "   190.0: 87.63935601721053,\n",
       "   200.0: 92.56416066427316,\n",
       "   210.0: 110.74118922888502,\n",
       "   220.0: 107.01894563702692,\n",
       "   230.0: 94.45014712593687,\n",
       "   240.0: 101.62685608196547},\n",
       "  'x3_noise': {0.0: 0.18,\n",
       "   10.0: 0.2857277986427573,\n",
       "   20.0: 0.5722417872978028,\n",
       "   30.0: 0.8627766432472765,\n",
       "   40.0: 0.9088520027538995,\n",
       "   50.0: 1.1830830028454913,\n",
       "   60.0: 1.1821584512656536,\n",
       "   70.0: 1.3289185951971012,\n",
       "   80.0: 1.3048410057570625,\n",
       "   90.0: 1.4986265260325815,\n",
       "   100.0: 1.640931457852551,\n",
       "   110.0: 1.6193773287501405,\n",
       "   120.0: 1.7095904435142966,\n",
       "   130.0: 1.7685140206587666,\n",
       "   140.0: 1.7262991778520695,\n",
       "   150.0: 1.819747351626214,\n",
       "   160.0: 1.6567938918483331,\n",
       "   170.0: 1.689045491490377,\n",
       "   180.0: 1.8003898306686503,\n",
       "   190.0: 1.9013225342095408,\n",
       "   200.0: 1.9179287730599681,\n",
       "   210.0: 2.0429849194087573,\n",
       "   220.0: 2.042688964999778,\n",
       "   230.0: 2.045240708400033,\n",
       "   240.0: 2.250117868077812},\n",
       "  'n3_noise': {0.0: 41.25,\n",
       "   10.0: 35.543767592901084,\n",
       "   20.0: 25.515256417811578,\n",
       "   30.0: 11.000525226558468,\n",
       "   40.0: 1e-07,\n",
       "   50.0: 0.07424041245164927,\n",
       "   60.0: 0.10853591801711739,\n",
       "   70.0: 1e-07,\n",
       "   80.0: 0.12435072763804213,\n",
       "   90.0: 0.3186423299601884,\n",
       "   100.0: 0.16521859995246524,\n",
       "   110.0: 0.004426404581186594,\n",
       "   120.0: 0.3311203555553658,\n",
       "   130.0: 0.31619320863614575,\n",
       "   140.0: 0.2661174325627277,\n",
       "   150.0: 1e-07,\n",
       "   160.0: 1e-07,\n",
       "   170.0: 0.48628772361592765,\n",
       "   180.0: 0.010823812362904278,\n",
       "   190.0: 0.25185003776140397,\n",
       "   200.0: 1e-07,\n",
       "   210.0: 0.15609690977958832,\n",
       "   220.0: 0.23336298333857594,\n",
       "   230.0: 0.30010680294348324,\n",
       "   240.0: 1e-07},\n",
       "  'q3_noise': {0.0: 80.0,\n",
       "   10.0: 57.83066698985455,\n",
       "   20.0: 59.590879746502814,\n",
       "   30.0: 59.14575918141488,\n",
       "   40.0: 61.039987641020794,\n",
       "   50.0: 48.755116892915225,\n",
       "   60.0: 44.312051203285456,\n",
       "   70.0: 40.3665344396966,\n",
       "   80.0: 36.02876868602549,\n",
       "   90.0: 40.162381565871556,\n",
       "   100.0: 33.11321068037759,\n",
       "   110.0: 32.67859215552924,\n",
       "   120.0: 31.439403739077566,\n",
       "   130.0: 33.36254706801244,\n",
       "   140.0: 31.6323422366786,\n",
       "   150.0: 32.00027997887075,\n",
       "   160.0: 32.37371928053135,\n",
       "   170.0: 28.68522301706402,\n",
       "   180.0: 29.163004317022825,\n",
       "   190.0: 29.290106858422007,\n",
       "   200.0: 29.26989325409346,\n",
       "   210.0: 27.876124943179896,\n",
       "   220.0: 26.88824483397463,\n",
       "   230.0: 24.394140989461857,\n",
       "   240.0: 27.224858499049006},\n",
       "  'f3_noise': {0.0: 120.0,\n",
       "   10.0: 223.28221259273906,\n",
       "   20.0: 198.07366902285906,\n",
       "   30.0: 122.57533578486657,\n",
       "   40.0: 139.769269729113,\n",
       "   50.0: 187.88874019674415,\n",
       "   60.0: 212.05824826386794,\n",
       "   70.0: 226.07046262149487,\n",
       "   80.0: 218.986587544489,\n",
       "   90.0: 227.89647834743297,\n",
       "   100.0: 221.59278065598505,\n",
       "   110.0: 224.37633041187,\n",
       "   120.0: 235.91352341460927,\n",
       "   130.0: 201.93714901257522,\n",
       "   140.0: 191.4909646454242,\n",
       "   150.0: 184.2098238938372,\n",
       "   160.0: 173.11442959388492,\n",
       "   170.0: 168.85870602121622,\n",
       "   180.0: 170.10381716112738,\n",
       "   190.0: 158.35493845846156,\n",
       "   200.0: 176.68915540874107,\n",
       "   210.0: 169.6836062463035,\n",
       "   220.0: 169.66238149866976,\n",
       "   230.0: 179.2216098495276,\n",
       "   240.0: 172.5984704015222},\n",
       "  'x4_noise': {0.0: 0.18,\n",
       "   10.0: 0.24520839327924182,\n",
       "   20.0: 0.45232460453345086,\n",
       "   30.0: 0.8166419085842316,\n",
       "   40.0: 0.8739818371134246,\n",
       "   50.0: 0.8767988103184511,\n",
       "   60.0: 1.126303389912224,\n",
       "   70.0: 1.1364171055098158,\n",
       "   80.0: 1.282073243909817,\n",
       "   90.0: 1.2849458902807627,\n",
       "   100.0: 1.2894484492296916,\n",
       "   110.0: 1.3345705024335746,\n",
       "   120.0: 1.3565608549442507,\n",
       "   130.0: 1.3989750103282301,\n",
       "   140.0: 1.5767179067492645,\n",
       "   150.0: 1.5866978083782404,\n",
       "   160.0: 1.4786789286442623,\n",
       "   170.0: 1.5631022840706112,\n",
       "   180.0: 1.6302629176784222,\n",
       "   190.0: 1.7084649890613637,\n",
       "   200.0: 1.6898853117242336,\n",
       "   210.0: 1.7615427505319279,\n",
       "   220.0: 1.7493312190565635,\n",
       "   230.0: 1.7989761174728396,\n",
       "   240.0: 1.6559124850948503},\n",
       "  'n4_noise': {0.0: 23.75,\n",
       "   10.0: 19.55012754127153,\n",
       "   20.0: 11.568851905897548,\n",
       "   30.0: 1.0159361636005404,\n",
       "   40.0: 1e-07,\n",
       "   50.0: 0.2972267348265706,\n",
       "   60.0: 0.07926917446922652,\n",
       "   70.0: 0.3085977462370219,\n",
       "   80.0: 0.056242203333287194,\n",
       "   90.0: 1e-07,\n",
       "   100.0: 0.24614556655449976,\n",
       "   110.0: 0.10416673971011084,\n",
       "   120.0: 0.11027717520388039,\n",
       "   130.0: 0.10148437046144264,\n",
       "   140.0: 0.11891116577100125,\n",
       "   150.0: 0.16624719942418448,\n",
       "   160.0: 1e-07,\n",
       "   170.0: 0.0018217607296949906,\n",
       "   180.0: 0.12489685436235956,\n",
       "   190.0: 0.03625871170258651,\n",
       "   200.0: 1e-07,\n",
       "   210.0: 0.02381910639327911,\n",
       "   220.0: 0.13096703023749254,\n",
       "   230.0: 1e-07,\n",
       "   240.0: 1e-07},\n",
       "  'q4_noise': {0.0: 80.0,\n",
       "   10.0: 54.485083586905574,\n",
       "   20.0: 52.7785299573857,\n",
       "   30.0: 55.039761018709875,\n",
       "   40.0: 42.80987103077495,\n",
       "   50.0: 39.15188044924145,\n",
       "   60.0: 36.26298911340852,\n",
       "   70.0: 33.13218486749434,\n",
       "   80.0: 31.50342803539383,\n",
       "   90.0: 29.30665177963315,\n",
       "   100.0: 30.105767543518844,\n",
       "   110.0: 29.171109418409323,\n",
       "   120.0: 30.675320046207602,\n",
       "   130.0: 27.602540377327987,\n",
       "   140.0: 27.45975771763619,\n",
       "   150.0: 23.86809753114,\n",
       "   160.0: 22.81620280903739,\n",
       "   170.0: 26.138874120906927,\n",
       "   180.0: 22.896203919433372,\n",
       "   190.0: 26.537142536994136,\n",
       "   200.0: 22.584791698570115,\n",
       "   210.0: 21.86312557003173,\n",
       "   220.0: 24.774941214800332,\n",
       "   230.0: 21.64773716646656,\n",
       "   240.0: 20.864232932928793},\n",
       "  'f4_noise': {0.0: 120.0,\n",
       "   10.0: 212.29008605351086,\n",
       "   20.0: 169.11000627128692,\n",
       "   30.0: 111.69984543377164,\n",
       "   40.0: 157.50849669969278,\n",
       "   50.0: 193.8643306192258,\n",
       "   60.0: 198.35472143284215,\n",
       "   70.0: 187.99319395238945,\n",
       "   80.0: 179.13903912484898,\n",
       "   90.0: 152.96382763429628,\n",
       "   100.0: 133.89034997242845,\n",
       "   110.0: 125.24535339386327,\n",
       "   120.0: 120.66463499597005,\n",
       "   130.0: 108.02346974855321,\n",
       "   140.0: 103.01231629047055,\n",
       "   150.0: 102.81574068323819,\n",
       "   160.0: 88.08823360774578,\n",
       "   170.0: 80.08955286804783,\n",
       "   180.0: 71.54396381505396,\n",
       "   190.0: 87.3666207182794,\n",
       "   200.0: 84.46647405963238,\n",
       "   210.0: 87.52369234476308,\n",
       "   220.0: 88.1168976846663,\n",
       "   230.0: 92.23572481286413,\n",
       "   240.0: 85.72086853714038}}}"
      ]
     },
     "execution_count": 89,
     "metadata": {},
     "output_type": "execute_result"
    }
   ],
   "source": [
    "data_init"
   ]
  },
  {
   "cell_type": "code",
   "execution_count": 90,
   "metadata": {},
   "outputs": [
    {
     "data": {
      "text/plain": [
       "[array([[0.00e+00, 1.00e+02],\n",
       "        [2.50e-03, 1.50e+02],\n",
       "        [3.75e-03, 1.25e+02],\n",
       "        [1.25e-03, 1.75e+02]]),\n",
       " array([[1.875e-03, 1.375e+02],\n",
       "        [4.375e-03, 1.875e+02],\n",
       "        [3.125e-03, 1.125e+02],\n",
       "        [6.250e-04, 1.625e+02]]),\n",
       " array([[9.3750e-04, 1.3125e+02],\n",
       "        [3.4375e-03, 1.8125e+02],\n",
       "        [4.6875e-03, 1.0625e+02],\n",
       "        [2.1875e-03, 1.5625e+02]]),\n",
       " array([[1.5625e-03, 1.1875e+02],\n",
       "        [4.0625e-03, 1.6875e+02],\n",
       "        [2.8125e-03, 1.4375e+02],\n",
       "        [3.1250e-04, 1.9375e+02]])]"
      ]
     },
     "execution_count": 90,
     "metadata": {},
     "output_type": "execute_result"
    }
   ],
   "source": [
    "u_con"
   ]
  },
  {
   "cell_type": "code",
   "execution_count": 91,
   "metadata": {},
   "outputs": [
    {
     "data": {
      "text/plain": [
       "array([[15.  ],\n",
       "       [32.5 ],\n",
       "       [41.25],\n",
       "       [23.75]])"
      ]
     },
     "execution_count": 91,
     "metadata": {},
     "output_type": "execute_result"
    }
   ],
   "source": [
    "operation_con"
   ]
  },
  {
   "cell_type": "code",
   "execution_count": 92,
   "metadata": {},
   "outputs": [],
   "source": [
    "N_in = 100"
   ]
  },
  {
   "cell_type": "code",
   "execution_count": 148,
   "metadata": {},
   "outputs": [
    {
     "data": {
      "text/plain": [
       "(4, 25)"
      ]
     },
     "execution_count": 148,
     "metadata": {},
     "output_type": "execute_result"
    }
   ],
   "source": [
    "xobs1.shape"
   ]
  },
  {
   "cell_type": "code",
   "execution_count": 150,
   "metadata": {},
   "outputs": [
    {
     "name": "stdout",
     "output_type": "stream",
     "text": [
      "File saved at: tmp25/xobs1.pkl\n",
      "File saved at: tmp25/xobs2.pkl\n",
      "File saved at: tmp25/xobs3.pkl\n",
      "File saved at: tmp25/xobs4.pkl\n",
      "File saved at: tmp25/tf_N.pkl\n",
      "File saved at: tmp25/u_con.pkl\n",
      "File saved at: tmp25/operation_con.pkl\n",
      "File saved at: tmp25/tt1.pkl\n",
      "File saved at: tmp25/std_value1.pkl\n",
      "File saved at: tmp25/std_value2.pkl\n",
      "File saved at: tmp25/std_value3.pkl\n",
      "File saved at: tmp25/std_value4.pkl\n",
      "File saved at: tmp25/data_init.pkl\n",
      "File saved at: tmp25/u_dic1.pkl\n",
      "File saved at: tmp25/u_dic2.pkl\n",
      "File saved at: tmp25/u_dic3.pkl\n",
      "File saved at: tmp25/u_dic4.pkl\n"
     ]
    }
   ],
   "source": [
    "save_pkl(xobs1,'xobs1.pkl')\n",
    "save_pkl(xobs2,'xobs2.pkl')\n",
    "save_pkl(xobs3,'xobs3.pkl')\n",
    "save_pkl(xobs4,'xobs4.pkl')\n",
    "save_pkl(tf_N,'tf_N.pkl')\n",
    "save_pkl(u_con,'u_con.pkl')\n",
    "# save_pkl(N_in,'N_in.pkl')\n",
    "# save_pkl(xobs5,'xobs5.pkl')\n",
    "\n",
    "save_pkl(operation_con,'operation_con.pkl')\n",
    "# save_pkl(I0_range,'I0_range.pkl')\n",
    "\n",
    "save_pkl(t,'tt1.pkl')\n",
    "save_pkl(std_value1,'std_value1.pkl')\n",
    "save_pkl(std_value2,'std_value2.pkl')\n",
    "save_pkl(std_value3,'std_value3.pkl')\n",
    "save_pkl(std_value4,'std_value4.pkl')\n",
    "\n",
    "save_pkl(data_init,'data_init.pkl')\n",
    "\n",
    "save_pkl(u_dic1,'u_dic1.pkl')\n",
    "save_pkl(u_dic2,'u_dic2.pkl')\n",
    "save_pkl(u_dic3,'u_dic3.pkl')\n",
    "save_pkl(u_dic4,'u_dic4.pkl')\n"
   ]
  }
 ],
 "metadata": {
  "kernelspec": {
   "display_name": "Python 3.9.9 ('env')",
   "language": "python",
   "name": "python3"
  },
  "language_info": {
   "codemirror_mode": {
    "name": "ipython",
    "version": 3
   },
   "file_extension": ".py",
   "mimetype": "text/x-python",
   "name": "python",
   "nbconvert_exporter": "python",
   "pygments_lexer": "ipython3",
   "version": "3.9.9"
  },
  "orig_nbformat": 4,
  "vscode": {
   "interpreter": {
    "hash": "0b975ef14a7c349b5b53fa51dcf9e0d25501f9719e727a1ab429ed23704c47f1"
   }
  }
 },
 "nbformat": 4,
 "nbformat_minor": 2
}
