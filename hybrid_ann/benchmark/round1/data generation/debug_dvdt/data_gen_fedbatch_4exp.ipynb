{
 "cells": [
  {
   "cell_type": "code",
   "execution_count": 36,
   "metadata": {},
   "outputs": [],
   "source": [
    "import numpy as np\n",
    "import random\n",
    "import scipy.integrate as scp\n",
    "import numpy.random as rnd\n",
    "import time\n",
    "import matplotlib.pyplot as plt\n",
    "import numpy.random as rnd\n",
    "import copy\n",
    "from matplotlib.pyplot import figure\n",
    "from pyomo.environ import *\n",
    "from pyomo.dae import *\n",
    "import pandas as pd\n",
    "import pickle\n",
    "import scipy.stats\n",
    "from math import comb\n",
    "from scipy.integrate import odeint\n",
    "\n",
    "import glob, os"
   ]
  },
  {
   "attachments": {},
   "cell_type": "markdown",
   "metadata": {},
   "source": [
    "Gneneration of 4 sets of experimental data with different nitrate and light intensity, varies from low to high, number of datapoints for each exps is 17, noise level is 5% of means."
   ]
  },
  {
   "cell_type": "code",
   "execution_count": 37,
   "metadata": {},
   "outputs": [],
   "source": [
    "''' Data treatment'''\n",
    "def save_pkl(item, fname):\n",
    "    sn = 'data/' + fname\n",
    "    with open(sn, 'wb') as handle:\n",
    "        pickle.dump(item, handle) #, protocol=pickle.HIGHEST_PROTOCOL)\n",
    "    print(f'File saved at: {sn}')\n",
    "    return None\n",
    "# return None\n",
    "\n",
    "def load_pkl(fname):\n",
    "    with open(fname, 'rb') as handle:\n",
    "        ans = pickle.load(handle)\n",
    "    print(f'Loaded from: {fname}')\n",
    "    return ans"
   ]
  },
  {
   "cell_type": "code",
   "execution_count": 38,
   "metadata": {},
   "outputs": [],
   "source": [
    "def to_dict(x,dt):\n",
    "    obs = list(x)\n",
    "    # tp = list(time)\n",
    "    dicx = {}\n",
    "    for i in range(len(x)):\n",
    "        dicx[dt*i] = obs[i]            # change thye value of 38.4\n",
    "    return dicx\n",
    "\n",
    "def get_grad(x, t):\n",
    "    dxdt = [[],[],[],[]]\n",
    "    for n in range(x.shape[0]):\n",
    "        for i in range(len(x[0]) - 1):\n",
    "            dxdt[n].append((x[n][i + 1] - x[n][i])/(t[i + 1] - t[i]))\n",
    "        dxdt[n].append(dxdt[n][-1])\n",
    "    return dxdt\n"
   ]
  },
  {
   "cell_type": "code",
   "execution_count": 39,
   "metadata": {},
   "outputs": [],
   "source": [
    "tf    = 16.*24.\n",
    "steps_= 16\n",
    "dt    = tf/steps_\n",
    "\n",
    "\n",
    "num_N = 4\n",
    "tf_N  = tf/(num_N)\n",
    "dstep_N = int(tf_N/dt)# this is the number of steps in each interval between chaning the fedding rate"
   ]
  },
  {
   "cell_type": "code",
   "execution_count": 40,
   "metadata": {},
   "outputs": [],
   "source": [
    "t = np.linspace(0, 16*24, num=16+1)"
   ]
  },
  {
   "cell_type": "code",
   "execution_count": 41,
   "metadata": {},
   "outputs": [],
   "source": [
    "# sobol for 4 experiments, for both N and IT.\n",
    "from scipy.stats import qmc\n",
    "sampler = qmc.Sobol(d=2, scramble=False)\n",
    "sample = sampler.random_base2(m=2)\n",
    "l_bounds = [0.1,100]   # X,N\n",
    "u_bounds = [0.2,200]\n",
    "operation_con = qmc.scale(sample,l_bounds,u_bounds)"
   ]
  },
  {
   "cell_type": "code",
   "execution_count": 42,
   "metadata": {},
   "outputs": [
    {
     "data": {
      "text/plain": [
       "array([[1.00e-01, 1.00e+02],\n",
       "       [1.50e-01, 1.50e+02],\n",
       "       [1.75e-01, 1.25e+02],\n",
       "       [1.25e-01, 1.75e+02]])"
      ]
     },
     "execution_count": 42,
     "metadata": {},
     "output_type": "execute_result"
    }
   ],
   "source": [
    "operation_con "
   ]
  },
  {
   "cell_type": "code",
   "execution_count": 43,
   "metadata": {},
   "outputs": [],
   "source": [
    "# # sobol for 16 IT.\n",
    "# from scipy.stats import qmc\n",
    "# sampler_I = qmc.Sobol(d=1, scramble=False)\n",
    "# sample_I = sampler_I.random_base2(m=4)\n",
    "\n",
    "# l_bounds_I = [50]\n",
    "# u_bounds_I = [600]\n",
    "# I_con = qmc.scale(sample_I,l_bounds_I,u_bounds_I)"
   ]
  },
  {
   "cell_type": "code",
   "execution_count": 44,
   "metadata": {},
   "outputs": [],
   "source": [
    "# sobol for 16 IT. seperate from the initial condition since the feeding concentration of N should not be as high as the initial concentration in the reactor\n",
    "from scipy.stats import qmc\n",
    "sampler_N = qmc.Sobol(d=1, scramble=False)\n",
    "sample_N = sampler_N.random_base2(m=4)\n",
    "\n",
    "l_bounds_N = [1*1e-2]\n",
    "u_bounds_N = [10*1e-2]\n",
    "N_con = qmc.scale(sample_N,l_bounds_N,u_bounds_N)"
   ]
  },
  {
   "cell_type": "code",
   "execution_count": 45,
   "metadata": {},
   "outputs": [
    {
     "data": {
      "text/plain": [
       "array([[0.01    ],\n",
       "       [0.055   ],\n",
       "       [0.0775  ],\n",
       "       [0.0325  ],\n",
       "       [0.04375 ],\n",
       "       [0.08875 ],\n",
       "       [0.06625 ],\n",
       "       [0.02125 ],\n",
       "       [0.026875],\n",
       "       [0.071875],\n",
       "       [0.094375],\n",
       "       [0.049375],\n",
       "       [0.038125],\n",
       "       [0.083125],\n",
       "       [0.060625],\n",
       "       [0.015625]])"
      ]
     },
     "execution_count": 45,
     "metadata": {},
     "output_type": "execute_result"
    }
   ],
   "source": [
    "N_con"
   ]
  },
  {
   "cell_type": "code",
   "execution_count": 46,
   "metadata": {},
   "outputs": [],
   "source": [
    "N_con = [N_con[i:i+4] for i in range(0, len(N_con), 4)]"
   ]
  },
  {
   "cell_type": "code",
   "execution_count": 47,
   "metadata": {},
   "outputs": [
    {
     "data": {
      "text/plain": [
       "[array([[0.01  ],\n",
       "        [0.055 ],\n",
       "        [0.0775],\n",
       "        [0.0325]]),\n",
       " array([[0.04375],\n",
       "        [0.08875],\n",
       "        [0.06625],\n",
       "        [0.02125]]),\n",
       " array([[0.026875],\n",
       "        [0.071875],\n",
       "        [0.094375],\n",
       "        [0.049375]]),\n",
       " array([[0.038125],\n",
       "        [0.083125],\n",
       "        [0.060625],\n",
       "        [0.015625]])]"
      ]
     },
     "execution_count": 47,
     "metadata": {},
     "output_type": "execute_result"
    }
   ],
   "source": [
    "N_con"
   ]
  },
  {
   "cell_type": "code",
   "execution_count": 48,
   "metadata": {},
   "outputs": [],
   "source": [
    "# N_all = []\n",
    "# for i in range(4):\n",
    "#     operation_con_i = operation_con[i][1]\n",
    "#     N_con_i = N_con[i]\n",
    "#     concatenated_array = np.vstack((operation_con_i, N_con_i))\n",
    "#     N_all.append(concatenated_array)"
   ]
  },
  {
   "cell_type": "code",
   "execution_count": 49,
   "metadata": {},
   "outputs": [],
   "source": [
    "def dic_F_in_I(no_data,num_u,u_con):\n",
    "    u_test = np.ones([no_data,num_u])\n",
    "    for i in range(len(t)):\n",
    "        if t[i] >=0 and t[i] <=tf_N:\n",
    "            u_test[i] = u_con[0]\n",
    "        if t[i] >tf_N and t[i] <=2*tf_N:\n",
    "            u_test[i] = u_con[1]\n",
    "        if t[i] >2*tf_N and t[i] <=3*tf_N:\n",
    "            u_test[i] = u_con[2]\n",
    "        if t[i] >3*tf_N and t[i] <=4*tf_N:\n",
    "            u_test[i] = u_con[3]\n",
    "    # Insert the new element at the beginning of the array\n",
    "    # u_test = np.vstack((new_element,u_test))\n",
    "\n",
    "    F_in_dic = to_dict(u_test.T[0],dt)\n",
    "    # I_dic    = to_dict(u_test.T[1],dt)\n",
    "\n",
    "    return F_in_dic"
   ]
  },
  {
   "cell_type": "code",
   "execution_count": 50,
   "metadata": {},
   "outputs": [
    {
     "data": {
      "text/plain": [
       "[array([[0.01  ],\n",
       "        [0.055 ],\n",
       "        [0.0775],\n",
       "        [0.0325]]),\n",
       " array([[0.04375],\n",
       "        [0.08875],\n",
       "        [0.06625],\n",
       "        [0.02125]]),\n",
       " array([[0.026875],\n",
       "        [0.071875],\n",
       "        [0.094375],\n",
       "        [0.049375]]),\n",
       " array([[0.038125],\n",
       "        [0.083125],\n",
       "        [0.060625],\n",
       "        [0.015625]])]"
      ]
     },
     "execution_count": 50,
     "metadata": {},
     "output_type": "execute_result"
    }
   ],
   "source": [
    "N_con"
   ]
  },
  {
   "cell_type": "code",
   "execution_count": 51,
   "metadata": {},
   "outputs": [],
   "source": [
    "u_dic1 = dic_F_in_I(17,1,N_con[0])\n",
    "u_dic2 = dic_F_in_I(17,1,N_con[1])\n",
    "u_dic3 = dic_F_in_I(17,1,N_con[2])\n",
    "u_dic4 = dic_F_in_I(17,1,N_con[3])"
   ]
  },
  {
   "cell_type": "code",
   "execution_count": 52,
   "metadata": {},
   "outputs": [
    {
     "data": {
      "text/plain": [
       "{0.0: 0.043750000000000004,\n",
       " 24.0: 0.043750000000000004,\n",
       " 48.0: 0.043750000000000004,\n",
       " 72.0: 0.043750000000000004,\n",
       " 96.0: 0.043750000000000004,\n",
       " 120.0: 0.08875000000000001,\n",
       " 144.0: 0.08875000000000001,\n",
       " 168.0: 0.08875000000000001,\n",
       " 192.0: 0.08875000000000001,\n",
       " 216.0: 0.06625,\n",
       " 240.0: 0.06625,\n",
       " 264.0: 0.06625,\n",
       " 288.0: 0.06625,\n",
       " 312.0: 0.02125,\n",
       " 336.0: 0.02125,\n",
       " 360.0: 0.02125,\n",
       " 384.0: 0.02125}"
      ]
     },
     "execution_count": 52,
     "metadata": {},
     "output_type": "execute_result"
    }
   ],
   "source": [
    "u_dic2 "
   ]
  },
  {
   "cell_type": "code",
   "execution_count": 53,
   "metadata": {},
   "outputs": [],
   "source": [
    "# N_range = load_pkl('operation data/N_range.pkl')\n",
    "# I0_range = load_pkl('operation data/I0_range.pkl')\n",
    "\n",
    "\n",
    "\n",
    "# I1 = I0_range[0]\n",
    "# I2 = I0_range[1]\n",
    "# I3 = I0_range[2]\n",
    "\n",
    "# I_max = np.max([I1,I2,I3])\n",
    "\n",
    "# I_all = np.array([I1,I2,I3])"
   ]
  },
  {
   "cell_type": "code",
   "execution_count": 54,
   "metadata": {},
   "outputs": [],
   "source": [
    "\n",
    "# def model(state, t, para):\n",
    "#     # Internal definitions\n",
    "\n",
    "    \n",
    "#     # State vector\n",
    "#     x = state[0]\n",
    "#     n = state[1]\n",
    "#     q = state[2]\n",
    "#     f = state[3]\n",
    "\n",
    "#     I0      = para['I0']\n",
    "    \n",
    "#     # Parameters\n",
    "\n",
    "#     kq      = para['kq']\n",
    "#     ud      = para['ud']\n",
    "#     un      = para['un']\n",
    "#     kn      = para['kn']\n",
    "#     theta   = para['theta']\n",
    "#     gamma   = para['gamma']\n",
    "#     epsilon = para['epsilon']\n",
    "    \n",
    "#     tau     = para['tau']\n",
    "#     delta   = para['delta']\n",
    "#     phi     = para['phi']\n",
    "#     ks      = para['ks']\n",
    "#     ki      = para['ki']\n",
    "#     alpha   = para['alpha']\n",
    "#     belta   = para['belta']\n",
    "#     uM      = para['uM']  \n",
    "    \n",
    "    \n",
    "    \n",
    "#     # Algebraic equations, calculation of um\n",
    "#         #Initial of L and I\n",
    "#     L         = 4.4E-2\n",
    "#     # I0      = 80\n",
    "#     def I_e(z):\n",
    "\n",
    "#         I_z   = I0*np.exp(-(alpha*x+belta)*z) \n",
    "#         I     = uM*I_z/(I_z+ks+I_z**2/ki)\n",
    "#         return I\n",
    "\n",
    "\n",
    "\n",
    "\n",
    "\n",
    "#     um    = scp.quad(I_e, 0, L)\n",
    "#     um    = um[0]/L\n",
    "\n",
    "\n",
    "#     u0     = um*(1-kq/q)\n",
    "    \n",
    "    \n",
    "#     # Differential equations\n",
    "#     dev_x  = u0*x-ud*x\n",
    "#     dev_n  = -un*(n/(n+kn))*x\n",
    "#     dev_q  = un*(n/(n+kn)) - (um*(1-(kq/q))-ud)*q\n",
    "#     dev_f  = um*(theta*q-epsilon*f)*(1-(kq/q)) - gamma*un*(n/(n+kn))+ud*epsilon*f\n",
    "        \n",
    "#     # fluorescence\n",
    "#     Y      = (np.exp(tau*q)/(np.exp(tau*q)+delta))+phi\n",
    "\n",
    "#     return np.array([dev_x,dev_n,dev_q,dev_f],dtype='float64').flatten()\n",
    "\n",
    "\n",
    "# # Simulation\n",
    "# def simulation(model, steps, tf, x0,para):\n",
    "#     t_eval        = np.linspace(0,tf,steps+1)\n",
    "#     sol           = odeint(model,x0, t_eval, args = (para,)).T\n",
    "        \n",
    "#     return sol,t_eval"
   ]
  },
  {
   "cell_type": "code",
   "execution_count": 55,
   "metadata": {},
   "outputs": [],
   "source": [
    "# Data generation #\n",
    "class ModelIntegration:\n",
    "    '''\n",
    "    This files integrates the model.\n",
    "    \n",
    "     model: this is were the model should be changed \n",
    "    '''\n",
    "    \n",
    "    # --- initializing model --- #\n",
    "    def __init__(self, parameters):\n",
    "        \n",
    "        # Object variable definitions\n",
    "\n",
    "        self.parameters = parameters\n",
    "    # --- dynamic model definition --- #    \n",
    "    def model(self, t, state):\n",
    "        # internal definitions\n",
    "        params = self.parameters\n",
    "        \n",
    "        # define controls here\n",
    "\n",
    "        # state vector\n",
    "        Cx  = state[0]\n",
    "        Cn  = state[1]\n",
    "        V   = state[2]\n",
    "                # define controls here\n",
    "        FCn    = params['FCn']\n",
    "        N_in   = params['N_in']\n",
    "        # print(FCn,'Fcn')\n",
    "        \n",
    "        # parameters\n",
    "        u_m  = params['u_m'] \n",
    "        K_N  = params['K_N']\n",
    "        u_d  = params['u_d']\n",
    "        Y_nx = params['Y_nx']\n",
    "        \n",
    "        # algebraic equations\n",
    "        \n",
    "        # variable rate equations\n",
    "        dev_Cx  = -FCn/V*Cx + u_m * Cx * Cn/(Cn+K_N) - u_d*Cx**2\n",
    "        dev_Cn  = - Y_nx * u_m * Cx * Cn/(Cn+K_N) + FCn*(N_in-Cn)/V\n",
    "        dev_V   = FCn\n",
    "        \n",
    "        # print(\"Shape of dev_Cx:\", np.shape(dev_Cx))\n",
    "        # print(\"Shape of dev_Cn:\", np.shape(dev_Cn))\n",
    "        \n",
    "        return np.array([dev_Cx, dev_Cn,dev_V],dtype='float64')\n",
    "    \n",
    "    # --- simulation --- #\n",
    "    def simulation(self, steps, tf, x0):\n",
    "        '''\n",
    "        simulate for a number of steps to collect data, and a final time\n",
    "        '''\n",
    "\n",
    "        # external definitions\n",
    "        self.x0, self.tf = x0, tf\n",
    "\n",
    "        # internal definitions\n",
    "        model = self.model\n",
    "        dt    = tf/(steps)\n",
    "        \n",
    "        # compile state trajectories\n",
    "        xt = np.zeros((x0.shape[0],steps+1))\n",
    "        tt = np.zeros((steps+1))\n",
    "        \n",
    "        # initialize simulation\n",
    "        current_state = x0\n",
    "        xt[:,0]       = current_state\n",
    "        tt[0]         = 0.\n",
    "        \n",
    "        # simulation\n",
    "        for s in range(steps):\n",
    "            ode           = scp.ode(model)                  # define ode\n",
    "            ode.set_integrator('lsoda', nsteps=3000)        # define integrator\n",
    "            ode.set_initial_value(current_state, dt)        # set initial value\n",
    "            current_state = list(ode.integrate(ode.t + dt)) # integrate system\n",
    "            xt[:,s+1]     = current_state                   # add current state\n",
    "            tt[s+1]       = (s+1)*dt\n",
    "        \n",
    "        return xt, tt\n"
   ]
  },
  {
   "cell_type": "code",
   "execution_count": 56,
   "metadata": {},
   "outputs": [],
   "source": [
    "def train_data_generation(parameter, initial_c,N_all):\n",
    "    all_xt = []\n",
    "    all_pe = []\n",
    "    # all_tt = []\n",
    "\n",
    "    for i in range(len(N_all)):\n",
    "        parameter['FCn'] = N_all[i]\n",
    "        print(parameter['FCn'],'FCn')\n",
    "        m            = ModelIntegration(parameter)\n",
    "        xt_i, tt_i       = m.simulation(dstep_N,tf_N,initial_c) \n",
    "        # xt_i, tt_i       = simulation(model, dstep_I,tf_I, initial_c,parameter)\n",
    "        # print(xt_i,'xt_i')\n",
    "        all_xt.append(xt_i)\n",
    "        # all_tt.append(tt_i)\n",
    "        new_init = np.zeros(3)\n",
    "        for j in range(3):\n",
    "            new_init[j] = xt_i[j][-1]\n",
    "        initial_c = new_init\n",
    "        # print(initial_c1,'initial_c1')\n",
    "\n",
    "        all_pe.append(parameter.copy())\n",
    "\n",
    "    for i in range(1,len(all_xt)):\n",
    "        all_xt[i] = np.delete(all_xt[i], 0, axis=1)\n",
    "\n",
    "        # all_tt[i] = np.delete(all_tt[i], 0, axis=1)\n",
    "    # print(all_xt,'all_xt')\n",
    "    xt = all_xt[0]\n",
    "    # tt = all_tt[0]\n",
    "\n",
    "    # Iterate through the remaining arrays and concatenate them\n",
    "    for i in all_xt[1:]:\n",
    "        xt = np.concatenate((xt, i), axis=1)  # Concatenate along the rows\n",
    "\n",
    "    \n",
    "    mean_x = np.zeros(xt.shape[0])\n",
    "    for i in range(xt.shape[0]):\n",
    "        mean_x[i]=np.mean(xt[i])\n",
    "        \n",
    "    mean_x    = mean_x*0.05\n",
    "    std_value = mean_x\n",
    "\n",
    "    x_noise      = np.random.normal(0,mean_x[0],xt.shape[1])\n",
    "    x_noise[0]   = 0\n",
    "    n_noise      = np.random.normal(0,mean_x[1],xt.shape[1])\n",
    "    n_noise[0]   = 0\n",
    "\n",
    "    V_noise      = np.random.normal(0,0,xt.shape[1])\n",
    "\n",
    "    # q_noise      = np.random.normal(0,mean_x[2],xt.shape[1])\n",
    "    # q_noise[0]   = 0\n",
    "    # f_noise      = np.random.normal(0,mean_x[3],xt.shape[1])\n",
    "    # f_noise[0]   = 0 \n",
    "\n",
    "    obs          = np.array([x_noise,n_noise,V_noise])\n",
    "    xobs         = xt+obs\n",
    "\n",
    "    for i in range(xobs.shape[0]):\n",
    "        for j in range(len(xobs[i])):\n",
    "            if xobs[i][j]<0:\n",
    "                xobs[i][j] = 1E-7\n",
    "    for i in range(xobs.shape[1]):\n",
    "        if xobs[0][i]<0:\n",
    "            xobs[0][i] = 1e-7\n",
    "        if xobs[1][i]<0:\n",
    "            xobs[1][i] = 1e-7\n",
    "\n",
    "    return xt,xobs,std_value"
   ]
  },
  {
   "cell_type": "code",
   "execution_count": 57,
   "metadata": {},
   "outputs": [
    {
     "name": "stdout",
     "output_type": "stream",
     "text": [
      "[0.01] FCn\n",
      "[0.055] FCn\n",
      "[0.0775] FCn\n",
      "[0.0325] FCn\n"
     ]
    }
   ],
   "source": [
    "#experiment 1\n",
    "\n",
    "p1  = {'u_m' : 0.0923*0.62, 'K_N' : 393.10, 'u_d' : 0.01, 'Y_nx' : 504.49,'FCn':N_con[0][0],'N_in':100}\n",
    "initial_c1 =  np.array([operation_con[0][0],operation_con[0][1],10])\n",
    "operation_con[0][0]\n",
    "\n",
    "xt1,xobs1,std_value1 = train_data_generation(p1, initial_c1,N_con[0])\n"
   ]
  },
  {
   "cell_type": "code",
   "execution_count": 58,
   "metadata": {},
   "outputs": [
    {
     "data": {
      "text/plain": [
       "True"
      ]
     },
     "execution_count": 58,
     "metadata": {},
     "output_type": "execute_result"
    }
   ],
   "source": [
    "(xt1>= 0).all()"
   ]
  },
  {
   "cell_type": "code",
   "execution_count": 76,
   "metadata": {},
   "outputs": [
    {
     "data": {
      "text/plain": [
       "26.80000000000001"
      ]
     },
     "execution_count": 76,
     "metadata": {},
     "output_type": "execute_result"
    }
   ],
   "source": [
    "xt1[2][-1]"
   ]
  },
  {
   "cell_type": "code",
   "execution_count": 59,
   "metadata": {},
   "outputs": [
    {
     "data": {
      "image/png": "[encoded data removed]",
      "text/plain": [
       "<Figure size 432x288 with 1 Axes>"
      ]
     },
     "metadata": {
      "needs_background": "light"
     },
     "output_type": "display_data"
    },
    {
     "data": {
      "image/png": "[encoded data removed]",
      "text/plain": [
       "<Figure size 432x288 with 1 Axes>"
      ]
     },
     "metadata": {
      "needs_background": "light"
     },
     "output_type": "display_data"
    },
    {
     "data": {
      "image/png": "[encoded data removed]",
      "text/plain": [
       "<Figure size 432x288 with 1 Axes>"
      ]
     },
     "metadata": {
      "needs_background": "light"
     },
     "output_type": "display_data"
    }
   ],
   "source": [
    "for i in range(xt1.shape[0]):\n",
    "    plt.figure()\n",
    "    plt.plot(t,xt1[i])\n",
    "    plt.show()"
   ]
  },
  {
   "cell_type": "code",
   "execution_count": 60,
   "metadata": {},
   "outputs": [
    {
     "name": "stdout",
     "output_type": "stream",
     "text": [
      "[0.04375] FCn\n",
      "[0.08875] FCn\n",
      "[0.06625] FCn\n",
      "[0.02125] FCn\n"
     ]
    }
   ],
   "source": [
    "#experiment 2\n",
    "\n",
    "p2  = {'u_m' : 0.0923*0.62, 'K_N' : 393.10, 'u_d' : 0.01, 'Y_nx' : 504.49,'FCn':N_con[1][0],'N_in':100}\n",
    "initial_c2 =  np.array([operation_con[1][0],operation_con[1][1],10])\n",
    "\n",
    "xt2,xobs2,std_value2 = train_data_generation(p2, initial_c2,N_con[1])\n",
    "\n",
    "\n"
   ]
  },
  {
   "cell_type": "code",
   "execution_count": 61,
   "metadata": {},
   "outputs": [
    {
     "data": {
      "text/plain": [
       "True"
      ]
     },
     "execution_count": 61,
     "metadata": {},
     "output_type": "execute_result"
    }
   ],
   "source": [
    "(xt2>= 0).all()"
   ]
  },
  {
   "cell_type": "code",
   "execution_count": 62,
   "metadata": {},
   "outputs": [
    {
     "data": {
      "image/png": "[encoded data removed]",
      "text/plain": [
       "<Figure size 432x288 with 1 Axes>"
      ]
     },
     "metadata": {
      "needs_background": "light"
     },
     "output_type": "display_data"
    },
    {
     "data": {
      "image/png": "[encoded data removed]",
      "text/plain": [
       "<Figure size 432x288 with 1 Axes>"
      ]
     },
     "metadata": {
      "needs_background": "light"
     },
     "output_type": "display_data"
    },
    {
     "data": {
      "image/png": "[encoded data removed]",
      "text/plain": [
       "<Figure size 432x288 with 1 Axes>"
      ]
     },
     "metadata": {
      "needs_background": "light"
     },
     "output_type": "display_data"
    }
   ],
   "source": [
    "for i in range(xt2.shape[0]):\n",
    "    plt.figure()\n",
    "    plt.plot(t,xt2[i])\n",
    "    plt.show()"
   ]
  },
  {
   "cell_type": "code",
   "execution_count": 63,
   "metadata": {},
   "outputs": [
    {
     "name": "stdout",
     "output_type": "stream",
     "text": [
      "[0.026875] FCn\n",
      "[0.071875] FCn\n",
      "[0.094375] FCn\n",
      "[0.049375] FCn\n"
     ]
    }
   ],
   "source": [
    "#experiment 3\n",
    "\n",
    "p3  = {'u_m' : 0.0923*0.62, 'K_N' : 393.10, 'u_d' : 0.01, 'Y_nx' : 504.49,'FCn':N_con[2][0],'N_in':100}\n",
    "initial_c3 =  np.array([operation_con[2][0],operation_con[2][1],10])\n",
    "\n",
    "xt3,xobs3,std_value3 = train_data_generation(p3, initial_c3,N_con[2])\n",
    "\n",
    "\n"
   ]
  },
  {
   "cell_type": "code",
   "execution_count": 64,
   "metadata": {},
   "outputs": [
    {
     "data": {
      "image/png": "[encoded data removed]",
      "text/plain": [
       "<Figure size 432x288 with 1 Axes>"
      ]
     },
     "metadata": {
      "needs_background": "light"
     },
     "output_type": "display_data"
    },
    {
     "data": {
      "image/png": "[encoded data removed]",
      "text/plain": [
       "<Figure size 432x288 with 1 Axes>"
      ]
     },
     "metadata": {
      "needs_background": "light"
     },
     "output_type": "display_data"
    },
    {
     "data": {
      "image/png": "[encoded data removed]",
      "text/plain": [
       "<Figure size 432x288 with 1 Axes>"
      ]
     },
     "metadata": {
      "needs_background": "light"
     },
     "output_type": "display_data"
    }
   ],
   "source": [
    "for i in range(xt3.shape[0]):\n",
    "    plt.figure()\n",
    "    plt.plot(t,xt3[i])\n",
    "    plt.show()"
   ]
  },
  {
   "cell_type": "code",
   "execution_count": 66,
   "metadata": {},
   "outputs": [
    {
     "name": "stdout",
     "output_type": "stream",
     "text": [
      "[0.038125] FCn\n",
      "[0.083125] FCn\n",
      "[0.060625] FCn\n",
      "[0.015625] FCn\n"
     ]
    }
   ],
   "source": [
    "#experiment 4\n",
    "\n",
    "p4  = {'u_m' : 0.0923*0.62, 'K_N' : 393.10, 'u_d' : 0.01, 'Y_nx' : 504.49,'FCn':N_con[3][0],'N_in':100}\n",
    "initial_c4 =  np.array([operation_con[3][0],operation_con[3][1],10])\n",
    "\n",
    "xt4,xobs4,std_value4 = train_data_generation(p4, initial_c4,N_con[3])\n",
    "\n"
   ]
  },
  {
   "cell_type": "code",
   "execution_count": 67,
   "metadata": {},
   "outputs": [
    {
     "data": {
      "image/png": "[encoded data removed]",
      "text/plain": [
       "<Figure size 432x288 with 1 Axes>"
      ]
     },
     "metadata": {
      "needs_background": "light"
     },
     "output_type": "display_data"
    },
    {
     "data": {
      "image/png": "[encoded data removed]",
      "text/plain": [
       "<Figure size 432x288 with 1 Axes>"
      ]
     },
     "metadata": {
      "needs_background": "light"
     },
     "output_type": "display_data"
    },
    {
     "data": {
      "image/png": "[encoded data removed]",
      "text/plain": [
       "<Figure size 432x288 with 1 Axes>"
      ]
     },
     "metadata": {
      "needs_background": "light"
     },
     "output_type": "display_data"
    }
   ],
   "source": [
    "for i in range(xt4.shape[0]):\n",
    "    plt.figure()\n",
    "    plt.plot(t,xt4[i])\n",
    "    plt.show()"
   ]
  },
  {
   "cell_type": "code",
   "execution_count": 22,
   "metadata": {},
   "outputs": [
    {
     "data": {
      "text/plain": [
       "array([[1.00000000e-01, 1.29724658e-01, 1.68593018e-01, 2.16192000e-01,\n",
       "        2.69477050e-01, 3.55828262e-01, 5.04682907e-01, 6.99369184e-01,\n",
       "        8.85678533e-01, 1.03975520e+00, 1.15285430e+00, 1.21204408e+00,\n",
       "        1.23496221e+00, 1.15451521e+00, 1.03650827e+00, 9.50777572e-01,\n",
       "        8.94791172e-01],\n",
       "       [1.00000000e+02, 1.07418084e+02, 1.09128295e+02, 1.04640542e+02,\n",
       "        9.46059241e+01, 1.71528307e+02, 2.06311083e+02, 1.96135753e+02,\n",
       "        1.57036570e+02, 1.52458988e+02, 1.34514570e+02, 1.20189507e+02,\n",
       "        1.12754850e+02, 5.52336849e+01, 4.78274040e+01, 5.01498846e+01,\n",
       "        5.37224676e+01]])"
      ]
     },
     "execution_count": 22,
     "metadata": {},
     "output_type": "execute_result"
    }
   ],
   "source": [
    "xt1"
   ]
  },
  {
   "cell_type": "code",
   "execution_count": 23,
   "metadata": {},
   "outputs": [
    {
     "data": {
      "text/plain": [
       "(2, 17)"
      ]
     },
     "execution_count": 23,
     "metadata": {},
     "output_type": "execute_result"
    }
   ],
   "source": [
    "xt1.shape"
   ]
  },
  {
   "cell_type": "code",
   "execution_count": 68,
   "metadata": {},
   "outputs": [],
   "source": [
    "data_init   = {None: dict(t       = {None: list(t)},\n",
    "                          tm      = {None: list(t)},\n",
    "                          x1_noise = to_dict(xobs1[0],dt),\n",
    "                          n1_noise = to_dict(xobs1[1],dt),\n",
    "                          x2_noise = to_dict(xobs2[0],dt),\n",
    "                          n2_noise = to_dict(xobs2[1],dt),\n",
    "                          x3_noise = to_dict(xobs3[0],dt),\n",
    "                          n3_noise = to_dict(xobs3[1],dt),\n",
    "                          x4_noise = to_dict(xobs4[0],dt),\n",
    "                          n4_noise = to_dict(xobs4[1],dt))}"
   ]
  },
  {
   "cell_type": "code",
   "execution_count": 69,
   "metadata": {},
   "outputs": [
    {
     "data": {
      "text/plain": [
       "{None: {'t': {None: [0.0,\n",
       "    24.0,\n",
       "    48.0,\n",
       "    72.0,\n",
       "    96.0,\n",
       "    120.0,\n",
       "    144.0,\n",
       "    168.0,\n",
       "    192.0,\n",
       "    216.0,\n",
       "    240.0,\n",
       "    264.0,\n",
       "    288.0,\n",
       "    312.0,\n",
       "    336.0,\n",
       "    360.0,\n",
       "    384.0]},\n",
       "  'tm': {None: [0.0,\n",
       "    24.0,\n",
       "    48.0,\n",
       "    72.0,\n",
       "    96.0,\n",
       "    120.0,\n",
       "    144.0,\n",
       "    168.0,\n",
       "    192.0,\n",
       "    216.0,\n",
       "    240.0,\n",
       "    264.0,\n",
       "    288.0,\n",
       "    312.0,\n",
       "    336.0,\n",
       "    360.0,\n",
       "    384.0]},\n",
       "  'x1_noise': {0.0: 0.1,\n",
       "   24.0: 0.12555868195053133,\n",
       "   48.0: 0.1321941449675189,\n",
       "   72.0: 0.17837443692420754,\n",
       "   96.0: 0.18631123788763315,\n",
       "   120.0: 0.18233709244702992,\n",
       "   144.0: 0.16934791693198747,\n",
       "   168.0: 0.17773395854681903,\n",
       "   192.0: 0.1726984078243621,\n",
       "   216.0: 0.1530911012065377,\n",
       "   240.0: 0.15498485297992384,\n",
       "   264.0: 0.13106517877271762,\n",
       "   288.0: 0.13831429066252293,\n",
       "   312.0: 0.14263076680986586,\n",
       "   336.0: 0.14115430066250523,\n",
       "   360.0: 0.15095857455940037,\n",
       "   384.0: 0.1577460564485866},\n",
       "  'n1_noise': {0.0: 100.0,\n",
       "   24.0: 84.55265425731078,\n",
       "   48.0: 70.03831939280748,\n",
       "   72.0: 57.38569009858128,\n",
       "   96.0: 42.941734634138406,\n",
       "   120.0: 38.425646934430404,\n",
       "   144.0: 32.709703142728024,\n",
       "   168.0: 32.72780541305136,\n",
       "   192.0: 25.472537770903017,\n",
       "   216.0: 29.74338692237211,\n",
       "   240.0: 27.84270178047127,\n",
       "   264.0: 25.904337264667934,\n",
       "   288.0: 25.737161101164094,\n",
       "   312.0: 22.364340398970192,\n",
       "   336.0: 23.829723659140146,\n",
       "   360.0: 17.219134260400363,\n",
       "   384.0: 15.115244085823683},\n",
       "  'x2_noise': {0.0: 0.15000000000000002,\n",
       "   24.0: 0.17875202635189455,\n",
       "   48.0: 0.2012160883149772,\n",
       "   72.0: 0.23823017191650628,\n",
       "   96.0: 0.2303984089287898,\n",
       "   120.0: 0.24253163243292084,\n",
       "   144.0: 0.22426863694104254,\n",
       "   168.0: 0.19362686821239025,\n",
       "   192.0: 0.19170820536292915,\n",
       "   216.0: 0.1949844236310647,\n",
       "   240.0: 0.181786691450479,\n",
       "   264.0: 0.17990641218951703,\n",
       "   288.0: 0.17382941623412934,\n",
       "   312.0: 0.17483390537196802,\n",
       "   336.0: 0.16424045502657245,\n",
       "   360.0: 0.17181235625335656,\n",
       "   384.0: 0.14828580375684072},\n",
       "  'n2_noise': {0.0: 150.0,\n",
       "   24.0: 113.31658149776462,\n",
       "   48.0: 85.61622201159409,\n",
       "   72.0: 62.31418822129538,\n",
       "   96.0: 48.04694952724957,\n",
       "   120.0: 38.044882012978015,\n",
       "   144.0: 35.51516398809644,\n",
       "   168.0: 31.12176125433023,\n",
       "   192.0: 27.510049514485036,\n",
       "   216.0: 26.276300670238836,\n",
       "   240.0: 25.0020268703711,\n",
       "   264.0: 18.167885074992057,\n",
       "   288.0: 16.507868321297146,\n",
       "   312.0: 18.247541639330795,\n",
       "   336.0: 16.249634164627047,\n",
       "   360.0: 11.381019463708094,\n",
       "   384.0: 10.189709608009764},\n",
       "  'x3_noise': {0.0: 0.17500000000000002,\n",
       "   24.0: 0.20565424410101718,\n",
       "   48.0: 0.24353940484970005,\n",
       "   72.0: 0.26515663665186545,\n",
       "   96.0: 0.25803653860492093,\n",
       "   120.0: 0.23469592064019046,\n",
       "   144.0: 0.22537173354678178,\n",
       "   168.0: 0.20091041673342425,\n",
       "   192.0: 0.20666584178335598,\n",
       "   216.0: 0.19564448772839788,\n",
       "   240.0: 0.16580379538509668,\n",
       "   264.0: 0.18226088636027038,\n",
       "   288.0: 0.1477199595328828,\n",
       "   312.0: 0.14042284429844168,\n",
       "   336.0: 0.16001958751263476,\n",
       "   360.0: 0.14981282804509125,\n",
       "   384.0: 0.16762769510172218},\n",
       "  'n3_noise': {0.0: 125.0,\n",
       "   24.0: 98.73100666031729,\n",
       "   48.0: 66.00206901390021,\n",
       "   72.0: 50.75591009090726,\n",
       "   96.0: 38.42989335953367,\n",
       "   120.0: 29.927545119399753,\n",
       "   144.0: 28.265131477727977,\n",
       "   168.0: 25.406455068987793,\n",
       "   192.0: 25.89668365910686,\n",
       "   216.0: 23.31976079887563,\n",
       "   240.0: 26.74245539590548,\n",
       "   264.0: 21.594705891109765,\n",
       "   288.0: 25.422776772348378,\n",
       "   312.0: 18.283420764994283,\n",
       "   336.0: 20.89515974786146,\n",
       "   360.0: 21.208090072271116,\n",
       "   384.0: 17.396402518960347},\n",
       "  'x4_noise': {0.0: 0.125,\n",
       "   24.0: 0.14245829507424923,\n",
       "   48.0: 0.21883482246433134,\n",
       "   72.0: 0.20721354739145928,\n",
       "   96.0: 0.23888326838708754,\n",
       "   120.0: 0.23772334281721413,\n",
       "   144.0: 0.23896023986834103,\n",
       "   168.0: 0.210074407075681,\n",
       "   192.0: 0.2067721134411941,\n",
       "   216.0: 0.19771040019819983,\n",
       "   240.0: 0.19655157338753998,\n",
       "   264.0: 0.19199296176556968,\n",
       "   288.0: 0.18149857142679066,\n",
       "   312.0: 0.17413180131656564,\n",
       "   336.0: 0.17327532795821565,\n",
       "   360.0: 0.15833046038539958,\n",
       "   384.0: 0.17470675972680613},\n",
       "  'n4_noise': {0.0: 175.0,\n",
       "   24.0: 144.31124819912728,\n",
       "   48.0: 108.92923811803674,\n",
       "   72.0: 75.96844356470277,\n",
       "   96.0: 52.94661626435034,\n",
       "   120.0: 42.12058263484455,\n",
       "   144.0: 32.617338332298196,\n",
       "   168.0: 29.09574385529606,\n",
       "   192.0: 27.871633724038126,\n",
       "   216.0: 26.634572257538444,\n",
       "   240.0: 19.451659847326773,\n",
       "   264.0: 21.83991786021175,\n",
       "   288.0: 15.496401078789184,\n",
       "   312.0: 15.565695862243116,\n",
       "   336.0: 10.23773347688877,\n",
       "   360.0: 7.259087998228032,\n",
       "   384.0: 7.103403341934098}}}"
      ]
     },
     "execution_count": 69,
     "metadata": {},
     "output_type": "execute_result"
    }
   ],
   "source": [
    "data_init"
   ]
  },
  {
   "cell_type": "code",
   "execution_count": 32,
   "metadata": {},
   "outputs": [
    {
     "data": {
      "text/plain": [
       "array([  0.1, 100. ])"
      ]
     },
     "execution_count": 32,
     "metadata": {},
     "output_type": "execute_result"
    }
   ],
   "source": [
    "operation_con[0]"
   ]
  },
  {
   "cell_type": "code",
   "execution_count": 71,
   "metadata": {},
   "outputs": [
    {
     "data": {
      "text/plain": [
       "array([[1.00e-01, 1.00e+02],\n",
       "       [1.50e-01, 1.50e+02],\n",
       "       [1.75e-01, 1.25e+02],\n",
       "       [1.25e-01, 1.75e+02]])"
      ]
     },
     "execution_count": 71,
     "metadata": {},
     "output_type": "execute_result"
    }
   ],
   "source": [
    "operation_con"
   ]
  },
  {
   "cell_type": "code",
   "execution_count": 70,
   "metadata": {},
   "outputs": [],
   "source": [
    "N_in = 100"
   ]
  },
  {
   "cell_type": "code",
   "execution_count": 72,
   "metadata": {},
   "outputs": [
    {
     "name": "stdout",
     "output_type": "stream",
     "text": [
      "File saved at: data/xobs1.pkl\n",
      "File saved at: data/xobs2.pkl\n",
      "File saved at: data/xobs3.pkl\n",
      "File saved at: data/xobs4.pkl\n",
      "File saved at: data/Fcn.pkl\n",
      "File saved at: data/N_in.pkl\n",
      "File saved at: data/tf_N.pkl\n",
      "File saved at: data/operation_con.pkl\n",
      "File saved at: data/tt1.pkl\n",
      "File saved at: data/std_value1.pkl\n",
      "File saved at: data/std_value2.pkl\n",
      "File saved at: data/std_value3.pkl\n",
      "File saved at: data/std_value4.pkl\n",
      "File saved at: data/data_init.pkl\n"
     ]
    }
   ],
   "source": [
    "save_pkl(xobs1,'xobs1.pkl')\n",
    "save_pkl(xobs2,'xobs2.pkl')\n",
    "save_pkl(xobs3,'xobs3.pkl')\n",
    "save_pkl(xobs4,'xobs4.pkl')\n",
    "save_pkl(N_con,'Fcn.pkl')\n",
    "save_pkl(N_in,'N_in.pkl')\n",
    "\n",
    "save_pkl(tf_N,'tf_N.pkl')\n",
    "save_pkl(operation_con,'operation_con.pkl')\n",
    "# save_pkl(I0_range,'I0_range.pkl')\n",
    "\n",
    "save_pkl(t,'tt1.pkl')\n",
    "save_pkl(std_value1,'std_value1.pkl')\n",
    "save_pkl(std_value2,'std_value2.pkl')\n",
    "save_pkl(std_value3,'std_value3.pkl')\n",
    "save_pkl(std_value4,'std_value4.pkl')\n",
    "\n",
    "save_pkl(data_init,'data_init.pkl')\n"
   ]
  },
  {
   "cell_type": "code",
   "execution_count": 38,
   "metadata": {},
   "outputs": [
    {
     "data": {
      "text/plain": [
       "96.0"
      ]
     },
     "execution_count": 38,
     "metadata": {},
     "output_type": "execute_result"
    }
   ],
   "source": [
    "tf_N"
   ]
  },
  {
   "cell_type": "code",
   "execution_count": 73,
   "metadata": {},
   "outputs": [
    {
     "name": "stdout",
     "output_type": "stream",
     "text": [
      "File saved at: data/u_dic1.pkl\n",
      "File saved at: data/u_dic2.pkl\n",
      "File saved at: data/u_dic3.pkl\n",
      "File saved at: data/u_dic4.pkl\n"
     ]
    }
   ],
   "source": [
    "save_pkl(u_dic1,'u_dic1.pkl')\n",
    "save_pkl(u_dic2,'u_dic2.pkl')\n",
    "save_pkl(u_dic3,'u_dic3.pkl')\n",
    "save_pkl(u_dic4,'u_dic4.pkl')"
   ]
  },
  {
   "cell_type": "code",
   "execution_count": 74,
   "metadata": {},
   "outputs": [
    {
     "data": {
      "text/plain": [
       "(3, 17)"
      ]
     },
     "execution_count": 74,
     "metadata": {},
     "output_type": "execute_result"
    }
   ],
   "source": [
    "xobs1.shape"
   ]
  }
 ],
 "metadata": {
  "kernelspec": {
   "display_name": "Python 3.9.9 ('env')",
   "language": "python",
   "name": "python3"
  },
  "language_info": {
   "codemirror_mode": {
    "name": "ipython",
    "version": 3
   },
   "file_extension": ".py",
   "mimetype": "text/x-python",
   "name": "python",
   "nbconvert_exporter": "python",
   "pygments_lexer": "ipython3",
   "version": "3.9.9"
  },
  "orig_nbformat": 4,
  "vscode": {
   "interpreter": {
    "hash": "0b975ef14a7c349b5b53fa51dcf9e0d25501f9719e727a1ab429ed23704c47f1"
   }
  }
 },
 "nbformat": 4,
 "nbformat_minor": 2
}
