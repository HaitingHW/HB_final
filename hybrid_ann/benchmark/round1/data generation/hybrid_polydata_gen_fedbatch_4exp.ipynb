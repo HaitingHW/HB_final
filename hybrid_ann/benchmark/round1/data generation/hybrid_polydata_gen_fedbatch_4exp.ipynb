{
 "cells": [
  {
   "cell_type": "code",
   "execution_count": 1,
   "metadata": {},
   "outputs": [],
   "source": [
    "import numpy as np\n",
    "import random\n",
    "import scipy.integrate as scp\n",
    "import numpy.random as rnd\n",
    "import time\n",
    "import matplotlib.pyplot as plt\n",
    "import numpy.random as rnd\n",
    "import copy\n",
    "from matplotlib.pyplot import figure\n",
    "from pyomo.environ import *\n",
    "from pyomo.dae import *\n",
    "import pandas as pd\n",
    "import pickle\n",
    "import scipy.stats\n",
    "from math import comb\n",
    "from scipy.integrate import odeint\n",
    "\n",
    "import glob, os"
   ]
  },
  {
   "attachments": {},
   "cell_type": "markdown",
   "metadata": {},
   "source": [
    "Gneneration of 4 sets of experimental data with different nitrate and light intensity, varies from low to high, number of datapoints for each exps is 17, noise level is 5% of means."
   ]
  },
  {
   "cell_type": "code",
   "execution_count": 2,
   "metadata": {},
   "outputs": [],
   "source": [
    "''' Data treatment'''\n",
    "def save_pkl(item, fname):\n",
    "    sn = 'data/' + fname\n",
    "    with open(sn, 'wb') as handle:\n",
    "        pickle.dump(item, handle) #, protocol=pickle.HIGHEST_PROTOCOL)\n",
    "    print(f'File saved at: {sn}')\n",
    "    return None\n",
    "# return None\n",
    "\n",
    "def load_pkl(fname):\n",
    "    with open(fname, 'rb') as handle:\n",
    "        ans = pickle.load(handle)\n",
    "    print(f'Loaded from: {fname}')\n",
    "    return ans"
   ]
  },
  {
   "cell_type": "code",
   "execution_count": 3,
   "metadata": {},
   "outputs": [],
   "source": [
    "def to_dict(x,dt):\n",
    "    obs = list(x)\n",
    "    # tp = list(time)\n",
    "    dicx = {}\n",
    "    for i in range(len(x)):\n",
    "        dicx[dt*i] = obs[i]            # change thye value of 38.4\n",
    "    return dicx\n",
    "\n",
    "def get_grad(x, t):\n",
    "    dxdt = [[],[],[],[]]\n",
    "    for n in range(x.shape[0]):\n",
    "        for i in range(len(x[0]) - 1):\n",
    "            dxdt[n].append((x[n][i + 1] - x[n][i])/(t[i + 1] - t[i]))\n",
    "        dxdt[n].append(dxdt[n][-1])\n",
    "    return dxdt\n"
   ]
  },
  {
   "cell_type": "code",
   "execution_count": 4,
   "metadata": {},
   "outputs": [],
   "source": [
    "tf    = 16*24\n",
    "steps_= 10\n",
    "dt    = tf/steps_ #dt is fixed\n",
    "\n",
    "\n",
    "num_N = 4\n",
    "tf_N  = tf/(num_N) # tf_N is fixed\n",
    "dt_N = 0.2\n",
    "t_N = np.arange(0,tf_N+dt_N,dt_N)\n",
    "\n",
    "dstep_N = len(t_N)# this is the number of steps in each interval between chaning the fedding rate"
   ]
  },
  {
   "cell_type": "code",
   "execution_count": 5,
   "metadata": {},
   "outputs": [],
   "source": [
    "t_simulation = np.arange(0,tf+dt_N,dt_N)"
   ]
  },
  {
   "cell_type": "code",
   "execution_count": 6,
   "metadata": {},
   "outputs": [
    {
     "data": {
      "text/plain": [
       "38.4"
      ]
     },
     "execution_count": 6,
     "metadata": {},
     "output_type": "execute_result"
    }
   ],
   "source": [
    "tf/steps_"
   ]
  },
  {
   "cell_type": "code",
   "execution_count": 7,
   "metadata": {},
   "outputs": [],
   "source": [
    "t_fn1 = np.arange(0,tf/steps_+dt_N,dt_N)"
   ]
  },
  {
   "cell_type": "code",
   "execution_count": 9,
   "metadata": {},
   "outputs": [
    {
     "data": {
      "text/plain": [
       "array([ 0. ,  0.2,  0.4,  0.6,  0.8,  1. ,  1.2,  1.4,  1.6,  1.8,  2. ,\n",
       "        2.2,  2.4,  2.6,  2.8,  3. ,  3.2,  3.4,  3.6,  3.8,  4. ,  4.2,\n",
       "        4.4,  4.6,  4.8,  5. ,  5.2,  5.4,  5.6,  5.8,  6. ,  6.2,  6.4,\n",
       "        6.6,  6.8,  7. ,  7.2,  7.4,  7.6,  7.8,  8. ,  8.2,  8.4,  8.6,\n",
       "        8.8,  9. ,  9.2,  9.4,  9.6,  9.8, 10. , 10.2, 10.4, 10.6, 10.8,\n",
       "       11. , 11.2, 11.4, 11.6, 11.8, 12. , 12.2, 12.4, 12.6, 12.8, 13. ,\n",
       "       13.2, 13.4, 13.6, 13.8, 14. , 14.2, 14.4, 14.6, 14.8, 15. , 15.2,\n",
       "       15.4, 15.6, 15.8, 16. , 16.2, 16.4, 16.6, 16.8, 17. , 17.2, 17.4,\n",
       "       17.6, 17.8, 18. , 18.2, 18.4, 18.6, 18.8, 19. , 19.2, 19.4, 19.6,\n",
       "       19.8, 20. , 20.2, 20.4, 20.6, 20.8, 21. , 21.2, 21.4, 21.6, 21.8,\n",
       "       22. , 22.2, 22.4, 22.6, 22.8, 23. , 23.2, 23.4, 23.6, 23.8, 24. ,\n",
       "       24.2, 24.4, 24.6, 24.8, 25. , 25.2, 25.4, 25.6, 25.8, 26. , 26.2,\n",
       "       26.4, 26.6, 26.8, 27. , 27.2, 27.4, 27.6, 27.8, 28. , 28.2, 28.4,\n",
       "       28.6, 28.8, 29. , 29.2, 29.4, 29.6, 29.8, 30. , 30.2, 30.4, 30.6,\n",
       "       30.8, 31. , 31.2, 31.4, 31.6, 31.8, 32. , 32.2, 32.4, 32.6, 32.8,\n",
       "       33. , 33.2, 33.4, 33.6, 33.8, 34. , 34.2, 34.4, 34.6, 34.8, 35. ,\n",
       "       35.2, 35.4, 35.6, 35.8, 36. , 36.2, 36.4, 36.6, 36.8, 37. , 37.2,\n",
       "       37.4, 37.6, 37.8, 38. , 38.2, 38.4])"
      ]
     },
     "execution_count": 9,
     "metadata": {},
     "output_type": "execute_result"
    }
   ],
   "source": [
    "t_fn1"
   ]
  },
  {
   "cell_type": "code",
   "execution_count": 8,
   "metadata": {},
   "outputs": [
    {
     "data": {
      "text/plain": [
       "38.4"
      ]
     },
     "execution_count": 8,
     "metadata": {},
     "output_type": "execute_result"
    }
   ],
   "source": [
    "dt"
   ]
  },
  {
   "cell_type": "code",
   "execution_count": 53,
   "metadata": {},
   "outputs": [],
   "source": [
    "t = np.arange(0,tf+dt,dt)"
   ]
  },
  {
   "cell_type": "code",
   "execution_count": 54,
   "metadata": {},
   "outputs": [
    {
     "data": {
      "text/plain": [
       "array([  0. ,  38.4,  76.8, 115.2, 153.6, 192. , 230.4, 268.8, 307.2,\n",
       "       345.6, 384. ])"
      ]
     },
     "execution_count": 54,
     "metadata": {},
     "output_type": "execute_result"
    }
   ],
   "source": [
    "t"
   ]
  },
  {
   "cell_type": "code",
   "execution_count": 55,
   "metadata": {},
   "outputs": [
    {
     "name": "stdout",
     "output_type": "stream",
     "text": [
      "0.0\n",
      "38.400000000000006\n",
      "76.80000000000001\n",
      "115.2\n",
      "153.60000000000002\n",
      "192.0\n",
      "230.4\n",
      "268.8\n",
      "307.20000000000005\n",
      "345.6\n",
      "384.0\n"
     ]
    }
   ],
   "source": [
    "for i in range(len(t)):\n",
    "    print(t_simulation[(len(t_fn1)-1)*i])"
   ]
  },
  {
   "cell_type": "code",
   "execution_count": 56,
   "metadata": {},
   "outputs": [],
   "source": [
    "# sobol for 4 experiments, for both N and IT.\n",
    "from scipy.stats import qmc\n",
    "sampler = qmc.Sobol(d=2, scramble=False)\n",
    "sample = sampler.random_base2(m=2)\n",
    "l_bounds = [0.1,100]   # X,N\n",
    "u_bounds = [0.2,200]\n",
    "operation_con = qmc.scale(sample,l_bounds,u_bounds)"
   ]
  },
  {
   "cell_type": "code",
   "execution_count": 57,
   "metadata": {},
   "outputs": [
    {
     "data": {
      "text/plain": [
       "array([[1.00e-01, 1.00e+02],\n",
       "       [1.50e-01, 1.50e+02],\n",
       "       [1.75e-01, 1.25e+02],\n",
       "       [1.25e-01, 1.75e+02]])"
      ]
     },
     "execution_count": 57,
     "metadata": {},
     "output_type": "execute_result"
    }
   ],
   "source": [
    "operation_con "
   ]
  },
  {
   "cell_type": "code",
   "execution_count": 58,
   "metadata": {},
   "outputs": [],
   "source": [
    "# # sobol for 16 IT.\n",
    "# from scipy.stats import qmc\n",
    "# sampler_I = qmc.Sobol(d=1, scramble=False)\n",
    "# sample_I = sampler_I.random_base2(m=4)\n",
    "\n",
    "# l_bounds_I = [50]\n",
    "# u_bounds_I = [600]\n",
    "# I_con = qmc.scale(sample_I,l_bounds_I,u_bounds_I)"
   ]
  },
  {
   "cell_type": "code",
   "execution_count": 59,
   "metadata": {},
   "outputs": [],
   "source": [
    "# sobol for 16 IT. seperate from the initial condition since the feeding concentration of N should not be as high as the initial concentration in the reactor\n",
    "from scipy.stats import qmc\n",
    "sampler_N = qmc.Sobol(d=1, scramble=False)\n",
    "sample_N = sampler_N.random_base2(m=4)\n",
    "\n",
    "l_bounds_N = [1]\n",
    "u_bounds_N = [10]\n",
    "N_con = qmc.scale(sample_N,l_bounds_N,u_bounds_N)"
   ]
  },
  {
   "cell_type": "code",
   "execution_count": 60,
   "metadata": {},
   "outputs": [
    {
     "data": {
      "text/plain": [
       "array([[1.    ],\n",
       "       [5.5   ],\n",
       "       [7.75  ],\n",
       "       [3.25  ],\n",
       "       [4.375 ],\n",
       "       [8.875 ],\n",
       "       [6.625 ],\n",
       "       [2.125 ],\n",
       "       [2.6875],\n",
       "       [7.1875],\n",
       "       [9.4375],\n",
       "       [4.9375],\n",
       "       [3.8125],\n",
       "       [8.3125],\n",
       "       [6.0625],\n",
       "       [1.5625]])"
      ]
     },
     "execution_count": 60,
     "metadata": {},
     "output_type": "execute_result"
    }
   ],
   "source": [
    "N_con"
   ]
  },
  {
   "cell_type": "code",
   "execution_count": 61,
   "metadata": {},
   "outputs": [],
   "source": [
    "N_con = [N_con[i:i+4] for i in range(0, len(N_con), 4)]"
   ]
  },
  {
   "cell_type": "code",
   "execution_count": 62,
   "metadata": {},
   "outputs": [
    {
     "data": {
      "text/plain": [
       "[array([[1.  ],\n",
       "        [5.5 ],\n",
       "        [7.75],\n",
       "        [3.25]]),\n",
       " array([[4.375],\n",
       "        [8.875],\n",
       "        [6.625],\n",
       "        [2.125]]),\n",
       " array([[2.6875],\n",
       "        [7.1875],\n",
       "        [9.4375],\n",
       "        [4.9375]]),\n",
       " array([[3.8125],\n",
       "        [8.3125],\n",
       "        [6.0625],\n",
       "        [1.5625]])]"
      ]
     },
     "execution_count": 62,
     "metadata": {},
     "output_type": "execute_result"
    }
   ],
   "source": [
    "N_con"
   ]
  },
  {
   "cell_type": "code",
   "execution_count": 63,
   "metadata": {},
   "outputs": [],
   "source": [
    "\n",
    "# def model(state, t, para):\n",
    "#     # Internal definitions\n",
    "\n",
    "    \n",
    "#     # State vector\n",
    "#     x = state[0]\n",
    "#     n = state[1]\n",
    "#     q = state[2]\n",
    "#     f = state[3]\n",
    "\n",
    "#     I0      = para['I0']\n",
    "    \n",
    "#     # Parameters\n",
    "\n",
    "#     kq      = para['kq']\n",
    "#     ud      = para['ud']\n",
    "#     un      = para['un']\n",
    "#     kn      = para['kn']\n",
    "#     theta   = para['theta']\n",
    "#     gamma   = para['gamma']\n",
    "#     epsilon = para['epsilon']\n",
    "    \n",
    "#     tau     = para['tau']\n",
    "#     delta   = para['delta']\n",
    "#     phi     = para['phi']\n",
    "#     ks      = para['ks']\n",
    "#     ki      = para['ki']\n",
    "#     alpha   = para['alpha']\n",
    "#     belta   = para['belta']\n",
    "#     uM      = para['uM']  \n",
    "    \n",
    "    \n",
    "    \n",
    "#     # Algebraic equations, calculation of um\n",
    "#         #Initial of L and I\n",
    "#     L         = 4.4E-2\n",
    "#     # I0      = 80\n",
    "#     def I_e(z):\n",
    "\n",
    "#         I_z   = I0*np.exp(-(alpha*x+belta)*z) \n",
    "#         I     = uM*I_z/(I_z+ks+I_z**2/ki)\n",
    "#         return I\n",
    "\n",
    "\n",
    "\n",
    "\n",
    "\n",
    "#     um    = scp.quad(I_e, 0, L)\n",
    "#     um    = um[0]/L\n",
    "\n",
    "\n",
    "#     u0     = um*(1-kq/q)\n",
    "    \n",
    "    \n",
    "#     # Differential equations\n",
    "#     dev_x  = u0*x-ud*x\n",
    "#     dev_n  = -un*(n/(n+kn))*x\n",
    "#     dev_q  = un*(n/(n+kn)) - (um*(1-(kq/q))-ud)*q\n",
    "#     dev_f  = um*(theta*q-epsilon*f)*(1-(kq/q)) - gamma*un*(n/(n+kn))+ud*epsilon*f\n",
    "        \n",
    "#     # fluorescence\n",
    "#     Y      = (np.exp(tau*q)/(np.exp(tau*q)+delta))+phi\n",
    "\n",
    "#     return np.array([dev_x,dev_n,dev_q,dev_f],dtype='float64').flatten()\n",
    "\n",
    "\n",
    "# # Simulation\n",
    "# def simulation(model, steps, tf, x0,para):\n",
    "#     t_eval        = np.linspace(0,tf,steps+1)\n",
    "#     sol           = odeint(model,x0, t_eval, args = (para,)).T\n",
    "        \n",
    "#     return sol,t_eval"
   ]
  },
  {
   "cell_type": "code",
   "execution_count": 64,
   "metadata": {},
   "outputs": [],
   "source": [
    "# # Data generation #\n",
    "class ModelIntegration:\n",
    "    '''\n",
    "    This files integrates the model.\n",
    "    \n",
    "     model: this is were the model should be changed \n",
    "    '''\n",
    "    \n",
    "    # --- initializing model --- #\n",
    "    def __init__(self, parameters):\n",
    "        \n",
    "        # Object variable definitions\n",
    "\n",
    "        self.parameters = parameters\n",
    "    # --- dynamic model definition --- #    \n",
    "    def model(self, t, state):\n",
    "        # internal definitions\n",
    "        params = self.parameters\n",
    "        \n",
    "        # define controls here\n",
    "\n",
    "        # state vector\n",
    "        Cx  = state[0]\n",
    "        Cn  = state[1]\n",
    "                # define controls here\n",
    "        FCn    = params['FCn']\n",
    "        # print(FCn,'Fcn')\n",
    "        \n",
    "        # parameters\n",
    "        u_m  = params['u_m'] \n",
    "        K_N  = params['K_N']\n",
    "        u_d  = params['u_d']\n",
    "        Y_nx = params['Y_nx']\n",
    "        \n",
    "        # algebraic equations\n",
    "        \n",
    "        # variable rate equations\n",
    "        dev_Cx  = u_m * Cx * Cn/(Cn+K_N) - u_d*Cx**2\n",
    "        dev_Cn  = - Y_nx * u_m * Cx * Cn/(Cn+K_N) + FCn\n",
    "        # print(\"Shape of dev_Cx:\", np.shape(dev_Cx))\n",
    "        # print(\"Shape of dev_Cn:\", np.shape(dev_Cn))\n",
    "        \n",
    "        return np.array([dev_Cx, dev_Cn],dtype='float64')\n",
    "    \n",
    "    # --- simulation --- #\n",
    "    def simulation(self, dt, tf, x0):\n",
    "        '''\n",
    "        simulate for a number of steps to collect data, and a final time\n",
    "        '''\n",
    "\n",
    "        # external definitions\n",
    "        self.x0, self.tf = x0, tf\n",
    "\n",
    "        # internal definitions\n",
    "        model = self.model\n",
    "        steps    = int(tf/dt)\n",
    "        \n",
    "        # compile state trajectories\n",
    "        xt = np.zeros((x0.shape[0],steps+1))\n",
    "        tt = np.zeros((steps+1))\n",
    "        \n",
    "        # initialize simulation\n",
    "        current_state = x0\n",
    "        xt[:,0]       = current_state\n",
    "        tt[0]         = 0.\n",
    "        \n",
    "        # simulation\n",
    "        for s in range(steps):\n",
    "            ode           = scp.ode(model)                  # define ode\n",
    "            ode.set_integrator('lsoda', nsteps=3000)        # define integrator\n",
    "            ode.set_initial_value(current_state, dt)        # set initial value\n",
    "            current_state = list(ode.integrate(ode.t + dt)) # integrate system\n",
    "            xt[:,s+1]     = current_state                   # add current state\n",
    "            tt[s+1]       = (s+1)*dt\n",
    "        \n",
    "        return xt, tt\n"
   ]
  },
  {
   "cell_type": "code",
   "execution_count": 65,
   "metadata": {},
   "outputs": [],
   "source": [
    "# class ModelIntegration:\n",
    "\n",
    "#     # --- initializing model --- #\n",
    "#     def __init__(self, parameters, controls, tf, x0):\n",
    "\n",
    "#         # Object variable definitions\n",
    "#         self.parameters, self.controls = parameters, controls\n",
    "#         self.x0, self.dt, self.tf      = x0, tf/(controls.shape[1]), tf # change the dt\n",
    "#         self.u0                        = controls[:,0]\n",
    "\n",
    "#     # --- dynamic model definition --- #\n",
    "#     def model(self, t, state):\n",
    "#         # internal definitions\n",
    "#         params = self.parameters\n",
    "#         ctrl   = self.u0\n",
    "\n",
    "#         # L_I    = ctrl[0]\n",
    "#         FCn    = ctrl\n",
    "\n",
    "#         # state vector\n",
    "#         Cx  = state[0]\n",
    "#         Cn  = state[1]\n",
    "\n",
    "        \n",
    "#         # parameters\n",
    "#         u_m  = params['u_m'] \n",
    "#         K_N  = params['K_N']\n",
    "#         u_d  = params['u_d']\n",
    "#         Y_nx = params['Y_nx']\n",
    "        \n",
    "        \n",
    "#         # variable rate equations\n",
    "#         dev_Cx  = u_m * Cx * Cn/(Cn+K_N) - u_d*Cx**2\n",
    "#         dev_Cn  = - Y_nx * u_m * Cx * Cn/(Cn+K_N) + FCn\n",
    "#         # print(\"Shape of dev_Cx:\", np.shape(dev_Cx))\n",
    "#         # print(\"Shape of dev_Cn:\", np.shape(dev_Cn))\n",
    "        \n",
    "#         return np.array([dev_Cx, dev_Cn],dtype='float64')\n",
    "#     # --- simulation --- #\n",
    "#     def simulation(self):\n",
    "#         # internal definitions\n",
    "#         dt, steps, x0   = self.dt, int(self.tf/float(self.dt)), self.x0\n",
    "#         model, controls = self.model, self.controls\n",
    "\n",
    "#         # compile state trajectories\n",
    "#         xt = np.zeros((x0.shape[0],steps+1))\n",
    "#         tt = np.zeros((steps+1))\n",
    "\n",
    "#         # initialize simulation\n",
    "#         current_state = x0\n",
    "#         xt[:,0]       = current_state\n",
    "#         tt[0]         = 0.\n",
    "\n",
    "#         # simulation\n",
    "#         for s in range(steps):\n",
    "#             self.u0   = controls[:,s]                   # control for this step\n",
    "#             ode       = scp.ode(model)                  # define ode\n",
    "#             ode.set_integrator('lsoda', nsteps=3000)    # define integrator\n",
    "#             ode.set_initial_value(current_state,dt)     # set initial value\n",
    "#             current_state = list(ode.integrate(ode.t + dt)) # integrate system\n",
    "#             xt[:,s+1]     = current_state                   # add current state\n",
    "#             tt[s+1]       = (s+1)*dt\n",
    "\n",
    "#         return xt, tt\n",
    "\n",
    "\n"
   ]
  },
  {
   "cell_type": "code",
   "execution_count": 66,
   "metadata": {},
   "outputs": [],
   "source": [
    "def train_data_generation(parameter, initial_c,N_all):\n",
    "    all_xt = []\n",
    "    # all_pe = []\n",
    "    # all_tt = []\n",
    "\n",
    "    for i in range(len(N_all)):\n",
    "        parameter['FCn'] = N_all[i]\n",
    "        print(parameter['FCn'],'FCn')\n",
    "        m            = ModelIntegration(parameter)\n",
    "        xt_i, tt_i       = m.simulation(dt_N,tf_N,initial_c) \n",
    "        # xt_i, tt_i       = simulation(model, dstep_I,tf_I, initial_c,parameter)\n",
    "        print(xt_i.shape[1],'xt_i shape')\n",
    "        all_xt.append(xt_i)\n",
    "        # all_tt.append(tt_i)\n",
    "        new_init = np.zeros(2)\n",
    "        for j in range(2):\n",
    "            new_init[j] = xt_i[j][-1]\n",
    "        initial_c = new_init\n",
    "        # print(initial_c1,'initial_c1')\n",
    "\n",
    "        # all_pe.append(parameter.copy())\n",
    "\n",
    "    for i in range(1,len(all_xt)):\n",
    "        all_xt[i] = np.delete(all_xt[i], 0, axis=1)\n",
    "\n",
    "\n",
    "        # all_tt[i] = np.delete(all_tt[i], 0, axis=1)\n",
    "    # print(all_xt,'all_xt')\n",
    "    xt = all_xt[0]\n",
    "    # tt = all_tt[0]\n",
    "\n",
    "    # Iterate through the remaining arrays and concatenate them\n",
    "    for i in all_xt[1:]:\n",
    "        xt = np.concatenate((xt, i), axis=1)  # Concatenate along the rows\n",
    "\n",
    "    \n",
    "    mean_x = np.zeros(xt.shape[0])\n",
    "    for i in range(xt.shape[0]):\n",
    "        mean_x[i]=np.mean(xt[i])\n",
    "        \n",
    "    mean_x    = mean_x*0.05\n",
    "    print(mean_x ,'mean_x')\n",
    "    std_value = mean_x\n",
    "\n",
    "    x_noise      = np.random.normal(0,mean_x[0],xt.shape[1])\n",
    "    x_noise[0]   = 0\n",
    "    n_noise      = np.random.normal(0,mean_x[1],xt.shape[1])\n",
    "    n_noise[0]   = 0\n",
    "    # q_noise      = np.random.normal(0,mean_x[2],xt.shape[1])\n",
    "    # q_noise[0]   = 0\n",
    "    # f_noise      = np.random.normal(0,mean_x[3],xt.shape[1])\n",
    "    # f_noise[0]   = 0 \n",
    "\n",
    "    obs          = np.array([x_noise,n_noise])\n",
    "    xobs         = xt+obs\n",
    "\n",
    "    for i in range(xobs.shape[0]):\n",
    "        for j in range(len(xobs[i])):\n",
    "            if xobs[i][j]<0:\n",
    "                xobs[i][j] = 1E-7\n",
    "    for i in range(xobs.shape[1]):\n",
    "        if xobs[0][i]<0:\n",
    "            xobs[0][i] = 1e-7\n",
    "        if xobs[1][i]<0:\n",
    "            xobs[1][i] = 1e-7\n",
    "\n",
    "    return xt,xobs,std_value"
   ]
  },
  {
   "cell_type": "code",
   "execution_count": 67,
   "metadata": {},
   "outputs": [],
   "source": [
    "def data_correction(xt,t):\n",
    "    xt_ = np.zeros([len(t),2])\n",
    "    for i in range(len(t)):\n",
    "        # print((len(t_fn1)-1)*i)\n",
    "        xt_[i] = xt.T[(len(t_fn1)-1)*i]\n",
    "        # print(xt1_.T[(len(t_fn1)-1)*i])\n",
    "\n",
    "    xt_ = xt_.T\n",
    "\n",
    "    return xt_"
   ]
  },
  {
   "cell_type": "code",
   "execution_count": 68,
   "metadata": {},
   "outputs": [
    {
     "name": "stdout",
     "output_type": "stream",
     "text": [
      "[1.] FCn\n",
      "481 xt_i shape\n",
      "[5.5] FCn\n",
      "481 xt_i shape\n",
      "[7.75] FCn\n"
     ]
    },
    {
     "name": "stderr",
     "output_type": "stream",
     "text": [
      "C:\\Users\\wangh\\AppData\\Local\\Temp\\ipykernel_14848\\214994354.py:43: DeprecationWarning: setting an array element with a sequence. This was supported in some cases where the elements are arrays with a single element. For example `np.array([1, np.array([2])], dtype=int)`. In the future this will raise the same ValueError as `np.array([1, [2]], dtype=int)`.\n",
      "  return np.array([dev_Cx, dev_Cn],dtype='float64')\n"
     ]
    },
    {
     "name": "stdout",
     "output_type": "stream",
     "text": [
      "481 xt_i shape\n",
      "[3.25] FCn\n",
      "481 xt_i shape\n",
      "[0.0359745  5.94262293] mean_x\n"
     ]
    }
   ],
   "source": [
    "#experiment 1\n",
    "\n",
    "p1  = {'u_m' : 0.0923*0.62, 'K_N' : 393.10, 'u_d' : 0.01, 'Y_nx' : 504.49,'FCn':N_con[0][0]}\n",
    "initial_c1 =  operation_con[0]\n",
    "\n",
    "xt1_,xobs1_,std_value1 = train_data_generation(p1, initial_c1,N_con[0])\n"
   ]
  },
  {
   "cell_type": "code",
   "execution_count": 69,
   "metadata": {},
   "outputs": [],
   "source": [
    "xt1 = data_correction(xt1_,t)\n",
    "xobs1 = data_correction(xobs1_,t)"
   ]
  },
  {
   "cell_type": "code",
   "execution_count": 70,
   "metadata": {},
   "outputs": [
    {
     "name": "stdout",
     "output_type": "stream",
     "text": [
      "[4.375] FCn\n",
      "481 xt_i shape\n",
      "[8.875] FCn\n",
      "481 xt_i shape\n",
      "[6.625] FCn\n",
      "481 xt_i shape\n",
      "[2.125] FCn\n"
     ]
    },
    {
     "name": "stderr",
     "output_type": "stream",
     "text": [
      "C:\\Users\\wangh\\AppData\\Local\\Temp\\ipykernel_14848\\214994354.py:43: DeprecationWarning: setting an array element with a sequence. This was supported in some cases where the elements are arrays with a single element. For example `np.array([1, np.array([2])], dtype=int)`. In the future this will raise the same ValueError as `np.array([1, [2]], dtype=int)`.\n",
      "  return np.array([dev_Cx, dev_Cn],dtype='float64')\n"
     ]
    },
    {
     "name": "stdout",
     "output_type": "stream",
     "text": [
      "481 xt_i shape\n",
      "[0.04620039 6.58138425] mean_x\n"
     ]
    }
   ],
   "source": [
    "#experiment 2\n",
    "\n",
    "p2  = {'u_m' : 0.0923*0.62, 'K_N' : 393.10, 'u_d' : 0.01, 'Y_nx' : 504.49,'FCn':N_con[1][0]}\n",
    "initial_c2 =  operation_con[1]\n",
    "\n",
    "xt2_,xobs2_,std_value2 = train_data_generation(p2, initial_c2,N_con[1])\n"
   ]
  },
  {
   "cell_type": "code",
   "execution_count": 71,
   "metadata": {},
   "outputs": [],
   "source": [
    "xt2 = data_correction(xt2_,t)\n",
    "xobs2 = data_correction(xobs2_,t)"
   ]
  },
  {
   "cell_type": "code",
   "execution_count": 72,
   "metadata": {},
   "outputs": [
    {
     "name": "stdout",
     "output_type": "stream",
     "text": [
      "[2.6875] FCn\n",
      "481 xt_i shape\n",
      "[7.1875] FCn\n",
      "481 xt_i shape\n",
      "[9.4375] FCn\n"
     ]
    },
    {
     "name": "stderr",
     "output_type": "stream",
     "text": [
      "C:\\Users\\wangh\\AppData\\Local\\Temp\\ipykernel_14848\\214994354.py:43: DeprecationWarning: setting an array element with a sequence. This was supported in some cases where the elements are arrays with a single element. For example `np.array([1, np.array([2])], dtype=int)`. In the future this will raise the same ValueError as `np.array([1, [2]], dtype=int)`.\n",
      "  return np.array([dev_Cx, dev_Cn],dtype='float64')\n"
     ]
    },
    {
     "name": "stdout",
     "output_type": "stream",
     "text": [
      "481 xt_i shape\n",
      "[4.9375] FCn\n",
      "481 xt_i shape\n",
      "[0.04615393 6.41428602] mean_x\n"
     ]
    }
   ],
   "source": [
    "#experiment 3\n",
    "\n",
    "p3  = {'u_m' : 0.0923*0.62, 'K_N' : 393.10, 'u_d' : 0.01, 'Y_nx' : 504.49,'FCn':N_con[2][0]}\n",
    "initial_c3 =  operation_con[2]\n",
    "\n",
    "xt3_,xobs3_,std_value3 = train_data_generation(p3, initial_c3,N_con[2])"
   ]
  },
  {
   "cell_type": "code",
   "execution_count": 73,
   "metadata": {},
   "outputs": [],
   "source": [
    "xt3 = data_correction(xt3_,t)\n",
    "xobs3 = data_correction(xobs3_,t)"
   ]
  },
  {
   "cell_type": "code",
   "execution_count": 74,
   "metadata": {},
   "outputs": [
    {
     "name": "stdout",
     "output_type": "stream",
     "text": [
      "[3.8125] FCn\n",
      "481 xt_i shape\n",
      "[8.3125] FCn\n",
      "481 xt_i shape\n",
      "[6.0625] FCn\n"
     ]
    },
    {
     "name": "stderr",
     "output_type": "stream",
     "text": [
      "C:\\Users\\wangh\\AppData\\Local\\Temp\\ipykernel_14848\\214994354.py:43: DeprecationWarning: setting an array element with a sequence. This was supported in some cases where the elements are arrays with a single element. For example `np.array([1, np.array([2])], dtype=int)`. In the future this will raise the same ValueError as `np.array([1, [2]], dtype=int)`.\n",
      "  return np.array([dev_Cx, dev_Cn],dtype='float64')\n"
     ]
    },
    {
     "name": "stdout",
     "output_type": "stream",
     "text": [
      "481 xt_i shape\n",
      "[1.5625] FCn\n",
      "481 xt_i shape\n",
      "[0.04387793 6.55825355] mean_x\n"
     ]
    }
   ],
   "source": [
    "#experiment 4\n",
    "\n",
    "p4  = {'u_m' : 0.0923*0.62, 'K_N' : 393.10, 'u_d' : 0.01, 'Y_nx' : 504.49,'FCn':N_con[3][0]}\n",
    "initial_c4 =  operation_con[3]\n",
    "\n",
    "xt4_,xobs4_,std_value4 = train_data_generation(p4, initial_c4,N_con[3])"
   ]
  },
  {
   "cell_type": "code",
   "execution_count": 75,
   "metadata": {},
   "outputs": [],
   "source": [
    "xt4 = data_correction(xt4_,t)\n",
    "xobs4 = data_correction(xobs4_,t)"
   ]
  },
  {
   "cell_type": "code",
   "execution_count": 76,
   "metadata": {},
   "outputs": [],
   "source": [
    "def plot_data(x, y1,y2,name):\n",
    "    fig = plt.figure()\n",
    "    plt.plot(x, y1,'.')\n",
    "    plt.plot(x, y2, '-',label=name)\n",
    "    plt.ylabel('State')\n",
    "    plt.xlabel('Time')\n",
    "    plt.legend(loc=\"lower right\")\n",
    "    fig.savefig(name)\n",
    "    plt.show()\n",
    "    return None\n",
    "def check_plot(xobs,xt,tt):\n",
    "    plot_data(tt, xobs[0],xt[0],'biomass')\n",
    "    plot_data(tt, xobs[1],xt[1],'nitrate')\n",
    "    plot_data(tt, xobs[2],xt[2],'quota')\n",
    "    plot_data(tt, xobs[3],xt[3],'fame')\n",
    "    return None"
   ]
  },
  {
   "cell_type": "code",
   "execution_count": 77,
   "metadata": {},
   "outputs": [],
   "source": [
    "def plot_data(x, y1,y2):\n",
    "    fig = plt.figure()\n",
    "    plt.plot(x, y1,'.',color = 'red')\n",
    "    # plt.plot(x, y1hat,'.',color = 'blue')\n",
    "    plt.plot(x, y2, '-')\n",
    "    # plt.plot(x, y2hat, '-',label=namehat)\n",
    "    plt.ylabel('State')\n",
    "    plt.xlabel('Time')\n",
    "    # plt.legend(loc=\"lower right\")\n",
    "    # fig.savefig(name)\n",
    "    plt.show()\n",
    "    return None\n",
    "def check_plot(xobs,xt,tt):\n",
    "    plot_data(tt, xobs[0],xt[0])\n",
    "    plot_data(tt, xobs[1],xt[1])\n",
    "\n",
    "    return None"
   ]
  },
  {
   "cell_type": "code",
   "execution_count": 78,
   "metadata": {},
   "outputs": [
    {
     "data": {
      "image/png": "[encoded data removed]",
      "text/plain": [
       "<Figure size 432x288 with 1 Axes>"
      ]
     },
     "metadata": {
      "needs_background": "light"
     },
     "output_type": "display_data"
    },
    {
     "data": {
      "image/png": "[encoded data removed]",
      "text/plain": [
       "<Figure size 432x288 with 1 Axes>"
      ]
     },
     "metadata": {
      "needs_background": "light"
     },
     "output_type": "display_data"
    }
   ],
   "source": [
    "check_plot(xobs1,xt1,t)"
   ]
  },
  {
   "cell_type": "code",
   "execution_count": 79,
   "metadata": {},
   "outputs": [
    {
     "data": {
      "image/png": "[encoded data removed]",
      "text/plain": [
       "<Figure size 432x288 with 1 Axes>"
      ]
     },
     "metadata": {
      "needs_background": "light"
     },
     "output_type": "display_data"
    },
    {
     "data": {
      "image/png": "[encoded data removed]",
      "text/plain": [
       "<Figure size 432x288 with 1 Axes>"
      ]
     },
     "metadata": {
      "needs_background": "light"
     },
     "output_type": "display_data"
    }
   ],
   "source": [
    "check_plot(xobs2,xt2,t)"
   ]
  },
  {
   "cell_type": "code",
   "execution_count": 80,
   "metadata": {},
   "outputs": [
    {
     "data": {
      "image/png": "[encoded data removed]",
      "text/plain": [
       "<Figure size 432x288 with 1 Axes>"
      ]
     },
     "metadata": {
      "needs_background": "light"
     },
     "output_type": "display_data"
    },
    {
     "data": {
      "image/png": "[encoded data removed]",
      "text/plain": [
       "<Figure size 432x288 with 1 Axes>"
      ]
     },
     "metadata": {
      "needs_background": "light"
     },
     "output_type": "display_data"
    }
   ],
   "source": [
    "check_plot(xobs3,xt3,t)"
   ]
  },
  {
   "cell_type": "code",
   "execution_count": 81,
   "metadata": {},
   "outputs": [
    {
     "data": {
      "image/png": "[encoded data removed]",
      "text/plain": [
       "<Figure size 432x288 with 1 Axes>"
      ]
     },
     "metadata": {
      "needs_background": "light"
     },
     "output_type": "display_data"
    },
    {
     "data": {
      "image/png": "[encoded data removed]",
      "text/plain": [
       "<Figure size 432x288 with 1 Axes>"
      ]
     },
     "metadata": {
      "needs_background": "light"
     },
     "output_type": "display_data"
    }
   ],
   "source": [
    "check_plot(xobs4,xt4,t)"
   ]
  },
  {
   "cell_type": "code",
   "execution_count": 82,
   "metadata": {},
   "outputs": [
    {
     "data": {
      "text/plain": [
       "array([  0. ,  38.4,  76.8, 115.2, 153.6, 192. , 230.4, 268.8, 307.2,\n",
       "       345.6, 384. ])"
      ]
     },
     "execution_count": 82,
     "metadata": {},
     "output_type": "execute_result"
    }
   ],
   "source": [
    "t"
   ]
  },
  {
   "cell_type": "code",
   "execution_count": 83,
   "metadata": {},
   "outputs": [],
   "source": [
    "data_init   = {None: dict(t       = {None: list(t)},\n",
    "                          tm      = {None: list(t)},\n",
    "                          x1_noise = to_dict(xobs1[0],dt),\n",
    "                          n1_noise = to_dict(xobs1[1],dt),\n",
    "                          x2_noise = to_dict(xobs2[0],dt),\n",
    "                          n2_noise = to_dict(xobs2[1],dt),\n",
    "                          x3_noise = to_dict(xobs3[0],dt),\n",
    "                          n3_noise = to_dict(xobs3[1],dt),\n",
    "                          x4_noise = to_dict(xobs4[0],dt),\n",
    "                          n4_noise = to_dict(xobs4[1],dt))}"
   ]
  },
  {
   "cell_type": "code",
   "execution_count": 84,
   "metadata": {},
   "outputs": [
    {
     "data": {
      "text/plain": [
       "{None: {'t': {None: [0.0,\n",
       "    38.4,\n",
       "    76.8,\n",
       "    115.19999999999999,\n",
       "    153.6,\n",
       "    192.0,\n",
       "    230.39999999999998,\n",
       "    268.8,\n",
       "    307.2,\n",
       "    345.59999999999997,\n",
       "    384.0]},\n",
       "  'tm': {None: [0.0,\n",
       "    38.4,\n",
       "    76.8,\n",
       "    115.19999999999999,\n",
       "    153.6,\n",
       "    192.0,\n",
       "    230.39999999999998,\n",
       "    268.8,\n",
       "    307.2,\n",
       "    345.59999999999997,\n",
       "    384.0]},\n",
       "  'x1_noise': {0.0: 0.1,\n",
       "   38.4: 0.14412258471802736,\n",
       "   76.8: 0.21289170650288047,\n",
       "   115.19999999999999: 0.3368549509060771,\n",
       "   153.6: 0.5877540822232143,\n",
       "   192.0: 0.9321577113794461,\n",
       "   230.39999999999998: 1.1555354342924982,\n",
       "   268.8: 1.2460362857444118,\n",
       "   307.2: 1.1945426866299533,\n",
       "   345.59999999999997: 1.032472350803414,\n",
       "   384.0: 0.9205285575272696},\n",
       "  'n1_noise': {0.0: 100.0,\n",
       "   38.4: 99.01797414219256,\n",
       "   76.8: 110.17765465841524,\n",
       "   115.19999999999999: 159.27152940460482,\n",
       "   153.6: 209.5013431512246,\n",
       "   192.0: 158.61667642695116,\n",
       "   230.39999999999998: 136.81072714420583,\n",
       "   268.8: 114.12493988346515,\n",
       "   307.2: 66.0556833720789,\n",
       "   345.59999999999997: 55.83163993237519,\n",
       "   384.0: 54.04436085098577},\n",
       "  'x2_noise': {0.0: 0.15000000000000002,\n",
       "   38.4: 0.28630124580331784,\n",
       "   76.8: 0.5914717137878133,\n",
       "   115.19999999999999: 0.9380028278094101,\n",
       "   153.6: 1.2327440247157253,\n",
       "   192.0: 1.3961307254624267,\n",
       "   230.39999999999998: 1.2530389842264797,\n",
       "   268.8: 1.1375712446328392,\n",
       "   307.2: 1.0539142101337169,\n",
       "   345.59999999999997: 0.8511453643880761,\n",
       "   384.0: 0.766892186159442},\n",
       "  'n2_noise': {0.0: 150.0,\n",
       "   38.4: 241.62593218825927,\n",
       "   76.8: 233.4423478785291,\n",
       "   115.19999999999999: 206.31499682705325,\n",
       "   153.6: 158.58995568900315,\n",
       "   192.0: 131.64271924741402,\n",
       "   230.39999999999998: 83.759770456266,\n",
       "   268.8: 100.61175723266672,\n",
       "   307.2: 42.14725780139538,\n",
       "   345.59999999999997: 28.892147623795463,\n",
       "   384.0: 23.962797992182168},\n",
       "  'x3_noise': {0.0: 0.17500000000000002,\n",
       "   38.4: 0.22879589415708304,\n",
       "   76.8: 0.46828877187327694,\n",
       "   115.19999999999999: 0.653160638328685,\n",
       "   153.6: 0.943081846411439,\n",
       "   192.0: 1.1413919552366563,\n",
       "   230.39999999999998: 1.3405038595774306,\n",
       "   268.8: 1.4240696522979246,\n",
       "   307.2: 1.3540890297628676,\n",
       "   345.59999999999997: 1.139292195946513,\n",
       "   384.0: 1.0150202062623879},\n",
       "  'n3_noise': {0.0: 125.0,\n",
       "   38.4: 152.48490409922127,\n",
       "   76.8: 133.70813149222576,\n",
       "   115.19999999999999: 165.39573118184111,\n",
       "   153.6: 162.11779885031515,\n",
       "   192.0: 132.801553328212,\n",
       "   230.39999999999998: 138.81818172200542,\n",
       "   268.8: 133.75005841218342,\n",
       "   307.2: 82.54828343168528,\n",
       "   345.59999999999997: 63.499490450434095,\n",
       "   384.0: 76.04642471551833},\n",
       "  'x4_noise': {0.0: 0.125,\n",
       "   38.4: 0.3031270085655422,\n",
       "   76.8: 0.5629945420330034,\n",
       "   115.19999999999999: 0.834712567406785,\n",
       "   153.6: 1.1851863997364926,\n",
       "   192.0: 1.360848810985769,\n",
       "   230.39999999999998: 1.2552085944727038,\n",
       "   268.8: 1.126865521627921,\n",
       "   307.2: 1.0695246755367658,\n",
       "   345.59999999999997: 0.8656973209733021,\n",
       "   384.0: 0.7365277530718698},\n",
       "  'n4_noise': {0.0: 175.0,\n",
       "   38.4: 245.75271751717483,\n",
       "   76.8: 242.75569850361094,\n",
       "   115.19999999999999: 214.14352549996875,\n",
       "   153.6: 156.86369139578866,\n",
       "   192.0: 120.68891979665499,\n",
       "   230.39999999999998: 94.72110602502003,\n",
       "   268.8: 71.55671982162349,\n",
       "   307.2: 40.546844861606814,\n",
       "   345.59999999999997: 13.473977936510762,\n",
       "   384.0: 26.1721027645114}}}"
      ]
     },
     "execution_count": 84,
     "metadata": {},
     "output_type": "execute_result"
    }
   ],
   "source": [
    "data_init"
   ]
  },
  {
   "cell_type": "code",
   "execution_count": 85,
   "metadata": {},
   "outputs": [
    {
     "data": {
      "text/plain": [
       "array([  0.1, 100. ])"
      ]
     },
     "execution_count": 85,
     "metadata": {},
     "output_type": "execute_result"
    }
   ],
   "source": [
    "operation_con[0]"
   ]
  },
  {
   "cell_type": "code",
   "execution_count": 86,
   "metadata": {},
   "outputs": [
    {
     "data": {
      "text/plain": [
       "array([[1.00e-01, 1.00e+02],\n",
       "       [1.50e-01, 1.50e+02],\n",
       "       [1.75e-01, 1.25e+02],\n",
       "       [1.25e-01, 1.75e+02]])"
      ]
     },
     "execution_count": 86,
     "metadata": {},
     "output_type": "execute_result"
    }
   ],
   "source": [
    "operation_con"
   ]
  },
  {
   "cell_type": "code",
   "execution_count": 87,
   "metadata": {},
   "outputs": [
    {
     "name": "stdout",
     "output_type": "stream",
     "text": [
      "File saved at: data/xobs1.pkl\n",
      "File saved at: data/xobs2.pkl\n",
      "File saved at: data/xobs3.pkl\n",
      "File saved at: data/xobs4.pkl\n",
      "File saved at: data/Fcn.pkl\n",
      "File saved at: data/tf_N.pkl\n",
      "File saved at: data/operation_con.pkl\n",
      "File saved at: data/tt1.pkl\n",
      "File saved at: data/std_value1.pkl\n",
      "File saved at: data/std_value2.pkl\n",
      "File saved at: data/std_value3.pkl\n",
      "File saved at: data/std_value4.pkl\n",
      "File saved at: data/data_init.pkl\n"
     ]
    }
   ],
   "source": [
    "save_pkl(xobs1,'xobs1.pkl')\n",
    "save_pkl(xobs2,'xobs2.pkl')\n",
    "save_pkl(xobs3,'xobs3.pkl')\n",
    "save_pkl(xobs4,'xobs4.pkl')\n",
    "save_pkl(N_con,'Fcn.pkl')\n",
    "save_pkl(tf_N,'tf_N.pkl')\n",
    "save_pkl(operation_con,'operation_con.pkl')\n",
    "# save_pkl(I0_range,'I0_range.pkl')\n",
    "\n",
    "save_pkl(t,'tt1.pkl')\n",
    "save_pkl(std_value1,'std_value1.pkl')\n",
    "save_pkl(std_value2,'std_value2.pkl')\n",
    "save_pkl(std_value3,'std_value3.pkl')\n",
    "save_pkl(std_value4,'std_value4.pkl')\n",
    "\n",
    "save_pkl(data_init,'data_init.pkl')\n"
   ]
  },
  {
   "cell_type": "code",
   "execution_count": 88,
   "metadata": {},
   "outputs": [
    {
     "data": {
      "text/plain": [
       "96.0"
      ]
     },
     "execution_count": 88,
     "metadata": {},
     "output_type": "execute_result"
    }
   ],
   "source": [
    "tf_N"
   ]
  },
  {
   "cell_type": "code",
   "execution_count": null,
   "metadata": {},
   "outputs": [],
   "source": []
  }
 ],
 "metadata": {
  "kernelspec": {
   "display_name": "Python 3.9.9 ('env')",
   "language": "python",
   "name": "python3"
  },
  "language_info": {
   "codemirror_mode": {
    "name": "ipython",
    "version": 3
   },
   "file_extension": ".py",
   "mimetype": "text/x-python",
   "name": "python",
   "nbconvert_exporter": "python",
   "pygments_lexer": "ipython3",
   "version": "3.9.9"
  },
  "orig_nbformat": 4,
  "vscode": {
   "interpreter": {
    "hash": "0b975ef14a7c349b5b53fa51dcf9e0d25501f9719e727a1ab429ed23704c47f1"
   }
  }
 },
 "nbformat": 4,
 "nbformat_minor": 2
}
