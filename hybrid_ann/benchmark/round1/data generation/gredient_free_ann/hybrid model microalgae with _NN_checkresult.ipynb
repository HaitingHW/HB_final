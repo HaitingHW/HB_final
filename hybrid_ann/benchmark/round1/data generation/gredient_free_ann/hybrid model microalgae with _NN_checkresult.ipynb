{
 "cells": [
  {
   "cell_type": "code",
   "execution_count": 1,
   "id": "a577e6b6",
   "metadata": {
    "ExecuteTime": {
     "end_time": "2022-05-24T13:58:22.671623Z",
     "start_time": "2022-05-24T13:58:14.611989Z"
    }
   },
   "outputs": [],
   "source": [
    "import numpy as np\n",
    "import random\n",
    "import scipy.integrate as scp\n",
    "import numpy.random as rnd\n",
    "import time\n",
    "import matplotlib.pyplot as plt\n",
    "import numpy.random as rnd\n",
    "import copy\n",
    "from matplotlib.pyplot import figure\n",
    "from pyomo.environ import *\n",
    "from pyomo.dae import *\n",
    "import pandas as pd\n",
    "import pickle\n",
    "import scipy.stats\n",
    "from math import comb\n",
    "from scipy.integrate import odeint\n",
    "\n",
    "np.random.seed(1)"
   ]
  },
  {
   "cell_type": "code",
   "execution_count": 2,
   "id": "de345a4a",
   "metadata": {
    "ExecuteTime": {
     "end_time": "2022-05-24T13:58:24.973042Z",
     "start_time": "2022-05-24T13:58:24.955058Z"
    }
   },
   "outputs": [],
   "source": [
    "''' Data treatment'''\n",
    "def save_pkl(item, fname):\n",
    "    sn = 'tmp/' + fname\n",
    "    with open(sn, 'wb') as handle:\n",
    "        pickle.dump(item, handle) #, protocol=pickle.HIGHEST_PROTOCOL)\n",
    "    print(f'File saved at: {sn}')\n",
    "    return None\n",
    "# return None\n",
    "\n",
    "def load_pkl(fname):\n",
    "    with open(fname, 'rb') as handle:\n",
    "        ans = pickle.load(handle)\n",
    "    print(f'Loaded from: {fname}')\n",
    "    return ans"
   ]
  },
  {
   "attachments": {},
   "cell_type": "markdown",
   "id": "fb47cb3c",
   "metadata": {},
   "source": [
    "# Data generation"
   ]
  },
  {
   "cell_type": "code",
   "execution_count": 3,
   "id": "19f044f0",
   "metadata": {},
   "outputs": [
    {
     "name": "stdout",
     "output_type": "stream",
     "text": [
      "Loaded from: data25/xobs1.pkl\n",
      "Loaded from: data25/xobs2.pkl\n",
      "Loaded from: data25/xobs3.pkl\n",
      "Loaded from: data25/xobs4.pkl\n",
      "Loaded from: data25/u_con.pkl\n",
      "Loaded from: data25/tf_N.pkl\n",
      "Loaded from: data25/N_in.pkl\n",
      "Loaded from: data25/operation_con.pkl\n",
      "Loaded from: data25/tt1.pkl\n",
      "Loaded from: data25/std_value1.pkl\n",
      "Loaded from: data25/std_value2.pkl\n",
      "Loaded from: data25/std_value3.pkl\n",
      "Loaded from: data25/std_value4.pkl\n",
      "Loaded from: data25/data_init.pkl\n",
      "Loaded from: data25/u_dic1.pkl\n",
      "Loaded from: data25/u_dic2.pkl\n",
      "Loaded from: data25/u_dic3.pkl\n",
      "Loaded from: data25/u_dic4.pkl\n"
     ]
    }
   ],
   "source": [
    "xobs1 = load_pkl('data25/xobs1.pkl')\n",
    "xobs2 = load_pkl('data25/xobs2.pkl')\n",
    "xobs3 = load_pkl('data25/xobs3.pkl')\n",
    "xobs4 = load_pkl('data25/xobs4.pkl')\n",
    "mu_con   = load_pkl('data25/u_con.pkl')\n",
    "tf_N  = load_pkl('data25/tf_N.pkl')\n",
    "N_in  = load_pkl('data25/N_in.pkl')\n",
    "operation_con = load_pkl('data25/operation_con.pkl')\n",
    "\n",
    "\n",
    "tt1 = load_pkl('data25/tt1.pkl')\n",
    "std_value1 = load_pkl('data25/std_value1.pkl')\n",
    "std_value2 = load_pkl('data25/std_value2.pkl')\n",
    "std_value3 = load_pkl('data25/std_value3.pkl')\n",
    "std_value4 = load_pkl('data25/std_value4.pkl')\n",
    "data_init = load_pkl('data25/data_init.pkl')\n",
    "\n",
    "u_dic1    = load_pkl('data25/u_dic1.pkl')\n",
    "u_dic2    = load_pkl('data25/u_dic2.pkl')\n",
    "u_dic3    = load_pkl('data25/u_dic3.pkl')\n",
    "u_dic4    = load_pkl('data25/u_dic4.pkl')\n",
    "\n",
    "operation_con1 = operation_con[0]\n",
    "operation_con2 = operation_con[1]\n",
    "operation_con3 = operation_con[2]\n",
    "operation_con4 = operation_con[3]\n",
    "\n",
    "mu1 = mu_con[0] #u contains FNin and I0\n",
    "mu2 = mu_con[1] \n",
    "mu3 = mu_con[2] \n",
    "mu4 = mu_con[3] \n",
    "\n",
    "tf    = 240\n",
    "# tf    = 16*24\n",
    "steps_= 24\n",
    "dt    = tf/steps_ #dt is fixed\n",
    "\n",
    "\n",
    "\n"
   ]
  },
  {
   "cell_type": "code",
   "execution_count": 4,
   "id": "96777222",
   "metadata": {},
   "outputs": [],
   "source": [
    "x_max = np.max(np.array([xobs1[0],xobs2[0],xobs3[0],xobs4[0]]))\n",
    "q_max = np.max(np.array([xobs1[2],xobs2[2],xobs3[2],xobs4[2]]))\n",
    "I_max = np.max(np.concatenate(mu_con).T[1])"
   ]
  },
  {
   "attachments": {},
   "cell_type": "markdown",
   "id": "9c0ff948",
   "metadata": {},
   "source": [
    "# NN structure generation"
   ]
  },
  {
   "cell_type": "code",
   "execution_count": 10,
   "id": "ff937ac7",
   "metadata": {},
   "outputs": [],
   "source": [
    "def gen_NN(num_inputs,num_hiddenlayer,num_node,num_outputs):\n",
    "\n",
    "    basic_structure = [num_inputs]\n",
    "\n",
    "    for i in range(num_hiddenlayer):\n",
    "        basic_structure.append(num_node)\n",
    "    \n",
    "    basic_structure.append(num_outputs)\n",
    "\n",
    "    num_pairs = len(basic_structure)-1\n",
    "    para_list = []\n",
    "    for i in range(num_pairs):\n",
    "        # next_layer_w = np.random.uniform(-0.01, 0.01,(basic_structure[i],basic_structure[i+1]))\n",
    "        next_layer_w = np.random.normal(loc=0, scale=0.1, size=(basic_structure[i], basic_structure[i+1]))        \n",
    "        next_layer_b = np.zeros([1,basic_structure[i+1]])\n",
    "        para_list.append(next_layer_w)\n",
    "        para_list.append(next_layer_b)\n",
    "\n",
    "    # NNpara = np.concatenate([i.flatten() for i in para_list])\n",
    "    \n",
    "    return para_list\n",
    "\n",
    "# def derivada_relu(x):\n",
    "#     der_relu_x = np.zeros((x.shape[0],x.shape[1]))\n",
    "#     for i in range(x.shape[0]):\n",
    "#         for j in range(x.shape[1]):\n",
    "#             if x[i][j]>0:\n",
    "#                 der_relu_x[i][j] = 1\n",
    "#             if x[i][j]<0:\n",
    "#                 der_relu_x[i][j] = 0\n",
    "#     return der_relu_x\n",
    "def activation_func(x):\n",
    "    return np.tanh(x)   \n",
    "\n",
    "def NN_estimation(NN_structure,num_hiddenlayer,input):\n",
    "    input = np.reshape(input, (1,len(input)))\n",
    "    for i in range(num_hiddenlayer+1):\n",
    "        if i < num_hiddenlayer:\n",
    "            interal_cal = activation_func(input@NN_structure[2*i]+NN_structure[2*i+1])\n",
    "            input       = interal_cal\n",
    "        else:\n",
    "            interal_cal = input@NN_structure[2*i]+NN_structure[2*i+1]\n",
    "    return interal_cal\n"
   ]
  },
  {
   "attachments": {},
   "cell_type": "markdown",
   "id": "b0990296",
   "metadata": {},
   "source": [
    "# Optimization algorithm (PSO+BFGS)"
   ]
  },
  {
   "cell_type": "code",
   "execution_count": 11,
   "id": "4c4ff282",
   "metadata": {},
   "outputs": [],
   "source": [
    "# == auxiliary functions == #\n",
    "\n",
    "# sample uniform\n",
    "def sample_uniform_params(n_particles_, bounds_range, bounds_bias):\n",
    "    rand_particles = np.random.uniform(0,1,(n_particles_, bounds_range.shape[0]))*bounds_range + bounds_bias\n",
    "    return rand_particles\n",
    "\n",
    "# calculate velocity\n",
    "def calculate_v(w_k, c1, c2, v_p, x_p, x_local_best, x_global_best):\n",
    "    v_new = w_k*(c1*np.random.uniform(0,1, x_p.shape)*(x_local_best - x_p) + \n",
    "             c2*np.random.uniform(0,1, x_p.shape)*(x_global_best - x_p))\n",
    "    return v_new\n",
    "\n",
    "#################################################\n",
    "# Particle Swarm optimization for policy search #\n",
    "#################################################\n",
    "\n",
    "def PSO(n_particles, evals, bounds,func):\n",
    "    '''\n",
    "    PSO algorithm used to find the best policy\n",
    "    '''\n",
    "\n",
    "    # problem initialization\n",
    "    eval_count    = 0\n",
    "    best_reward   = 1e9\n",
    "    best_particle = np.zeros((bounds[:,0].shape))\n",
    "    # algorithm parameters\n",
    "    c1= 2.8;c2 = 1.3                     \n",
    "    c3         = c1 + c2\n",
    "    w_k        = 2/(abs(2 - c3 - np.sqrt((c3**2) - (4*c3))))  # creating velocity weighting factor\n",
    "    # bounds\n",
    "    bounds_range = bounds[:,1] - bounds[:,0]\n",
    "    bounds_bias  = bounds[:,0]\n",
    "    # velocity bounds\n",
    "    v_lb                         = -abs(bounds_range)*0.75\n",
    "    v_ub                         =  abs(bounds_range)*0.75\n",
    "\n",
    "    # data\n",
    "    data_pso = {}\n",
    "    data_pso['R_list'] = np.zeros((evals))\n",
    "\n",
    "    ############################\n",
    "    # particle initializations #\n",
    "    ############################\n",
    "\n",
    "    # this can be changed manually\n",
    "\n",
    "    particle_dic = {} # ['i'][particle, best_obj_p, best_position_p, vel]\n",
    "    for particle_i in range(n_particles):\n",
    "\n",
    "        # == sample a random particle == #\n",
    "        particle_dic[str(particle_i)]                  = {}\n",
    "        particle_dic[str(particle_i)]['particle_x']    = sample_uniform_params(1, bounds_range, bounds_bias)[0]\n",
    "        particle_dic[str(particle_i)]['best_position'] = copy.deepcopy(particle_dic[str(particle_i)]['particle_x'])\n",
    "\n",
    "        # == evaluate particle == #\n",
    "        data_pso['R_list'][eval_count] = func(particle_dic[str(particle_i)]['particle_x'])\n",
    "        \n",
    "        # == set best particle objective == #\n",
    "        particle_dic[str(particle_i)]['best_obj'] = data_pso['R_list'][eval_count]\n",
    "\n",
    "        # == set particle velocity == #\n",
    "\n",
    "        particle_dic[str(particle_i)]['vel'] = sample_uniform_params(1, v_ub-v_lb, v_lb)[0]\n",
    "\n",
    "        # == benchmark reward ==> min \">\"\n",
    "        if data_pso['R_list'][eval_count] < best_reward:\n",
    "            best_reward = data_pso['R_list'][eval_count]\n",
    "            best_particle = copy.deepcopy(particle_dic[str(particle_i)]['particle_x'])\n",
    "\n",
    "        eval_count     += 1\n",
    "\n",
    "    #################\n",
    "    # PSO main loop #\n",
    "    #################\n",
    "\n",
    "    while eval_count < evals:\n",
    "        for particle_i in range(n_particles):\n",
    "\n",
    "            # == calculate velocity == #\n",
    "            particle_dic[str(particle_i)]['vel'] = calculate_v(w_k, c1, c2, \n",
    "                                                               particle_dic[str(particle_i)]['vel'], \n",
    "                                                               particle_dic[str(particle_i)]['particle_x'], \n",
    "                                                               particle_dic[str(particle_i)]['best_position'], \n",
    "                                                               best_particle)\n",
    "            \n",
    "            # == Update the particle's position == #\n",
    "            particle_dic[str(particle_i)]['particle_x'] = (particle_dic[str(particle_i)]['particle_x'] + \n",
    "                                                           particle_dic[str(particle_i)]['vel'])\n",
    "            \n",
    "            # == evaluate particle == #\n",
    "            data_pso['R_list'][eval_count]    = func(particle_dic[str(particle_i)]['particle_x'])\n",
    "\n",
    "            # best position\n",
    "            if data_pso['R_list'][eval_count] < particle_dic[str(particle_i)]['best_obj']:\n",
    "                particle_dic[str(particle_i)]['best_obj']      = data_pso['R_list'][eval_count]\n",
    "                particle_dic[str(particle_i)]['best_position'] = copy.deepcopy(particle_dic[str(particle_i)]['particle_x'])\n",
    "                # best particle\n",
    "                if data_pso['R_list'][eval_count] < best_reward:\n",
    "                    best_reward   = data_pso['R_list'][eval_count]\n",
    "                    best_particle = copy.deepcopy(particle_dic[str(particle_i)]['particle_x'])\n",
    "\n",
    "            eval_count += 1\n",
    "            if eval_count >= evals:\n",
    "                break\n",
    "\n",
    "    print('final reward = ',best_reward)\n",
    "    return best_particle, best_reward, data_pso\n",
    "\n",
    "######################################\n",
    "# Forward finite differences \n",
    "######################################\n",
    "\n",
    "def forward_finite_diff(f, x, Delta):\n",
    "    n     = np.shape(x)[0]\n",
    "    #x     = x.reshape((n,1))\n",
    "    dX    = np.zeros((n))\n",
    "    \n",
    "    for j in range(n):\n",
    "        x_d_f    = np.copy(x)\n",
    "        x_d_f[j] = x_d_f[j] + Delta\n",
    "        dX[j]    = (f(x_d_f) - f(x))/Delta\n",
    "\n",
    "    #sumdX         = np.sum(dX)\n",
    "    #array_has_nan = np.isnan(sumdX)\n",
    "    #if array_has_nan:\n",
    "    #    print('========= nan in gradient =========')\n",
    "\n",
    "    return dX/np.max(dX)\n",
    "\n",
    "######################################\n",
    "# Central finite differences \n",
    "######################################\n",
    "\n",
    "def central_finite_diff(f, x, Delta):\n",
    "    n     = np.shape(x)[0]\n",
    "    #x     = x.reshape((n,1))\n",
    "    dX    = np.zeros((n))\n",
    "    \n",
    "    for j in range(n):\n",
    "        x_d_f    = np.copy(x)\n",
    "        x_d_b    = np.copy(x)\n",
    "        x_d_f[j] = x_d_f[j] + Delta/2\n",
    "        x_d_b[j] = x_d_b[j] - Delta/2\n",
    "        dX[j]        = (f(x_d_f) - f(x_d_b))/Delta\n",
    "\n",
    "\n",
    "    return dX/np.max(dX)\n",
    "\n",
    "#############################\n",
    "# Approximating Hessian\n",
    "#############################\n",
    "\n",
    "def Hk_f(x, x_past, grad_i, grad_i_past, Hk_past, Imatrix):\n",
    "    '''\n",
    "    function that approximates the Hessian\n",
    "    '''\n",
    "    sk  = x - x_past \n",
    "    yk  = grad_i - grad_i_past\n",
    "    rho = 1./(yk.T@sk+1e-7)\n",
    "\n",
    "    Hinv = (Imatrix-rho*sk@yk.T)@Hk_past@(Imatrix-rho*yk@sk.T) + rho*sk@sk.T\n",
    "    \n",
    "    return Hinv\n",
    "\n",
    "#############################\n",
    "# Line search function\n",
    "#############################\n",
    "\n",
    "def line_search_f(direction, x, f, lr, grad_k, armijo_wolfe=0):\n",
    "    '''\n",
    "    - function that determines optimal step with linesearch\n",
    "    - Note: f and lr must be given\n",
    "    - armijo_wolfe: 0 is naive, 1 is armijo, 2 is armijo-wolfe\n",
    "    - for large iteration values (say >1000) A-W or A start being good options\n",
    "    '''\n",
    "    old_f = f(x) ; new_f = old_f + 1.\n",
    "    ls_i  = 0    ; lr_i  = 2.*lr\n",
    "    c_1   = 1e-4 ; c_2   = 0.9\n",
    "\n",
    "    # if doing multistart this can be se to <10\n",
    "    LS_max_iter = 50\n",
    "\n",
    "    x_i   = x # if gradient is nan\n",
    "\n",
    "    # ---  naive line-search --- #\n",
    "    if armijo_wolfe == 0:\n",
    "        while new_f>old_f and ls_i<LS_max_iter:\n",
    "            lr_i  = lr_i/2.\n",
    "            x_i   = x - lr_i*direction \n",
    "            new_f = f(x_i)\n",
    "            ls_i += 1\n",
    "\n",
    "    if new_f>old_f:\n",
    "        return x, ls_i\n",
    "        \n",
    "    return x_i, ls_i\n",
    "\n",
    "\n",
    "#############################\n",
    "# Momentum function\n",
    "#############################\n",
    "\n",
    "def momentum_f(x, grad_i_past, grad_i, f, lr, Beta=0.2):\n",
    "    '''\n",
    "    function that determines the next step with momentum\n",
    "    '''\n",
    "    grad_m = Beta*grad_i_past + (1.-Beta)*grad_i\n",
    "    old_f = f(x); new_f = old_f + 1.\n",
    "    ls_i  = 0   ; lr_i  = 2.*lr\n",
    "    while new_f>old_f and ls_i<100:\n",
    "        lr_i  = lr_i/2.\n",
    "        x_i   = x - lr_i*grad_m \n",
    "        new_f = f(x_i)\n",
    "        ls_i += 1\n",
    "\n",
    "    if new_f <= old_f:\n",
    "        return x_i, ls_i, grad_m, new_f\n",
    "    else:\n",
    "        return x_i, ls_i, grad_m, old_f\n",
    "\n",
    "###################################\n",
    "# Gradient Descent with momentum\n",
    "###################################\n",
    "\n",
    "def gradient_descent_momentum(f, x0, N_x, max_iter=100, ns=5, grad_f=forward_finite_diff, \n",
    "                              lr=1e-3, grad_tol=1e-6):\n",
    "    '''\n",
    "    Optimization algorithm: Gradient Descent with linesearch\n",
    "    '''\n",
    "\n",
    "    # data\n",
    "    data_gdm           = {}\n",
    "    data_gdm['R_list'] = np.zeros((max_iter))\n",
    "\n",
    "    # evaluate starting points\n",
    "    data_gdm['x_best'] = x0; data_gdm['f_best'] = f(x0)\n",
    "    f_eval              = 0    \n",
    "    x                   = np.copy(x0);\n",
    "    n                   = N_x\n",
    "\n",
    "    # h-step\n",
    "    Delta = np.sqrt(np.finfo(float).eps)#*1e1\n",
    "\n",
    "    # ==== first gradient step ==== #\n",
    "    grad_i      = grad_f(f, x, Delta)\n",
    "    x           = x - 1e-6*grad_i\n",
    "    # past values\n",
    "    grad_i_past = grad_i\n",
    "    f_val       = f(x)\n",
    "\n",
    "    # ==== main loop ==== #\n",
    "    while f_eval < max_iter:\n",
    "        data_gdm['R_list'][f_eval] = f_val\n",
    "    \n",
    "        # compute gradient   \n",
    "        grad_i  = grad_f(f, x, Delta)        \n",
    "               \n",
    "        # line-search w/momentum\n",
    "        x_i, ls_i, grad_i_past, f_val = momentum_f(x, grad_i_past, grad_i, f, lr)\n",
    "        f_eval                        = f_eval + 1\n",
    "\n",
    "        if ls_i>50:\n",
    "            print('50 LS could not reduce function further')\n",
    "            break\n",
    "        grad_best                               = grad_i\n",
    "    \n",
    "        x = x_i                \n",
    "\n",
    "        if data_gdm['f_best'] > f_val:\n",
    "            data_gdm['f_best'] = f_val\n",
    "            data_gdm['x_best'] = x\n",
    "            grad_best          = grad_i\n",
    "\n",
    "    # print('f_eval   ===== ',f_eval)\n",
    "    # print('x      ===== ',data_gdm['x_best']) \n",
    "    # print('grad ===== ',grad_best)\n",
    "    # print('f(x) best ===== ',data_gdm['f_best'],'\\n')\n",
    "        \n",
    "    return x, f_eval, data_gdm"
   ]
  },
  {
   "attachments": {},
   "cell_type": "markdown",
   "id": "f0317963",
   "metadata": {},
   "source": [
    "# NN structure defination"
   ]
  },
  {
   "cell_type": "code",
   "execution_count": 16,
   "id": "98b3ad05",
   "metadata": {},
   "outputs": [],
   "source": [
    "num_inputs_      = 3\n",
    "# num_hiddenlayer_ = 1\n",
    "# num_nodes_       = 3\n",
    "num_outputs_     = 1\n",
    "# structure_infor = [num_layer,num_neu]\n",
    "structure_infor = [1,10]\n",
    "num_hiddenlayer_ = structure_infor[0]\n",
    "num_nodes_       = structure_infor[1]\n",
    "\n",
    "total_layer      = 2+num_hiddenlayer_ \n",
    "NN_structure_    = gen_NN(num_inputs_,num_hiddenlayer_ ,num_nodes_ ,num_outputs_)\n",
    "no_NNpara_       = len(np.concatenate([i.flatten() for i in NN_structure_]))"
   ]
  },
  {
   "attachments": {},
   "cell_type": "markdown",
   "id": "d908fa8b",
   "metadata": {},
   "source": [
    "# Hybrid model with NN"
   ]
  },
  {
   "cell_type": "code",
   "execution_count": 13,
   "id": "4c68b022",
   "metadata": {},
   "outputs": [],
   "source": [
    "def hybrid_model(state,t, para,I_in, NN_structure_,num_hiddenlayer):\n",
    "\n",
    "    #state vectors\n",
    "    x = state[0]\n",
    "    n = state[1]\n",
    "    q = state[2]\n",
    "    f = state[3]\n",
    "\n",
    "    no_NNpara = len(np.concatenate([i.flatten() for i in NN_structure_]))\n",
    "\n",
    "    NNx       = para[:no_NNpara]\n",
    "    NNpara    = list(NNx).copy()\n",
    "\n",
    "    shapes    = [i.shape for i in NN_structure_]\n",
    "    sizes     = [i.size for i in NN_structure_]\n",
    "    new_structure = []\n",
    "\n",
    "    for i in range(len(shapes)):\n",
    "        new_structure.append(np.array(NNpara [:sizes[i]]).reshape(shapes[i]))\n",
    "        del NNpara[:sizes[i]]\n",
    "    # Normalization of input for NN\n",
    "    norm_x = x/x_max\n",
    "    norm_q = q/q_max\n",
    "    norm_I = I_in/I_max\n",
    "\n",
    "    norm_input = np.array([norm_x,norm_q,norm_I])\n",
    "\n",
    "    NN_output = NN_estimation(new_structure,num_hiddenlayer,norm_input)\n",
    "\n",
    "    #mechanistic Parameters\n",
    "\n",
    "    ud      = para[no_NNpara]\n",
    "    un      = para[no_NNpara+1]\n",
    "    kn      = para[no_NNpara+2]\n",
    "    theta   = para[no_NNpara+3]\n",
    "    gamma   = para[no_NNpara+4]\n",
    "    epsilon = para[no_NNpara+5] \n",
    "    \n",
    "    #algebraic equations\n",
    "    \n",
    "    u0     = NN_output \n",
    "    #variable rate equations\n",
    "    dev_x  = u0*x-ud*x\n",
    "    dev_n  = -un*(n/(n+kn))*x\n",
    "    dev_q  = un*(n/(n+kn)) - (u0-ud)*q\n",
    "    dev_f  = u0*(theta*q-epsilon*f) - gamma*un*(n/(n+kn))+ud*epsilon*f\n",
    "\n",
    "    return np.array([dev_x,dev_n,dev_q,dev_f],dtype='float64')\n",
    "    \n",
    "\n",
    "# Simulation\n",
    "def simulation(model, steps, tf, x0,para,I_in,NN_structure,num_hiddenlayer):\n",
    "    t_eval        = np.linspace(0,tf,steps+1)\n",
    "    sol           = odeint(model,x0, t_eval, args = (para,I_in,NN_structure,num_hiddenlayer)).T\n",
    "        \n",
    "    return sol,t_eval"
   ]
  },
  {
   "attachments": {},
   "cell_type": "markdown",
   "id": "0f4580f2",
   "metadata": {},
   "source": [
    "# Objective function (BIC)"
   ]
  },
  {
   "cell_type": "code",
   "execution_count": 18,
   "id": "0cea49d1",
   "metadata": {},
   "outputs": [],
   "source": [
    "def pe_bic(para):\n",
    "    no_NNpara_       = len(np.concatenate([i.flatten() for i in NN_structure_]))\n",
    "    h_x01             = np.array([0.18,35,79.85,120])       \n",
    "    h_xt1,htt_1       = simulation(hybrid_model,steps_, tf_,h_x01, para,I1,NN_structure_,num_hiddenlayer_)\n",
    "\n",
    "    if np.isnan(np.sum(h_xt1)):\n",
    "\n",
    "        return 1e7\n",
    "\n",
    "    # if np.isnan(np.sum(h_xt1)):\n",
    "    #     h_xt1 = np.full((xobs1.shape[0],xobs1.shape[1]), 1e4)\n",
    "\n",
    "    # if np.isnan(np.sum(h_xt2)):\n",
    "    #     h_xt2 = np.full((xobs2.shape[0],xobs2.shape[1]), 1e4)\n",
    "    # if np.isnan(np.sum(h_xt3)):\n",
    "    #     h_xt3 = np.full((xobs3.shape[0],xobs3.shape[1]), 1e4)\n",
    "\n",
    "\n",
    "\n",
    "    # ----- nan correction ----- #\n",
    "\n",
    "\n",
    "    # f   = 1/2*(np.sum(((h_xt1-xobs1)/std1)**2)+np.sum(((h_xt2-xobs2)/std2)**2)+np.sum(((h_xt3-xobs3)/std3)**2))\n",
    "    \n",
    "    f = 1/2*(np.sum(((h_xt1-xobs1)/std1)**2))\n",
    "    nll = f+sigma1\n",
    "    n_p = no_NNpara_\n",
    "    BIC = (2*nll) + (n_p*np.log(nd1))\n",
    "    return BIC\n",
    "    # return f"
   ]
  },
  {
   "attachments": {},
   "cell_type": "markdown",
   "id": "3f2353b3",
   "metadata": {},
   "source": [
    "# PSO+BFGS optimization for parameter estimation"
   ]
  },
  {
   "cell_type": "code",
   "execution_count": 19,
   "id": "95fcd8e0",
   "metadata": {},
   "outputs": [
    {
     "name": "stderr",
     "output_type": "stream",
     "text": [
      "C:\\Users\\wangh\\AppData\\Local\\Temp\\ipykernel_37796\\3381388352.py:48: DeprecationWarning: setting an array element with a sequence. This was supported in some cases where the elements are arrays with a single element. For example `np.array([1, np.array([2])], dtype=int)`. In the future this will raise the same ValueError as `np.array([1, [2]], dtype=int)`.\n",
      "  return np.array([dev_x,dev_n,dev_q,dev_f],dtype='float64')\n",
      "c:\\Users\\wangh\\env\\lib\\site-packages\\scipy\\integrate\\_odepack_py.py:247: ODEintWarning: Excess work done on this call (perhaps wrong Dfun type). Run with full_output = 1 to get quantitative information.\n",
      "  warnings.warn(warning_msg, ODEintWarning)\n"
     ]
    }
   ],
   "source": [
    "bounds     = np.array([[-0.1,0.1]]*no_NNpara_+[[0,0.1],[0,5],[0,1],[0,10],[0,10],[0,0.1]])\n",
    "dimensions = len(bounds)  \n",
    "\n",
    "n_particles_ = 500\n",
    "evals_       = 1000\n",
    "\n",
    "best_particle_, best_reward_, data_pso_ = PSO(n_particles_, evals_, bounds,pe_bic)\n",
    "\n",
    "# x, f_eval, data_gdm = gradient_descent_momentum(pe_bic, x0=best_particle_, N_x=bounds.shape[0], grad_f=central_finite_diff,args = (NN_structure_,num_hiddenlayer_))"
   ]
  },
  {
   "cell_type": "code",
   "execution_count": 16,
   "id": "ead00393",
   "metadata": {},
   "outputs": [],
   "source": [
    "# def PSO_NN_optimization(X):\n",
    "\n",
    "#     num_hiddenlayer  = X[0]\n",
    "#     num_nodes        = X[1]\n",
    "    \n",
    "\n",
    "#     NN_structure_    = gen_NN(num_inputs_,num_hiddenlayer,num_nodes ,num_outputs_)\n",
    "#     no_NNpara_       = len(np.concatenate([i.flatten() for i in NN_structure_]))\n",
    "#     bounds           = np.array([[-0.1,0.1]]*no_NNpara_+[[0,0.1],[0,5],[0,1],[0,10],[0,10],[0,0.1]])\n",
    "\n",
    "#     n_particles_     = 50000\n",
    "#     evals_           = 100000\n",
    "\n",
    "#     best_particle_, best_reward_, data_pso_ = PSO(n_particles_, evals_, bounds,pe_bic)\n",
    "\n",
    "#     x, f_eval, data_gdm = gradient_descent_momentum(pe_bic, x0=best_particle_, N_x=bounds.shape[0], grad_f=central_finite_diff)\n",
    "#     save_pkl(opt,'hiddenlayer'+str(num_hiddenlayer)+'nodes'+str(num_nodes))\n",
    "#     return opt_bic \n",
    "    "
   ]
  },
  {
   "attachments": {},
   "cell_type": "markdown",
   "id": "f189d99b",
   "metadata": {},
   "source": [
    "# Scipy optimization for paameter estimation"
   ]
  },
  {
   "cell_type": "code",
   "execution_count": 16,
   "id": "970970cd",
   "metadata": {},
   "outputs": [],
   "source": [
    "def NN_optimization(X):\n",
    "\n",
    "    num_hiddenlayer  = int(X[0])\n",
    "    num_nodes        = int(X[1])    \n",
    "\n",
    "    NN_structure_    = gen_NN(num_inputs_,num_hiddenlayer,num_nodes ,num_outputs_)\n",
    "    no_NNpara_       = len(np.concatenate([i.flatten() for i in NN_structure_]))\n",
    "    bounds           = np.array([[-0.1,0.1]]*no_NNpara_+[[0,0.1],[0,5],[0,1],[0,10],[0,10],[0,0.1]])\n",
    "    results = []\n",
    "    est_pe  = []\n",
    "    # add a if else here to compare with perious results\n",
    "    for i in range(5):\n",
    "        print(i)\n",
    "        NN_initial = np.random.uniform(-0.05, 0.05,(1,no_NNpara_)).tolist()[0]\n",
    "        kp_initial = [np.random.uniform(0, 0.1),np.random.uniform(0, 5),np.random.uniform(0, 1),np.random.uniform(0,10),np.random.uniform(0, 10),np.random.uniform(0, 0.1)]\n",
    "        pe_initial = np.array(NN_initial+kp_initial)\n",
    "        sol = scipy.optimize.minimize(pe_bic,pe_initial,method ='L-BFGS-B',tol=1e-12,bounds = bounds,args = (NN_structure_,num_hiddenlayer))\n",
    "        results.append(sol.fun)\n",
    "        est_pe.append(sol.x)\n",
    "    df = pd.DataFrame(results,((x,) for x in est_pe))\n",
    "    df = df.reset_index()\n",
    "    df.columns = ['Parameters', 'BIC']\n",
    "    opt = df[df['BIC'] == df['BIC'].min()]\n",
    "    opt_bic = opt['BIC'].to_numpy()[0]\n",
    "    save_pkl(opt,'hiddenlayer'+str(num_hiddenlayer)+'nodes'+str(num_nodes))\n",
    "    return opt_bic \n",
    "    "
   ]
  },
  {
   "attachments": {},
   "cell_type": "markdown",
   "id": "98bc4895",
   "metadata": {},
   "source": [
    "# GA for NN structure optimization"
   ]
  },
  {
   "cell_type": "code",
   "execution_count": 18,
   "id": "48fb148f",
   "metadata": {},
   "outputs": [
    {
     "name": "stdout",
     "output_type": "stream",
     "text": [
      "0\n"
     ]
    },
    {
     "name": "stderr",
     "output_type": "stream",
     "text": [
      "C:\\Users\\wangh\\AppData\\Local\\Temp\\ipykernel_8340\\3381388352.py:48: DeprecationWarning: setting an array element with a sequence. This was supported in some cases where the elements are arrays with a single element. For example `np.array([1, np.array([2])], dtype=int)`. In the future this will raise the same ValueError as `np.array([1, [2]], dtype=int)`.\n",
      "  return np.array([dev_x,dev_n,dev_q,dev_f],dtype='float64')\n"
     ]
    },
    {
     "name": "stdout",
     "output_type": "stream",
     "text": [
      "1\n"
     ]
    },
    {
     "name": "stderr",
     "output_type": "stream",
     "text": [
      "c:\\Users\\wangh\\env\\lib\\site-packages\\scipy\\integrate\\_odepack_py.py:247: ODEintWarning: Excess work done on this call (perhaps wrong Dfun type). Run with full_output = 1 to get quantitative information.\n",
      "  warnings.warn(warning_msg, ODEintWarning)\n"
     ]
    },
    {
     "name": "stdout",
     "output_type": "stream",
     "text": [
      "2\n",
      "3\n",
      "4\n",
      "File saved at: tmp/hiddenlayer1nodes1\n",
      "0\n"
     ]
    },
    {
     "name": "stderr",
     "output_type": "stream",
     "text": [
      "C:\\Users\\wangh\\AppData\\Local\\Temp\\ipykernel_8340\\3381388352.py:48: DeprecationWarning: setting an array element with a sequence. This was supported in some cases where the elements are arrays with a single element. For example `np.array([1, np.array([2])], dtype=int)`. In the future this will raise the same ValueError as `np.array([1, [2]], dtype=int)`.\n",
      "  return np.array([dev_x,dev_n,dev_q,dev_f],dtype='float64')\n",
      "c:\\Users\\wangh\\env\\lib\\site-packages\\scipy\\integrate\\_odepack_py.py:247: ODEintWarning: Excess work done on this call (perhaps wrong Dfun type). Run with full_output = 1 to get quantitative information.\n",
      "  warnings.warn(warning_msg, ODEintWarning)\n"
     ]
    },
    {
     "name": "stdout",
     "output_type": "stream",
     "text": [
      "1\n",
      "2\n",
      "3\n",
      "4\n",
      "File saved at: tmp/hiddenlayer2nodes2\n",
      "0\n"
     ]
    },
    {
     "name": "stderr",
     "output_type": "stream",
     "text": [
      "C:\\Users\\wangh\\AppData\\Local\\Temp\\ipykernel_8340\\3381388352.py:48: DeprecationWarning: setting an array element with a sequence. This was supported in some cases where the elements are arrays with a single element. For example `np.array([1, np.array([2])], dtype=int)`. In the future this will raise the same ValueError as `np.array([1, [2]], dtype=int)`.\n",
      "  return np.array([dev_x,dev_n,dev_q,dev_f],dtype='float64')\n",
      "c:\\Users\\wangh\\env\\lib\\site-packages\\scipy\\integrate\\_odepack_py.py:247: ODEintWarning: Excess work done on this call (perhaps wrong Dfun type). Run with full_output = 1 to get quantitative information.\n",
      "  warnings.warn(warning_msg, ODEintWarning)\n"
     ]
    },
    {
     "name": "stdout",
     "output_type": "stream",
     "text": [
      "1\n",
      "2\n",
      "3\n",
      "4\n",
      "File saved at: tmp/hiddenlayer1nodes2\n",
      "0\n"
     ]
    },
    {
     "name": "stderr",
     "output_type": "stream",
     "text": [
      "C:\\Users\\wangh\\AppData\\Local\\Temp\\ipykernel_8340\\3381388352.py:48: DeprecationWarning: setting an array element with a sequence. This was supported in some cases where the elements are arrays with a single element. For example `np.array([1, np.array([2])], dtype=int)`. In the future this will raise the same ValueError as `np.array([1, [2]], dtype=int)`.\n",
      "  return np.array([dev_x,dev_n,dev_q,dev_f],dtype='float64')\n",
      "c:\\Users\\wangh\\env\\lib\\site-packages\\scipy\\integrate\\_odepack_py.py:247: ODEintWarning: Excess work done on this call (perhaps wrong Dfun type). Run with full_output = 1 to get quantitative information.\n",
      "  warnings.warn(warning_msg, ODEintWarning)\n"
     ]
    },
    {
     "name": "stdout",
     "output_type": "stream",
     "text": [
      "1\n",
      "2\n",
      "3\n",
      "4\n",
      "File saved at: tmp/hiddenlayer1nodes3\n",
      "0\n"
     ]
    },
    {
     "name": "stderr",
     "output_type": "stream",
     "text": [
      "C:\\Users\\wangh\\AppData\\Local\\Temp\\ipykernel_8340\\3381388352.py:48: DeprecationWarning: setting an array element with a sequence. This was supported in some cases where the elements are arrays with a single element. For example `np.array([1, np.array([2])], dtype=int)`. In the future this will raise the same ValueError as `np.array([1, [2]], dtype=int)`.\n",
      "  return np.array([dev_x,dev_n,dev_q,dev_f],dtype='float64')\n"
     ]
    },
    {
     "name": "stdout",
     "output_type": "stream",
     "text": [
      "1\n"
     ]
    },
    {
     "name": "stderr",
     "output_type": "stream",
     "text": [
      "c:\\Users\\wangh\\env\\lib\\site-packages\\scipy\\integrate\\_odepack_py.py:247: ODEintWarning: Excess work done on this call (perhaps wrong Dfun type). Run with full_output = 1 to get quantitative information.\n",
      "  warnings.warn(warning_msg, ODEintWarning)\n"
     ]
    },
    {
     "name": "stdout",
     "output_type": "stream",
     "text": [
      "2\n",
      "3\n",
      "4\n",
      "File saved at: tmp/hiddenlayer2nodes2\n",
      "0\n"
     ]
    },
    {
     "name": "stderr",
     "output_type": "stream",
     "text": [
      "C:\\Users\\wangh\\AppData\\Local\\Temp\\ipykernel_8340\\3381388352.py:48: DeprecationWarning: setting an array element with a sequence. This was supported in some cases where the elements are arrays with a single element. For example `np.array([1, np.array([2])], dtype=int)`. In the future this will raise the same ValueError as `np.array([1, [2]], dtype=int)`.\n",
      "  return np.array([dev_x,dev_n,dev_q,dev_f],dtype='float64')\n",
      "c:\\Users\\wangh\\env\\lib\\site-packages\\scipy\\integrate\\_odepack_py.py:247: ODEintWarning: Excess work done on this call (perhaps wrong Dfun type). Run with full_output = 1 to get quantitative information.\n",
      "  warnings.warn(warning_msg, ODEintWarning)\n"
     ]
    },
    {
     "name": "stdout",
     "output_type": "stream",
     "text": [
      "1\n",
      "2\n",
      "3\n",
      "4\n",
      "File saved at: tmp/hiddenlayer1nodes3\n",
      "0\n"
     ]
    },
    {
     "name": "stderr",
     "output_type": "stream",
     "text": [
      "C:\\Users\\wangh\\AppData\\Local\\Temp\\ipykernel_8340\\3381388352.py:48: DeprecationWarning: setting an array element with a sequence. This was supported in some cases where the elements are arrays with a single element. For example `np.array([1, np.array([2])], dtype=int)`. In the future this will raise the same ValueError as `np.array([1, [2]], dtype=int)`.\n",
      "  return np.array([dev_x,dev_n,dev_q,dev_f],dtype='float64')\n",
      "c:\\Users\\wangh\\env\\lib\\site-packages\\scipy\\integrate\\_odepack_py.py:247: ODEintWarning: Excess work done on this call (perhaps wrong Dfun type). Run with full_output = 1 to get quantitative information.\n",
      "  warnings.warn(warning_msg, ODEintWarning)\n"
     ]
    },
    {
     "name": "stdout",
     "output_type": "stream",
     "text": [
      "1\n",
      "2\n",
      "3\n",
      "4\n",
      "File saved at: tmp/hiddenlayer2nodes3\n",
      "0\n"
     ]
    },
    {
     "name": "stderr",
     "output_type": "stream",
     "text": [
      "C:\\Users\\wangh\\AppData\\Local\\Temp\\ipykernel_8340\\3381388352.py:48: DeprecationWarning: setting an array element with a sequence. This was supported in some cases where the elements are arrays with a single element. For example `np.array([1, np.array([2])], dtype=int)`. In the future this will raise the same ValueError as `np.array([1, [2]], dtype=int)`.\n",
      "  return np.array([dev_x,dev_n,dev_q,dev_f],dtype='float64')\n",
      "c:\\Users\\wangh\\env\\lib\\site-packages\\scipy\\integrate\\_odepack_py.py:247: ODEintWarning: Excess work done on this call (perhaps wrong Dfun type). Run with full_output = 1 to get quantitative information.\n",
      "  warnings.warn(warning_msg, ODEintWarning)\n"
     ]
    },
    {
     "name": "stdout",
     "output_type": "stream",
     "text": [
      "1\n",
      "2\n",
      "3\n",
      "4\n",
      "File saved at: tmp/hiddenlayer2nodes1\n",
      "0\n"
     ]
    },
    {
     "name": "stderr",
     "output_type": "stream",
     "text": [
      "C:\\Users\\wangh\\AppData\\Local\\Temp\\ipykernel_8340\\3381388352.py:48: DeprecationWarning: setting an array element with a sequence. This was supported in some cases where the elements are arrays with a single element. For example `np.array([1, np.array([2])], dtype=int)`. In the future this will raise the same ValueError as `np.array([1, [2]], dtype=int)`.\n",
      "  return np.array([dev_x,dev_n,dev_q,dev_f],dtype='float64')\n",
      "c:\\Users\\wangh\\env\\lib\\site-packages\\scipy\\integrate\\_odepack_py.py:247: ODEintWarning: Excess work done on this call (perhaps wrong Dfun type). Run with full_output = 1 to get quantitative information.\n",
      "  warnings.warn(warning_msg, ODEintWarning)\n"
     ]
    },
    {
     "name": "stdout",
     "output_type": "stream",
     "text": [
      "1\n",
      "2\n",
      "3\n",
      "4\n",
      "File saved at: tmp/hiddenlayer1nodes2\n",
      "0\n"
     ]
    },
    {
     "name": "stderr",
     "output_type": "stream",
     "text": [
      "C:\\Users\\wangh\\AppData\\Local\\Temp\\ipykernel_8340\\3381388352.py:48: DeprecationWarning: setting an array element with a sequence. This was supported in some cases where the elements are arrays with a single element. For example `np.array([1, np.array([2])], dtype=int)`. In the future this will raise the same ValueError as `np.array([1, [2]], dtype=int)`.\n",
      "  return np.array([dev_x,dev_n,dev_q,dev_f],dtype='float64')\n"
     ]
    },
    {
     "name": "stdout",
     "output_type": "stream",
     "text": [
      "1\n",
      "2\n"
     ]
    },
    {
     "name": "stderr",
     "output_type": "stream",
     "text": [
      "c:\\Users\\wangh\\env\\lib\\site-packages\\scipy\\integrate\\_odepack_py.py:247: ODEintWarning: Excess work done on this call (perhaps wrong Dfun type). Run with full_output = 1 to get quantitative information.\n",
      "  warnings.warn(warning_msg, ODEintWarning)\n"
     ]
    },
    {
     "name": "stdout",
     "output_type": "stream",
     "text": [
      "3\n",
      "4\n",
      "File saved at: tmp/hiddenlayer2nodes3\n",
      "\n",
      "Average time of function evaluating (secs): 570.7437638521194 (total = 5707.4376385211945)\n",
      "\n",
      "Best score before optimization: 2973.7181804094616\n",
      "|||||||_____________ 33.3% GA is running...1 gen from 3...best value = 2973.71818040946160\n"
     ]
    },
    {
     "name": "stderr",
     "output_type": "stream",
     "text": [
      "C:\\Users\\wangh\\AppData\\Local\\Temp\\ipykernel_8340\\3381388352.py:48: DeprecationWarning: setting an array element with a sequence. This was supported in some cases where the elements are arrays with a single element. For example `np.array([1, np.array([2])], dtype=int)`. In the future this will raise the same ValueError as `np.array([1, [2]], dtype=int)`.\n",
      "  return np.array([dev_x,dev_n,dev_q,dev_f],dtype='float64')\n"
     ]
    },
    {
     "name": "stdout",
     "output_type": "stream",
     "text": [
      "1\n",
      "2\n"
     ]
    },
    {
     "name": "stderr",
     "output_type": "stream",
     "text": [
      "c:\\Users\\wangh\\env\\lib\\site-packages\\scipy\\integrate\\_odepack_py.py:247: ODEintWarning: Excess work done on this call (perhaps wrong Dfun type). Run with full_output = 1 to get quantitative information.\n",
      "  warnings.warn(warning_msg, ODEintWarning)\n"
     ]
    },
    {
     "name": "stdout",
     "output_type": "stream",
     "text": [
      "3\n",
      "4\n",
      "File saved at: tmp/hiddenlayer2nodes1\n",
      "0\n"
     ]
    },
    {
     "name": "stderr",
     "output_type": "stream",
     "text": [
      "C:\\Users\\wangh\\AppData\\Local\\Temp\\ipykernel_8340\\3381388352.py:48: DeprecationWarning: setting an array element with a sequence. This was supported in some cases where the elements are arrays with a single element. For example `np.array([1, np.array([2])], dtype=int)`. In the future this will raise the same ValueError as `np.array([1, [2]], dtype=int)`.\n",
      "  return np.array([dev_x,dev_n,dev_q,dev_f],dtype='float64')\n"
     ]
    },
    {
     "name": "stdout",
     "output_type": "stream",
     "text": [
      "1\n",
      "2\n"
     ]
    },
    {
     "name": "stderr",
     "output_type": "stream",
     "text": [
      "c:\\Users\\wangh\\env\\lib\\site-packages\\scipy\\integrate\\_odepack_py.py:247: ODEintWarning: Excess work done on this call (perhaps wrong Dfun type). Run with full_output = 1 to get quantitative information.\n",
      "  warnings.warn(warning_msg, ODEintWarning)\n"
     ]
    },
    {
     "name": "stdout",
     "output_type": "stream",
     "text": [
      "3\n",
      "4\n",
      "File saved at: tmp/hiddenlayer2nodes2\n",
      "0\n"
     ]
    },
    {
     "name": "stderr",
     "output_type": "stream",
     "text": [
      "C:\\Users\\wangh\\AppData\\Local\\Temp\\ipykernel_8340\\3381388352.py:48: DeprecationWarning: setting an array element with a sequence. This was supported in some cases where the elements are arrays with a single element. For example `np.array([1, np.array([2])], dtype=int)`. In the future this will raise the same ValueError as `np.array([1, [2]], dtype=int)`.\n",
      "  return np.array([dev_x,dev_n,dev_q,dev_f],dtype='float64')\n",
      "c:\\Users\\wangh\\env\\lib\\site-packages\\scipy\\integrate\\_odepack_py.py:247: ODEintWarning: Excess work done on this call (perhaps wrong Dfun type). Run with full_output = 1 to get quantitative information.\n",
      "  warnings.warn(warning_msg, ODEintWarning)\n"
     ]
    },
    {
     "name": "stdout",
     "output_type": "stream",
     "text": [
      "1\n",
      "2\n",
      "3\n",
      "4\n",
      "File saved at: tmp/hiddenlayer2nodes2\n",
      "0\n"
     ]
    },
    {
     "name": "stderr",
     "output_type": "stream",
     "text": [
      "C:\\Users\\wangh\\AppData\\Local\\Temp\\ipykernel_8340\\3381388352.py:48: DeprecationWarning: setting an array element with a sequence. This was supported in some cases where the elements are arrays with a single element. For example `np.array([1, np.array([2])], dtype=int)`. In the future this will raise the same ValueError as `np.array([1, [2]], dtype=int)`.\n",
      "  return np.array([dev_x,dev_n,dev_q,dev_f],dtype='float64')\n",
      "c:\\Users\\wangh\\env\\lib\\site-packages\\scipy\\integrate\\_odepack_py.py:247: ODEintWarning: Excess work done on this call (perhaps wrong Dfun type). Run with full_output = 1 to get quantitative information.\n",
      "  warnings.warn(warning_msg, ODEintWarning)\n"
     ]
    },
    {
     "name": "stdout",
     "output_type": "stream",
     "text": [
      "1\n",
      "2\n",
      "3\n",
      "4\n",
      "File saved at: tmp/hiddenlayer1nodes1\n",
      "0\n"
     ]
    },
    {
     "name": "stderr",
     "output_type": "stream",
     "text": [
      "C:\\Users\\wangh\\AppData\\Local\\Temp\\ipykernel_8340\\3381388352.py:48: DeprecationWarning: setting an array element with a sequence. This was supported in some cases where the elements are arrays with a single element. For example `np.array([1, np.array([2])], dtype=int)`. In the future this will raise the same ValueError as `np.array([1, [2]], dtype=int)`.\n",
      "  return np.array([dev_x,dev_n,dev_q,dev_f],dtype='float64')\n",
      "c:\\Users\\wangh\\env\\lib\\site-packages\\scipy\\integrate\\_odepack_py.py:247: ODEintWarning: Excess work done on this call (perhaps wrong Dfun type). Run with full_output = 1 to get quantitative information.\n",
      "  warnings.warn(warning_msg, ODEintWarning)\n"
     ]
    },
    {
     "name": "stdout",
     "output_type": "stream",
     "text": [
      "1\n",
      "2\n",
      "3\n",
      "4\n",
      "File saved at: tmp/hiddenlayer1nodes2\n",
      "0\n"
     ]
    },
    {
     "name": "stderr",
     "output_type": "stream",
     "text": [
      "C:\\Users\\wangh\\AppData\\Local\\Temp\\ipykernel_8340\\3381388352.py:48: DeprecationWarning: setting an array element with a sequence. This was supported in some cases where the elements are arrays with a single element. For example `np.array([1, np.array([2])], dtype=int)`. In the future this will raise the same ValueError as `np.array([1, [2]], dtype=int)`.\n",
      "  return np.array([dev_x,dev_n,dev_q,dev_f],dtype='float64')\n",
      "c:\\Users\\wangh\\env\\lib\\site-packages\\scipy\\integrate\\_odepack_py.py:247: ODEintWarning: Excess work done on this call (perhaps wrong Dfun type). Run with full_output = 1 to get quantitative information.\n",
      "  warnings.warn(warning_msg, ODEintWarning)\n"
     ]
    },
    {
     "name": "stdout",
     "output_type": "stream",
     "text": [
      "1\n",
      "2\n",
      "3\n",
      "4\n",
      "File saved at: tmp/hiddenlayer2nodes2\n",
      "|||||||||||||_______ 66.7% GA is running...2 gen from 3...best value = 2973.71818040946160\n"
     ]
    },
    {
     "name": "stderr",
     "output_type": "stream",
     "text": [
      "C:\\Users\\wangh\\AppData\\Local\\Temp\\ipykernel_8340\\3381388352.py:48: DeprecationWarning: setting an array element with a sequence. This was supported in some cases where the elements are arrays with a single element. For example `np.array([1, np.array([2])], dtype=int)`. In the future this will raise the same ValueError as `np.array([1, [2]], dtype=int)`.\n",
      "  return np.array([dev_x,dev_n,dev_q,dev_f],dtype='float64')\n",
      "c:\\Users\\wangh\\env\\lib\\site-packages\\scipy\\integrate\\_odepack_py.py:247: ODEintWarning: Excess work done on this call (perhaps wrong Dfun type). Run with full_output = 1 to get quantitative information.\n",
      "  warnings.warn(warning_msg, ODEintWarning)\n"
     ]
    },
    {
     "name": "stdout",
     "output_type": "stream",
     "text": [
      "1\n",
      "2\n",
      "3\n",
      "4\n",
      "File saved at: tmp/hiddenlayer1nodes2\n",
      "0\n"
     ]
    },
    {
     "name": "stderr",
     "output_type": "stream",
     "text": [
      "C:\\Users\\wangh\\AppData\\Local\\Temp\\ipykernel_8340\\3381388352.py:48: DeprecationWarning: setting an array element with a sequence. This was supported in some cases where the elements are arrays with a single element. For example `np.array([1, np.array([2])], dtype=int)`. In the future this will raise the same ValueError as `np.array([1, [2]], dtype=int)`.\n",
      "  return np.array([dev_x,dev_n,dev_q,dev_f],dtype='float64')\n"
     ]
    },
    {
     "name": "stdout",
     "output_type": "stream",
     "text": [
      "1\n",
      "2\n"
     ]
    },
    {
     "name": "stderr",
     "output_type": "stream",
     "text": [
      "c:\\Users\\wangh\\env\\lib\\site-packages\\scipy\\integrate\\_odepack_py.py:247: ODEintWarning: Excess work done on this call (perhaps wrong Dfun type). Run with full_output = 1 to get quantitative information.\n",
      "  warnings.warn(warning_msg, ODEintWarning)\n"
     ]
    },
    {
     "name": "stdout",
     "output_type": "stream",
     "text": [
      "3\n",
      "4\n",
      "File saved at: tmp/hiddenlayer2nodes2\n",
      "0\n"
     ]
    },
    {
     "name": "stderr",
     "output_type": "stream",
     "text": [
      "C:\\Users\\wangh\\AppData\\Local\\Temp\\ipykernel_8340\\3381388352.py:48: DeprecationWarning: setting an array element with a sequence. This was supported in some cases where the elements are arrays with a single element. For example `np.array([1, np.array([2])], dtype=int)`. In the future this will raise the same ValueError as `np.array([1, [2]], dtype=int)`.\n",
      "  return np.array([dev_x,dev_n,dev_q,dev_f],dtype='float64')\n",
      "c:\\Users\\wangh\\env\\lib\\site-packages\\scipy\\integrate\\_odepack_py.py:247: ODEintWarning: Excess work done on this call (perhaps wrong Dfun type). Run with full_output = 1 to get quantitative information.\n",
      "  warnings.warn(warning_msg, ODEintWarning)\n"
     ]
    },
    {
     "name": "stdout",
     "output_type": "stream",
     "text": [
      "1\n",
      "2\n",
      "3\n",
      "4\n",
      "File saved at: tmp/hiddenlayer2nodes2\n",
      "0\n"
     ]
    },
    {
     "name": "stderr",
     "output_type": "stream",
     "text": [
      "C:\\Users\\wangh\\AppData\\Local\\Temp\\ipykernel_8340\\3381388352.py:48: DeprecationWarning: setting an array element with a sequence. This was supported in some cases where the elements are arrays with a single element. For example `np.array([1, np.array([2])], dtype=int)`. In the future this will raise the same ValueError as `np.array([1, [2]], dtype=int)`.\n",
      "  return np.array([dev_x,dev_n,dev_q,dev_f],dtype='float64')\n",
      "c:\\Users\\wangh\\env\\lib\\site-packages\\scipy\\integrate\\_odepack_py.py:247: ODEintWarning: Excess work done on this call (perhaps wrong Dfun type). Run with full_output = 1 to get quantitative information.\n",
      "  warnings.warn(warning_msg, ODEintWarning)\n"
     ]
    },
    {
     "name": "stdout",
     "output_type": "stream",
     "text": [
      "1\n",
      "2\n",
      "3\n",
      "4\n",
      "File saved at: tmp/hiddenlayer2nodes2\n",
      "0\n"
     ]
    },
    {
     "name": "stderr",
     "output_type": "stream",
     "text": [
      "C:\\Users\\wangh\\AppData\\Local\\Temp\\ipykernel_8340\\3381388352.py:48: DeprecationWarning: setting an array element with a sequence. This was supported in some cases where the elements are arrays with a single element. For example `np.array([1, np.array([2])], dtype=int)`. In the future this will raise the same ValueError as `np.array([1, [2]], dtype=int)`.\n",
      "  return np.array([dev_x,dev_n,dev_q,dev_f],dtype='float64')\n",
      "c:\\Users\\wangh\\env\\lib\\site-packages\\scipy\\integrate\\_odepack_py.py:247: ODEintWarning: Excess work done on this call (perhaps wrong Dfun type). Run with full_output = 1 to get quantitative information.\n",
      "  warnings.warn(warning_msg, ODEintWarning)\n"
     ]
    },
    {
     "name": "stdout",
     "output_type": "stream",
     "text": [
      "1\n",
      "2\n",
      "3\n",
      "4\n",
      "File saved at: tmp/hiddenlayer2nodes2\n",
      "0\n"
     ]
    },
    {
     "name": "stderr",
     "output_type": "stream",
     "text": [
      "C:\\Users\\wangh\\AppData\\Local\\Temp\\ipykernel_8340\\3381388352.py:48: DeprecationWarning: setting an array element with a sequence. This was supported in some cases where the elements are arrays with a single element. For example `np.array([1, np.array([2])], dtype=int)`. In the future this will raise the same ValueError as `np.array([1, [2]], dtype=int)`.\n",
      "  return np.array([dev_x,dev_n,dev_q,dev_f],dtype='float64')\n"
     ]
    },
    {
     "name": "stdout",
     "output_type": "stream",
     "text": [
      "1\n"
     ]
    },
    {
     "name": "stderr",
     "output_type": "stream",
     "text": [
      "c:\\Users\\wangh\\env\\lib\\site-packages\\scipy\\integrate\\_odepack_py.py:247: ODEintWarning: Excess work done on this call (perhaps wrong Dfun type). Run with full_output = 1 to get quantitative information.\n",
      "  warnings.warn(warning_msg, ODEintWarning)\n"
     ]
    },
    {
     "name": "stdout",
     "output_type": "stream",
     "text": [
      "2\n",
      "3\n",
      "4\n",
      "File saved at: tmp/hiddenlayer2nodes2\n",
      "                                                                                                                                                                                                        \n",
      " The best found solution:\n",
      " [1. 2.]\n",
      "\n",
      " Objective function:\n",
      " 1080.2601056288954\n",
      "\n",
      " Used generations: 3\n",
      " Used time: 1.42e+04 seconds\n"
     ]
    },
    {
     "data": {
      "image/png": "[encoded data removed]",
      "text/plain": [
       "<Figure size 432x288 with 1 Axes>"
      ]
     },
     "metadata": {
      "needs_background": "light"
     },
     "output_type": "display_data"
    }
   ],
   "source": [
    "structure_bounds = [[1,2],[1,3]]\n",
    "vartype = ( 'int', 'int')\n",
    "dimensions = len(structure_bounds) \n",
    "algorithm_param = AlgorithmParams(\n",
    "            max_num_iteration = 3,\n",
    "            population_size = 10,\n",
    "            mutation_probability = 0.1,\n",
    "            mutation_discrete_probability = None,\n",
    "            elit_ratio = 0.01,\n",
    "            parents_portion = 0.3,\n",
    "            crossover_type = 'uniform',\n",
    "            mutation_type = 'uniform_by_center',\n",
    "            mutation_discrete_type = 'uniform_discrete',\n",
    "            selection_type = 'roulette',\n",
    "            max_iteration_without_improv = None\n",
    "        )\n",
    "model = ga(function=NN_optimization,function_timeout = 400000, dimension=dimensions, variable_type=vartype, variable_boundaries=structure_bounds,algorithm_parameters=algorithm_param)\n",
    "model.run()\n",
    "obj_value = model.result.score\n",
    "opt_pe    = model.result.variable\n",
    "#"
   ]
  },
  {
   "attachments": {},
   "cell_type": "markdown",
   "id": "a925b7a1",
   "metadata": {},
   "source": [
    "### Until here we get the optimum NN structure. However, because I seperated the NN structure optimization and PE for a certain structure, I cannot return PE result directly. Instead, I saved all PE results as pickl file so I can mannualy find it later based on the optimum NN structure."
   ]
  },
  {
   "attachments": {},
   "cell_type": "markdown",
   "id": "d0b0482d",
   "metadata": {},
   "source": [
    "# Check results"
   ]
  },
  {
   "cell_type": "code",
   "execution_count": 40,
   "id": "dc80d5a8",
   "metadata": {},
   "outputs": [
    {
     "name": "stdout",
     "output_type": "stream",
     "text": [
      "Loaded from: tmp/hiddenlayer1nodes2\n"
     ]
    },
    {
     "name": "stderr",
     "output_type": "stream",
     "text": [
      "C:\\Users\\wangh\\AppData\\Local\\Temp\\ipykernel_14268\\3381388352.py:48: DeprecationWarning: setting an array element with a sequence. This was supported in some cases where the elements are arrays with a single element. For example `np.array([1, np.array([2])], dtype=int)`. In the future this will raise the same ValueError as `np.array([1, [2]], dtype=int)`.\n",
      "  return np.array([dev_x,dev_n,dev_q,dev_f],dtype='float64')\n"
     ]
    }
   ],
   "source": [
    "# Results from the whole algorithm\n",
    "pe                = load_pkl('tmp/hiddenlayer1nodes2')\n",
    "pe                = list(pe['Parameters'])[0][0]\n",
    "num_hiddenlayer_  = 1\n",
    "num_node_         = 2\n",
    "NN_structure_     = gen_NN(num_inputs_,num_hiddenlayer_,num_node_,num_outputs_)\n",
    "h_x01             = np.array([0.18,35,79.85,120])       \n",
    "h_xt1,htt_1       = simulation(hybrid_model,steps_, tf_,h_x01,pe,I1,NN_structure_,num_hiddenlayer_)"
   ]
  },
  {
   "cell_type": "code",
   "execution_count": 41,
   "id": "69faf004",
   "metadata": {},
   "outputs": [
    {
     "name": "stderr",
     "output_type": "stream",
     "text": [
      "C:\\Users\\wangh\\AppData\\Local\\Temp\\ipykernel_14268\\3381388352.py:48: DeprecationWarning: setting an array element with a sequence. This was supported in some cases where the elements are arrays with a single element. For example `np.array([1, np.array([2])], dtype=int)`. In the future this will raise the same ValueError as `np.array([1, [2]], dtype=int)`.\n",
      "  return np.array([dev_x,dev_n,dev_q,dev_f],dtype='float64')\n"
     ]
    },
    {
     "data": {
      "text/plain": [
       "1080.2601546390968"
      ]
     },
     "execution_count": 41,
     "metadata": {},
     "output_type": "execute_result"
    }
   ],
   "source": [
    "pe_bic(pe,NN_structure_,num_hiddenlayer_)"
   ]
  },
  {
   "cell_type": "code",
   "execution_count": 32,
   "id": "69b9e127",
   "metadata": {},
   "outputs": [
    {
     "data": {
      "image/png": "[encoded data removed]",
      "text/plain": [
       "<Figure size 432x288 with 1 Axes>"
      ]
     },
     "metadata": {
      "needs_background": "light"
     },
     "output_type": "display_data"
    },
    {
     "data": {
      "image/png": "[encoded data removed]",
      "text/plain": [
       "<Figure size 432x288 with 1 Axes>"
      ]
     },
     "metadata": {
      "needs_background": "light"
     },
     "output_type": "display_data"
    },
    {
     "data": {
      "image/png": "[encoded data removed]",
      "text/plain": [
       "<Figure size 432x288 with 1 Axes>"
      ]
     },
     "metadata": {
      "needs_background": "light"
     },
     "output_type": "display_data"
    },
    {
     "data": {
      "image/png": "[encoded data removed]",
      "text/plain": [
       "<Figure size 432x288 with 1 Axes>"
      ]
     },
     "metadata": {
      "needs_background": "light"
     },
     "output_type": "display_data"
    }
   ],
   "source": [
    "check_plot(xobs1,h_xt1,tt1)"
   ]
  },
  {
   "cell_type": "code",
   "execution_count": 38,
   "id": "de4c79a3",
   "metadata": {},
   "outputs": [
    {
     "name": "stdout",
     "output_type": "stream",
     "text": [
      "Loaded from: tmp/pe for scipyopt\n"
     ]
    },
    {
     "name": "stderr",
     "output_type": "stream",
     "text": [
      "C:\\Users\\wangh\\AppData\\Local\\Temp\\ipykernel_14268\\3381388352.py:48: DeprecationWarning: setting an array element with a sequence. This was supported in some cases where the elements are arrays with a single element. For example `np.array([1, np.array([2])], dtype=int)`. In the future this will raise the same ValueError as `np.array([1, [2]], dtype=int)`.\n",
      "  return np.array([dev_x,dev_n,dev_q,dev_f],dtype='float64')\n"
     ]
    }
   ],
   "source": [
    "# Results for 1 layer 3 nodes\n",
    "pe                = load_pkl('tmp/pe for scipyopt')\n",
    "# pe                = list(pe['Parameters'])[0][0]\n",
    "num_hiddenlayer_  = 1\n",
    "num_node_         = 3\n",
    "NN_structure_     = gen_NN(num_inputs_,num_hiddenlayer_,num_node_,num_outputs_)\n",
    "h_x01             = np.array([0.18,35,79.85,120])       \n",
    "h_xt1,htt_1       = simulation(hybrid_model,steps_, tf_,h_x01,pe,I1,NN_structure_,num_hiddenlayer_)"
   ]
  },
  {
   "cell_type": "code",
   "execution_count": 39,
   "id": "923e3d23",
   "metadata": {},
   "outputs": [
    {
     "name": "stderr",
     "output_type": "stream",
     "text": [
      "C:\\Users\\wangh\\AppData\\Local\\Temp\\ipykernel_14268\\3381388352.py:48: DeprecationWarning: setting an array element with a sequence. This was supported in some cases where the elements are arrays with a single element. For example `np.array([1, np.array([2])], dtype=int)`. In the future this will raise the same ValueError as `np.array([1, [2]], dtype=int)`.\n",
      "  return np.array([dev_x,dev_n,dev_q,dev_f],dtype='float64')\n"
     ]
    },
    {
     "data": {
      "text/plain": [
       "880.447244345817"
      ]
     },
     "execution_count": 39,
     "metadata": {},
     "output_type": "execute_result"
    }
   ],
   "source": [
    "pe_bic(pe,NN_structure_,num_hiddenlayer_)"
   ]
  },
  {
   "cell_type": "code",
   "execution_count": 37,
   "id": "ed9d76cb",
   "metadata": {},
   "outputs": [
    {
     "data": {
      "image/png": "[encoded data removed]",
      "text/plain": [
       "<Figure size 432x288 with 1 Axes>"
      ]
     },
     "metadata": {
      "needs_background": "light"
     },
     "output_type": "display_data"
    },
    {
     "data": {
      "image/png": "[encoded data removed]",
      "text/plain": [
       "<Figure size 432x288 with 1 Axes>"
      ]
     },
     "metadata": {
      "needs_background": "light"
     },
     "output_type": "display_data"
    },
    {
     "data": {
      "image/png": "[encoded data removed]",
      "text/plain": [
       "<Figure size 432x288 with 1 Axes>"
      ]
     },
     "metadata": {
      "needs_background": "light"
     },
     "output_type": "display_data"
    },
    {
     "data": {
      "image/png": "[encoded data removed]",
      "text/plain": [
       "<Figure size 432x288 with 1 Axes>"
      ]
     },
     "metadata": {
      "needs_background": "light"
     },
     "output_type": "display_data"
    }
   ],
   "source": [
    "check_plot(xobs1,h_xt1,tt1)"
   ]
  },
  {
   "cell_type": "code",
   "execution_count": null,
   "id": "4b422ce0",
   "metadata": {},
   "outputs": [],
   "source": []
  }
 ],
 "metadata": {
  "interpreter": {
   "hash": "0b975ef14a7c349b5b53fa51dcf9e0d25501f9719e727a1ab429ed23704c47f1"
  },
  "kernelspec": {
   "display_name": "Python 3.9.9 ('env')",
   "language": "python",
   "name": "python3"
  },
  "language_info": {
   "codemirror_mode": {
    "name": "ipython",
    "version": 3
   },
   "file_extension": ".py",
   "mimetype": "text/x-python",
   "name": "python",
   "nbconvert_exporter": "python",
   "pygments_lexer": "ipython3",
   "version": "3.9.9"
  },
  "varInspector": {
   "cols": {
    "lenName": 16,
    "lenType": 16,
    "lenVar": 40
   },
   "kernels_config": {
    "python": {
     "delete_cmd_postfix": "",
     "delete_cmd_prefix": "del ",
     "library": "var_list.py",
     "varRefreshCmd": "print(var_dic_list())"
    },
    "r": {
     "delete_cmd_postfix": ") ",
     "delete_cmd_prefix": "rm(",
     "library": "var_list.r",
     "varRefreshCmd": "cat(var_dic_list()) "
    }
   },
   "types_to_exclude": [
    "module",
    "function",
    "builtin_function_or_method",
    "instance",
    "_Feature"
   ],
   "window_display": false
  }
 },
 "nbformat": 4,
 "nbformat_minor": 5
}
