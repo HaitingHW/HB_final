{
 "cells": [
  {
   "cell_type": "code",
   "execution_count": 392,
   "metadata": {},
   "outputs": [],
   "source": [
    "import numpy as np\n",
    "import random\n",
    "import scipy.integrate as scp\n",
    "import numpy.random as rnd\n",
    "import time\n",
    "import matplotlib.pyplot as plt\n",
    "import numpy.random as rnd\n",
    "import copy\n",
    "from matplotlib.pyplot import figure\n",
    "from pyomo.environ import *\n",
    "from pyomo.dae import *\n",
    "import pandas as pd\n",
    "import pickle\n",
    "import scipy.stats\n",
    "from math import comb\n",
    "from numpy.polynomial import polynomial as P\n",
    "\n",
    "eps  = np.finfo(float).eps\n",
    "np.random.seed(1)"
   ]
  },
  {
   "attachments": {},
   "cell_type": "markdown",
   "metadata": {},
   "source": [
    "Gneneration of 3 sets of experimental data with different nitrate and light intensity, varies from low to high, number of datapoints for each exps is 26, noise level is 5% of means."
   ]
  },
  {
   "cell_type": "code",
   "execution_count": 393,
   "metadata": {},
   "outputs": [],
   "source": [
    "''' Data treatment'''\n",
    "def save_pkl(item, fname):\n",
    "    sn = 'tmp25/' + fname\n",
    "    with open(sn, 'wb') as handle:\n",
    "        pickle.dump(item, handle) #, protocol=pickle.HIGHEST_PROTOCOL)\n",
    "    print(f'File saved at: {sn}')\n",
    "    return None\n",
    "# return None\n",
    "\n",
    "def load_pkl(fname):\n",
    "    with open(fname, 'rb') as handle:\n",
    "        ans = pickle.load(handle)\n",
    "    print(f'Loaded from: {fname}')\n",
    "    return ans"
   ]
  },
  {
   "cell_type": "code",
   "execution_count": 394,
   "metadata": {},
   "outputs": [],
   "source": [
    "def to_dict(x,dt):\n",
    "    obs = list(x)\n",
    "    # tp = list(time)\n",
    "    dicx = {}\n",
    "    for i in range(len(x)):\n",
    "        dicx[dt*i] = obs[i]          \n",
    "    return dicx\n",
    "\n",
    "def get_grad(x, t):\n",
    "    dxdt = [[],[],[],[]]\n",
    "    for n in range(x.shape[0]):\n",
    "        for i in range(len(x[0]) - 1):\n",
    "            dxdt[n].append((x[n][i + 1] - x[n][i])/(t[i + 1] - t[i]))\n",
    "        dxdt[n].append(dxdt[n][-1])\n",
    "    return dxdt\n"
   ]
  },
  {
   "cell_type": "code",
   "execution_count": 395,
   "metadata": {},
   "outputs": [],
   "source": [
    "tf    = 240\n",
    "# tf    = 16*24\n",
    "steps_= 24\n",
    "dt    = tf/steps_ #dt is fixed\n",
    "\n",
    "\n",
    "num_N = 4\n",
    "tf_N  = tf/(num_N) # tf_N is fixed\n",
    "dt_N = 0.5\n",
    "t_N = np.arange(0,tf_N+dt_N,dt_N)\n",
    "\n",
    "dstep_N = len(t_N)# this is the number of steps in each interval between chaning the fedding rate"
   ]
  },
  {
   "cell_type": "code",
   "execution_count": 396,
   "metadata": {},
   "outputs": [
    {
     "data": {
      "text/plain": [
       "6.0"
      ]
     },
     "execution_count": 396,
     "metadata": {},
     "output_type": "execute_result"
    }
   ],
   "source": [
    "tf_N/dt\n"
   ]
  },
  {
   "cell_type": "code",
   "execution_count": 397,
   "metadata": {},
   "outputs": [],
   "source": [
    "t = np.linspace(0, 240, num=25)"
   ]
  },
  {
   "cell_type": "code",
   "execution_count": 398,
   "metadata": {},
   "outputs": [
    {
     "data": {
      "text/plain": [
       "array([  0.,  10.,  20.,  30.,  40.,  50.,  60.,  70.,  80.,  90., 100.,\n",
       "       110., 120., 130., 140., 150., 160., 170., 180., 190., 200., 210.,\n",
       "       220., 230., 240.])"
      ]
     },
     "execution_count": 398,
     "metadata": {},
     "output_type": "execute_result"
    }
   ],
   "source": [
    "t"
   ]
  },
  {
   "cell_type": "code",
   "execution_count": 399,
   "metadata": {},
   "outputs": [],
   "source": [
    "t_simulation = np.arange(0,tf+dt_N,dt_N)"
   ]
  },
  {
   "cell_type": "code",
   "execution_count": 400,
   "metadata": {},
   "outputs": [
    {
     "data": {
      "text/plain": [
       "array([  0. ,   0.5,   1. ,   1.5,   2. ,   2.5,   3. ,   3.5,   4. ,\n",
       "         4.5,   5. ,   5.5,   6. ,   6.5,   7. ,   7.5,   8. ,   8.5,\n",
       "         9. ,   9.5,  10. ,  10.5,  11. ,  11.5,  12. ,  12.5,  13. ,\n",
       "        13.5,  14. ,  14.5,  15. ,  15.5,  16. ,  16.5,  17. ,  17.5,\n",
       "        18. ,  18.5,  19. ,  19.5,  20. ,  20.5,  21. ,  21.5,  22. ,\n",
       "        22.5,  23. ,  23.5,  24. ,  24.5,  25. ,  25.5,  26. ,  26.5,\n",
       "        27. ,  27.5,  28. ,  28.5,  29. ,  29.5,  30. ,  30.5,  31. ,\n",
       "        31.5,  32. ,  32.5,  33. ,  33.5,  34. ,  34.5,  35. ,  35.5,\n",
       "        36. ,  36.5,  37. ,  37.5,  38. ,  38.5,  39. ,  39.5,  40. ,\n",
       "        40.5,  41. ,  41.5,  42. ,  42.5,  43. ,  43.5,  44. ,  44.5,\n",
       "        45. ,  45.5,  46. ,  46.5,  47. ,  47.5,  48. ,  48.5,  49. ,\n",
       "        49.5,  50. ,  50.5,  51. ,  51.5,  52. ,  52.5,  53. ,  53.5,\n",
       "        54. ,  54.5,  55. ,  55.5,  56. ,  56.5,  57. ,  57.5,  58. ,\n",
       "        58.5,  59. ,  59.5,  60. ,  60.5,  61. ,  61.5,  62. ,  62.5,\n",
       "        63. ,  63.5,  64. ,  64.5,  65. ,  65.5,  66. ,  66.5,  67. ,\n",
       "        67.5,  68. ,  68.5,  69. ,  69.5,  70. ,  70.5,  71. ,  71.5,\n",
       "        72. ,  72.5,  73. ,  73.5,  74. ,  74.5,  75. ,  75.5,  76. ,\n",
       "        76.5,  77. ,  77.5,  78. ,  78.5,  79. ,  79.5,  80. ,  80.5,\n",
       "        81. ,  81.5,  82. ,  82.5,  83. ,  83.5,  84. ,  84.5,  85. ,\n",
       "        85.5,  86. ,  86.5,  87. ,  87.5,  88. ,  88.5,  89. ,  89.5,\n",
       "        90. ,  90.5,  91. ,  91.5,  92. ,  92.5,  93. ,  93.5,  94. ,\n",
       "        94.5,  95. ,  95.5,  96. ,  96.5,  97. ,  97.5,  98. ,  98.5,\n",
       "        99. ,  99.5, 100. , 100.5, 101. , 101.5, 102. , 102.5, 103. ,\n",
       "       103.5, 104. , 104.5, 105. , 105.5, 106. , 106.5, 107. , 107.5,\n",
       "       108. , 108.5, 109. , 109.5, 110. , 110.5, 111. , 111.5, 112. ,\n",
       "       112.5, 113. , 113.5, 114. , 114.5, 115. , 115.5, 116. , 116.5,\n",
       "       117. , 117.5, 118. , 118.5, 119. , 119.5, 120. , 120.5, 121. ,\n",
       "       121.5, 122. , 122.5, 123. , 123.5, 124. , 124.5, 125. , 125.5,\n",
       "       126. , 126.5, 127. , 127.5, 128. , 128.5, 129. , 129.5, 130. ,\n",
       "       130.5, 131. , 131.5, 132. , 132.5, 133. , 133.5, 134. , 134.5,\n",
       "       135. , 135.5, 136. , 136.5, 137. , 137.5, 138. , 138.5, 139. ,\n",
       "       139.5, 140. , 140.5, 141. , 141.5, 142. , 142.5, 143. , 143.5,\n",
       "       144. , 144.5, 145. , 145.5, 146. , 146.5, 147. , 147.5, 148. ,\n",
       "       148.5, 149. , 149.5, 150. , 150.5, 151. , 151.5, 152. , 152.5,\n",
       "       153. , 153.5, 154. , 154.5, 155. , 155.5, 156. , 156.5, 157. ,\n",
       "       157.5, 158. , 158.5, 159. , 159.5, 160. , 160.5, 161. , 161.5,\n",
       "       162. , 162.5, 163. , 163.5, 164. , 164.5, 165. , 165.5, 166. ,\n",
       "       166.5, 167. , 167.5, 168. , 168.5, 169. , 169.5, 170. , 170.5,\n",
       "       171. , 171.5, 172. , 172.5, 173. , 173.5, 174. , 174.5, 175. ,\n",
       "       175.5, 176. , 176.5, 177. , 177.5, 178. , 178.5, 179. , 179.5,\n",
       "       180. , 180.5, 181. , 181.5, 182. , 182.5, 183. , 183.5, 184. ,\n",
       "       184.5, 185. , 185.5, 186. , 186.5, 187. , 187.5, 188. , 188.5,\n",
       "       189. , 189.5, 190. , 190.5, 191. , 191.5, 192. , 192.5, 193. ,\n",
       "       193.5, 194. , 194.5, 195. , 195.5, 196. , 196.5, 197. , 197.5,\n",
       "       198. , 198.5, 199. , 199.5, 200. , 200.5, 201. , 201.5, 202. ,\n",
       "       202.5, 203. , 203.5, 204. , 204.5, 205. , 205.5, 206. , 206.5,\n",
       "       207. , 207.5, 208. , 208.5, 209. , 209.5, 210. , 210.5, 211. ,\n",
       "       211.5, 212. , 212.5, 213. , 213.5, 214. , 214.5, 215. , 215.5,\n",
       "       216. , 216.5, 217. , 217.5, 218. , 218.5, 219. , 219.5, 220. ,\n",
       "       220.5, 221. , 221.5, 222. , 222.5, 223. , 223.5, 224. , 224.5,\n",
       "       225. , 225.5, 226. , 226.5, 227. , 227.5, 228. , 228.5, 229. ,\n",
       "       229.5, 230. , 230.5, 231. , 231.5, 232. , 232.5, 233. , 233.5,\n",
       "       234. , 234.5, 235. , 235.5, 236. , 236.5, 237. , 237.5, 238. ,\n",
       "       238.5, 239. , 239.5, 240. ])"
      ]
     },
     "execution_count": 400,
     "metadata": {},
     "output_type": "execute_result"
    }
   ],
   "source": [
    "t_simulation"
   ]
  },
  {
   "cell_type": "code",
   "execution_count": 401,
   "metadata": {},
   "outputs": [],
   "source": [
    "t_fn1 = np.arange(0,tf/steps_+dt_N,dt_N)"
   ]
  },
  {
   "cell_type": "code",
   "execution_count": 402,
   "metadata": {},
   "outputs": [
    {
     "name": "stdout",
     "output_type": "stream",
     "text": [
      "0.0\n",
      "10.0\n",
      "20.0\n",
      "30.0\n",
      "40.0\n",
      "50.0\n",
      "60.0\n",
      "70.0\n",
      "80.0\n",
      "90.0\n",
      "100.0\n",
      "110.0\n",
      "120.0\n",
      "130.0\n",
      "140.0\n",
      "150.0\n",
      "160.0\n",
      "170.0\n",
      "180.0\n",
      "190.0\n",
      "200.0\n",
      "210.0\n",
      "220.0\n",
      "230.0\n",
      "240.0\n"
     ]
    }
   ],
   "source": [
    "for i in range(len(t)):\n",
    "    print(t_simulation[(len(t_fn1)-1)*i])"
   ]
  },
  {
   "cell_type": "code",
   "execution_count": 403,
   "metadata": {},
   "outputs": [],
   "source": [
    "from scipy.stats import qmc\n",
    "\n",
    "sampler = qmc.Sobol(d=1, scramble=False)\n",
    "u_sample = sampler.random_base2(m=4)\n",
    "\n",
    "u_l_bounds = [50]   # feeding N, I\n",
    "u_u_bounds = [200]\n",
    "\n",
    "u_con = qmc.scale(u_sample,u_l_bounds,u_u_bounds)"
   ]
  },
  {
   "cell_type": "code",
   "execution_count": 404,
   "metadata": {},
   "outputs": [
    {
     "data": {
      "text/plain": [
       "16"
      ]
     },
     "execution_count": 404,
     "metadata": {},
     "output_type": "execute_result"
    }
   ],
   "source": [
    "len(u_con)"
   ]
  },
  {
   "cell_type": "code",
   "execution_count": 405,
   "metadata": {},
   "outputs": [
    {
     "data": {
      "text/plain": [
       "array([[ 50.   ],\n",
       "       [125.   ],\n",
       "       [162.5  ],\n",
       "       [ 87.5  ],\n",
       "       [106.25 ],\n",
       "       [181.25 ],\n",
       "       [143.75 ],\n",
       "       [ 68.75 ],\n",
       "       [ 78.125],\n",
       "       [153.125],\n",
       "       [190.625],\n",
       "       [115.625],\n",
       "       [ 96.875],\n",
       "       [171.875],\n",
       "       [134.375],\n",
       "       [ 59.375]])"
      ]
     },
     "execution_count": 405,
     "metadata": {},
     "output_type": "execute_result"
    }
   ],
   "source": [
    "u_con"
   ]
  },
  {
   "cell_type": "code",
   "execution_count": 406,
   "metadata": {},
   "outputs": [],
   "source": [
    "u_con = [u_con[i:i+4] for i in range(0, len(u_con), 4)]"
   ]
  },
  {
   "cell_type": "code",
   "execution_count": 407,
   "metadata": {},
   "outputs": [
    {
     "data": {
      "text/plain": [
       "[array([[ 50. ],\n",
       "        [125. ],\n",
       "        [162.5],\n",
       "        [ 87.5]]),\n",
       " array([[106.25],\n",
       "        [181.25],\n",
       "        [143.75],\n",
       "        [ 68.75]]),\n",
       " array([[ 78.125],\n",
       "        [153.125],\n",
       "        [190.625],\n",
       "        [115.625]]),\n",
       " array([[ 96.875],\n",
       "        [171.875],\n",
       "        [134.375],\n",
       "        [ 59.375]])]"
      ]
     },
     "execution_count": 407,
     "metadata": {},
     "output_type": "execute_result"
    }
   ],
   "source": [
    "u_con"
   ]
  },
  {
   "cell_type": "code",
   "execution_count": 408,
   "metadata": {},
   "outputs": [],
   "source": [
    "ini_sampler = qmc.Sobol(d=1, scramble=False)\n",
    "ini_N_sample = ini_sampler.random_base2(m=2)\n",
    "\n",
    "initial_l_bounds = [15]   #initial N\n",
    "initial_u_bounds = [60]\n",
    "operation_con = qmc.scale(ini_N_sample,initial_l_bounds,initial_u_bounds)"
   ]
  },
  {
   "cell_type": "markdown",
   "metadata": {},
   "source": []
  },
  {
   "cell_type": "code",
   "execution_count": 409,
   "metadata": {},
   "outputs": [
    {
     "data": {
      "text/plain": [
       "array([[15.  ],\n",
       "       [37.5 ],\n",
       "       [48.75],\n",
       "       [26.25]])"
      ]
     },
     "execution_count": 409,
     "metadata": {},
     "output_type": "execute_result"
    }
   ],
   "source": [
    "operation_con"
   ]
  },
  {
   "cell_type": "code",
   "execution_count": 410,
   "metadata": {},
   "outputs": [],
   "source": [
    "# N_range = load_pkl('operation data/N_range.pkl')\n",
    "# I0_range = load_pkl('operation data/I0_range.pkl')\n",
    "\n",
    "\n",
    "\n",
    "# I1 = I0_range[0]\n",
    "# I2 = I0_range[1]\n",
    "# I3 = I0_range[2]\n",
    "\n",
    "# I_max = np.max([I1,I2,I3])\n",
    "\n",
    "# I_all = np.array([I1,I2,I3])"
   ]
  },
  {
   "cell_type": "code",
   "execution_count": 411,
   "metadata": {},
   "outputs": [],
   "source": [
    "class ModelIntegration:\n",
    "    \n",
    "    # --- Initialize model --- #\n",
    "    def __init__(self, parameters):\n",
    "\n",
    "        # Object variable definitions\n",
    "        self.parameters  =  parameters\n",
    "        # self.dt, self.tf =  dt, tf\n",
    "        \n",
    "    # --- Dynamic model definition --- #    \n",
    "    def model(self, t, state):\n",
    "        # Internal definitions\n",
    "        params = self.parameters\n",
    "        \n",
    "        # State vector\n",
    "        x = state[0]\n",
    "        n = state[1]\n",
    "        q = state[2]\n",
    "        f = state[3]\n",
    "\n",
    "        I0      = params['I0']\n",
    "        \n",
    "        # Parameters\n",
    "\n",
    "        kq      = params['kq']\n",
    "        ud      = params['ud']\n",
    "        un      = params['un']\n",
    "        kn      = params['kn']\n",
    "        theta   = params['theta']\n",
    "        gamma   = params['gamma']\n",
    "        epsilon = params['epsilon']\n",
    "        \n",
    "        tau     = params['tau']\n",
    "        delta   = params['delta']\n",
    "        phi     = params['phi']\n",
    "        ks      = params['ks']\n",
    "        ki      = params['ki']\n",
    "        alpha   = params['alpha']\n",
    "        belta   = params['belta']\n",
    "        uM      = params['uM']  \n",
    "        \n",
    "        \n",
    "        \n",
    "        # Algebraic equations, calculation of um\n",
    "         #Initial of L and I\n",
    "        L         = 4.4E-2\n",
    "        # I0      = 80\n",
    "        def I_e(z):\n",
    "\n",
    "            I_z   = I0*np.exp(-(alpha*x+belta)*z) \n",
    "            I     = uM*I_z/(I_z+ks+I_z**2/ki)\n",
    "            return I\n",
    "\n",
    "\n",
    "\n",
    "\n",
    "\n",
    "        um    = scp.quad(I_e, 0, L)\n",
    "        um    = um[0]/L\n",
    "  \n",
    "\n",
    "        u0     = um*(1-kq/q)\n",
    "        \n",
    "        \n",
    "        # Differential equations\n",
    "        dev_x  = u0*x-ud*x\n",
    "        dev_n  = -un*(n/(n+kn))*x\n",
    "        dev_q  = un*(n/(n+kn)) - (u0-ud)*q\n",
    "        dev_f  = u0*(theta*q-epsilon*f) - gamma*un*(n/(n+kn))+ud*epsilon*f\n",
    "            \n",
    "        # fluorescence\n",
    "        Y      = (np.exp(tau*q)/(np.exp(tau*q)+delta))+phi\n",
    "\n",
    "        return np.array([dev_x,dev_n,dev_q,dev_f], dtype='float64')\n",
    "    \n",
    "            # --- simulation --- #\n",
    "    def simulation(self, dt, tf, x0):\n",
    "        '''\n",
    "        simulate for a number of steps to collect data, and a final time\n",
    "        '''\n",
    "\n",
    "        # external definitions\n",
    "        self.x0, self.tf = x0, tf\n",
    "\n",
    "        # internal definitions\n",
    "        model = self.model\n",
    "        steps    = int(tf/dt)\n",
    "        \n",
    "        # compile state trajectories\n",
    "        xt = np.zeros((x0.shape[0],steps+1))\n",
    "        tt = np.zeros((steps+1))\n",
    "        \n",
    "        # initialize simulation\n",
    "        current_state = x0\n",
    "        xt[:,0]       = current_state\n",
    "        tt[0]         = 0.\n",
    "        \n",
    "        # simulation\n",
    "        for s in range(steps):\n",
    "            ode           = scp.ode(model)                  # define ode\n",
    "            ode.set_integrator('lsoda', nsteps=3000)        # define integrator\n",
    "            ode.set_initial_value(current_state, dt)        # set initial value\n",
    "            current_state = list(ode.integrate(ode.t + dt)) # integrate system\n",
    "            xt[:,s+1]     = current_state                   # add current state\n",
    "            tt[s+1]       = (s+1)*dt\n",
    "        \n",
    "        return xt, tt\n",
    "\n",
    "    \n",
    "    # # --- Simulation --- #\n",
    "    # def simulation(self, initial_state):\n",
    "    #     # Internal definitions\n",
    "    #     steps   = int(self.tf/float(self.dt))\n",
    "    #     model   = self.model\n",
    "        \n",
    "    #     # Compile state trajectories\n",
    "    #     statet = np.zeros((initial_state.shape[0], steps + 1))\n",
    "    #     tt     = np.zeros((steps+1))\n",
    "        \n",
    "    #     # Initialize simulation\n",
    "    #     current_state = initial_state\n",
    "    #     statet[:,0]   = current_state\n",
    "    #     tt[0]         = 0.\n",
    "        \n",
    "    #     # Simulation\n",
    "    #     for s in range(steps):\n",
    "    #         ode           = scp.ode(model)                  # Define ode\n",
    "    #         ode.set_integrator('lsoda', nsteps=3000)        # Define integrator\n",
    "    #         ode.set_initial_value(current_state, dt)        # Set initial value\n",
    "    #         current_state = list(ode.integrate(ode.t + dt)) # Integrate system\n",
    "    #         statet[:,s+1] = current_state                   # Odd current state Note: here we can add randomnes as: + RandomNormal noise\n",
    "    #         tt[s+1]       = (s+1)*dt\n",
    "        \n",
    "    #     return statet, tt   "
   ]
  },
  {
   "cell_type": "code",
   "execution_count": 412,
   "metadata": {},
   "outputs": [
    {
     "data": {
      "text/plain": [
       "60.0"
      ]
     },
     "execution_count": 412,
     "metadata": {},
     "output_type": "execute_result"
    }
   ],
   "source": [
    "tf_N"
   ]
  },
  {
   "cell_type": "code",
   "execution_count": 413,
   "metadata": {},
   "outputs": [],
   "source": [
    "def train_data_generation(parameter, initial_c,mu_all):\n",
    "    all_xt = []\n",
    "    # all_pe = []\n",
    "    # all_tt = []\n",
    "\n",
    "    for i in range(len(mu_all)):\n",
    "        # parameter['F_in'] = mu_all[i][0]\n",
    "        # print(parameter['F_in'],'F_in')\n",
    "        parameter['I0'] = mu_all[i]\n",
    "        print(parameter['I0'],'I0')\n",
    "        m            = ModelIntegration(parameter)\n",
    "        xt_i, tt_i       = m.simulation(dt_N,tf_N,initial_c) \n",
    "        # xt_i, tt_i       = simulation(model, dstep_I,tf_I, initial_c,parameter)\n",
    "        # print(xt_i.shape[1],'xt_i shape')\n",
    "        all_xt.append(xt_i)\n",
    "        # all_tt.append(tt_i)\n",
    "        new_init = np.zeros(xt_i.shape[0])\n",
    "        for j in range(xt_i.shape[0]):\n",
    "            new_init[j] = xt_i[j][-1]\n",
    "        initial_c = new_init\n",
    "        # print(initial_c1,'initial_c1')\n",
    "\n",
    "        # all_pe.append(parameter.copy())\n",
    "\n",
    "    for i in range(1,len(all_xt)):\n",
    "        all_xt[i] = np.delete(all_xt[i], 0, axis=1)\n",
    "\n",
    "\n",
    "        # all_tt[i] = np.delete(all_tt[i], 0, axis=1)\n",
    "    # print(all_xt,'all_xt')\n",
    "    xt = all_xt[0]\n",
    "    # tt = all_tt[0]\n",
    "\n",
    "    # Iterate through the remaining arrays and concatenate them\n",
    "    for i in all_xt[1:]:\n",
    "        xt = np.concatenate((xt, i), axis=1)  # Concatenate along the rows\n",
    "\n",
    "    \n",
    "    mean_x = np.zeros(xt.shape[0])\n",
    "    for i in range(xt.shape[0]):\n",
    "        mean_x[i]=np.mean(xt[i])\n",
    "        \n",
    "    mean_x    = mean_x*0.05\n",
    "    print(mean_x ,'mean_x')\n",
    "    std_value = mean_x\n",
    "\n",
    "    x_noise      = np.random.normal(0,mean_x[0],xt.shape[1])\n",
    "    x_noise[0]   = 0\n",
    "    n_noise      = np.random.normal(0,mean_x[1],xt.shape[1])\n",
    "    n_noise[0]   = 0\n",
    "    q_noise      = np.random.normal(0,mean_x[2],xt.shape[1])\n",
    "    q_noise[0]   = 0\n",
    "    f_noise      = np.random.normal(0,mean_x[3],xt.shape[1])\n",
    "    f_noise[0]   = 0\n",
    "    \n",
    "    # V_noise      = np.random.normal(0,0,xt.shape[1])\n",
    "    # V_noise[0]   = 0\n",
    "\n",
    "\n",
    "    obs          = np.array([x_noise,n_noise,q_noise,f_noise])\n",
    "    xobs         = xt+obs\n",
    "\n",
    "    for i in range(xobs.shape[0]):\n",
    "        for j in range(len(xobs[i])):\n",
    "            if xobs[i][j]<0:\n",
    "                xobs[i][j] = 1E-7\n",
    "    for i in range(xobs.shape[1]):\n",
    "        if xobs[0][i]<0:\n",
    "            xobs[0][i] = 1e-7\n",
    "        if xobs[1][i]<0:\n",
    "            xobs[1][i] = 1e-7\n",
    "\n",
    "    # return xt\n",
    "    return xt,xobs,std_value\n",
    "\n",
    "    # return xt"
   ]
  },
  {
   "cell_type": "code",
   "execution_count": 414,
   "metadata": {},
   "outputs": [],
   "source": [
    "def data_correction(xt,t):\n",
    "    xt_ = np.zeros([len(t),xt.shape[0]])\n",
    "    for i in range(len(t)):\n",
    "        # print((len(t_fn1)-1)*i)\n",
    "        xt_[i] = xt.T[(len(t_fn1)-1)*i]\n",
    "        # print(xt1_.T[(len(t_fn1)-1)*i])\n",
    "\n",
    "    xt_ = xt_.T\n",
    "\n",
    "    return xt_"
   ]
  },
  {
   "cell_type": "code",
   "execution_count": 415,
   "metadata": {},
   "outputs": [
    {
     "data": {
      "text/plain": [
       "array([[15.  ],\n",
       "       [37.5 ],\n",
       "       [48.75],\n",
       "       [26.25]])"
      ]
     },
     "execution_count": 415,
     "metadata": {},
     "output_type": "execute_result"
    }
   ],
   "source": [
    "operation_con"
   ]
  },
  {
   "cell_type": "code",
   "execution_count": 416,
   "metadata": {},
   "outputs": [
    {
     "data": {
      "text/plain": [
       "array([[ 50. ],\n",
       "       [125. ],\n",
       "       [162.5],\n",
       "       [ 87.5]])"
      ]
     },
     "execution_count": 416,
     "metadata": {},
     "output_type": "execute_result"
    }
   ],
   "source": [
    "u_con[0]"
   ]
  },
  {
   "cell_type": "code",
   "execution_count": 417,
   "metadata": {},
   "outputs": [
    {
     "name": "stderr",
     "output_type": "stream",
     "text": [
      "C:\\Users\\wangh\\AppData\\Local\\Temp\\ipykernel_1988\\1449168080.py:4: VisibleDeprecationWarning: Creating an ndarray from ragged nested sequences (which is a list-or-tuple of lists-or-tuples-or ndarrays with different lengths or shapes) is deprecated. If you meant to do this, you must specify 'dtype=object' when creating the ndarray.\n",
      "  initial_c1 = np.array([0.18,operation_con[0],80,120])  #\n"
     ]
    },
    {
     "name": "stdout",
     "output_type": "stream",
     "text": [
      "[50.] I0\n",
      "[125.] I0\n",
      "[162.5] I0\n",
      "[87.5] I0\n",
      "[ 0.05545322  0.03793327  1.57861651 20.11273696] mean_x\n"
     ]
    }
   ],
   "source": [
    "#experiment 1\n",
    "\n",
    "p1  = {'uM' : 0.359,'kq':19.63,'ud':0., 'un':2.692,'kn':0.8,'theta':6.691,'gamma':7.53,'epsilon':0.001,'tau':0.138,'delta':9.904,'phi':-0.456,'ks':91.2,'ki':100,'alpha':196.4,'belta':0,'I0':u_con[0][0]}\n",
    "initial_c1 = np.array([0.18,operation_con[0],80,120])  #\n",
    "# xt1,tt1,xobs1_,std_value1_ = train_data_generation(p1, initial_c1,u_con[0])\n",
    "xt1_,xobs1_,std_value1 = train_data_generation(p1, initial_c1,u_con[0])\n"
   ]
  },
  {
   "cell_type": "code",
   "execution_count": 418,
   "metadata": {},
   "outputs": [
    {
     "data": {
      "text/plain": [
       "True"
      ]
     },
     "execution_count": 418,
     "metadata": {},
     "output_type": "execute_result"
    }
   ],
   "source": [
    "(xt1_>= 0).all()"
   ]
  },
  {
   "cell_type": "code",
   "execution_count": 419,
   "metadata": {},
   "outputs": [],
   "source": [
    "xt1 = data_correction(xt1_,t)\n",
    "xobs1 = data_correction(xobs1_,t)"
   ]
  },
  {
   "cell_type": "code",
   "execution_count": 420,
   "metadata": {},
   "outputs": [
    {
     "data": {
      "image/png": "[encoded data removed]",
      "text/plain": [
       "<Figure size 432x288 with 1 Axes>"
      ]
     },
     "metadata": {
      "needs_background": "light"
     },
     "output_type": "display_data"
    },
    {
     "data": {
      "image/png": "[encoded data removed]",
      "text/plain": [
       "<Figure size 432x288 with 1 Axes>"
      ]
     },
     "metadata": {
      "needs_background": "light"
     },
     "output_type": "display_data"
    },
    {
     "data": {
      "image/png": "[encoded data removed]",
      "text/plain": [
       "<Figure size 432x288 with 1 Axes>"
      ]
     },
     "metadata": {
      "needs_background": "light"
     },
     "output_type": "display_data"
    },
    {
     "data": {
      "image/png": "[encoded data removed]",
      "text/plain": [
       "<Figure size 432x288 with 1 Axes>"
      ]
     },
     "metadata": {
      "needs_background": "light"
     },
     "output_type": "display_data"
    }
   ],
   "source": [
    "\n",
    "for i in range(xt1.shape[0]):\n",
    "    plt.figure()\n",
    "    plt.plot(t,xt1[i])\n",
    "    plt.show()"
   ]
  },
  {
   "cell_type": "code",
   "execution_count": 421,
   "metadata": {},
   "outputs": [
    {
     "name": "stderr",
     "output_type": "stream",
     "text": [
      "C:\\Users\\wangh\\AppData\\Local\\Temp\\ipykernel_1988\\3696068051.py:4: VisibleDeprecationWarning: Creating an ndarray from ragged nested sequences (which is a list-or-tuple of lists-or-tuples-or ndarrays with different lengths or shapes) is deprecated. If you meant to do this, you must specify 'dtype=object' when creating the ndarray.\n",
      "  initial_c2 = np.array([0.18,operation_con[1],80,120])  #\n"
     ]
    },
    {
     "name": "stdout",
     "output_type": "stream",
     "text": [
      "[106.25] I0\n",
      "[181.25] I0\n",
      "[143.75] I0\n",
      "[68.75] I0\n",
      "[ 0.0868426   0.15355961  1.71124257 18.0310927 ] mean_x\n"
     ]
    }
   ],
   "source": [
    "#experiment 2\n",
    "\n",
    "p2  = {'uM' : 0.359,'kq':19.63,'ud':0., 'un':2.692,'kn':0.8,'theta':6.691,'gamma':7.53,'epsilon':0.001,'tau':0.138,'delta':9.904,'phi':-0.456,'ks':91.2,'ki':100,'alpha':196.4,'belta':0,'I0':u_con[1][0]}\n",
    "initial_c2 = np.array([0.18,operation_con[1],80,120])  #\n",
    "# xt1,tt1,xobs1_,std_value1_ = train_data_generation(p1, initial_c1,u_con[0])\n",
    "xt2_,xobs2_,std_value2 = train_data_generation(p2, initial_c2,u_con[1])\n"
   ]
  },
  {
   "cell_type": "code",
   "execution_count": 422,
   "metadata": {},
   "outputs": [
    {
     "data": {
      "text/plain": [
       "array([[106.25],\n",
       "       [181.25],\n",
       "       [143.75],\n",
       "       [ 68.75]])"
      ]
     },
     "execution_count": 422,
     "metadata": {},
     "output_type": "execute_result"
    }
   ],
   "source": [
    "u_con[1]"
   ]
  },
  {
   "cell_type": "code",
   "execution_count": 423,
   "metadata": {},
   "outputs": [
    {
     "data": {
      "text/plain": [
       "True"
      ]
     },
     "execution_count": 423,
     "metadata": {},
     "output_type": "execute_result"
    }
   ],
   "source": [
    "(xt2_>= 0).all()"
   ]
  },
  {
   "cell_type": "code",
   "execution_count": 424,
   "metadata": {},
   "outputs": [],
   "source": [
    "xt2 = data_correction(xt2_,t)\n",
    "xobs2 = data_correction(xobs2_,t)"
   ]
  },
  {
   "cell_type": "code",
   "execution_count": 425,
   "metadata": {},
   "outputs": [
    {
     "data": {
      "text/plain": [
       "(4, 25)"
      ]
     },
     "execution_count": 425,
     "metadata": {},
     "output_type": "execute_result"
    }
   ],
   "source": [
    "xt2.shape"
   ]
  },
  {
   "cell_type": "code",
   "execution_count": 426,
   "metadata": {},
   "outputs": [
    {
     "data": {
      "image/png": "[encoded data removed]",
      "text/plain": [
       "<Figure size 432x288 with 1 Axes>"
      ]
     },
     "metadata": {
      "needs_background": "light"
     },
     "output_type": "display_data"
    },
    {
     "data": {
      "image/png": "[encoded data removed]",
      "text/plain": [
       "<Figure size 432x288 with 1 Axes>"
      ]
     },
     "metadata": {
      "needs_background": "light"
     },
     "output_type": "display_data"
    },
    {
     "data": {
      "image/png": "[encoded data removed]",
      "text/plain": [
       "<Figure size 432x288 with 1 Axes>"
      ]
     },
     "metadata": {
      "needs_background": "light"
     },
     "output_type": "display_data"
    },
    {
     "data": {
      "image/png": "[encoded data removed]",
      "text/plain": [
       "<Figure size 432x288 with 1 Axes>"
      ]
     },
     "metadata": {
      "needs_background": "light"
     },
     "output_type": "display_data"
    }
   ],
   "source": [
    "for i in range(xt2.shape[0]):\n",
    "    plt.figure()\n",
    "    plt.plot(t,xt2[i])\n",
    "    plt.show()"
   ]
  },
  {
   "cell_type": "code",
   "execution_count": 427,
   "metadata": {},
   "outputs": [
    {
     "name": "stderr",
     "output_type": "stream",
     "text": [
      "C:\\Users\\wangh\\AppData\\Local\\Temp\\ipykernel_1988\\4106007803.py:4: VisibleDeprecationWarning: Creating an ndarray from ragged nested sequences (which is a list-or-tuple of lists-or-tuples-or ndarrays with different lengths or shapes) is deprecated. If you meant to do this, you must specify 'dtype=object' when creating the ndarray.\n",
      "  initial_c3 = np.array([0.18,operation_con[2],80,120])  #\n"
     ]
    },
    {
     "name": "stdout",
     "output_type": "stream",
     "text": [
      "[78.125] I0\n",
      "[153.125] I0\n",
      "[190.625] I0\n",
      "[115.625] I0\n",
      "[ 0.09298061  0.24619651  1.97059278 15.58484066] mean_x\n"
     ]
    }
   ],
   "source": [
    "#experiment 3\n",
    "\n",
    "p3  = {'uM' : 0.359,'kq':19.63,'ud':0., 'un':2.692,'kn':0.8,'theta':6.691,'gamma':7.53,'epsilon':0.001,'tau':0.138,'delta':9.904,'phi':-0.456,'ks':91.2,'ki':100,'alpha':196.4,'belta':0,'I0':u_con[2][0]}\n",
    "initial_c3 = np.array([0.18,operation_con[2],80,120])  #\n",
    "# xt1,tt1,xobs1_,std_value1_ = train_data_generation(p1, initial_c1,u_con[0])\n",
    "xt3_,xobs3_,std_value3 = train_data_generation(p3, initial_c3,u_con[2])\n",
    "\n",
    "\n"
   ]
  },
  {
   "cell_type": "code",
   "execution_count": 428,
   "metadata": {},
   "outputs": [
    {
     "data": {
      "text/plain": [
       "True"
      ]
     },
     "execution_count": 428,
     "metadata": {},
     "output_type": "execute_result"
    }
   ],
   "source": [
    "(xt3_>= 0).all()"
   ]
  },
  {
   "cell_type": "code",
   "execution_count": 429,
   "metadata": {},
   "outputs": [],
   "source": [
    "xt3 = data_correction(xt3_,t)\n",
    "xobs3 = data_correction(xobs3_,t)"
   ]
  },
  {
   "cell_type": "code",
   "execution_count": 430,
   "metadata": {},
   "outputs": [
    {
     "data": {
      "image/png": "[encoded data removed]",
      "text/plain": [
       "<Figure size 432x288 with 1 Axes>"
      ]
     },
     "metadata": {
      "needs_background": "light"
     },
     "output_type": "display_data"
    },
    {
     "data": {
      "image/png": "[encoded data removed]",
      "text/plain": [
       "<Figure size 432x288 with 1 Axes>"
      ]
     },
     "metadata": {
      "needs_background": "light"
     },
     "output_type": "display_data"
    },
    {
     "data": {
      "image/png": "[encoded data removed]",
      "text/plain": [
       "<Figure size 432x288 with 1 Axes>"
      ]
     },
     "metadata": {
      "needs_background": "light"
     },
     "output_type": "display_data"
    },
    {
     "data": {
      "image/png": "[encoded data removed]",
      "text/plain": [
       "<Figure size 432x288 with 1 Axes>"
      ]
     },
     "metadata": {
      "needs_background": "light"
     },
     "output_type": "display_data"
    }
   ],
   "source": [
    "for i in range(xt3.shape[0]):\n",
    "    plt.figure()\n",
    "    plt.plot(t,xt3[i])\n",
    "    plt.show()"
   ]
  },
  {
   "cell_type": "code",
   "execution_count": 431,
   "metadata": {},
   "outputs": [
    {
     "name": "stderr",
     "output_type": "stream",
     "text": [
      "C:\\Users\\wangh\\AppData\\Local\\Temp\\ipykernel_1988\\1373830772.py:4: VisibleDeprecationWarning: Creating an ndarray from ragged nested sequences (which is a list-or-tuple of lists-or-tuples-or ndarrays with different lengths or shapes) is deprecated. If you meant to do this, you must specify 'dtype=object' when creating the ndarray.\n",
      "  initial_c4 = np.array([0.18,operation_con[3],80,120])  #\n"
     ]
    },
    {
     "name": "stdout",
     "output_type": "stream",
     "text": [
      "[96.875] I0\n",
      "[171.875] I0\n",
      "[134.375] I0\n",
      "[59.375] I0\n",
      "[ 0.07411513  0.08708306  1.57836237 19.50459556] mean_x\n"
     ]
    }
   ],
   "source": [
    "#experiment 4\n",
    "\n",
    "p4  = {'uM' : 0.359,'kq':19.63,'ud':0., 'un':2.692,'kn':0.8,'theta':6.691,'gamma':7.53,'epsilon':0.001,'tau':0.138,'delta':9.904,'phi':-0.456,'ks':91.2,'ki':100,'alpha':196.4,'belta':0,'I0':u_con[3][0]}\n",
    "initial_c4 = np.array([0.18,operation_con[3],80,120])  #\n",
    "# xt1,tt1,xobs1_,std_value1_ = train_data_generation(p1, initial_c1,u_con[0])\n",
    "xt4_,xobs4_,std_value4 = train_data_generation(p4, initial_c4,u_con[3])\n",
    "\n",
    "\n"
   ]
  },
  {
   "cell_type": "code",
   "execution_count": 432,
   "metadata": {},
   "outputs": [
    {
     "data": {
      "text/plain": [
       "True"
      ]
     },
     "execution_count": 432,
     "metadata": {},
     "output_type": "execute_result"
    }
   ],
   "source": [
    "(xt4_>= 0).all()"
   ]
  },
  {
   "cell_type": "code",
   "execution_count": 433,
   "metadata": {},
   "outputs": [],
   "source": [
    "xt4 = data_correction(xt4_,t)\n",
    "xobs4 = data_correction(xobs4_,t)"
   ]
  },
  {
   "cell_type": "code",
   "execution_count": 434,
   "metadata": {},
   "outputs": [
    {
     "data": {
      "image/png": "[encoded data removed]",
      "text/plain": [
       "<Figure size 432x288 with 1 Axes>"
      ]
     },
     "metadata": {
      "needs_background": "light"
     },
     "output_type": "display_data"
    },
    {
     "data": {
      "image/png": "[encoded data removed]",
      "text/plain": [
       "<Figure size 432x288 with 1 Axes>"
      ]
     },
     "metadata": {
      "needs_background": "light"
     },
     "output_type": "display_data"
    },
    {
     "data": {
      "image/png": "[encoded data removed]",
      "text/plain": [
       "<Figure size 432x288 with 1 Axes>"
      ]
     },
     "metadata": {
      "needs_background": "light"
     },
     "output_type": "display_data"
    },
    {
     "data": {
      "image/png": "[encoded data removed]",
      "text/plain": [
       "<Figure size 432x288 with 1 Axes>"
      ]
     },
     "metadata": {
      "needs_background": "light"
     },
     "output_type": "display_data"
    }
   ],
   "source": [
    "for i in range(xt4.shape[0]):\n",
    "    plt.figure()\n",
    "    plt.plot(t,xt4[i])\n",
    "    plt.show()"
   ]
  },
  {
   "cell_type": "code",
   "execution_count": 435,
   "metadata": {},
   "outputs": [],
   "source": [
    "def plot_data(x, y1,y2,name):\n",
    "    fig = plt.figure()\n",
    "    plt.plot(x, y1,'.')\n",
    "    plt.plot(x, y2, '-',label=name)\n",
    "    plt.ylabel('State')\n",
    "    plt.xlabel('Time')\n",
    "    plt.legend(loc=\"lower right\")\n",
    "    fig.savefig(name)\n",
    "    plt.show()\n",
    "    return None\n",
    "def check_plot(xobs,xt,tt):\n",
    "    plot_data(tt, xobs[0],xt[0],'biomass')\n",
    "    plot_data(tt, xobs[1],xt[1],'nitrate')\n",
    "    plot_data(tt, xobs[2],xt[2],'quota')\n",
    "    plot_data(tt, xobs[3],xt[3],'fame')\n",
    "    return None"
   ]
  },
  {
   "cell_type": "code",
   "execution_count": 436,
   "metadata": {},
   "outputs": [],
   "source": [
    "def plot_data(x, y1,y2,y1hat,y2hat,name,namehat):\n",
    "    fig = plt.figure()\n",
    "    plt.plot(x, y1,'.',color = 'red')\n",
    "    plt.plot(x, y1hat,'.',color = 'blue')\n",
    "    plt.plot(x, y2, '-',label=name)\n",
    "    plt.plot(x, y2hat, '-',label=namehat)\n",
    "    plt.ylabel('State')\n",
    "    plt.xlabel('Time')\n",
    "    plt.legend(loc=\"lower right\")\n",
    "    # fig.savefig(name)\n",
    "    plt.show()\n",
    "    return None\n",
    "def check_plot(xobs,xt,xobshat,xthat,tt,name1,name2):\n",
    "    plot_data(tt, xobs[0],xt[0],xobshat[0],xthat[0],name1[0],name2[0])\n",
    "    plot_data(tt, xobs[1],xt[1],xobshat[1],xthat[1],name1[1],name2[1])\n",
    "    plot_data(tt, xobs[2],xt[2],xobshat[2],xthat[2],name1[2],name2[2])\n",
    "    plot_data(tt, xobs[3],xt[3],xobshat[3],xthat[3],name1[3],name2[3])\n",
    "    return None"
   ]
  },
  {
   "cell_type": "code",
   "execution_count": 437,
   "metadata": {},
   "outputs": [
    {
     "data": {
      "text/plain": [
       "[array([[ 50. ],\n",
       "        [125. ],\n",
       "        [162.5],\n",
       "        [ 87.5]]),\n",
       " array([[106.25],\n",
       "        [181.25],\n",
       "        [143.75],\n",
       "        [ 68.75]]),\n",
       " array([[ 78.125],\n",
       "        [153.125],\n",
       "        [190.625],\n",
       "        [115.625]]),\n",
       " array([[ 96.875],\n",
       "        [171.875],\n",
       "        [134.375],\n",
       "        [ 59.375]])]"
      ]
     },
     "execution_count": 437,
     "metadata": {},
     "output_type": "execute_result"
    }
   ],
   "source": [
    "u_con"
   ]
  },
  {
   "cell_type": "code",
   "execution_count": 438,
   "metadata": {},
   "outputs": [],
   "source": [
    "def dic_I(no_data,num_u,u_con):\n",
    "    u_test = np.ones([no_data,num_u])\n",
    "    for i in range(len(t)):\n",
    "        if t[i] >=0 and t[i] <=tf_N:\n",
    "            u_test[i] = u_con[0]\n",
    "        if t[i] >tf_N and t[i] <=2*tf_N:\n",
    "            u_test[i] = u_con[1]\n",
    "        if t[i] >2*tf_N and t[i] <=3*tf_N:\n",
    "            u_test[i] = u_con[2]\n",
    "        if t[i] >3*tf_N and t[i] <=4*tf_N:\n",
    "            u_test[i] = u_con[3]\n",
    "    # Insert the new element at the beginning of the array\n",
    "    # u_test = np.vstack((new_element,u_test))\n",
    "\n",
    "    F_in_dic = to_dict(u_test.T[0],dt)\n",
    "    # I_dic    = to_dict(u_test.T[1],dt)\n",
    "\n",
    "    return F_in_dic"
   ]
  },
  {
   "cell_type": "code",
   "execution_count": 439,
   "metadata": {},
   "outputs": [],
   "source": [
    "# def dic_F_in_I(step,num_u,u_con):\n",
    "#     u_test = np.ones([step,num_u])\n",
    "#     for i in range(4):\n",
    "#         for j in range(6):\n",
    "#             u_test[i*6 + j] = u_con[i]\n",
    "#     new_element = u_con[0]\n",
    "\n",
    "#     # Insert the new element at the beginning of the array\n",
    "#     u_test = np.vstack((new_element,u_test))\n",
    "#     print(u_test.T,'u_test.T')\n",
    "\n",
    "#     # F_in_dic = to_dict(u_test.T[0],dt)\n",
    "#     I_dic    = to_dict(u_test[0].T,dt)\n",
    "\n",
    "    \n",
    "#     return I_dic\n",
    "\n",
    "#     # return F_in_dic, I_dic\n",
    "        \n"
   ]
  },
  {
   "cell_type": "code",
   "execution_count": 440,
   "metadata": {},
   "outputs": [],
   "source": [
    "    # u_test = np.ones([step,num_u])\n",
    "    # for i in range(4):\n",
    "    #     for j in range(6):\n",
    "    #         u_test[i*6 + j] = u_con[0][i]\n",
    "    # new_element = u_con[0][0]\n",
    "\n",
    "    # # Insert the new element at the beginning of the array\n",
    "    # u_test = np.vstack((new_element,u_test))"
   ]
  },
  {
   "cell_type": "code",
   "execution_count": 441,
   "metadata": {},
   "outputs": [
    {
     "data": {
      "text/plain": [
       "array([[ 50. ],\n",
       "       [125. ],\n",
       "       [162.5],\n",
       "       [ 87.5]])"
      ]
     },
     "execution_count": 441,
     "metadata": {},
     "output_type": "execute_result"
    }
   ],
   "source": [
    "u_con[0]"
   ]
  },
  {
   "cell_type": "code",
   "execution_count": 442,
   "metadata": {},
   "outputs": [],
   "source": [
    "u_dic1 = dic_I(25,1,u_con[0])\n",
    "u_dic2 = dic_I(25,1,u_con[1])\n",
    "u_dic3 = dic_I(25,1,u_con[2])\n",
    "u_dic4 = dic_I(25,1,u_con[3])\n"
   ]
  },
  {
   "cell_type": "code",
   "execution_count": 443,
   "metadata": {},
   "outputs": [
    {
     "data": {
      "text/plain": [
       "{0.0: 50.0,\n",
       " 10.0: 50.0,\n",
       " 20.0: 50.0,\n",
       " 30.0: 50.0,\n",
       " 40.0: 50.0,\n",
       " 50.0: 50.0,\n",
       " 60.0: 50.0,\n",
       " 70.0: 125.0,\n",
       " 80.0: 125.0,\n",
       " 90.0: 125.0,\n",
       " 100.0: 125.0,\n",
       " 110.0: 125.0,\n",
       " 120.0: 125.0,\n",
       " 130.0: 162.5,\n",
       " 140.0: 162.5,\n",
       " 150.0: 162.5,\n",
       " 160.0: 162.5,\n",
       " 170.0: 162.5,\n",
       " 180.0: 162.5,\n",
       " 190.0: 87.5,\n",
       " 200.0: 87.5,\n",
       " 210.0: 87.5,\n",
       " 220.0: 87.5,\n",
       " 230.0: 87.5,\n",
       " 240.0: 87.5}"
      ]
     },
     "execution_count": 443,
     "metadata": {},
     "output_type": "execute_result"
    }
   ],
   "source": [
    "u_dic1 "
   ]
  },
  {
   "cell_type": "code",
   "execution_count": 444,
   "metadata": {},
   "outputs": [
    {
     "data": {
      "text/plain": [
       "{0.0: 96.875,\n",
       " 10.0: 96.875,\n",
       " 20.0: 96.875,\n",
       " 30.0: 96.875,\n",
       " 40.0: 96.875,\n",
       " 50.0: 96.875,\n",
       " 60.0: 96.875,\n",
       " 70.0: 171.875,\n",
       " 80.0: 171.875,\n",
       " 90.0: 171.875,\n",
       " 100.0: 171.875,\n",
       " 110.0: 171.875,\n",
       " 120.0: 171.875,\n",
       " 130.0: 134.375,\n",
       " 140.0: 134.375,\n",
       " 150.0: 134.375,\n",
       " 160.0: 134.375,\n",
       " 170.0: 134.375,\n",
       " 180.0: 134.375,\n",
       " 190.0: 59.375,\n",
       " 200.0: 59.375,\n",
       " 210.0: 59.375,\n",
       " 220.0: 59.375,\n",
       " 230.0: 59.375,\n",
       " 240.0: 59.375}"
      ]
     },
     "execution_count": 444,
     "metadata": {},
     "output_type": "execute_result"
    }
   ],
   "source": [
    "u_dic4"
   ]
  },
  {
   "cell_type": "code",
   "execution_count": 445,
   "metadata": {},
   "outputs": [],
   "source": [
    "data_init   = {None: dict(t       = {None: list(t)},tm      = {None: list(t)},x1_noise = to_dict(xobs1[0],dt),n1_noise = to_dict(xobs1[1],dt),q1_noise = to_dict(xobs1[2],dt),f1_noise = to_dict(xobs1[3],dt),x2_noise = to_dict(xobs2[0],dt),n2_noise = to_dict(xobs2[1],dt),q2_noise = to_dict(xobs2[2],dt),f2_noise = to_dict(xobs2[3],dt),x3_noise = to_dict(xobs3[0],dt),n3_noise = to_dict(xobs3[1],dt),q3_noise = to_dict(xobs3[2],dt),f3_noise = to_dict(xobs3[3],dt),x4_noise = to_dict(xobs4[0],dt),n4_noise = to_dict(xobs4[1],dt),q4_noise = to_dict(xobs4[2],dt),f4_noise = to_dict(xobs4[3],dt))}"
   ]
  },
  {
   "cell_type": "code",
   "execution_count": 446,
   "metadata": {},
   "outputs": [
    {
     "data": {
      "text/plain": [
       "{None: {'t': {None: [0.0,\n",
       "    10.0,\n",
       "    20.0,\n",
       "    30.0,\n",
       "    40.0,\n",
       "    50.0,\n",
       "    60.0,\n",
       "    70.0,\n",
       "    80.0,\n",
       "    90.0,\n",
       "    100.0,\n",
       "    110.0,\n",
       "    120.0,\n",
       "    130.0,\n",
       "    140.0,\n",
       "    150.0,\n",
       "    160.0,\n",
       "    170.0,\n",
       "    180.0,\n",
       "    190.0,\n",
       "    200.0,\n",
       "    210.0,\n",
       "    220.0,\n",
       "    230.0,\n",
       "    240.0]},\n",
       "  'tm': {None: [0.0,\n",
       "    10.0,\n",
       "    20.0,\n",
       "    30.0,\n",
       "    40.0,\n",
       "    50.0,\n",
       "    60.0,\n",
       "    70.0,\n",
       "    80.0,\n",
       "    90.0,\n",
       "    100.0,\n",
       "    110.0,\n",
       "    120.0,\n",
       "    130.0,\n",
       "    140.0,\n",
       "    150.0,\n",
       "    160.0,\n",
       "    170.0,\n",
       "    180.0,\n",
       "    190.0,\n",
       "    200.0,\n",
       "    210.0,\n",
       "    220.0,\n",
       "    230.0,\n",
       "    240.0]},\n",
       "  'x1_noise': {0.0: 0.18,\n",
       "   10.0: 0.22282356533121636,\n",
       "   20.0: 0.3884461274741864,\n",
       "   30.0: 0.4731542776451567,\n",
       "   40.0: 0.6082363901277796,\n",
       "   50.0: 0.6905292550920789,\n",
       "   60.0: 0.7986625995832054,\n",
       "   70.0: 0.9156086295508562,\n",
       "   80.0: 1.0005432081109003,\n",
       "   90.0: 1.0432792294587738,\n",
       "   100.0: 1.1609616589706404,\n",
       "   110.0: 1.3296742728610913,\n",
       "   120.0: 1.258933184531873,\n",
       "   130.0: 1.334642899263699,\n",
       "   140.0: 1.3191513184701842,\n",
       "   150.0: 1.5040757024460516,\n",
       "   160.0: 1.4035924807576456,\n",
       "   170.0: 1.4055978557504674,\n",
       "   180.0: 1.411345072196402,\n",
       "   190.0: 1.497992527428832,\n",
       "   200.0: 1.3854147381264657,\n",
       "   210.0: 1.4512474037079868,\n",
       "   220.0: 1.494099905690478,\n",
       "   230.0: 1.4543616599667977,\n",
       "   240.0: 1.5057060910756397},\n",
       "  'n1_noise': {0.0: 15.0,\n",
       "   10.0: 9.185008798954826,\n",
       "   20.0: 1.4521768525361423,\n",
       "   30.0: 1e-07,\n",
       "   40.0: 1e-07,\n",
       "   50.0: 1e-07,\n",
       "   60.0: 0.018782985443312375,\n",
       "   70.0: 1e-07,\n",
       "   80.0: 0.040636107912101566,\n",
       "   90.0: 1e-07,\n",
       "   100.0: 1e-07,\n",
       "   110.0: 0.046419785446498274,\n",
       "   120.0: 0.035941817896777715,\n",
       "   130.0: 0.03830453592878581,\n",
       "   140.0: 1e-07,\n",
       "   150.0: 1e-07,\n",
       "   160.0: 0.02960577681172707,\n",
       "   170.0: 0.032227607443944734,\n",
       "   180.0: 0.025622171924194102,\n",
       "   190.0: 0.00652289637567898,\n",
       "   200.0: 0.03988003486578508,\n",
       "   210.0: 0.007752702966122188,\n",
       "   220.0: 1e-07,\n",
       "   230.0: 1e-07,\n",
       "   240.0: 0.020028896532286653},\n",
       "  'q1_noise': {0.0: 80.0,\n",
       "   10.0: 71.49935706485982,\n",
       "   20.0: 70.78023596859038,\n",
       "   30.0: 56.72520556432962,\n",
       "   40.0: 48.134924209710576,\n",
       "   50.0: 40.697393517667976,\n",
       "   60.0: 37.20363255459647,\n",
       "   70.0: 29.730468868578658,\n",
       "   80.0: 24.594375221207912,\n",
       "   90.0: 27.191344493388403,\n",
       "   100.0: 23.873456301682978,\n",
       "   110.0: 23.693979326319862,\n",
       "   120.0: 23.14052306576147,\n",
       "   130.0: 22.628582746742318,\n",
       "   140.0: 22.71064844224868,\n",
       "   150.0: 22.679252705551313,\n",
       "   160.0: 21.59457466027382,\n",
       "   170.0: 19.94586402863297,\n",
       "   180.0: 21.96885143448077,\n",
       "   190.0: 19.74927534499631,\n",
       "   200.0: 20.292741126031853,\n",
       "   210.0: 16.67119233734799,\n",
       "   220.0: 19.53665704421207,\n",
       "   230.0: 21.17522461789006,\n",
       "   240.0: 20.70042716351056},\n",
       "  'f1_noise': {0.0: 120.0,\n",
       "   10.0: 94.05700810013548,\n",
       "   20.0: 142.21546093184583,\n",
       "   30.0: 267.3232964907377,\n",
       "   40.0: 302.75424590277856,\n",
       "   50.0: 319.32004056027733,\n",
       "   60.0: 357.3501593182573,\n",
       "   70.0: 439.7939984541018,\n",
       "   80.0: 408.84460065185885,\n",
       "   90.0: 413.49036050811407,\n",
       "   100.0: 422.43236103545763,\n",
       "   110.0: 467.75136287528517,\n",
       "   120.0: 487.9492892393051,\n",
       "   130.0: 455.64080921896584,\n",
       "   140.0: 433.06881529039913,\n",
       "   150.0: 471.59830869133015,\n",
       "   160.0: 484.2864673975061,\n",
       "   170.0: 460.55910161676957,\n",
       "   180.0: 439.1216344088868,\n",
       "   190.0: 496.56936877385357,\n",
       "   200.0: 487.2904953229044,\n",
       "   210.0: 495.62005590010773,\n",
       "   220.0: 447.76247344866596,\n",
       "   230.0: 468.81255866206766,\n",
       "   240.0: 477.45733643683405},\n",
       "  'x2_noise': {0.0: 0.18,\n",
       "   10.0: 0.3647371861704729,\n",
       "   20.0: 0.4164413944165413,\n",
       "   30.0: 0.6713510570573928,\n",
       "   40.0: 0.7217275547099181,\n",
       "   50.0: 0.9487142503245678,\n",
       "   60.0: 1.105968758549951,\n",
       "   70.0: 1.3722967952768061,\n",
       "   80.0: 1.5502363590410548,\n",
       "   90.0: 1.6120315017693663,\n",
       "   100.0: 1.8567809578480725,\n",
       "   110.0: 1.8631883337244712,\n",
       "   120.0: 1.9903934943198638,\n",
       "   130.0: 2.040738460217135,\n",
       "   140.0: 2.0700506306500666,\n",
       "   150.0: 2.145857305691328,\n",
       "   160.0: 2.178443366088644,\n",
       "   170.0: 2.2967937349140963,\n",
       "   180.0: 2.5118860830129934,\n",
       "   190.0: 2.3539210949978644,\n",
       "   200.0: 2.3565559878454168,\n",
       "   210.0: 2.2854169519178393,\n",
       "   220.0: 2.4288218336338345,\n",
       "   230.0: 2.3148755101277843,\n",
       "   240.0: 2.4768657209911744},\n",
       "  'n2_noise': {0.0: 37.5,\n",
       "   10.0: 30.944684926666106,\n",
       "   20.0: 19.38530155550428,\n",
       "   30.0: 4.2226649032245,\n",
       "   40.0: 1e-07,\n",
       "   50.0: 1e-07,\n",
       "   60.0: 0.016067298373758924,\n",
       "   70.0: 1e-07,\n",
       "   80.0: 0.0024184479613400364,\n",
       "   90.0: 1e-07,\n",
       "   100.0: 1e-07,\n",
       "   110.0: 0.191098643566284,\n",
       "   120.0: 0.2863603097969722,\n",
       "   130.0: 0.023076984782183008,\n",
       "   140.0: 1e-07,\n",
       "   150.0: 0.07113145435572513,\n",
       "   160.0: 1e-07,\n",
       "   170.0: 1e-07,\n",
       "   180.0: 1e-07,\n",
       "   190.0: 0.3534380879911448,\n",
       "   200.0: 1e-07,\n",
       "   210.0: 1e-07,\n",
       "   220.0: 0.022325720264467965,\n",
       "   230.0: 1e-07,\n",
       "   240.0: 0.0011712679443283583},\n",
       "  'q2_noise': {0.0: 80.0,\n",
       "   10.0: 61.73068225740706,\n",
       "   20.0: 61.265661015065156,\n",
       "   30.0: 65.16793872223423,\n",
       "   40.0: 59.389135886955984,\n",
       "   50.0: 49.58208482844742,\n",
       "   60.0: 43.50070532815438,\n",
       "   70.0: 37.70347279449266,\n",
       "   80.0: 33.710225612664196,\n",
       "   90.0: 31.704574084293444,\n",
       "   100.0: 28.42707317589294,\n",
       "   110.0: 25.896812241510972,\n",
       "   120.0: 25.55722394315644,\n",
       "   130.0: 27.389748482515593,\n",
       "   140.0: 23.74607191679856,\n",
       "   150.0: 24.177843610406807,\n",
       "   160.0: 22.78365992395918,\n",
       "   170.0: 23.778456877229473,\n",
       "   180.0: 19.107738277224087,\n",
       "   190.0: 22.73277758123923,\n",
       "   200.0: 22.616069838305336,\n",
       "   210.0: 21.514884416777118,\n",
       "   220.0: 23.36838655629464,\n",
       "   230.0: 20.92374635557683,\n",
       "   240.0: 19.802133583675065},\n",
       "  'f2_noise': {0.0: 120.0,\n",
       "   10.0: 197.1781471017415,\n",
       "   20.0: 206.3823431844444,\n",
       "   30.0: 117.83308192714651,\n",
       "   40.0: 190.2935592781016,\n",
       "   50.0: 271.16818516660265,\n",
       "   60.0: 270.00144565454514,\n",
       "   70.0: 297.0528188698753,\n",
       "   80.0: 324.1612358336585,\n",
       "   90.0: 392.06449013400294,\n",
       "   100.0: 372.98453479311814,\n",
       "   110.0: 397.6768398904592,\n",
       "   120.0: 449.7557836333443,\n",
       "   130.0: 417.15458797028657,\n",
       "   140.0: 421.7837833688864,\n",
       "   150.0: 433.1052526261732,\n",
       "   160.0: 433.564767415706,\n",
       "   170.0: 428.9171050577431,\n",
       "   180.0: 389.1453622430007,\n",
       "   190.0: 446.8822507535614,\n",
       "   200.0: 418.60190098595695,\n",
       "   210.0: 478.0953654622163,\n",
       "   220.0: 420.4334561865844,\n",
       "   230.0: 446.8029707243413,\n",
       "   240.0: 431.84009631050293},\n",
       "  'x3_noise': {0.0: 0.18,\n",
       "   10.0: 0.36840228859024166,\n",
       "   20.0: 0.5042933133648807,\n",
       "   30.0: 0.6574880892186936,\n",
       "   40.0: 0.8112133903973894,\n",
       "   50.0: 0.9860558504056006,\n",
       "   60.0: 1.153698588563596,\n",
       "   70.0: 1.3364454701502348,\n",
       "   80.0: 1.481731658461296,\n",
       "   90.0: 1.6894450189893526,\n",
       "   100.0: 1.762704986963527,\n",
       "   110.0: 2.089620209968592,\n",
       "   120.0: 2.018196300273678,\n",
       "   130.0: 2.1329732421122083,\n",
       "   140.0: 2.3080473399838017,\n",
       "   150.0: 2.530717945748204,\n",
       "   160.0: 2.373958371558459,\n",
       "   170.0: 2.5031398192577945,\n",
       "   180.0: 2.4611675063679996,\n",
       "   190.0: 2.622797942044961,\n",
       "   200.0: 2.676434932001878,\n",
       "   210.0: 2.9450751816691345,\n",
       "   220.0: 2.8868970558102296,\n",
       "   230.0: 2.6995549778837287,\n",
       "   240.0: 2.8194201534564574},\n",
       "  'n3_noise': {0.0: 48.75,\n",
       "   10.0: 42.302870864027476,\n",
       "   20.0: 32.34091134965562,\n",
       "   30.0: 18.008303016542744,\n",
       "   40.0: 0.8030632661797954,\n",
       "   50.0: 0.03710908913548304,\n",
       "   60.0: 0.26567784482404716,\n",
       "   70.0: 0.3879777119211514,\n",
       "   80.0: 1e-07,\n",
       "   90.0: 1e-07,\n",
       "   100.0: 1e-07,\n",
       "   110.0: 1e-07,\n",
       "   120.0: 1e-07,\n",
       "   130.0: 0.34770238292997074,\n",
       "   140.0: 0.258593079617405,\n",
       "   150.0: 1e-07,\n",
       "   160.0: 0.11424798388627062,\n",
       "   170.0: 0.17389726268526381,\n",
       "   180.0: 0.12854569082630588,\n",
       "   190.0: 0.3009999179893652,\n",
       "   200.0: 0.019825313883130018,\n",
       "   210.0: 0.3481178367909201,\n",
       "   220.0: 0.2112325472300439,\n",
       "   230.0: 0.045484214314749145,\n",
       "   240.0: 0.1554089255292763},\n",
       "  'q3_noise': {0.0: 80.0,\n",
       "   10.0: 64.46792317937398,\n",
       "   20.0: 67.64293074868588,\n",
       "   30.0: 75.7676307959098,\n",
       "   40.0: 77.4228028705983,\n",
       "   50.0: 67.28445306328449,\n",
       "   60.0: 54.113832359101714,\n",
       "   70.0: 46.642022516897114,\n",
       "   80.0: 37.8053557013204,\n",
       "   90.0: 36.60506581164323,\n",
       "   100.0: 35.33376786809094,\n",
       "   110.0: 30.668209521172866,\n",
       "   120.0: 29.60781583851992,\n",
       "   130.0: 29.454100094275212,\n",
       "   140.0: 26.825657935804,\n",
       "   150.0: 27.89529145766368,\n",
       "   160.0: 22.34336518067153,\n",
       "   170.0: 22.00538705506721,\n",
       "   180.0: 23.820094713227814,\n",
       "   190.0: 24.019595126730422,\n",
       "   200.0: 22.2941525556646,\n",
       "   210.0: 23.666044076906356,\n",
       "   220.0: 21.965390351178975,\n",
       "   230.0: 20.529333419954305,\n",
       "   240.0: 24.569932025944528},\n",
       "  'f3_noise': {0.0: 120.0,\n",
       "   10.0: 191.9414602299944,\n",
       "   20.0: 176.43282207918108,\n",
       "   30.0: 119.69932198494492,\n",
       "   40.0: 40.63046959737258,\n",
       "   50.0: 135.72465579556277,\n",
       "   60.0: 199.12391725505793,\n",
       "   70.0: 224.4125581671717,\n",
       "   80.0: 288.2415900157895,\n",
       "   90.0: 332.3134897562187,\n",
       "   100.0: 341.58478601391016,\n",
       "   110.0: 345.4263085259081,\n",
       "   120.0: 384.58917240871625,\n",
       "   130.0: 392.147148517324,\n",
       "   140.0: 397.5975606893429,\n",
       "   150.0: 380.5598509605242,\n",
       "   160.0: 390.3181718499334,\n",
       "   170.0: 434.9153684799202,\n",
       "   180.0: 401.81042308200045,\n",
       "   190.0: 427.75390909925477,\n",
       "   200.0: 395.4140998692564,\n",
       "   210.0: 425.4154897136327,\n",
       "   220.0: 433.750855652396,\n",
       "   230.0: 441.0083626445487,\n",
       "   240.0: 391.9108259811642},\n",
       "  'x4_noise': {0.0: 0.18,\n",
       "   10.0: 0.31254913584241095,\n",
       "   20.0: 0.5868404238305548,\n",
       "   30.0: 0.5591101454509573,\n",
       "   40.0: 0.8579134543439365,\n",
       "   50.0: 0.9135665957250195,\n",
       "   60.0: 1.118017879770252,\n",
       "   70.0: 1.24969379264025,\n",
       "   80.0: 1.3068483418565389,\n",
       "   90.0: 1.6482529270847932,\n",
       "   100.0: 1.5287582220006106,\n",
       "   110.0: 1.6383274963689112,\n",
       "   120.0: 1.6970048089268244,\n",
       "   130.0: 1.8220896335620378,\n",
       "   140.0: 1.802916283039894,\n",
       "   150.0: 1.8610742398617912,\n",
       "   160.0: 1.916267474401626,\n",
       "   170.0: 1.8124353575827867,\n",
       "   180.0: 1.8656347081412195,\n",
       "   190.0: 1.930215602236105,\n",
       "   200.0: 1.9802304206779993,\n",
       "   210.0: 1.9697504616091501,\n",
       "   220.0: 1.9686410165530488,\n",
       "   230.0: 1.9046470917656444,\n",
       "   240.0: 2.0409263789494605},\n",
       "  'n4_noise': {0.0: 26.25,\n",
       "   10.0: 19.67485927905756,\n",
       "   20.0: 9.108667860655666,\n",
       "   30.0: 1e-07,\n",
       "   40.0: 0.1858577719996636,\n",
       "   50.0: 0.07602281360619631,\n",
       "   60.0: 1e-07,\n",
       "   70.0: 0.01978339015214146,\n",
       "   80.0: 1e-07,\n",
       "   90.0: 0.014023253734699148,\n",
       "   100.0: 1e-07,\n",
       "   110.0: 0.013922099922618485,\n",
       "   120.0: 0.1473880298939978,\n",
       "   130.0: 1e-07,\n",
       "   140.0: 1e-07,\n",
       "   150.0: 1e-07,\n",
       "   160.0: 1e-07,\n",
       "   170.0: 0.007056063629410422,\n",
       "   180.0: 0.09032408370331578,\n",
       "   190.0: 1e-07,\n",
       "   200.0: 0.09021768597360863,\n",
       "   210.0: 0.008371014569553853,\n",
       "   220.0: 1e-07,\n",
       "   230.0: 0.08273069583032243,\n",
       "   240.0: 0.020812346411331683},\n",
       "  'q4_noise': {0.0: 80.0,\n",
       "   10.0: 62.47622301101163,\n",
       "   20.0: 63.764708945118,\n",
       "   30.0: 58.50991169502342,\n",
       "   40.0: 47.86670826350338,\n",
       "   50.0: 37.99216147169757,\n",
       "   60.0: 35.37112485306064,\n",
       "   70.0: 32.61646758491874,\n",
       "   80.0: 31.61590734118291,\n",
       "   90.0: 28.50975046550133,\n",
       "   100.0: 26.17945679281594,\n",
       "   110.0: 29.498900414649597,\n",
       "   120.0: 24.156328869107224,\n",
       "   130.0: 23.90293370898738,\n",
       "   140.0: 25.000964517002092,\n",
       "   150.0: 21.605494579780125,\n",
       "   160.0: 22.539713284285778,\n",
       "   170.0: 19.283600770755598,\n",
       "   180.0: 21.720506178953336,\n",
       "   190.0: 19.275267877275045,\n",
       "   200.0: 22.723526219109356,\n",
       "   210.0: 20.00187764132786,\n",
       "   220.0: 20.91139935247985,\n",
       "   230.0: 22.400356628931586,\n",
       "   240.0: 20.386697569361882},\n",
       "  'f4_noise': {0.0: 120.0,\n",
       "   10.0: 183.44115198175936,\n",
       "   20.0: 178.34942793571275,\n",
       "   30.0: 246.6351825340198,\n",
       "   40.0: 293.36782534615367,\n",
       "   50.0: 300.29655851038046,\n",
       "   60.0: 373.95406816502,\n",
       "   70.0: 382.453794750085,\n",
       "   80.0: 427.4417858983539,\n",
       "   90.0: 425.82459085497,\n",
       "   100.0: 423.4330845584646,\n",
       "   110.0: 432.96508622564687,\n",
       "   120.0: 435.1346573393882,\n",
       "   130.0: 439.21365793342494,\n",
       "   140.0: 486.16539002080816,\n",
       "   150.0: 482.39420792586367,\n",
       "   160.0: 443.08796385161475,\n",
       "   170.0: 463.806710321251,\n",
       "   180.0: 479.8013501394068,\n",
       "   190.0: 486.23330780466154,\n",
       "   200.0: 465.8968246347333,\n",
       "   210.0: 475.9135895600725,\n",
       "   220.0: 462.1804081164102,\n",
       "   230.0: 469.25324918617383,\n",
       "   240.0: 418.36524603318844}}}"
      ]
     },
     "execution_count": 446,
     "metadata": {},
     "output_type": "execute_result"
    }
   ],
   "source": [
    "data_init"
   ]
  },
  {
   "cell_type": "code",
   "execution_count": 447,
   "metadata": {},
   "outputs": [
    {
     "data": {
      "text/plain": [
       "[array([[ 50. ],\n",
       "        [125. ],\n",
       "        [162.5],\n",
       "        [ 87.5]]),\n",
       " array([[106.25],\n",
       "        [181.25],\n",
       "        [143.75],\n",
       "        [ 68.75]]),\n",
       " array([[ 78.125],\n",
       "        [153.125],\n",
       "        [190.625],\n",
       "        [115.625]]),\n",
       " array([[ 96.875],\n",
       "        [171.875],\n",
       "        [134.375],\n",
       "        [ 59.375]])]"
      ]
     },
     "execution_count": 447,
     "metadata": {},
     "output_type": "execute_result"
    }
   ],
   "source": [
    "u_con"
   ]
  },
  {
   "cell_type": "code",
   "execution_count": 448,
   "metadata": {},
   "outputs": [
    {
     "data": {
      "text/plain": [
       "array([[15.  ],\n",
       "       [37.5 ],\n",
       "       [48.75],\n",
       "       [26.25]])"
      ]
     },
     "execution_count": 448,
     "metadata": {},
     "output_type": "execute_result"
    }
   ],
   "source": [
    "operation_con"
   ]
  },
  {
   "cell_type": "code",
   "execution_count": 449,
   "metadata": {},
   "outputs": [],
   "source": [
    "N_in = 100"
   ]
  },
  {
   "cell_type": "code",
   "execution_count": 450,
   "metadata": {},
   "outputs": [
    {
     "data": {
      "text/plain": [
       "(4, 25)"
      ]
     },
     "execution_count": 450,
     "metadata": {},
     "output_type": "execute_result"
    }
   ],
   "source": [
    "xobs1.shape"
   ]
  },
  {
   "cell_type": "code",
   "execution_count": 451,
   "metadata": {},
   "outputs": [
    {
     "name": "stdout",
     "output_type": "stream",
     "text": [
      "File saved at: tmp25/xobs1.pkl\n",
      "File saved at: tmp25/xobs2.pkl\n",
      "File saved at: tmp25/xobs3.pkl\n",
      "File saved at: tmp25/xobs4.pkl\n",
      "File saved at: tmp25/tf_N.pkl\n",
      "File saved at: tmp25/u_con.pkl\n",
      "File saved at: tmp25/N_in.pkl\n",
      "File saved at: tmp25/operation_con.pkl\n",
      "File saved at: tmp25/tt1.pkl\n",
      "File saved at: tmp25/std_value1.pkl\n",
      "File saved at: tmp25/std_value2.pkl\n",
      "File saved at: tmp25/std_value3.pkl\n",
      "File saved at: tmp25/std_value4.pkl\n",
      "File saved at: tmp25/data_init.pkl\n",
      "File saved at: tmp25/u_dic1.pkl\n",
      "File saved at: tmp25/u_dic2.pkl\n",
      "File saved at: tmp25/u_dic3.pkl\n",
      "File saved at: tmp25/u_dic4.pkl\n"
     ]
    }
   ],
   "source": [
    "save_pkl(xobs1,'xobs1.pkl')\n",
    "save_pkl(xobs2,'xobs2.pkl')\n",
    "save_pkl(xobs3,'xobs3.pkl')\n",
    "save_pkl(xobs4,'xobs4.pkl')\n",
    "save_pkl(tf_N,'tf_N.pkl')\n",
    "save_pkl(u_con,'u_con.pkl')\n",
    "save_pkl(N_in,'N_in.pkl')\n",
    "# save_pkl(xobs5,'xobs5.pkl')\n",
    "\n",
    "save_pkl(operation_con,'operation_con.pkl')\n",
    "# save_pkl(I0_range,'I0_range.pkl')\n",
    "\n",
    "save_pkl(t,'tt1.pkl')\n",
    "save_pkl(std_value1,'std_value1.pkl')\n",
    "save_pkl(std_value2,'std_value2.pkl')\n",
    "save_pkl(std_value3,'std_value3.pkl')\n",
    "save_pkl(std_value4,'std_value4.pkl')\n",
    "\n",
    "save_pkl(data_init,'data_init.pkl')\n",
    "\n",
    "save_pkl(u_dic1,'u_dic1.pkl')\n",
    "save_pkl(u_dic2,'u_dic2.pkl')\n",
    "save_pkl(u_dic3,'u_dic3.pkl')\n",
    "save_pkl(u_dic4,'u_dic4.pkl')\n"
   ]
  },
  {
   "cell_type": "code",
   "execution_count": null,
   "metadata": {},
   "outputs": [],
   "source": []
  }
 ],
 "metadata": {
  "kernelspec": {
   "display_name": "Python 3.9.9 ('env')",
   "language": "python",
   "name": "python3"
  },
  "language_info": {
   "codemirror_mode": {
    "name": "ipython",
    "version": 3
   },
   "file_extension": ".py",
   "mimetype": "text/x-python",
   "name": "python",
   "nbconvert_exporter": "python",
   "pygments_lexer": "ipython3",
   "version": "3.9.9"
  },
  "orig_nbformat": 4,
  "vscode": {
   "interpreter": {
    "hash": "0b975ef14a7c349b5b53fa51dcf9e0d25501f9719e727a1ab429ed23704c47f1"
   }
  }
 },
 "nbformat": 4,
 "nbformat_minor": 2
}
