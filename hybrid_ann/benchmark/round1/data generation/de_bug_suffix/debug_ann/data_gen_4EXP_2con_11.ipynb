{
 "cells": [
  {
   "cell_type": "code",
   "execution_count": 1,
   "metadata": {},
   "outputs": [],
   "source": [
    "import numpy as np\n",
    "import random\n",
    "import scipy.integrate as scp\n",
    "import numpy.random as rnd\n",
    "import time\n",
    "import matplotlib.pyplot as plt\n",
    "import numpy.random as rnd\n",
    "import copy\n",
    "from matplotlib.pyplot import figure\n",
    "from pyomo.environ import *\n",
    "from pyomo.dae import *\n",
    "import pandas as pd\n",
    "import pickle\n",
    "import scipy.stats\n",
    "from math import comb\n",
    "from numpy.polynomial import polynomial as P\n",
    "\n",
    "eps  = np.finfo(float).eps\n",
    "np.random.seed(1)"
   ]
  },
  {
   "attachments": {},
   "cell_type": "markdown",
   "metadata": {},
   "source": [
    "Gneneration of 3 sets of experimental data with different nitrate and light intensity, varies from low to high, number of datapoints for each exps is 26, noise level is 5% of means."
   ]
  },
  {
   "cell_type": "code",
   "execution_count": 3,
   "metadata": {},
   "outputs": [
    {
     "data": {
      "text/plain": [
       "0"
      ]
     },
     "execution_count": 3,
     "metadata": {},
     "output_type": "execute_result"
    }
   ],
   "source": [
    "7//10"
   ]
  },
  {
   "cell_type": "code",
   "execution_count": 21,
   "metadata": {},
   "outputs": [],
   "source": [
    "''' Data treatment'''\n",
    "def save_pkl(item, fname):\n",
    "    sn = 'tmp11/' + fname\n",
    "    with open(sn, 'wb') as handle:\n",
    "        pickle.dump(item, handle) #, protocol=pickle.HIGHEST_PROTOCOL)\n",
    "    print(f'File saved at: {sn}')\n",
    "    return None\n",
    "# return None\n",
    "\n",
    "def load_pkl(fname):\n",
    "    with open(fname, 'rb') as handle:\n",
    "        ans = pickle.load(handle)\n",
    "    print(f'Loaded from: {fname}')\n",
    "    return ans"
   ]
  },
  {
   "cell_type": "code",
   "execution_count": 22,
   "metadata": {},
   "outputs": [],
   "source": [
    "def to_dict(x,dt):\n",
    "    obs = list(x)\n",
    "    # tp = list(time)\n",
    "    dicx = {}\n",
    "    for i in range(len(x)):\n",
    "        dicx[dt*i] = obs[i]            # change thye value of 38.4\n",
    "    return dicx\n",
    "\n",
    "def get_grad(x, t):\n",
    "    dxdt = [[],[],[],[]]\n",
    "    for n in range(x.shape[0]):\n",
    "        for i in range(len(x[0]) - 1):\n",
    "            dxdt[n].append((x[n][i + 1] - x[n][i])/(t[i + 1] - t[i]))\n",
    "        dxdt[n].append(dxdt[n][-1])\n",
    "    return dxdt\n"
   ]
  },
  {
   "cell_type": "code",
   "execution_count": 23,
   "metadata": {},
   "outputs": [],
   "source": [
    "tf    = 240\n",
    "# tf    = 16*24\n",
    "steps_= 10\n",
    "dt    = tf/steps_ #dt is fixed\n",
    "\n",
    "\n",
    "num_N = 4\n",
    "tf_N  = tf/(num_N) # tf_N is fixed\n",
    "dt_N = 0.5\n",
    "t_N = np.arange(0,tf_N+dt_N,dt_N)\n",
    "\n",
    "dstep_N = len(t_N)# this is the number of steps in each interval between chaning the fedding rate"
   ]
  },
  {
   "cell_type": "code",
   "execution_count": 24,
   "metadata": {},
   "outputs": [
    {
     "data": {
      "text/plain": [
       "24.0"
      ]
     },
     "execution_count": 24,
     "metadata": {},
     "output_type": "execute_result"
    }
   ],
   "source": [
    "dt"
   ]
  },
  {
   "cell_type": "code",
   "execution_count": 25,
   "metadata": {},
   "outputs": [],
   "source": [
    "t = np.linspace(0, 240, num=11)"
   ]
  },
  {
   "cell_type": "code",
   "execution_count": 26,
   "metadata": {},
   "outputs": [
    {
     "data": {
      "text/plain": [
       "60.0"
      ]
     },
     "execution_count": 26,
     "metadata": {},
     "output_type": "execute_result"
    }
   ],
   "source": [
    "tf_N"
   ]
  },
  {
   "cell_type": "code",
   "execution_count": 27,
   "metadata": {},
   "outputs": [
    {
     "data": {
      "text/plain": [
       "array([  0.,  24.,  48.,  72.,  96., 120., 144., 168., 192., 216., 240.])"
      ]
     },
     "execution_count": 27,
     "metadata": {},
     "output_type": "execute_result"
    }
   ],
   "source": [
    "t"
   ]
  },
  {
   "cell_type": "code",
   "execution_count": 28,
   "metadata": {},
   "outputs": [],
   "source": [
    "t_simulation = np.arange(0,tf+dt_N,dt_N)"
   ]
  },
  {
   "cell_type": "code",
   "execution_count": 29,
   "metadata": {},
   "outputs": [
    {
     "data": {
      "text/plain": [
       "array([  0. ,   0.5,   1. ,   1.5,   2. ,   2.5,   3. ,   3.5,   4. ,\n",
       "         4.5,   5. ,   5.5,   6. ,   6.5,   7. ,   7.5,   8. ,   8.5,\n",
       "         9. ,   9.5,  10. ,  10.5,  11. ,  11.5,  12. ,  12.5,  13. ,\n",
       "        13.5,  14. ,  14.5,  15. ,  15.5,  16. ,  16.5,  17. ,  17.5,\n",
       "        18. ,  18.5,  19. ,  19.5,  20. ,  20.5,  21. ,  21.5,  22. ,\n",
       "        22.5,  23. ,  23.5,  24. ,  24.5,  25. ,  25.5,  26. ,  26.5,\n",
       "        27. ,  27.5,  28. ,  28.5,  29. ,  29.5,  30. ,  30.5,  31. ,\n",
       "        31.5,  32. ,  32.5,  33. ,  33.5,  34. ,  34.5,  35. ,  35.5,\n",
       "        36. ,  36.5,  37. ,  37.5,  38. ,  38.5,  39. ,  39.5,  40. ,\n",
       "        40.5,  41. ,  41.5,  42. ,  42.5,  43. ,  43.5,  44. ,  44.5,\n",
       "        45. ,  45.5,  46. ,  46.5,  47. ,  47.5,  48. ,  48.5,  49. ,\n",
       "        49.5,  50. ,  50.5,  51. ,  51.5,  52. ,  52.5,  53. ,  53.5,\n",
       "        54. ,  54.5,  55. ,  55.5,  56. ,  56.5,  57. ,  57.5,  58. ,\n",
       "        58.5,  59. ,  59.5,  60. ,  60.5,  61. ,  61.5,  62. ,  62.5,\n",
       "        63. ,  63.5,  64. ,  64.5,  65. ,  65.5,  66. ,  66.5,  67. ,\n",
       "        67.5,  68. ,  68.5,  69. ,  69.5,  70. ,  70.5,  71. ,  71.5,\n",
       "        72. ,  72.5,  73. ,  73.5,  74. ,  74.5,  75. ,  75.5,  76. ,\n",
       "        76.5,  77. ,  77.5,  78. ,  78.5,  79. ,  79.5,  80. ,  80.5,\n",
       "        81. ,  81.5,  82. ,  82.5,  83. ,  83.5,  84. ,  84.5,  85. ,\n",
       "        85.5,  86. ,  86.5,  87. ,  87.5,  88. ,  88.5,  89. ,  89.5,\n",
       "        90. ,  90.5,  91. ,  91.5,  92. ,  92.5,  93. ,  93.5,  94. ,\n",
       "        94.5,  95. ,  95.5,  96. ,  96.5,  97. ,  97.5,  98. ,  98.5,\n",
       "        99. ,  99.5, 100. , 100.5, 101. , 101.5, 102. , 102.5, 103. ,\n",
       "       103.5, 104. , 104.5, 105. , 105.5, 106. , 106.5, 107. , 107.5,\n",
       "       108. , 108.5, 109. , 109.5, 110. , 110.5, 111. , 111.5, 112. ,\n",
       "       112.5, 113. , 113.5, 114. , 114.5, 115. , 115.5, 116. , 116.5,\n",
       "       117. , 117.5, 118. , 118.5, 119. , 119.5, 120. , 120.5, 121. ,\n",
       "       121.5, 122. , 122.5, 123. , 123.5, 124. , 124.5, 125. , 125.5,\n",
       "       126. , 126.5, 127. , 127.5, 128. , 128.5, 129. , 129.5, 130. ,\n",
       "       130.5, 131. , 131.5, 132. , 132.5, 133. , 133.5, 134. , 134.5,\n",
       "       135. , 135.5, 136. , 136.5, 137. , 137.5, 138. , 138.5, 139. ,\n",
       "       139.5, 140. , 140.5, 141. , 141.5, 142. , 142.5, 143. , 143.5,\n",
       "       144. , 144.5, 145. , 145.5, 146. , 146.5, 147. , 147.5, 148. ,\n",
       "       148.5, 149. , 149.5, 150. , 150.5, 151. , 151.5, 152. , 152.5,\n",
       "       153. , 153.5, 154. , 154.5, 155. , 155.5, 156. , 156.5, 157. ,\n",
       "       157.5, 158. , 158.5, 159. , 159.5, 160. , 160.5, 161. , 161.5,\n",
       "       162. , 162.5, 163. , 163.5, 164. , 164.5, 165. , 165.5, 166. ,\n",
       "       166.5, 167. , 167.5, 168. , 168.5, 169. , 169.5, 170. , 170.5,\n",
       "       171. , 171.5, 172. , 172.5, 173. , 173.5, 174. , 174.5, 175. ,\n",
       "       175.5, 176. , 176.5, 177. , 177.5, 178. , 178.5, 179. , 179.5,\n",
       "       180. , 180.5, 181. , 181.5, 182. , 182.5, 183. , 183.5, 184. ,\n",
       "       184.5, 185. , 185.5, 186. , 186.5, 187. , 187.5, 188. , 188.5,\n",
       "       189. , 189.5, 190. , 190.5, 191. , 191.5, 192. , 192.5, 193. ,\n",
       "       193.5, 194. , 194.5, 195. , 195.5, 196. , 196.5, 197. , 197.5,\n",
       "       198. , 198.5, 199. , 199.5, 200. , 200.5, 201. , 201.5, 202. ,\n",
       "       202.5, 203. , 203.5, 204. , 204.5, 205. , 205.5, 206. , 206.5,\n",
       "       207. , 207.5, 208. , 208.5, 209. , 209.5, 210. , 210.5, 211. ,\n",
       "       211.5, 212. , 212.5, 213. , 213.5, 214. , 214.5, 215. , 215.5,\n",
       "       216. , 216.5, 217. , 217.5, 218. , 218.5, 219. , 219.5, 220. ,\n",
       "       220.5, 221. , 221.5, 222. , 222.5, 223. , 223.5, 224. , 224.5,\n",
       "       225. , 225.5, 226. , 226.5, 227. , 227.5, 228. , 228.5, 229. ,\n",
       "       229.5, 230. , 230.5, 231. , 231.5, 232. , 232.5, 233. , 233.5,\n",
       "       234. , 234.5, 235. , 235.5, 236. , 236.5, 237. , 237.5, 238. ,\n",
       "       238.5, 239. , 239.5, 240. ])"
      ]
     },
     "execution_count": 29,
     "metadata": {},
     "output_type": "execute_result"
    }
   ],
   "source": [
    "t_simulation"
   ]
  },
  {
   "cell_type": "code",
   "execution_count": 30,
   "metadata": {},
   "outputs": [],
   "source": [
    "t_fn1 = np.arange(0,tf/steps_+dt_N,dt_N)"
   ]
  },
  {
   "cell_type": "code",
   "execution_count": 31,
   "metadata": {},
   "outputs": [
    {
     "name": "stdout",
     "output_type": "stream",
     "text": [
      "0.0\n",
      "24.0\n",
      "48.0\n",
      "72.0\n",
      "96.0\n",
      "120.0\n",
      "144.0\n",
      "168.0\n",
      "192.0\n",
      "216.0\n",
      "240.0\n"
     ]
    }
   ],
   "source": [
    "for i in range(len(t)):\n",
    "    print(t_simulation[(len(t_fn1)-1)*i])"
   ]
  },
  {
   "cell_type": "code",
   "execution_count": 32,
   "metadata": {},
   "outputs": [],
   "source": [
    "from scipy.stats import qmc\n",
    "\n",
    "sampler = qmc.Sobol(d=2, scramble=False)\n",
    "u_sample = sampler.random_base2(m=4)\n",
    "\n",
    "u_l_bounds = [0,100]   # feeding N, I\n",
    "u_u_bounds = [0.005,200]\n",
    "\n",
    "u_con = qmc.scale(u_sample,u_l_bounds,u_u_bounds)"
   ]
  },
  {
   "cell_type": "code",
   "execution_count": 33,
   "metadata": {},
   "outputs": [
    {
     "data": {
      "text/plain": [
       "array([[0.0000e+00, 1.0000e+02],\n",
       "       [2.5000e-03, 1.5000e+02],\n",
       "       [3.7500e-03, 1.2500e+02],\n",
       "       [1.2500e-03, 1.7500e+02],\n",
       "       [1.8750e-03, 1.3750e+02],\n",
       "       [4.3750e-03, 1.8750e+02],\n",
       "       [3.1250e-03, 1.1250e+02],\n",
       "       [6.2500e-04, 1.6250e+02],\n",
       "       [9.3750e-04, 1.3125e+02],\n",
       "       [3.4375e-03, 1.8125e+02],\n",
       "       [4.6875e-03, 1.0625e+02],\n",
       "       [2.1875e-03, 1.5625e+02],\n",
       "       [1.5625e-03, 1.1875e+02],\n",
       "       [4.0625e-03, 1.6875e+02],\n",
       "       [2.8125e-03, 1.4375e+02],\n",
       "       [3.1250e-04, 1.9375e+02]])"
      ]
     },
     "execution_count": 33,
     "metadata": {},
     "output_type": "execute_result"
    }
   ],
   "source": [
    "u_con"
   ]
  },
  {
   "cell_type": "code",
   "execution_count": 34,
   "metadata": {},
   "outputs": [],
   "source": [
    "u_con = [u_con[i:i+4] for i in range(0, len(u_con), 4)]"
   ]
  },
  {
   "cell_type": "code",
   "execution_count": 35,
   "metadata": {},
   "outputs": [
    {
     "data": {
      "text/plain": [
       "array([[0.00e+00, 1.00e+02],\n",
       "       [2.50e-03, 1.50e+02],\n",
       "       [3.75e-03, 1.25e+02],\n",
       "       [1.25e-03, 1.75e+02]])"
      ]
     },
     "execution_count": 35,
     "metadata": {},
     "output_type": "execute_result"
    }
   ],
   "source": [
    "u_con[0]"
   ]
  },
  {
   "cell_type": "code",
   "execution_count": 36,
   "metadata": {},
   "outputs": [],
   "source": [
    "ini_sampler = qmc.Sobol(d=1, scramble=False)\n",
    "ini_N_sample = ini_sampler.random_base2(m=2)\n",
    "\n",
    "initial_l_bounds = [15]   #initial N\n",
    "initial_u_bounds = [50]\n",
    "operation_con = qmc.scale(ini_N_sample,initial_l_bounds,initial_u_bounds)"
   ]
  },
  {
   "cell_type": "markdown",
   "metadata": {},
   "source": []
  },
  {
   "cell_type": "code",
   "execution_count": 37,
   "metadata": {},
   "outputs": [
    {
     "data": {
      "text/plain": [
       "array([[15.  ],\n",
       "       [32.5 ],\n",
       "       [41.25],\n",
       "       [23.75]])"
      ]
     },
     "execution_count": 37,
     "metadata": {},
     "output_type": "execute_result"
    }
   ],
   "source": [
    "operation_con"
   ]
  },
  {
   "cell_type": "code",
   "execution_count": 38,
   "metadata": {},
   "outputs": [],
   "source": [
    "class ModelIntegration:\n",
    "    \n",
    "    # --- Initialize model --- #\n",
    "    def __init__(self, parameters):\n",
    "\n",
    "        # Object variable definitions\n",
    "        self.parameters  =  parameters\n",
    "\n",
    "        \n",
    "    # --- Dynamic model definition --- #    \n",
    "    def model(self, t, state):\n",
    "        # Internal definitions\n",
    "        params = self.parameters\n",
    "        \n",
    "        # State vector\n",
    "        x = state[0]\n",
    "        n = state[1]\n",
    "        q = state[2]\n",
    "        f = state[3]\n",
    "        V = state[4]\n",
    "\n",
    "        # control variables\n",
    "\n",
    "        I0      = params['I0']\n",
    "        F_in   = params['F_in']\n",
    "        N_in    = params['N_in']    \n",
    "\n",
    "\n",
    "        \n",
    "        # Parameters\n",
    "\n",
    "        kq      = params['kq']\n",
    "        ud      = params['ud']\n",
    "        un      = params['un']\n",
    "        kn      = params['kn']\n",
    "        theta   = params['theta']\n",
    "        gamma   = params['gamma']\n",
    "        epsilon = params['epsilon']\n",
    "        \n",
    "        tau     = params['tau']\n",
    "        delta   = params['delta']\n",
    "        phi     = params['phi']\n",
    "        ks      = params['ks']\n",
    "        ki      = params['ki']\n",
    "        alpha   = params['alpha']\n",
    "        belta   = params['belta']\n",
    "        uM      = params['uM']  \n",
    "        \n",
    "        \n",
    "        \n",
    "        # Algebraic equations, calculation of um\n",
    "         #Initial of L and I\n",
    "        L         = 4.4E-2\n",
    "        # I0      = 80\n",
    "        def I_e(z):\n",
    "\n",
    "            I_z   = I0*np.exp(-(alpha*x+belta)*z) \n",
    "            I     = uM*I_z/(I_z+ks+I_z**2/ki)\n",
    "            return I\n",
    "\n",
    "\n",
    "\n",
    "\n",
    "\n",
    "        um    = scp.quad(I_e, 0, L)\n",
    "        um    = um[0]/L\n",
    "  \n",
    "\n",
    "        u0     = um*(1-kq/q)\n",
    "        \n",
    "        \n",
    "        # Differential equations\n",
    "        dev_x  = -F_in/V*x + (u0 - ud)*x\n",
    "        dev_n  = F_in*(N_in - n)/V-un*(n/(n+kn))*x\n",
    "\n",
    "        dev_q  = -F_in*(N_in - n)/(V*x) +un*(n/(n+kn)) + F_in*q/V - (u0 - ud)*q\n",
    "\n",
    "        dev_f  = u0*(theta*q-epsilon*f) - gamma*un*(n/(n+kn))+ud*epsilon*f\n",
    "\n",
    "        dev_V  = F_in \n",
    "            \n",
    "        # # fluorescence\n",
    "        # Y      = (np.exp(tau*q)/(np.exp(tau*q)+delta))+phi\n",
    "\n",
    "        return np.array([dev_x,dev_n,dev_q,dev_f,dev_V], dtype='float64')\n",
    "    \n",
    "    # # --- Simulation --- #\n",
    "    # def simulation(self, initial_state,steps):\n",
    "    #     # Internal definitions\n",
    "   \n",
    "    #     model   = self.model\n",
    "        \n",
    "    #     # Compile state trajectories\n",
    "    #     statet = np.zeros((initial_state.shape[0], steps + 1))\n",
    "    #     tt     = np.zeros((steps+1))\n",
    "        \n",
    "    #     # Initialize simulation\n",
    "    #     current_state = initial_state\n",
    "    #     statet[:,0]   = current_state\n",
    "    #     tt[0]         = 0.\n",
    "        \n",
    "    #     # Simulation\n",
    "    #     for s in range(steps):\n",
    "    #         ode           = scp.ode(model)                  # Define ode\n",
    "    #         ode.set_integrator('lsoda', nsteps=3000)        # Define integrator\n",
    "    #         ode.set_initial_value(current_state, dt)        # Set initial value\n",
    "    #         current_state = list(ode.integrate(ode.t + dt)) # Integrate system\n",
    "    #         statet[:,s+1] = current_state                   # Odd current state Note: here we can add randomnes as: + RandomNormal noise\n",
    "    #         tt[s+1]       = (s+1)*dt\n",
    "        \n",
    "    #     return statet, tt   \n",
    "\n",
    "        # --- simulation --- #\n",
    "    def simulation(self, dt, tf, x0):\n",
    "        '''\n",
    "        simulate for a number of steps to collect data, and a final time\n",
    "        '''\n",
    "\n",
    "        # external definitions\n",
    "        self.x0, self.tf = x0, tf\n",
    "\n",
    "        # internal definitions\n",
    "        model = self.model\n",
    "        steps    = int(tf/dt)\n",
    "        \n",
    "        # compile state trajectories\n",
    "        xt = np.zeros((x0.shape[0],steps+1))\n",
    "        tt = np.zeros((steps+1))\n",
    "        \n",
    "        # initialize simulation\n",
    "        current_state = x0\n",
    "        xt[:,0]       = current_state\n",
    "        tt[0]         = 0.\n",
    "        \n",
    "        # simulation\n",
    "        for s in range(steps):\n",
    "            ode           = scp.ode(model)                  # define ode\n",
    "            ode.set_integrator('lsoda', nsteps=3000)        # define integrator\n",
    "            ode.set_initial_value(current_state, dt)        # set initial value\n",
    "            current_state = list(ode.integrate(ode.t + dt)) # integrate system\n",
    "            xt[:,s+1]     = current_state                   # add current state\n",
    "            tt[s+1]       = (s+1)*dt\n",
    "        \n",
    "        return xt, tt"
   ]
  },
  {
   "cell_type": "code",
   "execution_count": 39,
   "metadata": {},
   "outputs": [
    {
     "data": {
      "text/plain": [
       "60.0"
      ]
     },
     "execution_count": 39,
     "metadata": {},
     "output_type": "execute_result"
    }
   ],
   "source": [
    "tf_N"
   ]
  },
  {
   "cell_type": "code",
   "execution_count": 40,
   "metadata": {},
   "outputs": [
    {
     "data": {
      "text/plain": [
       "0.5"
      ]
     },
     "execution_count": 40,
     "metadata": {},
     "output_type": "execute_result"
    }
   ],
   "source": [
    "dt_N"
   ]
  },
  {
   "cell_type": "code",
   "execution_count": 51,
   "metadata": {},
   "outputs": [],
   "source": [
    "def train_data_generation(parameter, initial_c,mu_all):\n",
    "    all_xt = []\n",
    "    # all_pe = []\n",
    "    # all_tt = []\n",
    "\n",
    "    for i in range(len(mu_all)):\n",
    "        parameter['F_in'] = mu_all[i][0]\n",
    "        print(parameter['F_in'],'F_in')\n",
    "        parameter['I0'] = mu_all[i][1]\n",
    "        print(parameter['I0'],'I0')\n",
    "        m            = ModelIntegration(parameter)\n",
    "        xt_i, tt_i       = m.simulation(dt_N,tf_N,initial_c)\n",
    "        print(initial_c,'initial_c') \n",
    "        # xt_i, tt_i       = simulation(model, dstep_I,tf_I, initial_c,parameter)\n",
    "        # print(xt_i.shape[1],'xt_i shape')\n",
    "        all_xt.append(xt_i)\n",
    "        # all_tt.append(tt_i)\n",
    "        new_init = np.zeros(xt_i.shape[0])\n",
    "        for j in range(xt_i.shape[0]):\n",
    "            new_init[j] = xt_i[j][-1]\n",
    "        initial_c = new_init\n",
    "        # print(initial_c1,'initial_c1')\n",
    "\n",
    "        # all_pe.append(parameter.copy())\n",
    "\n",
    "    for i in range(1,len(all_xt)):\n",
    "        all_xt[i] = np.delete(all_xt[i], 0, axis=1)\n",
    "\n",
    "\n",
    "\n",
    "        # all_tt[i] = np.delete(all_tt[i], 0, axis=1)\n",
    "    # print(all_xt,'all_xt')\n",
    "    xt = all_xt[0]\n",
    "    # tt = all_tt[0]\n",
    "\n",
    "    # Iterate through the remaining arrays and concatenate them\n",
    "    for i in all_xt[1:]:\n",
    "        xt = np.concatenate((xt, i), axis=1)  # Concatenate along the rows\n",
    "\n",
    "    \n",
    "    mean_x = np.zeros(xt.shape[0])\n",
    "    for i in range(xt.shape[0]):\n",
    "        mean_x[i]=np.mean(xt[i])\n",
    "        \n",
    "    mean_x    = mean_x*0.05\n",
    "    print(mean_x ,'mean_x')\n",
    "    std_value = mean_x\n",
    "\n",
    "    x_noise      = np.random.normal(0,mean_x[0],xt.shape[1])\n",
    "    x_noise[0]   = 0\n",
    "    n_noise      = np.random.normal(0,mean_x[1],xt.shape[1])\n",
    "    n_noise[0]   = 0\n",
    "    q_noise      = np.random.normal(0,mean_x[2],xt.shape[1])\n",
    "    q_noise[0]   = 0\n",
    "    f_noise      = np.random.normal(0,mean_x[3],xt.shape[1])\n",
    "    f_noise[0]   = 0\n",
    "    \n",
    "    V_noise      = np.random.normal(0,0,xt.shape[1])\n",
    "    V_noise[0]   = 0\n",
    "\n",
    "\n",
    "    obs          = np.array([x_noise,n_noise,q_noise,f_noise,V_noise])\n",
    "    xobs         = xt+obs\n",
    "\n",
    "    for i in range(xobs.shape[0]):\n",
    "        for j in range(len(xobs[i])):\n",
    "            if xobs[i][j]<0:\n",
    "                xobs[i][j] = 1E-7\n",
    "    for i in range(xobs.shape[1]):\n",
    "        if xobs[0][i]<0:\n",
    "            xobs[0][i] = 1e-7\n",
    "        if xobs[1][i]<0:\n",
    "            xobs[1][i] = 1e-7\n",
    "\n",
    "    # return xt\n",
    "    return xt,xobs,std_value\n",
    "\n",
    "    # return xt"
   ]
  },
  {
   "cell_type": "code",
   "execution_count": 42,
   "metadata": {},
   "outputs": [],
   "source": [
    "def data_correction(xt,t):\n",
    "    xt_ = np.zeros([len(t),xt.shape[0]])\n",
    "    for i in range(len(t)):\n",
    "        # print((len(t_fn1)-1)*i)\n",
    "        xt_[i] = xt.T[(len(t_fn1)-1)*i]\n",
    "        # print(xt1_.T[(len(t_fn1)-1)*i])\n",
    "\n",
    "    xt_ = xt_.T\n",
    "\n",
    "    return xt_"
   ]
  },
  {
   "cell_type": "code",
   "execution_count": 43,
   "metadata": {},
   "outputs": [
    {
     "data": {
      "text/plain": [
       "array([[15.  ],\n",
       "       [32.5 ],\n",
       "       [41.25],\n",
       "       [23.75]])"
      ]
     },
     "execution_count": 43,
     "metadata": {},
     "output_type": "execute_result"
    }
   ],
   "source": [
    "operation_con"
   ]
  },
  {
   "cell_type": "code",
   "execution_count": 44,
   "metadata": {},
   "outputs": [
    {
     "data": {
      "text/plain": [
       "[array([[0.00e+00, 1.00e+02],\n",
       "        [2.50e-03, 1.50e+02],\n",
       "        [3.75e-03, 1.25e+02],\n",
       "        [1.25e-03, 1.75e+02]]),\n",
       " array([[1.875e-03, 1.375e+02],\n",
       "        [4.375e-03, 1.875e+02],\n",
       "        [3.125e-03, 1.125e+02],\n",
       "        [6.250e-04, 1.625e+02]]),\n",
       " array([[9.3750e-04, 1.3125e+02],\n",
       "        [3.4375e-03, 1.8125e+02],\n",
       "        [4.6875e-03, 1.0625e+02],\n",
       "        [2.1875e-03, 1.5625e+02]]),\n",
       " array([[1.5625e-03, 1.1875e+02],\n",
       "        [4.0625e-03, 1.6875e+02],\n",
       "        [2.8125e-03, 1.4375e+02],\n",
       "        [3.1250e-04, 1.9375e+02]])]"
      ]
     },
     "execution_count": 44,
     "metadata": {},
     "output_type": "execute_result"
    }
   ],
   "source": [
    "u_con"
   ]
  },
  {
   "cell_type": "code",
   "execution_count": 52,
   "metadata": {},
   "outputs": [
    {
     "name": "stdout",
     "output_type": "stream",
     "text": [
      "0.0 F_in\n",
      "100.0 I0\n",
      "[  0.18  15.    80.   120.     0.5 ] initial_c\n",
      "0.0025 F_in\n",
      "150.0 I0\n",
      "[1.00978229e+00 1.58174069e-31 2.91144538e+01 4.21356759e+02\n",
      " 5.00000000e-01] initial_c\n",
      "0.00375 F_in\n",
      "125.0 I0\n",
      "[1.19788467e+00 1.08415623e-01 2.44521274e+01 3.21540753e+02\n",
      " 6.50000000e-01] initial_c\n",
      "0.00125 F_in\n",
      "175.0 I0\n",
      "[1.20207393e+00 1.22176592e-01 2.43554633e+01 1.83401569e+02\n",
      " 8.75000000e-01] initial_c\n",
      "[ 0.05310384  0.03855332  1.51081718 13.75065667  0.0343789 ] mean_x\n"
     ]
    }
   ],
   "source": [
    "#exp 1\n",
    "p1  = {'uM' : 0.359,'kq':19.63,'ud':0., 'un':2.692,'kn':0.8,'theta':6.691,'gamma':7.53,'epsilon':0.001,'tau':0.138,'delta':9.904,'phi':-0.456,'ks':91.2,'ki':100,'alpha':196.4,'belta':0,'F_in':u_con[0][0][0],'I0':u_con[0][0][1],'N_in':100}\n",
    "initial_c1 = np.array([0.18,operation_con[0][0],80,120,0.5])  #\n",
    "xt1_,xobs1_,std_value1 = train_data_generation(p1, initial_c1,u_con[0])\n"
   ]
  },
  {
   "cell_type": "code",
   "execution_count": 49,
   "metadata": {},
   "outputs": [
    {
     "data": {
      "text/plain": [
       "15.0"
      ]
     },
     "execution_count": 49,
     "metadata": {},
     "output_type": "execute_result"
    }
   ],
   "source": [
    "operation_con[0][0]"
   ]
  },
  {
   "cell_type": "code",
   "execution_count": 53,
   "metadata": {},
   "outputs": [
    {
     "data": {
      "text/plain": [
       "True"
      ]
     },
     "execution_count": 53,
     "metadata": {},
     "output_type": "execute_result"
    }
   ],
   "source": [
    "(xt1_>= 0).all()"
   ]
  },
  {
   "cell_type": "code",
   "execution_count": 54,
   "metadata": {},
   "outputs": [],
   "source": [
    "xt1 = data_correction(xt1_,t)\n",
    "xobs1 = data_correction(xobs1_,t)"
   ]
  },
  {
   "cell_type": "code",
   "execution_count": 55,
   "metadata": {},
   "outputs": [
    {
     "data": {
      "image/png": "[encoded data removed]",
      "text/plain": [
       "<Figure size 432x288 with 1 Axes>"
      ]
     },
     "metadata": {
      "needs_background": "light"
     },
     "output_type": "display_data"
    },
    {
     "data": {
      "image/png": "[encoded data removed]",
      "text/plain": [
       "<Figure size 432x288 with 1 Axes>"
      ]
     },
     "metadata": {
      "needs_background": "light"
     },
     "output_type": "display_data"
    },
    {
     "data": {
      "image/png": "[encoded data removed]",
      "text/plain": [
       "<Figure size 432x288 with 1 Axes>"
      ]
     },
     "metadata": {
      "needs_background": "light"
     },
     "output_type": "display_data"
    },
    {
     "data": {
      "image/png": "[encoded data removed]",
      "text/plain": [
       "<Figure size 432x288 with 1 Axes>"
      ]
     },
     "metadata": {
      "needs_background": "light"
     },
     "output_type": "display_data"
    },
    {
     "data": {
      "image/png": "[encoded data removed]",
      "text/plain": [
       "<Figure size 432x288 with 1 Axes>"
      ]
     },
     "metadata": {
      "needs_background": "light"
     },
     "output_type": "display_data"
    }
   ],
   "source": [
    "\n",
    "for i in range(xt1.shape[0]):\n",
    "    plt.figure()\n",
    "    plt.plot(t,xt1[i])\n",
    "    plt.show()"
   ]
  },
  {
   "cell_type": "code",
   "execution_count": 56,
   "metadata": {},
   "outputs": [
    {
     "name": "stdout",
     "output_type": "stream",
     "text": [
      "0.001875 F_in\n",
      "137.5 I0\n",
      "[  0.18  32.5   80.   120.     0.5 ] initial_c\n",
      "0.004375 F_in\n",
      "187.5 I0\n",
      "[1.15768936e+00 8.74848537e-02 4.04356244e+01 1.61016288e+02\n",
      " 6.12500000e-01] initial_c\n",
      "0.003125 F_in\n",
      "112.5 I0\n",
      "[1.55519865e+00 1.08607122e-01 3.00866607e+01 1.15121402e+02\n",
      " 8.75000000e-01] initial_c\n",
      "0.000625 F_in\n",
      "162.5 I0\n",
      "[1.74971985e+00 5.32978984e-02 2.67734526e+01 8.57663649e+01\n",
      " 1.06250000e+00] initial_c\n",
      "[0.07068668 0.15392345 1.75435744 6.06886998 0.0418711 ] mean_x\n"
     ]
    }
   ],
   "source": [
    "#experiment 2\n",
    "\n",
    "p2  = {'uM' : 0.359,'kq':19.63,'ud':0., 'un':2.692,'kn':0.8,'theta':6.691,'gamma':7.53,'epsilon':0.001,'tau':0.138,'delta':9.904,'phi':-0.456,'ks':91.2,'ki':100,'alpha':196.4,'belta':0,'F_in':u_con[1][0][0],'I0':u_con[1][0][1],'N_in':100}\n",
    "initial_c2 = np.array([0.18,operation_con[1][0],80,120,0.5])  #\n",
    "# xt1,tt1,xobs1_,std_value1_ = train_data_generation(p1, initial_c1,u_con[0])\n",
    "xt2_,xobs2_,std_value2 = train_data_generation(p2, initial_c2,u_con[1])\n"
   ]
  },
  {
   "cell_type": "code",
   "execution_count": 57,
   "metadata": {},
   "outputs": [
    {
     "data": {
      "text/plain": [
       "array([[1.875e-03, 1.375e+02],\n",
       "       [4.375e-03, 1.875e+02],\n",
       "       [3.125e-03, 1.125e+02],\n",
       "       [6.250e-04, 1.625e+02]])"
      ]
     },
     "execution_count": 57,
     "metadata": {},
     "output_type": "execute_result"
    }
   ],
   "source": [
    "u_con[1]"
   ]
  },
  {
   "cell_type": "code",
   "execution_count": 58,
   "metadata": {},
   "outputs": [
    {
     "data": {
      "text/plain": [
       "True"
      ]
     },
     "execution_count": 58,
     "metadata": {},
     "output_type": "execute_result"
    }
   ],
   "source": [
    "(xt2_>= 0).all()"
   ]
  },
  {
   "cell_type": "code",
   "execution_count": 59,
   "metadata": {},
   "outputs": [],
   "source": [
    "xt2 = data_correction(xt2_,t)\n",
    "xobs2 = data_correction(xobs2_,t)"
   ]
  },
  {
   "cell_type": "code",
   "execution_count": 60,
   "metadata": {},
   "outputs": [
    {
     "data": {
      "image/png": "[encoded data removed]",
      "text/plain": [
       "<Figure size 432x288 with 1 Axes>"
      ]
     },
     "metadata": {
      "needs_background": "light"
     },
     "output_type": "display_data"
    },
    {
     "data": {
      "image/png": "[encoded data removed]",
      "text/plain": [
       "<Figure size 432x288 with 1 Axes>"
      ]
     },
     "metadata": {
      "needs_background": "light"
     },
     "output_type": "display_data"
    },
    {
     "data": {
      "image/png": "[encoded data removed]",
      "text/plain": [
       "<Figure size 432x288 with 1 Axes>"
      ]
     },
     "metadata": {
      "needs_background": "light"
     },
     "output_type": "display_data"
    },
    {
     "data": {
      "image/png": "[encoded data removed]",
      "text/plain": [
       "<Figure size 432x288 with 1 Axes>"
      ]
     },
     "metadata": {
      "needs_background": "light"
     },
     "output_type": "display_data"
    },
    {
     "data": {
      "image/png": "[encoded data removed]",
      "text/plain": [
       "<Figure size 432x288 with 1 Axes>"
      ]
     },
     "metadata": {
      "needs_background": "light"
     },
     "output_type": "display_data"
    }
   ],
   "source": [
    "for i in range(xt2.shape[0]):\n",
    "    plt.figure()\n",
    "    plt.plot(t,xt2[i])\n",
    "    plt.show()"
   ]
  },
  {
   "cell_type": "code",
   "execution_count": 61,
   "metadata": {},
   "outputs": [
    {
     "name": "stdout",
     "output_type": "stream",
     "text": [
      "0.0009375 F_in\n",
      "131.25 I0\n",
      "[  0.18  41.25  80.   120.     0.5 ] initial_c\n",
      "0.0034375 F_in\n",
      "181.25 I0\n",
      "[1.25291843e+00 4.22194952e-02 4.43820168e+01 2.17161667e+02\n",
      " 5.56250000e-01] initial_c\n",
      "0.0046875 F_in\n",
      "106.25 I0\n",
      "[1.73816694e+00 8.53676869e-02 3.19669300e+01 2.20066103e+02\n",
      " 7.62500000e-01] initial_c\n",
      "0.0021875 F_in\n",
      "156.25 I0\n",
      "[1.80774552e+00 8.13597943e-02 3.07387673e+01 1.60392012e+02\n",
      " 1.04375000e+00] initial_c\n",
      "[0.07507121 0.19606817 1.93038978 9.3633239  0.0400039 ] mean_x\n"
     ]
    }
   ],
   "source": [
    "#experiment 3\n",
    "\n",
    "p3  = {'uM' : 0.359,'kq':19.63,'ud':0., 'un':2.692,'kn':0.8,'theta':6.691,'gamma':7.53,'epsilon':0.001,'tau':0.138,'delta':9.904,'phi':-0.456,'ks':91.2,'ki':100,'alpha':196.4,'belta':0,'F_in':u_con[2][0][0],'I0':u_con[2][0][1],'N_in':100}\n",
    "initial_c3 = np.array([0.18,operation_con[2][0],80,120,0.5])  #\n",
    "# xt1,tt1,xobs1_,std_value1_ = train_data_generation(p1, initial_c1,u_con[0])\n",
    "xt3_,xobs3_,std_value3 = train_data_generation(p3, initial_c3,u_con[2])\n",
    "\n"
   ]
  },
  {
   "cell_type": "code",
   "execution_count": 62,
   "metadata": {},
   "outputs": [
    {
     "data": {
      "text/plain": [
       "True"
      ]
     },
     "execution_count": 62,
     "metadata": {},
     "output_type": "execute_result"
    }
   ],
   "source": [
    "(xt3_>= 0).all()"
   ]
  },
  {
   "cell_type": "code",
   "execution_count": 63,
   "metadata": {},
   "outputs": [],
   "source": [
    "xt3 = data_correction(xt3_,t)\n",
    "xobs3 = data_correction(xobs3_,t)"
   ]
  },
  {
   "cell_type": "code",
   "execution_count": 64,
   "metadata": {},
   "outputs": [
    {
     "data": {
      "image/png": "[encoded data removed]",
      "text/plain": [
       "<Figure size 432x288 with 1 Axes>"
      ]
     },
     "metadata": {
      "needs_background": "light"
     },
     "output_type": "display_data"
    },
    {
     "data": {
      "image/png": "[encoded data removed]",
      "text/plain": [
       "<Figure size 432x288 with 1 Axes>"
      ]
     },
     "metadata": {
      "needs_background": "light"
     },
     "output_type": "display_data"
    },
    {
     "data": {
      "image/png": "[encoded data removed]",
      "text/plain": [
       "<Figure size 432x288 with 1 Axes>"
      ]
     },
     "metadata": {
      "needs_background": "light"
     },
     "output_type": "display_data"
    },
    {
     "data": {
      "image/png": "[encoded data removed]",
      "text/plain": [
       "<Figure size 432x288 with 1 Axes>"
      ]
     },
     "metadata": {
      "needs_background": "light"
     },
     "output_type": "display_data"
    },
    {
     "data": {
      "image/png": "[encoded data removed]",
      "text/plain": [
       "<Figure size 432x288 with 1 Axes>"
      ]
     },
     "metadata": {
      "needs_background": "light"
     },
     "output_type": "display_data"
    }
   ],
   "source": [
    "for i in range(xt3.shape[0]):\n",
    "    plt.figure()\n",
    "    plt.plot(t,xt3[i])\n",
    "    plt.show()"
   ]
  },
  {
   "cell_type": "code",
   "execution_count": 65,
   "metadata": {},
   "outputs": [
    {
     "name": "stdout",
     "output_type": "stream",
     "text": [
      "0.0015625 F_in\n",
      "118.75 I0\n",
      "[  0.18  23.75  80.   120.     0.5 ] initial_c\n",
      "0.0040625 F_in\n",
      "168.75 I0\n",
      "[1.06662426e+00 8.10195303e-02 3.56905927e+01 2.02315382e+02\n",
      " 5.93750000e-01] initial_c\n",
      "0.0028125 F_in\n",
      "143.75 I0\n",
      "[  1.37136391   0.12113871  27.73027884 115.96023036   0.8375    ] initial_c\n",
      "0.0003125 F_in\n",
      "193.75 I0\n",
      "[1.55570997e+00 5.72291934e-02 2.44854177e+01 7.55502983e+01\n",
      " 1.00625000e+00] initial_c\n",
      "[0.06327762 0.0964837  1.62674811 6.38969319 0.0399961 ] mean_x\n"
     ]
    }
   ],
   "source": [
    "#experiment 4\n",
    "\n",
    "p4  = {'uM' : 0.359,'kq':19.63,'ud':0., 'un':2.692,'kn':0.8,'theta':6.691,'gamma':7.53,'epsilon':0.001,'tau':0.138,'delta':9.904,'phi':-0.456,'ks':91.2,'ki':100,'alpha':196.4,'belta':0,'F_in':u_con[3][0][0],'I0':u_con[3][0][1],'N_in':100}\n",
    "initial_c4 = np.array([0.18,operation_con[3][0],80,120,0.5])  #\n",
    "# xt1,tt1,xobs1_,std_value1_ = train_data_generation(p1, initial_c1,u_con[0])\n",
    "xt4_,xobs4_,std_value4 = train_data_generation(p4, initial_c4,u_con[3])\n"
   ]
  },
  {
   "cell_type": "code",
   "execution_count": 66,
   "metadata": {},
   "outputs": [
    {
     "data": {
      "text/plain": [
       "True"
      ]
     },
     "execution_count": 66,
     "metadata": {},
     "output_type": "execute_result"
    }
   ],
   "source": [
    "(xt3_>= 0).all()"
   ]
  },
  {
   "cell_type": "code",
   "execution_count": 67,
   "metadata": {},
   "outputs": [],
   "source": [
    "xt4 = data_correction(xt4_,t)\n",
    "xobs4 = data_correction(xobs4_,t)"
   ]
  },
  {
   "cell_type": "code",
   "execution_count": 68,
   "metadata": {},
   "outputs": [
    {
     "data": {
      "image/png": "[encoded data removed]",
      "text/plain": [
       "<Figure size 432x288 with 1 Axes>"
      ]
     },
     "metadata": {
      "needs_background": "light"
     },
     "output_type": "display_data"
    },
    {
     "data": {
      "image/png": "[encoded data removed]",
      "text/plain": [
       "<Figure size 432x288 with 1 Axes>"
      ]
     },
     "metadata": {
      "needs_background": "light"
     },
     "output_type": "display_data"
    },
    {
     "data": {
      "image/png": "[encoded data removed]",
      "text/plain": [
       "<Figure size 432x288 with 1 Axes>"
      ]
     },
     "metadata": {
      "needs_background": "light"
     },
     "output_type": "display_data"
    },
    {
     "data": {
      "image/png": "[encoded data removed]",
      "text/plain": [
       "<Figure size 432x288 with 1 Axes>"
      ]
     },
     "metadata": {
      "needs_background": "light"
     },
     "output_type": "display_data"
    },
    {
     "data": {
      "image/png": "[encoded data removed]",
      "text/plain": [
       "<Figure size 432x288 with 1 Axes>"
      ]
     },
     "metadata": {
      "needs_background": "light"
     },
     "output_type": "display_data"
    }
   ],
   "source": [
    "for i in range(xt4.shape[0]):\n",
    "    plt.figure()\n",
    "    plt.plot(t,xt4[i])\n",
    "    plt.show()"
   ]
  },
  {
   "cell_type": "code",
   "execution_count": 67,
   "metadata": {},
   "outputs": [],
   "source": [
    "def plot_data(x, y1,y2,name):\n",
    "    fig = plt.figure()\n",
    "    plt.plot(x, y1,'.')\n",
    "    plt.plot(x, y2, '-',label=name)\n",
    "    plt.ylabel('State')\n",
    "    plt.xlabel('Time')\n",
    "    plt.legend(loc=\"lower right\")\n",
    "    fig.savefig(name)\n",
    "    plt.show()\n",
    "    return None\n",
    "def check_plot(xobs,xt,tt):\n",
    "    plot_data(tt, xobs[0],xt[0],'biomass')\n",
    "    plot_data(tt, xobs[1],xt[1],'nitrate')\n",
    "    plot_data(tt, xobs[2],xt[2],'quota')\n",
    "    plot_data(tt, xobs[3],xt[3],'fame')\n",
    "    return None"
   ]
  },
  {
   "cell_type": "code",
   "execution_count": 68,
   "metadata": {},
   "outputs": [],
   "source": [
    "def plot_data(x, y1,y2,y1hat,y2hat,name,namehat):\n",
    "    fig = plt.figure()\n",
    "    plt.plot(x, y1,'.',color = 'red')\n",
    "    plt.plot(x, y1hat,'.',color = 'blue')\n",
    "    plt.plot(x, y2, '-',label=name)\n",
    "    plt.plot(x, y2hat, '-',label=namehat)\n",
    "    plt.ylabel('State')\n",
    "    plt.xlabel('Time')\n",
    "    plt.legend(loc=\"lower right\")\n",
    "    # fig.savefig(name)\n",
    "    plt.show()\n",
    "    return None\n",
    "def check_plot(xobs,xt,xobshat,xthat,tt,name1,name2):\n",
    "    plot_data(tt, xobs[0],xt[0],xobshat[0],xthat[0],name1[0],name2[0])\n",
    "    plot_data(tt, xobs[1],xt[1],xobshat[1],xthat[1],name1[1],name2[1])\n",
    "    plot_data(tt, xobs[2],xt[2],xobshat[2],xthat[2],name1[2],name2[2])\n",
    "    plot_data(tt, xobs[3],xt[3],xobshat[3],xthat[3],name1[3],name2[3])\n",
    "    return None"
   ]
  },
  {
   "cell_type": "code",
   "execution_count": 69,
   "metadata": {},
   "outputs": [
    {
     "data": {
      "text/plain": [
       "(5, 11)"
      ]
     },
     "execution_count": 69,
     "metadata": {},
     "output_type": "execute_result"
    }
   ],
   "source": [
    "xobs1.shape"
   ]
  },
  {
   "cell_type": "code",
   "execution_count": 70,
   "metadata": {},
   "outputs": [
    {
     "data": {
      "text/plain": [
       "24.0"
      ]
     },
     "execution_count": 70,
     "metadata": {},
     "output_type": "execute_result"
    }
   ],
   "source": [
    "dt"
   ]
  },
  {
   "cell_type": "code",
   "execution_count": 71,
   "metadata": {},
   "outputs": [
    {
     "data": {
      "text/plain": [
       "60.0"
      ]
     },
     "execution_count": 71,
     "metadata": {},
     "output_type": "execute_result"
    }
   ],
   "source": [
    "tf_N"
   ]
  },
  {
   "cell_type": "code",
   "execution_count": 74,
   "metadata": {},
   "outputs": [
    {
     "data": {
      "text/plain": [
       "array([  0.,  24.,  48.,  72.,  96., 120., 144., 168., 192., 216., 240.])"
      ]
     },
     "execution_count": 74,
     "metadata": {},
     "output_type": "execute_result"
    }
   ],
   "source": [
    "t"
   ]
  },
  {
   "cell_type": "code",
   "execution_count": 69,
   "metadata": {},
   "outputs": [],
   "source": [
    "def dic_F_in_I(no_data,num_u,u_con):\n",
    "    u_test = np.ones([no_data,num_u])\n",
    "    for i in range(len(t)):\n",
    "        if t[i] >=0 and t[i] <=60:\n",
    "            u_test[i] = u_con[0]\n",
    "        if t[i] >60 and t[i] <=120:\n",
    "            u_test[i] = u_con[1]\n",
    "        if t[i] >120 and t[i] <=180:\n",
    "            u_test[i] = u_con[2]\n",
    "        if t[i] >180 and t[i] <=240:\n",
    "            u_test[i] = u_con[3]\n",
    "    # Insert the new element at the beginning of the array\n",
    "    # u_test = np.vstack((new_element,u_test))\n",
    "\n",
    "    F_in_dic = to_dict(u_test.T[0],dt)\n",
    "    I_dic    = to_dict(u_test.T[1],dt)\n",
    "\n",
    "    return F_in_dic, I_dic"
   ]
  },
  {
   "cell_type": "code",
   "execution_count": 70,
   "metadata": {},
   "outputs": [],
   "source": [
    "u_dic1 = dic_F_in_I(11,2,u_con[0])\n",
    "u_dic2 = dic_F_in_I(11,2,u_con[1])\n",
    "u_dic3 = dic_F_in_I(11,2,u_con[2])\n",
    "u_dic4 = dic_F_in_I(11,2,u_con[3])"
   ]
  },
  {
   "cell_type": "code",
   "execution_count": 71,
   "metadata": {},
   "outputs": [
    {
     "data": {
      "text/plain": [
       "({0.0: 0.0,\n",
       "  24.0: 0.0,\n",
       "  48.0: 0.0,\n",
       "  72.0: 0.0025,\n",
       "  96.0: 0.0025,\n",
       "  120.0: 0.0025,\n",
       "  144.0: 0.00375,\n",
       "  168.0: 0.00375,\n",
       "  192.0: 0.00125,\n",
       "  216.0: 0.00125,\n",
       "  240.0: 0.00125},\n",
       " {0.0: 100.0,\n",
       "  24.0: 100.0,\n",
       "  48.0: 100.0,\n",
       "  72.0: 150.0,\n",
       "  96.0: 150.0,\n",
       "  120.0: 150.0,\n",
       "  144.0: 125.0,\n",
       "  168.0: 125.0,\n",
       "  192.0: 175.0,\n",
       "  216.0: 175.0,\n",
       "  240.0: 175.0})"
      ]
     },
     "execution_count": 71,
     "metadata": {},
     "output_type": "execute_result"
    }
   ],
   "source": [
    "u_dic1 "
   ]
  },
  {
   "cell_type": "code",
   "execution_count": 72,
   "metadata": {},
   "outputs": [],
   "source": [
    "data_init   = {None: dict(t       = {None: list(t)},tm      = {None: list(t)},x1_noise = to_dict(xobs1[0],dt),n1_noise = to_dict(xobs1[1],dt),q1_noise = to_dict(xobs1[2],dt),f1_noise = to_dict(xobs1[3],dt),x2_noise = to_dict(xobs2[0],dt),n2_noise = to_dict(xobs2[1],dt),q2_noise = to_dict(xobs2[2],dt),f2_noise = to_dict(xobs2[3],dt),x3_noise = to_dict(xobs3[0],dt),n3_noise = to_dict(xobs3[1],dt),q3_noise = to_dict(xobs3[2],dt),f3_noise = to_dict(xobs3[3],dt),x4_noise = to_dict(xobs4[0],dt),n4_noise = to_dict(xobs4[1],dt),q4_noise = to_dict(xobs4[2],dt),f4_noise = to_dict(xobs4[3],dt))}"
   ]
  },
  {
   "cell_type": "code",
   "execution_count": 73,
   "metadata": {},
   "outputs": [
    {
     "data": {
      "text/plain": [
       "{None: {'t': {None: [0.0,\n",
       "    24.0,\n",
       "    48.0,\n",
       "    72.0,\n",
       "    96.0,\n",
       "    120.0,\n",
       "    144.0,\n",
       "    168.0,\n",
       "    192.0,\n",
       "    216.0,\n",
       "    240.0]},\n",
       "  'tm': {None: [0.0,\n",
       "    24.0,\n",
       "    48.0,\n",
       "    72.0,\n",
       "    96.0,\n",
       "    120.0,\n",
       "    144.0,\n",
       "    168.0,\n",
       "    192.0,\n",
       "    216.0,\n",
       "    240.0]},\n",
       "  'x1_noise': {0.0: 0.18,\n",
       "   24.0: 0.6073784495652426,\n",
       "   48.0: 0.9464564215603254,\n",
       "   72.0: 1.0520397009591729,\n",
       "   96.0: 1.0861108905817733,\n",
       "   120.0: 1.177670233176758,\n",
       "   144.0: 1.274140351328503,\n",
       "   168.0: 1.2304506125800032,\n",
       "   192.0: 1.2472121983401587,\n",
       "   216.0: 1.4498505114498685,\n",
       "   240.0: 1.4335427950308133},\n",
       "  'n1_noise': {0.0: 15.0,\n",
       "   24.0: 0.008124519531761592,\n",
       "   48.0: 1e-07,\n",
       "   72.0: 0.14668819055123117,\n",
       "   96.0: 0.09096147005135186,\n",
       "   120.0: 0.15673852155564574,\n",
       "   144.0: 0.17412153586409496,\n",
       "   168.0: 0.08345142268554542,\n",
       "   192.0: 0.033289935820002066,\n",
       "   216.0: 0.07209967585524091,\n",
       "   240.0: 1e-07},\n",
       "  'q1_noise': {0.0: 80.0,\n",
       "   24.0: 54.39725752191385,\n",
       "   48.0: 32.58969134859718,\n",
       "   72.0: 28.200956792387302,\n",
       "   96.0: 25.88072325567709,\n",
       "   120.0: 24.03925966244209,\n",
       "   144.0: 24.894933030531877,\n",
       "   168.0: 24.911961465140195,\n",
       "   192.0: 22.224166472470948,\n",
       "   216.0: 23.137575311608884,\n",
       "   240.0: 22.609355026255265},\n",
       "  'f1_noise': {0.0: 120.0,\n",
       "   24.0: 268.8899482306081,\n",
       "   48.0: 389.59555323734367,\n",
       "   72.0: 433.9439061549429,\n",
       "   96.0: 339.98488336129975,\n",
       "   120.0: 344.8137320993684,\n",
       "   144.0: 246.09809755752048,\n",
       "   168.0: 229.53873433969378,\n",
       "   192.0: 186.87785373693382,\n",
       "   216.0: 169.5488774290954,\n",
       "   240.0: 170.2090174654683},\n",
       "  'x2_noise': {0.0: 0.18,\n",
       "   24.0: 0.5571443371466195,\n",
       "   48.0: 1.008197687182224,\n",
       "   72.0: 1.243417849697185,\n",
       "   96.0: 1.3816507031983007,\n",
       "   120.0: 1.5386623331757054,\n",
       "   144.0: 1.6137474847311888,\n",
       "   168.0: 1.8373285869766132,\n",
       "   192.0: 1.7478079634430743,\n",
       "   216.0: 2.0817382966963787,\n",
       "   240.0: 1.9115130250882588},\n",
       "  'n2_noise': {0.0: 32.5,\n",
       "   24.0: 15.520895122087712,\n",
       "   48.0: 0.25819187551314216,\n",
       "   72.0: 0.038848912050660406,\n",
       "   96.0: 1e-07,\n",
       "   120.0: 0.09127936911021683,\n",
       "   144.0: 0.14569558758287918,\n",
       "   168.0: 0.2798644161146695,\n",
       "   192.0: 0.0797105944261674,\n",
       "   216.0: 1e-07,\n",
       "   240.0: 1e-07},\n",
       "  'q2_noise': {0.0: 80.0,\n",
       "   24.0: 55.35747694041942,\n",
       "   48.0: 48.905432913792474,\n",
       "   72.0: 36.24933627716716,\n",
       "   96.0: 36.450512811136484,\n",
       "   120.0: 33.262723986699555,\n",
       "   144.0: 24.947734194535162,\n",
       "   168.0: 31.21164416356109,\n",
       "   192.0: 26.73685662299212,\n",
       "   216.0: 22.43036146441211,\n",
       "   240.0: 22.27042312725881},\n",
       "  'f2_noise': {0.0: 120.0,\n",
       "   24.0: 140.7020748032171,\n",
       "   48.0: 127.92546344585732,\n",
       "   72.0: 149.71023246277286,\n",
       "   96.0: 131.72626060883803,\n",
       "   120.0: 119.5896005028206,\n",
       "   144.0: 99.16796072244783,\n",
       "   168.0: 97.2592641322918,\n",
       "   192.0: 99.51849534390261,\n",
       "   216.0: 107.82594848222656,\n",
       "   240.0: 99.45047272621463},\n",
       "  'x3_noise': {0.0: 0.18,\n",
       "   24.0: 0.7282681979777382,\n",
       "   48.0: 1.0920721052121114,\n",
       "   72.0: 1.3105956035826294,\n",
       "   96.0: 1.5038511338744007,\n",
       "   120.0: 1.8405492026625125,\n",
       "   144.0: 1.749652574830321,\n",
       "   168.0: 1.8370025056225137,\n",
       "   192.0: 1.8784618153572037,\n",
       "   216.0: 1.96327089936669,\n",
       "   240.0: 2.041629120386155},\n",
       "  'n3_noise': {0.0: 41.25,\n",
       "   24.0: 19.79597906991155,\n",
       "   48.0: 0.07585004973902497,\n",
       "   72.0: 1e-07,\n",
       "   96.0: 1e-07,\n",
       "   120.0: 0.634127088314819,\n",
       "   144.0: 1e-07,\n",
       "   168.0: 0.11219581512550147,\n",
       "   192.0: 1e-07,\n",
       "   216.0: 1e-07,\n",
       "   240.0: 0.06024044178040316},\n",
       "  'q3_noise': {0.0: 80.0,\n",
       "   24.0: 59.35865281763544,\n",
       "   48.0: 53.531521043538625,\n",
       "   72.0: 40.60422122310113,\n",
       "   96.0: 34.49934393978814,\n",
       "   120.0: 29.937155075060826,\n",
       "   144.0: 35.021906206165546,\n",
       "   168.0: 32.307460229833374,\n",
       "   192.0: 31.96574074619197,\n",
       "   216.0: 29.156708936940884,\n",
       "   240.0: 26.91260242434886},\n",
       "  'f3_noise': {0.0: 120.0,\n",
       "   24.0: 176.39170307712808,\n",
       "   48.0: 174.49160923557739,\n",
       "   72.0: 214.64045127062207,\n",
       "   96.0: 224.3499231470623,\n",
       "   120.0: 222.75161961215974,\n",
       "   144.0: 182.52331942350762,\n",
       "   168.0: 160.95031543037268,\n",
       "   192.0: 174.68698859385634,\n",
       "   216.0: 162.18873943369255,\n",
       "   240.0: 160.7073714309334},\n",
       "  'x4_noise': {0.0: 0.18,\n",
       "   24.0: 0.5679570899672478,\n",
       "   48.0: 0.8819640289721361,\n",
       "   72.0: 1.22611032078015,\n",
       "   96.0: 1.4278097319505962,\n",
       "   120.0: 1.3581579811310505,\n",
       "   144.0: 1.3735498877160568,\n",
       "   168.0: 1.4443090908630214,\n",
       "   192.0: 1.5889260744270624,\n",
       "   216.0: 1.8198777141288722,\n",
       "   240.0: 1.8937624975005354},\n",
       "  'n4_noise': {0.0: 23.75,\n",
       "   24.0: 7.275542752315566,\n",
       "   48.0: 0.16565857155704183,\n",
       "   72.0: 0.0735972796356614,\n",
       "   96.0: 0.17650112254768915,\n",
       "   120.0: 0.09625038286074211,\n",
       "   144.0: 1e-07,\n",
       "   168.0: 0.0722350774714542,\n",
       "   192.0: 1e-07,\n",
       "   216.0: 1e-07,\n",
       "   240.0: 1e-07},\n",
       "  'q4_noise': {0.0: 80.0,\n",
       "   24.0: 54.642572283341295,\n",
       "   48.0: 39.10713410904658,\n",
       "   72.0: 33.35917481542603,\n",
       "   96.0: 28.28941268866569,\n",
       "   120.0: 26.566688748167316,\n",
       "   144.0: 27.63222497431523,\n",
       "   168.0: 26.953559646577375,\n",
       "   192.0: 24.47061043709105,\n",
       "   216.0: 22.641241522033525,\n",
       "   240.0: 20.574660690625034},\n",
       "  'f4_noise': {0.0: 120.0,\n",
       "   24.0: 147.17935666419396,\n",
       "   48.0: 184.0292751397855,\n",
       "   72.0: 179.7286850906589,\n",
       "   96.0: 149.24563677080656,\n",
       "   120.0: 122.24895250684816,\n",
       "   144.0: 102.24089457851507,\n",
       "   168.0: 82.89274927730351,\n",
       "   192.0: 85.43873578682312,\n",
       "   216.0: 83.19733897728743,\n",
       "   240.0: 80.48474871068088}}}"
      ]
     },
     "execution_count": 73,
     "metadata": {},
     "output_type": "execute_result"
    }
   ],
   "source": [
    "data_init"
   ]
  },
  {
   "cell_type": "code",
   "execution_count": 74,
   "metadata": {},
   "outputs": [
    {
     "data": {
      "text/plain": [
       "[array([[0.00e+00, 1.00e+02],\n",
       "        [2.50e-03, 1.50e+02],\n",
       "        [3.75e-03, 1.25e+02],\n",
       "        [1.25e-03, 1.75e+02]]),\n",
       " array([[1.875e-03, 1.375e+02],\n",
       "        [4.375e-03, 1.875e+02],\n",
       "        [3.125e-03, 1.125e+02],\n",
       "        [6.250e-04, 1.625e+02]]),\n",
       " array([[9.3750e-04, 1.3125e+02],\n",
       "        [3.4375e-03, 1.8125e+02],\n",
       "        [4.6875e-03, 1.0625e+02],\n",
       "        [2.1875e-03, 1.5625e+02]]),\n",
       " array([[1.5625e-03, 1.1875e+02],\n",
       "        [4.0625e-03, 1.6875e+02],\n",
       "        [2.8125e-03, 1.4375e+02],\n",
       "        [3.1250e-04, 1.9375e+02]])]"
      ]
     },
     "execution_count": 74,
     "metadata": {},
     "output_type": "execute_result"
    }
   ],
   "source": [
    "u_con"
   ]
  },
  {
   "cell_type": "code",
   "execution_count": 92,
   "metadata": {},
   "outputs": [
    {
     "data": {
      "text/plain": [
       "array([[15.  ],\n",
       "       [32.5 ],\n",
       "       [41.25],\n",
       "       [23.75]])"
      ]
     },
     "execution_count": 92,
     "metadata": {},
     "output_type": "execute_result"
    }
   ],
   "source": [
    "operation_con"
   ]
  },
  {
   "cell_type": "code",
   "execution_count": 76,
   "metadata": {},
   "outputs": [],
   "source": [
    "N_in = 100"
   ]
  },
  {
   "cell_type": "code",
   "execution_count": 77,
   "metadata": {},
   "outputs": [
    {
     "name": "stdout",
     "output_type": "stream",
     "text": [
      "File saved at: tmp11/xobs1.pkl\n",
      "File saved at: tmp11/xobs2.pkl\n",
      "File saved at: tmp11/xobs3.pkl\n",
      "File saved at: tmp11/xobs4.pkl\n",
      "File saved at: tmp11/tf_N.pkl\n",
      "File saved at: tmp11/u_con.pkl\n",
      "File saved at: tmp11/N_in.pkl\n",
      "File saved at: tmp11/operation_con.pkl\n",
      "File saved at: tmp11/tt1.pkl\n",
      "File saved at: tmp11/std_value1.pkl\n",
      "File saved at: tmp11/std_value2.pkl\n",
      "File saved at: tmp11/std_value3.pkl\n",
      "File saved at: tmp11/std_value4.pkl\n",
      "File saved at: tmp11/data_init.pkl\n"
     ]
    }
   ],
   "source": [
    "save_pkl(xobs1,'xobs1.pkl')\n",
    "save_pkl(xobs2,'xobs2.pkl')\n",
    "save_pkl(xobs3,'xobs3.pkl')\n",
    "save_pkl(xobs4,'xobs4.pkl')\n",
    "save_pkl(tf_N,'tf_N.pkl')\n",
    "save_pkl(u_con,'u_con.pkl')\n",
    "save_pkl(N_in,'N_in.pkl')\n",
    "# save_pkl(xobs5,'xobs5.pkl')\n",
    "\n",
    "save_pkl(operation_con,'operation_con.pkl')\n",
    "# save_pkl(I0_range,'I0_range.pkl')\n",
    "\n",
    "save_pkl(t,'tt1.pkl')\n",
    "save_pkl(std_value1,'std_value1.pkl')\n",
    "save_pkl(std_value2,'std_value2.pkl')\n",
    "save_pkl(std_value3,'std_value3.pkl')\n",
    "save_pkl(std_value4,'std_value4.pkl')\n",
    "\n",
    "save_pkl(data_init,'data_init.pkl')"
   ]
  },
  {
   "cell_type": "code",
   "execution_count": 78,
   "metadata": {},
   "outputs": [
    {
     "name": "stdout",
     "output_type": "stream",
     "text": [
      "File saved at: tmp11/u_dic1.pkl\n",
      "File saved at: tmp11/u_dic2.pkl\n",
      "File saved at: tmp11/u_dic3.pkl\n",
      "File saved at: tmp11/u_dic4.pkl\n"
     ]
    }
   ],
   "source": [
    "save_pkl(u_dic1,'u_dic1.pkl')\n",
    "save_pkl(u_dic2,'u_dic2.pkl')\n",
    "save_pkl(u_dic3,'u_dic3.pkl')\n",
    "save_pkl(u_dic4,'u_dic4.pkl')\n"
   ]
  }
 ],
 "metadata": {
  "kernelspec": {
   "display_name": "Python 3.9.9 ('env')",
   "language": "python",
   "name": "python3"
  },
  "language_info": {
   "codemirror_mode": {
    "name": "ipython",
    "version": 3
   },
   "file_extension": ".py",
   "mimetype": "text/x-python",
   "name": "python",
   "nbconvert_exporter": "python",
   "pygments_lexer": "ipython3",
   "version": "3.9.9"
  },
  "orig_nbformat": 4,
  "vscode": {
   "interpreter": {
    "hash": "0b975ef14a7c349b5b53fa51dcf9e0d25501f9719e727a1ab429ed23704c47f1"
   }
  }
 },
 "nbformat": 4,
 "nbformat_minor": 2
}
