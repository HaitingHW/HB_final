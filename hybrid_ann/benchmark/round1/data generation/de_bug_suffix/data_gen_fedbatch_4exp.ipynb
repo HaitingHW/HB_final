{
 "cells": [
  {
   "cell_type": "code",
   "execution_count": 1,
   "metadata": {},
   "outputs": [],
   "source": [
    "import numpy as np\n",
    "import random\n",
    "import scipy.integrate as scp\n",
    "import numpy.random as rnd\n",
    "import time\n",
    "import matplotlib.pyplot as plt\n",
    "import numpy.random as rnd\n",
    "import copy\n",
    "from matplotlib.pyplot import figure\n",
    "from pyomo.environ import *\n",
    "from pyomo.dae import *\n",
    "import pandas as pd\n",
    "import pickle\n",
    "import scipy.stats\n",
    "from math import comb\n",
    "from scipy.integrate import odeint\n",
    "\n",
    "import glob, os"
   ]
  },
  {
   "attachments": {},
   "cell_type": "markdown",
   "metadata": {},
   "source": [
    "Gneneration of 4 sets of experimental data with different nitrate and light intensity, varies from low to high, number of datapoints for each exps is 17, noise level is 5% of means."
   ]
  },
  {
   "cell_type": "code",
   "execution_count": 2,
   "metadata": {},
   "outputs": [],
   "source": [
    "''' Data treatment'''\n",
    "def save_pkl(item, fname):\n",
    "    sn = 'data/' + fname\n",
    "    with open(sn, 'wb') as handle:\n",
    "        pickle.dump(item, handle) #, protocol=pickle.HIGHEST_PROTOCOL)\n",
    "    print(f'File saved at: {sn}')\n",
    "    return None\n",
    "# return None\n",
    "\n",
    "def load_pkl(fname):\n",
    "    with open(fname, 'rb') as handle:\n",
    "        ans = pickle.load(handle)\n",
    "    print(f'Loaded from: {fname}')\n",
    "    return ans"
   ]
  },
  {
   "cell_type": "code",
   "execution_count": 3,
   "metadata": {},
   "outputs": [],
   "source": [
    "def to_dict(x,dt):\n",
    "    obs = list(x)\n",
    "    # tp = list(time)\n",
    "    dicx = {}\n",
    "    for i in range(len(x)):\n",
    "        dicx[dt*i] = obs[i]            # change thye value of 38.4\n",
    "    return dicx\n",
    "\n",
    "def get_grad(x, t):\n",
    "    dxdt = [[],[],[],[]]\n",
    "    for n in range(x.shape[0]):\n",
    "        for i in range(len(x[0]) - 1):\n",
    "            dxdt[n].append((x[n][i + 1] - x[n][i])/(t[i + 1] - t[i]))\n",
    "        dxdt[n].append(dxdt[n][-1])\n",
    "    return dxdt\n"
   ]
  },
  {
   "cell_type": "code",
   "execution_count": 4,
   "metadata": {},
   "outputs": [],
   "source": [
    "tf    = 16.*24.\n",
    "steps_= 16\n",
    "dt    = tf/steps_\n",
    "\n",
    "\n",
    "num_N = 4\n",
    "tf_N  = tf/(num_N)\n",
    "dstep_N = int(tf_N/dt)# this is the number of steps in each interval between chaning the fedding rate"
   ]
  },
  {
   "cell_type": "code",
   "execution_count": 5,
   "metadata": {},
   "outputs": [],
   "source": [
    "t = np.linspace(0, 16*24, num=16+1)"
   ]
  },
  {
   "cell_type": "code",
   "execution_count": 6,
   "metadata": {},
   "outputs": [],
   "source": [
    "# sobol for 4 experiments, for both N and IT.\n",
    "from scipy.stats import qmc\n",
    "sampler = qmc.Sobol(d=2, scramble=False)\n",
    "sample = sampler.random_base2(m=2)\n",
    "l_bounds = [0.1,100]   # X,N\n",
    "u_bounds = [0.2,200]\n",
    "operation_con = qmc.scale(sample,l_bounds,u_bounds)"
   ]
  },
  {
   "cell_type": "code",
   "execution_count": 7,
   "metadata": {},
   "outputs": [
    {
     "data": {
      "text/plain": [
       "array([[1.00e-01, 1.00e+02],\n",
       "       [1.50e-01, 1.50e+02],\n",
       "       [1.75e-01, 1.25e+02],\n",
       "       [1.25e-01, 1.75e+02]])"
      ]
     },
     "execution_count": 7,
     "metadata": {},
     "output_type": "execute_result"
    }
   ],
   "source": [
    "operation_con "
   ]
  },
  {
   "cell_type": "code",
   "execution_count": 8,
   "metadata": {},
   "outputs": [],
   "source": [
    "# # sobol for 16 IT.\n",
    "# from scipy.stats import qmc\n",
    "# sampler_I = qmc.Sobol(d=1, scramble=False)\n",
    "# sample_I = sampler_I.random_base2(m=4)\n",
    "\n",
    "# l_bounds_I = [50]\n",
    "# u_bounds_I = [600]\n",
    "# I_con = qmc.scale(sample_I,l_bounds_I,u_bounds_I)"
   ]
  },
  {
   "cell_type": "code",
   "execution_count": 9,
   "metadata": {},
   "outputs": [],
   "source": [
    "# sobol for 16 IT. seperate from the initial condition since the feeding concentration of N should not be as high as the initial concentration in the reactor\n",
    "from scipy.stats import qmc\n",
    "sampler_N = qmc.Sobol(d=1, scramble=False)\n",
    "sample_N = sampler_N.random_base2(m=4)\n",
    "\n",
    "l_bounds_N = [1]\n",
    "u_bounds_N = [10]\n",
    "N_con = qmc.scale(sample_N,l_bounds_N,u_bounds_N)"
   ]
  },
  {
   "cell_type": "code",
   "execution_count": 10,
   "metadata": {},
   "outputs": [
    {
     "data": {
      "text/plain": [
       "array([[1.    ],\n",
       "       [5.5   ],\n",
       "       [7.75  ],\n",
       "       [3.25  ],\n",
       "       [4.375 ],\n",
       "       [8.875 ],\n",
       "       [6.625 ],\n",
       "       [2.125 ],\n",
       "       [2.6875],\n",
       "       [7.1875],\n",
       "       [9.4375],\n",
       "       [4.9375],\n",
       "       [3.8125],\n",
       "       [8.3125],\n",
       "       [6.0625],\n",
       "       [1.5625]])"
      ]
     },
     "execution_count": 10,
     "metadata": {},
     "output_type": "execute_result"
    }
   ],
   "source": [
    "N_con"
   ]
  },
  {
   "cell_type": "code",
   "execution_count": 11,
   "metadata": {},
   "outputs": [],
   "source": [
    "N_con = [N_con[i:i+4] for i in range(0, len(N_con), 4)]"
   ]
  },
  {
   "cell_type": "code",
   "execution_count": 12,
   "metadata": {},
   "outputs": [
    {
     "data": {
      "text/plain": [
       "[array([[1.  ],\n",
       "        [5.5 ],\n",
       "        [7.75],\n",
       "        [3.25]]),\n",
       " array([[4.375],\n",
       "        [8.875],\n",
       "        [6.625],\n",
       "        [2.125]]),\n",
       " array([[2.6875],\n",
       "        [7.1875],\n",
       "        [9.4375],\n",
       "        [4.9375]]),\n",
       " array([[3.8125],\n",
       "        [8.3125],\n",
       "        [6.0625],\n",
       "        [1.5625]])]"
      ]
     },
     "execution_count": 12,
     "metadata": {},
     "output_type": "execute_result"
    }
   ],
   "source": [
    "N_con"
   ]
  },
  {
   "cell_type": "code",
   "execution_count": 13,
   "metadata": {},
   "outputs": [],
   "source": [
    "# N_all = []\n",
    "# for i in range(4):\n",
    "#     operation_con_i = operation_con[i][1]\n",
    "#     N_con_i = N_con[i]\n",
    "#     concatenated_array = np.vstack((operation_con_i, N_con_i))\n",
    "#     N_all.append(concatenated_array)"
   ]
  },
  {
   "cell_type": "code",
   "execution_count": 16,
   "metadata": {},
   "outputs": [],
   "source": [
    "def dic_F_in_I(no_data,num_u,u_con):\n",
    "    u_test = np.ones([no_data,num_u])\n",
    "    for i in range(len(t)):\n",
    "        if t[i] >=0 and t[i] <=tf_N:\n",
    "            u_test[i] = u_con[0]\n",
    "        if t[i] >tf_N and t[i] <=2*tf_N:\n",
    "            u_test[i] = u_con[1]\n",
    "        if t[i] >2*tf_N and t[i] <=3*tf_N:\n",
    "            u_test[i] = u_con[2]\n",
    "        if t[i] >3*tf_N and t[i] <=4*tf_N:\n",
    "            u_test[i] = u_con[3]\n",
    "    # Insert the new element at the beginning of the array\n",
    "    # u_test = np.vstack((new_element,u_test))\n",
    "\n",
    "    F_in_dic = to_dict(u_test.T[0],dt)\n",
    "    # I_dic    = to_dict(u_test.T[1],dt)\n",
    "\n",
    "    return F_in_dic"
   ]
  },
  {
   "cell_type": "code",
   "execution_count": 19,
   "metadata": {},
   "outputs": [
    {
     "data": {
      "text/plain": [
       "[array([[1.  ],\n",
       "        [5.5 ],\n",
       "        [7.75],\n",
       "        [3.25]]),\n",
       " array([[4.375],\n",
       "        [8.875],\n",
       "        [6.625],\n",
       "        [2.125]]),\n",
       " array([[2.6875],\n",
       "        [7.1875],\n",
       "        [9.4375],\n",
       "        [4.9375]]),\n",
       " array([[3.8125],\n",
       "        [8.3125],\n",
       "        [6.0625],\n",
       "        [1.5625]])]"
      ]
     },
     "execution_count": 19,
     "metadata": {},
     "output_type": "execute_result"
    }
   ],
   "source": [
    "N_con"
   ]
  },
  {
   "cell_type": "code",
   "execution_count": 17,
   "metadata": {},
   "outputs": [],
   "source": [
    "u_dic1 = dic_F_in_I(17,1,N_con[0])\n",
    "u_dic2 = dic_F_in_I(17,1,N_con[1])\n",
    "u_dic3 = dic_F_in_I(17,1,N_con[2])\n",
    "u_dic4 = dic_F_in_I(17,1,N_con[3])"
   ]
  },
  {
   "cell_type": "code",
   "execution_count": 20,
   "metadata": {},
   "outputs": [
    {
     "data": {
      "text/plain": [
       "{0.0: 4.375,\n",
       " 24.0: 4.375,\n",
       " 48.0: 4.375,\n",
       " 72.0: 4.375,\n",
       " 96.0: 4.375,\n",
       " 120.0: 8.875,\n",
       " 144.0: 8.875,\n",
       " 168.0: 8.875,\n",
       " 192.0: 8.875,\n",
       " 216.0: 6.625,\n",
       " 240.0: 6.625,\n",
       " 264.0: 6.625,\n",
       " 288.0: 6.625,\n",
       " 312.0: 2.125,\n",
       " 336.0: 2.125,\n",
       " 360.0: 2.125,\n",
       " 384.0: 2.125}"
      ]
     },
     "execution_count": 20,
     "metadata": {},
     "output_type": "execute_result"
    }
   ],
   "source": [
    "u_dic2 "
   ]
  },
  {
   "cell_type": "code",
   "execution_count": 93,
   "metadata": {},
   "outputs": [],
   "source": [
    "# N_range = load_pkl('operation data/N_range.pkl')\n",
    "# I0_range = load_pkl('operation data/I0_range.pkl')\n",
    "\n",
    "\n",
    "\n",
    "# I1 = I0_range[0]\n",
    "# I2 = I0_range[1]\n",
    "# I3 = I0_range[2]\n",
    "\n",
    "# I_max = np.max([I1,I2,I3])\n",
    "\n",
    "# I_all = np.array([I1,I2,I3])"
   ]
  },
  {
   "cell_type": "code",
   "execution_count": 94,
   "metadata": {},
   "outputs": [],
   "source": [
    "\n",
    "# def model(state, t, para):\n",
    "#     # Internal definitions\n",
    "\n",
    "    \n",
    "#     # State vector\n",
    "#     x = state[0]\n",
    "#     n = state[1]\n",
    "#     q = state[2]\n",
    "#     f = state[3]\n",
    "\n",
    "#     I0      = para['I0']\n",
    "    \n",
    "#     # Parameters\n",
    "\n",
    "#     kq      = para['kq']\n",
    "#     ud      = para['ud']\n",
    "#     un      = para['un']\n",
    "#     kn      = para['kn']\n",
    "#     theta   = para['theta']\n",
    "#     gamma   = para['gamma']\n",
    "#     epsilon = para['epsilon']\n",
    "    \n",
    "#     tau     = para['tau']\n",
    "#     delta   = para['delta']\n",
    "#     phi     = para['phi']\n",
    "#     ks      = para['ks']\n",
    "#     ki      = para['ki']\n",
    "#     alpha   = para['alpha']\n",
    "#     belta   = para['belta']\n",
    "#     uM      = para['uM']  \n",
    "    \n",
    "    \n",
    "    \n",
    "#     # Algebraic equations, calculation of um\n",
    "#         #Initial of L and I\n",
    "#     L         = 4.4E-2\n",
    "#     # I0      = 80\n",
    "#     def I_e(z):\n",
    "\n",
    "#         I_z   = I0*np.exp(-(alpha*x+belta)*z) \n",
    "#         I     = uM*I_z/(I_z+ks+I_z**2/ki)\n",
    "#         return I\n",
    "\n",
    "\n",
    "\n",
    "\n",
    "\n",
    "#     um    = scp.quad(I_e, 0, L)\n",
    "#     um    = um[0]/L\n",
    "\n",
    "\n",
    "#     u0     = um*(1-kq/q)\n",
    "    \n",
    "    \n",
    "#     # Differential equations\n",
    "#     dev_x  = u0*x-ud*x\n",
    "#     dev_n  = -un*(n/(n+kn))*x\n",
    "#     dev_q  = un*(n/(n+kn)) - (um*(1-(kq/q))-ud)*q\n",
    "#     dev_f  = um*(theta*q-epsilon*f)*(1-(kq/q)) - gamma*un*(n/(n+kn))+ud*epsilon*f\n",
    "        \n",
    "#     # fluorescence\n",
    "#     Y      = (np.exp(tau*q)/(np.exp(tau*q)+delta))+phi\n",
    "\n",
    "#     return np.array([dev_x,dev_n,dev_q,dev_f],dtype='float64').flatten()\n",
    "\n",
    "\n",
    "# # Simulation\n",
    "# def simulation(model, steps, tf, x0,para):\n",
    "#     t_eval        = np.linspace(0,tf,steps+1)\n",
    "#     sol           = odeint(model,x0, t_eval, args = (para,)).T\n",
    "        \n",
    "#     return sol,t_eval"
   ]
  },
  {
   "cell_type": "code",
   "execution_count": 14,
   "metadata": {},
   "outputs": [],
   "source": [
    "# Data generation #\n",
    "class ModelIntegration:\n",
    "    '''\n",
    "    This files integrates the model.\n",
    "    \n",
    "     model: this is were the model should be changed \n",
    "    '''\n",
    "    \n",
    "    # --- initializing model --- #\n",
    "    def __init__(self, parameters):\n",
    "        \n",
    "        # Object variable definitions\n",
    "\n",
    "        self.parameters = parameters\n",
    "    # --- dynamic model definition --- #    \n",
    "    def model(self, t, state):\n",
    "        # internal definitions\n",
    "        params = self.parameters\n",
    "        \n",
    "        # define controls here\n",
    "\n",
    "        # state vector\n",
    "        Cx  = state[0]\n",
    "        Cn  = state[1]\n",
    "                # define controls here\n",
    "        FCn    = params['FCn']\n",
    "        # print(FCn,'Fcn')\n",
    "        \n",
    "        # parameters\n",
    "        u_m  = params['u_m'] \n",
    "        K_N  = params['K_N']\n",
    "        u_d  = params['u_d']\n",
    "        Y_nx = params['Y_nx']\n",
    "        \n",
    "        # algebraic equations\n",
    "        \n",
    "        # variable rate equations\n",
    "        dev_Cx  = u_m * Cx * Cn/(Cn+K_N) - u_d*Cx**2\n",
    "        dev_Cn  = - Y_nx * u_m * Cx * Cn/(Cn+K_N) + FCn\n",
    "        # print(\"Shape of dev_Cx:\", np.shape(dev_Cx))\n",
    "        # print(\"Shape of dev_Cn:\", np.shape(dev_Cn))\n",
    "        \n",
    "        return np.array([dev_Cx, dev_Cn],dtype='float64')\n",
    "    \n",
    "    # --- simulation --- #\n",
    "    def simulation(self, steps, tf, x0):\n",
    "        '''\n",
    "        simulate for a number of steps to collect data, and a final time\n",
    "        '''\n",
    "\n",
    "        # external definitions\n",
    "        self.x0, self.tf = x0, tf\n",
    "\n",
    "        # internal definitions\n",
    "        model = self.model\n",
    "        dt    = tf/(steps)\n",
    "        \n",
    "        # compile state trajectories\n",
    "        xt = np.zeros((x0.shape[0],steps+1))\n",
    "        tt = np.zeros((steps+1))\n",
    "        \n",
    "        # initialize simulation\n",
    "        current_state = x0\n",
    "        xt[:,0]       = current_state\n",
    "        tt[0]         = 0.\n",
    "        \n",
    "        # simulation\n",
    "        for s in range(steps):\n",
    "            ode           = scp.ode(model)                  # define ode\n",
    "            ode.set_integrator('lsoda', nsteps=3000)        # define integrator\n",
    "            ode.set_initial_value(current_state, dt)        # set initial value\n",
    "            current_state = list(ode.integrate(ode.t + dt)) # integrate system\n",
    "            xt[:,s+1]     = current_state                   # add current state\n",
    "            tt[s+1]       = (s+1)*dt\n",
    "        \n",
    "        return xt, tt\n"
   ]
  },
  {
   "cell_type": "code",
   "execution_count": 15,
   "metadata": {},
   "outputs": [],
   "source": [
    "def train_data_generation(parameter, initial_c,N_all):\n",
    "    all_xt = []\n",
    "    all_pe = []\n",
    "    # all_tt = []\n",
    "\n",
    "    for i in range(len(N_all)):\n",
    "        parameter['FCn'] = N_all[i]\n",
    "        print(parameter['FCn'],'fcn')\n",
    "        m            = ModelIntegration(parameter)\n",
    "        xt_i, tt_i       = m.simulation(dstep_N,tf_N,initial_c) \n",
    "        # xt_i, tt_i       = simulation(model, dstep_I,tf_I, initial_c,parameter)\n",
    "        # print(xt_i,'xt_i')\n",
    "        all_xt.append(xt_i)\n",
    "        # all_tt.append(tt_i)\n",
    "        new_init = np.zeros(2)\n",
    "        for j in range(2):\n",
    "            new_init[j] = xt_i[j][-1]\n",
    "        initial_c = new_init\n",
    "        # print(initial_c1,'initial_c1')\n",
    "\n",
    "        all_pe.append(parameter.copy())\n",
    "\n",
    "    for i in range(1,len(all_xt)):\n",
    "        all_xt[i] = np.delete(all_xt[i], 0, axis=1)\n",
    "\n",
    "        # all_tt[i] = np.delete(all_tt[i], 0, axis=1)\n",
    "    # print(all_xt,'all_xt')\n",
    "    xt = all_xt[0]\n",
    "    # tt = all_tt[0]\n",
    "\n",
    "    # Iterate through the remaining arrays and concatenate them\n",
    "    for i in all_xt[1:]:\n",
    "        xt = np.concatenate((xt, i), axis=1)  # Concatenate along the rows\n",
    "\n",
    "    \n",
    "    mean_x = np.zeros(xt.shape[0])\n",
    "    for i in range(xt.shape[0]):\n",
    "        mean_x[i]=np.mean(xt[i])\n",
    "        \n",
    "    mean_x    = mean_x*0.05\n",
    "    std_value = mean_x\n",
    "\n",
    "    x_noise      = np.random.normal(0,mean_x[0],xt.shape[1])\n",
    "    x_noise[0]   = 0\n",
    "    n_noise      = np.random.normal(0,mean_x[1],xt.shape[1])\n",
    "    n_noise[0]   = 0\n",
    "    # q_noise      = np.random.normal(0,mean_x[2],xt.shape[1])\n",
    "    # q_noise[0]   = 0\n",
    "    # f_noise      = np.random.normal(0,mean_x[3],xt.shape[1])\n",
    "    # f_noise[0]   = 0 \n",
    "\n",
    "    obs          = np.array([x_noise,n_noise])\n",
    "    xobs         = xt+obs\n",
    "\n",
    "    for i in range(xobs.shape[0]):\n",
    "        for j in range(len(xobs[i])):\n",
    "            if xobs[i][j]<0:\n",
    "                xobs[i][j] = 1E-7\n",
    "    for i in range(xobs.shape[1]):\n",
    "        if xobs[0][i]<0:\n",
    "            xobs[0][i] = 1e-7\n",
    "        if xobs[1][i]<0:\n",
    "            xobs[1][i] = 1e-7\n",
    "\n",
    "    return xt,xobs,std_value"
   ]
  },
  {
   "cell_type": "code",
   "execution_count": 16,
   "metadata": {},
   "outputs": [
    {
     "name": "stdout",
     "output_type": "stream",
     "text": [
      "[1.] fcn\n",
      "[5.5] fcn\n",
      "[7.75] fcn\n",
      "[3.25] fcn\n"
     ]
    },
    {
     "name": "stderr",
     "output_type": "stream",
     "text": [
      "C:\\Users\\rafae\\AppData\\Local\\Temp\\ipykernel_21596\\403009895.py:43: DeprecationWarning: setting an array element with a sequence. This was supported in some cases where the elements are arrays with a single element. For example `np.array([1, np.array([2])], dtype=int)`. In the future this will raise the same ValueError as `np.array([1, [2]], dtype=int)`.\n",
      "  return np.array([dev_Cx, dev_Cn],dtype='float64')\n"
     ]
    }
   ],
   "source": [
    "#experiment 1\n",
    "\n",
    "p1  = {'u_m' : 0.0923*0.62, 'K_N' : 393.10, 'u_d' : 0.01, 'Y_nx' : 504.49,'FCn':N_con[0][0]}\n",
    "initial_c1 =  operation_con[0]\n",
    "\n",
    "xt1,xobs1,std_value1 = train_data_generation(p1, initial_c1,N_con[0])\n"
   ]
  },
  {
   "cell_type": "code",
   "execution_count": 17,
   "metadata": {},
   "outputs": [
    {
     "name": "stdout",
     "output_type": "stream",
     "text": [
      "[4.375] fcn\n",
      "[8.875] fcn\n",
      "[6.625] fcn\n",
      "[2.125] fcn\n"
     ]
    },
    {
     "name": "stderr",
     "output_type": "stream",
     "text": [
      "C:\\Users\\rafae\\AppData\\Local\\Temp\\ipykernel_21596\\403009895.py:43: DeprecationWarning: setting an array element with a sequence. This was supported in some cases where the elements are arrays with a single element. For example `np.array([1, np.array([2])], dtype=int)`. In the future this will raise the same ValueError as `np.array([1, [2]], dtype=int)`.\n",
      "  return np.array([dev_Cx, dev_Cn],dtype='float64')\n"
     ]
    }
   ],
   "source": [
    "#experiment 2\n",
    "\n",
    "p2  = {'u_m' : 0.0923*0.62, 'K_N' : 393.10, 'u_d' : 0.01, 'Y_nx' : 504.49,'FCn':N_con[1][0]}\n",
    "initial_c2 =  operation_con[1]\n",
    "\n",
    "xt2,xobs2,std_value2 = train_data_generation(p2, initial_c2,N_con[1])\n"
   ]
  },
  {
   "cell_type": "code",
   "execution_count": 20,
   "metadata": {},
   "outputs": [
    {
     "name": "stdout",
     "output_type": "stream",
     "text": [
      "[2.6875] fcn\n",
      "[7.1875] fcn\n",
      "[9.4375] fcn\n",
      "[4.9375] fcn\n"
     ]
    },
    {
     "name": "stderr",
     "output_type": "stream",
     "text": [
      "C:\\Users\\rafae\\AppData\\Local\\Temp\\ipykernel_21596\\403009895.py:43: DeprecationWarning: setting an array element with a sequence. This was supported in some cases where the elements are arrays with a single element. For example `np.array([1, np.array([2])], dtype=int)`. In the future this will raise the same ValueError as `np.array([1, [2]], dtype=int)`.\n",
      "  return np.array([dev_Cx, dev_Cn],dtype='float64')\n"
     ]
    }
   ],
   "source": [
    "#experiment 3\n",
    "\n",
    "p3  = {'u_m' : 0.0923*0.62, 'K_N' : 393.10, 'u_d' : 0.01, 'Y_nx' : 504.49,'FCn':N_con[2][0]}\n",
    "initial_c3 =  operation_con[2]\n",
    "\n",
    "xt3,xobs3,std_value3 = train_data_generation(p3, initial_c3,N_con[2])"
   ]
  },
  {
   "cell_type": "code",
   "execution_count": 21,
   "metadata": {},
   "outputs": [
    {
     "name": "stdout",
     "output_type": "stream",
     "text": [
      "[3.8125] fcn\n",
      "[8.3125] fcn\n",
      "[6.0625] fcn\n",
      "[1.5625] fcn\n"
     ]
    },
    {
     "name": "stderr",
     "output_type": "stream",
     "text": [
      "C:\\Users\\rafae\\AppData\\Local\\Temp\\ipykernel_21596\\403009895.py:43: DeprecationWarning: setting an array element with a sequence. This was supported in some cases where the elements are arrays with a single element. For example `np.array([1, np.array([2])], dtype=int)`. In the future this will raise the same ValueError as `np.array([1, [2]], dtype=int)`.\n",
      "  return np.array([dev_Cx, dev_Cn],dtype='float64')\n"
     ]
    }
   ],
   "source": [
    "#experiment 4\n",
    "\n",
    "p4  = {'u_m' : 0.0923*0.62, 'K_N' : 393.10, 'u_d' : 0.01, 'Y_nx' : 504.49,'FCn':N_con[3][0]}\n",
    "initial_c4 =  operation_con[3]\n",
    "\n",
    "xt4,xobs4,std_value4 = train_data_generation(p4, initial_c4,N_con[3])"
   ]
  },
  {
   "cell_type": "code",
   "execution_count": 22,
   "metadata": {},
   "outputs": [
    {
     "data": {
      "text/plain": [
       "array([[1.00000000e-01, 1.29724658e-01, 1.68593018e-01, 2.16192000e-01,\n",
       "        2.69477050e-01, 3.55828262e-01, 5.04682907e-01, 6.99369184e-01,\n",
       "        8.85678533e-01, 1.03975520e+00, 1.15285430e+00, 1.21204408e+00,\n",
       "        1.23496221e+00, 1.15451521e+00, 1.03650827e+00, 9.50777572e-01,\n",
       "        8.94791172e-01],\n",
       "       [1.00000000e+02, 1.07418084e+02, 1.09128295e+02, 1.04640542e+02,\n",
       "        9.46059241e+01, 1.71528307e+02, 2.06311083e+02, 1.96135753e+02,\n",
       "        1.57036570e+02, 1.52458988e+02, 1.34514570e+02, 1.20189507e+02,\n",
       "        1.12754850e+02, 5.52336849e+01, 4.78274040e+01, 5.01498846e+01,\n",
       "        5.37224676e+01]])"
      ]
     },
     "execution_count": 22,
     "metadata": {},
     "output_type": "execute_result"
    }
   ],
   "source": [
    "xt1"
   ]
  },
  {
   "cell_type": "code",
   "execution_count": 23,
   "metadata": {},
   "outputs": [
    {
     "data": {
      "text/plain": [
       "(2, 17)"
      ]
     },
     "execution_count": 23,
     "metadata": {},
     "output_type": "execute_result"
    }
   ],
   "source": [
    "xt1.shape"
   ]
  },
  {
   "cell_type": "code",
   "execution_count": 24,
   "metadata": {},
   "outputs": [],
   "source": [
    "def plot_data(x, y1,y2,name):\n",
    "    fig = plt.figure()\n",
    "    plt.plot(x, y1,'.')\n",
    "    plt.plot(x, y2, '-',label=name)\n",
    "    plt.ylabel('State')\n",
    "    plt.xlabel('Time')\n",
    "    plt.legend(loc=\"lower right\")\n",
    "    fig.savefig(name)\n",
    "    plt.show()\n",
    "    return None\n",
    "def check_plot(xobs,xt,tt):\n",
    "    plot_data(tt, xobs[0],xt[0],'biomass')\n",
    "    plot_data(tt, xobs[1],xt[1],'nitrate')\n",
    "    plot_data(tt, xobs[2],xt[2],'quota')\n",
    "    plot_data(tt, xobs[3],xt[3],'fame')\n",
    "    return None"
   ]
  },
  {
   "cell_type": "code",
   "execution_count": 25,
   "metadata": {},
   "outputs": [],
   "source": [
    "def plot_data(x, y1,y2):\n",
    "    fig = plt.figure()\n",
    "    plt.plot(x, y1,'.',color = 'red')\n",
    "    # plt.plot(x, y1hat,'.',color = 'blue')\n",
    "    plt.plot(x, y2, '-')\n",
    "    # plt.plot(x, y2hat, '-',label=namehat)\n",
    "    plt.ylabel('State')\n",
    "    plt.xlabel('Time')\n",
    "    # plt.legend(loc=\"lower right\")\n",
    "    # fig.savefig(name)\n",
    "    plt.show()\n",
    "    return None\n",
    "def check_plot(xobs,xt,tt):\n",
    "    plot_data(tt, xobs[0],xt[0])\n",
    "    plot_data(tt, xobs[1],xt[1])\n",
    "\n",
    "    return None"
   ]
  },
  {
   "cell_type": "code",
   "execution_count": 26,
   "metadata": {},
   "outputs": [
    {
     "data": {
      "image/png": "[encoded data removed]",
      "text/plain": [
       "<Figure size 640x480 with 1 Axes>"
      ]
     },
     "metadata": {},
     "output_type": "display_data"
    },
    {
     "data": {
      "image/png": "[encoded data removed]",
      "text/plain": [
       "<Figure size 640x480 with 1 Axes>"
      ]
     },
     "metadata": {},
     "output_type": "display_data"
    }
   ],
   "source": [
    "check_plot(xobs1,xt1,t)"
   ]
  },
  {
   "cell_type": "code",
   "execution_count": 27,
   "metadata": {},
   "outputs": [
    {
     "data": {
      "image/png": "[encoded data removed]",
      "text/plain": [
       "<Figure size 640x480 with 1 Axes>"
      ]
     },
     "metadata": {},
     "output_type": "display_data"
    },
    {
     "data": {
      "image/png": "[encoded data removed]",
      "text/plain": [
       "<Figure size 640x480 with 1 Axes>"
      ]
     },
     "metadata": {},
     "output_type": "display_data"
    }
   ],
   "source": [
    "check_plot(xobs2,xt2,t)"
   ]
  },
  {
   "cell_type": "code",
   "execution_count": 28,
   "metadata": {},
   "outputs": [
    {
     "data": {
      "image/png": "[encoded data removed]",
      "text/plain": [
       "<Figure size 640x480 with 1 Axes>"
      ]
     },
     "metadata": {},
     "output_type": "display_data"
    },
    {
     "data": {
      "image/png": "[encoded data removed]",
      "text/plain": [
       "<Figure size 640x480 with 1 Axes>"
      ]
     },
     "metadata": {},
     "output_type": "display_data"
    }
   ],
   "source": [
    "check_plot(xobs3,xt3,t)"
   ]
  },
  {
   "cell_type": "code",
   "execution_count": 29,
   "metadata": {},
   "outputs": [
    {
     "data": {
      "image/png": "[encoded data removed]",
      "text/plain": [
       "<Figure size 640x480 with 1 Axes>"
      ]
     },
     "metadata": {},
     "output_type": "display_data"
    },
    {
     "data": {
      "image/png": "[encoded data removed]",
      "text/plain": [
       "<Figure size 640x480 with 1 Axes>"
      ]
     },
     "metadata": {},
     "output_type": "display_data"
    }
   ],
   "source": [
    "check_plot(xobs4,xt4,t)"
   ]
  },
  {
   "cell_type": "code",
   "execution_count": 30,
   "metadata": {},
   "outputs": [],
   "source": [
    "data_init   = {None: dict(t       = {None: list(t)},\n",
    "                          tm      = {None: list(t)},\n",
    "                          x1_noise = to_dict(xobs1[0],dt),\n",
    "                          n1_noise = to_dict(xobs1[1],dt),\n",
    "                          x2_noise = to_dict(xobs2[0],dt),\n",
    "                          n2_noise = to_dict(xobs2[1],dt),\n",
    "                          x3_noise = to_dict(xobs3[0],dt),\n",
    "                          n3_noise = to_dict(xobs3[1],dt),\n",
    "                          x4_noise = to_dict(xobs4[0],dt),\n",
    "                          n4_noise = to_dict(xobs4[1],dt))}"
   ]
  },
  {
   "cell_type": "code",
   "execution_count": 31,
   "metadata": {},
   "outputs": [
    {
     "data": {
      "text/plain": [
       "{None: {'t': {None: [0.0,\n",
       "    24.0,\n",
       "    48.0,\n",
       "    72.0,\n",
       "    96.0,\n",
       "    120.0,\n",
       "    144.0,\n",
       "    168.0,\n",
       "    192.0,\n",
       "    216.0,\n",
       "    240.0,\n",
       "    264.0,\n",
       "    288.0,\n",
       "    312.0,\n",
       "    336.0,\n",
       "    360.0,\n",
       "    384.0]},\n",
       "  'tm': {None: [0.0,\n",
       "    24.0,\n",
       "    48.0,\n",
       "    72.0,\n",
       "    96.0,\n",
       "    120.0,\n",
       "    144.0,\n",
       "    168.0,\n",
       "    192.0,\n",
       "    216.0,\n",
       "    240.0,\n",
       "    264.0,\n",
       "    288.0,\n",
       "    312.0,\n",
       "    336.0,\n",
       "    360.0,\n",
       "    384.0]},\n",
       "  'x1_noise': {0.0: 0.1,\n",
       "   24.0: 0.12217680711336754,\n",
       "   48.0: 0.1891443688521524,\n",
       "   72.0: 0.24170532348771245,\n",
       "   96.0: 0.301936922867038,\n",
       "   120.0: 0.33335315587080644,\n",
       "   144.0: 0.4763131520929964,\n",
       "   168.0: 0.7047416587818984,\n",
       "   192.0: 0.8278657595790313,\n",
       "   216.0: 1.053415677017492,\n",
       "   240.0: 1.1554470568549413,\n",
       "   264.0: 1.2204325150372823,\n",
       "   288.0: 1.219804973078104,\n",
       "   312.0: 1.178920426853405,\n",
       "   336.0: 1.0038674458439767,\n",
       "   360.0: 0.8833489585135266,\n",
       "   384.0: 0.9683363014093446},\n",
       "  'n1_noise': {0.0: 100.0,\n",
       "   24.0: 104.61322251790735,\n",
       "   48.0: 107.17517191539382,\n",
       "   72.0: 104.78651419222403,\n",
       "   96.0: 92.73712657281013,\n",
       "   120.0: 171.79935877555607,\n",
       "   144.0: 199.99404818330126,\n",
       "   168.0: 190.56153386227803,\n",
       "   192.0: 157.4443936923785,\n",
       "   216.0: 150.76162537698266,\n",
       "   240.0: 135.2248153512129,\n",
       "   264.0: 114.04600938605832,\n",
       "   288.0: 110.32966356772275,\n",
       "   312.0: 54.189613706318596,\n",
       "   336.0: 45.69644448273289,\n",
       "   360.0: 56.225706605944275,\n",
       "   384.0: 58.485250721154486},\n",
       "  'x2_noise': {0.0: 0.15000000000000002,\n",
       "   24.0: 0.1881205554738793,\n",
       "   48.0: 0.28623656317502344,\n",
       "   72.0: 0.4836658000129704,\n",
       "   96.0: 0.765046810119807,\n",
       "   120.0: 0.9691005962995585,\n",
       "   144.0: 1.1943009144282237,\n",
       "   168.0: 1.2202226674600718,\n",
       "   192.0: 1.383212632689184,\n",
       "   216.0: 1.3167215826653076,\n",
       "   240.0: 1.1815561205558116,\n",
       "   264.0: 1.2254828372222426,\n",
       "   288.0: 1.154968926647803,\n",
       "   312.0: 1.056492032240815,\n",
       "   336.0: 0.9647831273663481,\n",
       "   360.0: 0.8811350073457719,\n",
       "   384.0: 0.8753052201097397},\n",
       "  'n2_noise': {0.0: 150.0,\n",
       "   24.0: 210.27130726028747,\n",
       "   48.0: 248.06997169004302,\n",
       "   72.0: 239.57935667554045,\n",
       "   96.0: 189.5384514846567,\n",
       "   120.0: 200.40074239151826,\n",
       "   144.0: 168.33783516082715,\n",
       "   168.0: 142.3107468809097,\n",
       "   192.0: 133.69500703222639,\n",
       "   216.0: 97.70004978257613,\n",
       "   240.0: 81.39601211107889,\n",
       "   264.0: 104.74022176456666,\n",
       "   288.0: 94.43833924132572,\n",
       "   312.0: 57.14544660362455,\n",
       "   336.0: 44.662329730183444,\n",
       "   360.0: 31.761019973096975,\n",
       "   384.0: 43.20343400895949},\n",
       "  'x3_noise': {0.0: 0.17500000000000002,\n",
       "   24.0: 0.25398633222825795,\n",
       "   48.0: 0.2995599843093741,\n",
       "   72.0: 0.4906522837249608,\n",
       "   96.0: 0.6164868380092314,\n",
       "   120.0: 0.6827740908605523,\n",
       "   144.0: 0.8802285215326877,\n",
       "   168.0: 1.0530122343197088,\n",
       "   192.0: 1.114647594051451,\n",
       "   216.0: 1.1760878170687834,\n",
       "   240.0: 1.237573040058646,\n",
       "   264.0: 1.2939599414053222,\n",
       "   288.0: 1.3693328226035502,\n",
       "   312.0: 1.2494805390139394,\n",
       "   336.0: 1.1625314557944155,\n",
       "   360.0: 1.0522025322902968,\n",
       "   384.0: 1.0722047833407893},\n",
       "  'n3_noise': {0.0: 125.0,\n",
       "   24.0: 149.62584463519434,\n",
       "   48.0: 160.5419962593415,\n",
       "   72.0: 150.43978856414066,\n",
       "   96.0: 128.8805427458513,\n",
       "   120.0: 188.01243967671152,\n",
       "   144.0: 177.7703685288421,\n",
       "   168.0: 151.68207074117842,\n",
       "   192.0: 121.89974081413374,\n",
       "   216.0: 150.4120625262977,\n",
       "   240.0: 144.1052486008239,\n",
       "   264.0: 138.59868897465628,\n",
       "   288.0: 121.26260103103786,\n",
       "   312.0: 69.67706704676766,\n",
       "   336.0: 71.21536059625103,\n",
       "   360.0: 74.00413818411886,\n",
       "   384.0: 76.15852107715727},\n",
       "  'x4_noise': {0.0: 0.125,\n",
       "   24.0: 0.19038052191229446,\n",
       "   48.0: 0.31747163894999714,\n",
       "   72.0: 0.49360307183485946,\n",
       "   96.0: 0.6850178743259075,\n",
       "   120.0: 0.9006774757841586,\n",
       "   144.0: 1.1006176295332633,\n",
       "   168.0: 1.3202679497911576,\n",
       "   192.0: 1.2443578074746604,\n",
       "   216.0: 1.3159387868925292,\n",
       "   240.0: 1.1483743859406688,\n",
       "   264.0: 1.1444497168357277,\n",
       "   288.0: 1.0743554511430078,\n",
       "   312.0: 1.0134100310632295,\n",
       "   336.0: 0.8616745845841437,\n",
       "   360.0: 0.7624966057667026,\n",
       "   384.0: 0.7491782185015692},\n",
       "  'n4_noise': {0.0: 175.0,\n",
       "   24.0: 229.12335903722627,\n",
       "   48.0: 249.8989286100813,\n",
       "   72.0: 235.87845258913654,\n",
       "   96.0: 198.8907939283003,\n",
       "   120.0: 220.65884598340875,\n",
       "   144.0: 176.62646513724633,\n",
       "   168.0: 145.5654587506578,\n",
       "   192.0: 127.47422740079796,\n",
       "   216.0: 87.08773489898645,\n",
       "   240.0: 86.43085836004781,\n",
       "   264.0: 82.5607708164169,\n",
       "   288.0: 91.12843640671653,\n",
       "   312.0: 25.39152621793045,\n",
       "   336.0: 31.43813727092272,\n",
       "   360.0: 30.014877044634154,\n",
       "   384.0: 32.56976114744152}}}"
      ]
     },
     "execution_count": 31,
     "metadata": {},
     "output_type": "execute_result"
    }
   ],
   "source": [
    "data_init"
   ]
  },
  {
   "cell_type": "code",
   "execution_count": 32,
   "metadata": {},
   "outputs": [
    {
     "data": {
      "text/plain": [
       "array([  0.1, 100. ])"
      ]
     },
     "execution_count": 32,
     "metadata": {},
     "output_type": "execute_result"
    }
   ],
   "source": [
    "operation_con[0]"
   ]
  },
  {
   "cell_type": "code",
   "execution_count": 33,
   "metadata": {},
   "outputs": [
    {
     "data": {
      "text/plain": [
       "array([[1.00e-01, 1.00e+02],\n",
       "       [1.50e-01, 1.50e+02],\n",
       "       [1.75e-01, 1.25e+02],\n",
       "       [1.25e-01, 1.75e+02]])"
      ]
     },
     "execution_count": 33,
     "metadata": {},
     "output_type": "execute_result"
    }
   ],
   "source": [
    "operation_con"
   ]
  },
  {
   "cell_type": "code",
   "execution_count": 37,
   "metadata": {},
   "outputs": [
    {
     "name": "stdout",
     "output_type": "stream",
     "text": [
      "File saved at: data/xobs1.pkl\n",
      "File saved at: data/xobs2.pkl\n",
      "File saved at: data/xobs3.pkl\n",
      "File saved at: data/xobs4.pkl\n",
      "File saved at: data/Fcn.pkl\n",
      "File saved at: data/tf_N.pkl\n",
      "File saved at: data/operation_con.pkl\n",
      "File saved at: data/tt1.pkl\n",
      "File saved at: data/std_value1.pkl\n",
      "File saved at: data/std_value2.pkl\n",
      "File saved at: data/std_value3.pkl\n",
      "File saved at: data/std_value4.pkl\n",
      "File saved at: data/data_init.pkl\n"
     ]
    }
   ],
   "source": [
    "save_pkl(xobs1,'xobs1.pkl')\n",
    "save_pkl(xobs2,'xobs2.pkl')\n",
    "save_pkl(xobs3,'xobs3.pkl')\n",
    "save_pkl(xobs4,'xobs4.pkl')\n",
    "save_pkl(N_con,'Fcn.pkl')\n",
    "save_pkl(tf_N,'tf_N.pkl')\n",
    "save_pkl(operation_con,'operation_con.pkl')\n",
    "# save_pkl(I0_range,'I0_range.pkl')\n",
    "\n",
    "save_pkl(t,'tt1.pkl')\n",
    "save_pkl(std_value1,'std_value1.pkl')\n",
    "save_pkl(std_value2,'std_value2.pkl')\n",
    "save_pkl(std_value3,'std_value3.pkl')\n",
    "save_pkl(std_value4,'std_value4.pkl')\n",
    "\n",
    "save_pkl(data_init,'data_init.pkl')\n"
   ]
  },
  {
   "cell_type": "code",
   "execution_count": 38,
   "metadata": {},
   "outputs": [
    {
     "data": {
      "text/plain": [
       "96.0"
      ]
     },
     "execution_count": 38,
     "metadata": {},
     "output_type": "execute_result"
    }
   ],
   "source": [
    "tf_N"
   ]
  },
  {
   "cell_type": "code",
   "execution_count": 21,
   "metadata": {},
   "outputs": [
    {
     "name": "stdout",
     "output_type": "stream",
     "text": [
      "File saved at: data/u_dic1.pkl\n",
      "File saved at: data/u_dic2.pkl\n",
      "File saved at: data/u_dic3.pkl\n",
      "File saved at: data/u_dic4.pkl\n"
     ]
    }
   ],
   "source": [
    "save_pkl(u_dic1,'u_dic1.pkl')\n",
    "save_pkl(u_dic2,'u_dic2.pkl')\n",
    "save_pkl(u_dic3,'u_dic3.pkl')\n",
    "save_pkl(u_dic4,'u_dic4.pkl')"
   ]
  }
 ],
 "metadata": {
  "kernelspec": {
   "display_name": "Python 3.9.9 ('env')",
   "language": "python",
   "name": "python3"
  },
  "language_info": {
   "codemirror_mode": {
    "name": "ipython",
    "version": 3
   },
   "file_extension": ".py",
   "mimetype": "text/x-python",
   "name": "python",
   "nbconvert_exporter": "python",
   "pygments_lexer": "ipython3",
   "version": "3.9.9"
  },
  "orig_nbformat": 4,
  "vscode": {
   "interpreter": {
    "hash": "0b975ef14a7c349b5b53fa51dcf9e0d25501f9719e727a1ab429ed23704c47f1"
   }
  }
 },
 "nbformat": 4,
 "nbformat_minor": 2
}
